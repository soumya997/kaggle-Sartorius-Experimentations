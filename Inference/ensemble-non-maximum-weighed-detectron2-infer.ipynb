{
 "cells": [
  {
   "cell_type": "markdown",
   "id": "bfe12933",
   "metadata": {
    "papermill": {
     "duration": 0.021411,
     "end_time": "2021-12-30T22:43:15.462503",
     "exception": false,
     "start_time": "2021-12-30T22:43:15.441092",
     "status": "completed"
    },
    "tags": []
   },
   "source": [
    "# Ensemble NMS - Detectron2 [Inference]"
   ]
  },
  {
   "cell_type": "markdown",
   "id": "9300bddb",
   "metadata": {
    "papermill": {
     "duration": 0.017415,
     "end_time": "2021-12-30T22:43:15.498082",
     "exception": false,
     "start_time": "2021-12-30T22:43:15.480667",
     "status": "completed"
    },
    "tags": []
   },
   "source": [
    "### Hi kagglers, This is `Ensemble NMW - Detectron2 [Inference]` notebook.\n",
    "* [Sartorius Segmentation - Detectron2 [training]](https://www.kaggle.com/ammarnassanalhajali/sartorius-segmentation-detectron2-training) \n",
    "* [Sartorius Segmentation - Detectron2 [Inference]](https://www.kaggle.com/ammarnassanalhajali/sartorius-segmentation-detectron2-inference) \n",
    "* [K-fold CrossValidation COCO Dataset Generator](https://www.kaggle.com/ammarnassanalhajali/k-fold-crossvalidation-coco-dataset-generator) \n",
    "\n",
    "\n",
    "### Please if this kernel is useful, <font color='red'>please upvote !!</font>"
   ]
  },
  {
   "cell_type": "markdown",
   "id": "731515a6",
   "metadata": {
    "papermill": {
     "duration": 0.017135,
     "end_time": "2021-12-30T22:43:15.532689",
     "exception": false,
     "start_time": "2021-12-30T22:43:15.515554",
     "status": "completed"
    },
    "tags": []
   },
   "source": [
    "## Other notebooks in this competition \n",
    "- [Sartorius Segmentation - Keras U-Net[Training]](https://www.kaggle.com/ammarnassanalhajali/sartorius-segmentation-keras-u-net-training)\n",
    "- [Sartorius Segmentation - Keras U-Net[Inference]](https://www.kaggle.com/ammarnassanalhajali/sartorius-segmentation-keras-u-net-inference/edit)"
   ]
  },
  {
   "cell_type": "markdown",
   "id": "b46b5068",
   "metadata": {
    "papermill": {
     "duration": 0.017019,
     "end_time": "2021-12-30T22:43:15.567145",
     "exception": false,
     "start_time": "2021-12-30T22:43:15.550126",
     "status": "completed"
    },
    "tags": []
   },
   "source": [
    "# Intro\n",
    "Ensembling multiple weaker performing models can help to get the results that you want."
   ]
  },
  {
   "cell_type": "markdown",
   "id": "6cb529fc",
   "metadata": {
    "papermill": {
     "duration": 0.016797,
     "end_time": "2021-12-30T22:43:15.601689",
     "exception": false,
     "start_time": "2021-12-30T22:43:15.584892",
     "status": "completed"
    },
    "tags": []
   },
   "source": [
    "## Install and import libraries"
   ]
  },
  {
   "cell_type": "code",
   "execution_count": 1,
   "id": "1f2d83ea",
   "metadata": {
    "_kg_hide-input": true,
    "_kg_hide-output": true,
    "execution": {
     "iopub.execute_input": "2021-12-30T22:43:15.645216Z",
     "iopub.status.busy": "2021-12-30T22:43:15.642829Z",
     "iopub.status.idle": "2021-12-30T22:46:52.251258Z",
     "shell.execute_reply": "2021-12-30T22:46:52.249893Z",
     "shell.execute_reply.started": "2021-12-19T17:46:56.75856Z"
    },
    "papermill": {
     "duration": 216.632383,
     "end_time": "2021-12-30T22:46:52.251481",
     "exception": false,
     "start_time": "2021-12-30T22:43:15.619098",
     "status": "completed"
    },
    "tags": []
   },
   "outputs": [
    {
     "name": "stdout",
     "output_type": "stream",
     "text": [
      "Looking in links: ../input/detectron-05/whls\r\n",
      "Processing /kaggle/input/detectron-05/whls/pycocotools-2.0.2/dist/pycocotools-2.0.2.tar\r\n",
      "Requirement already satisfied: setuptools>=18.0 in /opt/conda/lib/python3.7/site-packages (from pycocotools==2.0.2) (58.0.4)\r\n",
      "Requirement already satisfied: cython>=0.27.3 in /opt/conda/lib/python3.7/site-packages (from pycocotools==2.0.2) (0.29.24)\r\n",
      "Requirement already satisfied: matplotlib>=2.1.0 in /opt/conda/lib/python3.7/site-packages (from pycocotools==2.0.2) (3.4.3)\r\n",
      "Requirement already satisfied: numpy>=1.16 in /opt/conda/lib/python3.7/site-packages (from matplotlib>=2.1.0->pycocotools==2.0.2) (1.19.5)\r\n",
      "Requirement already satisfied: pillow>=6.2.0 in /opt/conda/lib/python3.7/site-packages (from matplotlib>=2.1.0->pycocotools==2.0.2) (8.2.0)\r\n",
      "Requirement already satisfied: pyparsing>=2.2.1 in /opt/conda/lib/python3.7/site-packages (from matplotlib>=2.1.0->pycocotools==2.0.2) (2.4.7)\r\n",
      "Requirement already satisfied: python-dateutil>=2.7 in /opt/conda/lib/python3.7/site-packages (from matplotlib>=2.1.0->pycocotools==2.0.2) (2.8.0)\r\n",
      "Requirement already satisfied: kiwisolver>=1.0.1 in /opt/conda/lib/python3.7/site-packages (from matplotlib>=2.1.0->pycocotools==2.0.2) (1.3.2)\r\n",
      "Requirement already satisfied: cycler>=0.10 in /opt/conda/lib/python3.7/site-packages (from matplotlib>=2.1.0->pycocotools==2.0.2) (0.10.0)\r\n",
      "Requirement already satisfied: six in /opt/conda/lib/python3.7/site-packages (from cycler>=0.10->matplotlib>=2.1.0->pycocotools==2.0.2) (1.16.0)\r\n",
      "Building wheels for collected packages: pycocotools\r\n",
      "  Building wheel for pycocotools (setup.py) ... \u001b[?25l-\b \b\\\b \b|\b \b/\b \b-\b \b\\\b \b|\b \b/\b \bdone\r\n",
      "\u001b[?25h  Created wheel for pycocotools: filename=pycocotools-2.0.2-cp37-cp37m-linux_x86_64.whl size=272235 sha256=79ae9ec0ff97f4831e223bdb2384efa0fa19ccad7fa7c2e7bafcee21fc4c5ff1\r\n",
      "  Stored in directory: /root/.cache/pip/wheels/d2/09/29/2054c6cc4599cf39f1c52ce3c20bfb50be696caa5d5ba460c9\r\n",
      "Successfully built pycocotools\r\n",
      "Installing collected packages: pycocotools\r\n",
      "Successfully installed pycocotools-2.0.2\r\n",
      "\u001b[33mWARNING: Running pip as the 'root' user can result in broken permissions and conflicting behaviour with the system package manager. It is recommended to use a virtual environment instead: https://pip.pypa.io/warnings/venv\u001b[0m\r\n",
      "Looking in links: ../input/detectron-05/whls\r\n",
      "Processing /kaggle/input/detectron-05/whls/fvcore-0.1.5.post20211019/fvcore-0.1.5.post20211019\r\n",
      "\u001b[33m  DEPRECATION: A future pip version will change local packages to be built in-place without first copying to a temporary directory. We recommend you use --use-feature=in-tree-build to test your packages with this new behavior before it becomes the default.\r\n",
      "   pip 21.3 will remove support for this functionality. You can find discussion regarding this at https://github.com/pypa/pip/issues/7555.\u001b[0m\r\n",
      "Requirement already satisfied: numpy in /opt/conda/lib/python3.7/site-packages (from fvcore==0.1.5.post20211019) (1.19.5)\r\n",
      "Requirement already satisfied: yacs>=0.1.6 in /opt/conda/lib/python3.7/site-packages (from fvcore==0.1.5.post20211019) (0.1.8)\r\n",
      "Requirement already satisfied: pyyaml>=5.1 in /opt/conda/lib/python3.7/site-packages (from fvcore==0.1.5.post20211019) (5.4.1)\r\n",
      "Requirement already satisfied: tqdm in /opt/conda/lib/python3.7/site-packages (from fvcore==0.1.5.post20211019) (4.62.3)\r\n",
      "Requirement already satisfied: termcolor>=1.1 in /opt/conda/lib/python3.7/site-packages (from fvcore==0.1.5.post20211019) (1.1.0)\r\n",
      "Requirement already satisfied: Pillow in /opt/conda/lib/python3.7/site-packages (from fvcore==0.1.5.post20211019) (8.2.0)\r\n",
      "Requirement already satisfied: tabulate in /opt/conda/lib/python3.7/site-packages (from fvcore==0.1.5.post20211019) (0.8.9)\r\n",
      "Processing /kaggle/input/detectron-05/whls/iopath-0.1.9-py3-none-any.whl\r\n",
      "Requirement already satisfied: portalocker in /opt/conda/lib/python3.7/site-packages (from iopath>=0.1.7->fvcore==0.1.5.post20211019) (2.3.2)\r\n",
      "Building wheels for collected packages: fvcore\r\n",
      "  Building wheel for fvcore (setup.py) ... \u001b[?25l-\b \b\\\b \bdone\r\n",
      "\u001b[?25h  Created wheel for fvcore: filename=fvcore-0.1.5.post20211019-py3-none-any.whl size=60878 sha256=edca162157f9b951c54b92f10726735b267b921d3fe17a8ee3724ea3b72c0aae\r\n",
      "  Stored in directory: /root/.cache/pip/wheels/ba/23/7f/50fe782028a2bb7f9d8b13585c0a0a1723a7a3adb53cf3d1b6\r\n",
      "Successfully built fvcore\r\n",
      "Installing collected packages: iopath, fvcore\r\n",
      "Successfully installed fvcore-0.1.5.post20211019 iopath-0.1.9\r\n",
      "\u001b[33mWARNING: Running pip as the 'root' user can result in broken permissions and conflicting behaviour with the system package manager. It is recommended to use a virtual environment instead: https://pip.pypa.io/warnings/venv\u001b[0m\r\n",
      "Looking in links: ../input/detectron-05/whls\r\n",
      "Processing /kaggle/input/detectron-05/whls/antlr4-python3-runtime-4.8/antlr4-python3-runtime-4.8\r\n",
      "\u001b[33m  DEPRECATION: A future pip version will change local packages to be built in-place without first copying to a temporary directory. We recommend you use --use-feature=in-tree-build to test your packages with this new behavior before it becomes the default.\r\n",
      "   pip 21.3 will remove support for this functionality. You can find discussion regarding this at https://github.com/pypa/pip/issues/7555.\u001b[0m\r\n",
      "Building wheels for collected packages: antlr4-python3-runtime\r\n",
      "  Building wheel for antlr4-python3-runtime (setup.py) ... \u001b[?25l-\b \b\\\b \bdone\r\n",
      "\u001b[?25h  Created wheel for antlr4-python3-runtime: filename=antlr4_python3_runtime-4.8-py3-none-any.whl size=141230 sha256=6173a8deb6736a3127078cdef18761753ebb03a1c5734627e3a08f06b79b08a2\r\n",
      "  Stored in directory: /root/.cache/pip/wheels/6e/9c/5b/9e8e1e06147cb3b136c1ee5a7becab5e221e799fd0fb56d4e8\r\n",
      "Successfully built antlr4-python3-runtime\r\n",
      "Installing collected packages: antlr4-python3-runtime\r\n",
      "Successfully installed antlr4-python3-runtime-4.8\r\n",
      "\u001b[33mWARNING: Running pip as the 'root' user can result in broken permissions and conflicting behaviour with the system package manager. It is recommended to use a virtual environment instead: https://pip.pypa.io/warnings/venv\u001b[0m\r\n",
      "Looking in links: ../input/detectron-05/whls\r\n",
      "Processing /kaggle/input/detectron-05/whls/detectron2-0.5/detectron2\r\n",
      "\u001b[33m  DEPRECATION: A future pip version will change local packages to be built in-place without first copying to a temporary directory. We recommend you use --use-feature=in-tree-build to test your packages with this new behavior before it becomes the default.\r\n",
      "   pip 21.3 will remove support for this functionality. You can find discussion regarding this at https://github.com/pypa/pip/issues/7555.\u001b[0m\r\n",
      "Requirement already satisfied: Pillow>=7.1 in /opt/conda/lib/python3.7/site-packages (from detectron2==0.5) (8.2.0)\r\n",
      "Requirement already satisfied: matplotlib in /opt/conda/lib/python3.7/site-packages (from detectron2==0.5) (3.4.3)\r\n",
      "Requirement already satisfied: pycocotools>=2.0.2 in /opt/conda/lib/python3.7/site-packages (from detectron2==0.5) (2.0.2)\r\n",
      "Requirement already satisfied: termcolor>=1.1 in /opt/conda/lib/python3.7/site-packages (from detectron2==0.5) (1.1.0)\r\n",
      "Requirement already satisfied: yacs>=0.1.8 in /opt/conda/lib/python3.7/site-packages (from detectron2==0.5) (0.1.8)\r\n",
      "Requirement already satisfied: tabulate in /opt/conda/lib/python3.7/site-packages (from detectron2==0.5) (0.8.9)\r\n",
      "Requirement already satisfied: cloudpickle in /opt/conda/lib/python3.7/site-packages (from detectron2==0.5) (2.0.0)\r\n",
      "Requirement already satisfied: tqdm>4.29.0 in /opt/conda/lib/python3.7/site-packages (from detectron2==0.5) (4.62.3)\r\n",
      "Requirement already satisfied: tensorboard in /opt/conda/lib/python3.7/site-packages (from detectron2==0.5) (2.6.0)\r\n",
      "Requirement already satisfied: fvcore<0.1.6,>=0.1.5 in /opt/conda/lib/python3.7/site-packages (from detectron2==0.5) (0.1.5.post20211019)\r\n",
      "Requirement already satisfied: iopath<0.1.10,>=0.1.7 in /opt/conda/lib/python3.7/site-packages (from detectron2==0.5) (0.1.9)\r\n",
      "Requirement already satisfied: future in /opt/conda/lib/python3.7/site-packages (from detectron2==0.5) (0.18.2)\r\n",
      "Requirement already satisfied: pydot in /opt/conda/lib/python3.7/site-packages (from detectron2==0.5) (1.4.2)\r\n",
      "Processing /kaggle/input/detectron-05/whls/omegaconf-2.1.1-py3-none-any.whl\r\n",
      "Processing /kaggle/input/detectron-05/whls/hydra_core-1.1.1-py3-none-any.whl\r\n",
      "Processing /kaggle/input/detectron-05/whls/black-21.4b2-py3-none-any.whl\r\n",
      "Requirement already satisfied: mypy-extensions>=0.4.3 in /opt/conda/lib/python3.7/site-packages (from black==21.4b2->detectron2==0.5) (0.4.3)\r\n",
      "Requirement already satisfied: regex>=2020.1.8 in /opt/conda/lib/python3.7/site-packages (from black==21.4b2->detectron2==0.5) (2021.8.28)\r\n",
      "Requirement already satisfied: pathspec<1,>=0.8.1 in /opt/conda/lib/python3.7/site-packages (from black==21.4b2->detectron2==0.5) (0.9.0)\r\n",
      "Requirement already satisfied: toml>=0.10.1 in /opt/conda/lib/python3.7/site-packages (from black==21.4b2->detectron2==0.5) (0.10.2)\r\n",
      "Requirement already satisfied: typing-extensions>=3.7.4 in /opt/conda/lib/python3.7/site-packages (from black==21.4b2->detectron2==0.5) (3.10.0.2)\r\n",
      "Requirement already satisfied: click>=7.1.2 in /opt/conda/lib/python3.7/site-packages (from black==21.4b2->detectron2==0.5) (8.0.1)\r\n",
      "Requirement already satisfied: typed-ast>=1.4.2 in /opt/conda/lib/python3.7/site-packages (from black==21.4b2->detectron2==0.5) (1.4.3)\r\n",
      "Requirement already satisfied: appdirs in /opt/conda/lib/python3.7/site-packages (from black==21.4b2->detectron2==0.5) (1.4.4)\r\n",
      "Requirement already satisfied: importlib-metadata in /opt/conda/lib/python3.7/site-packages (from click>=7.1.2->black==21.4b2->detectron2==0.5) (4.8.1)\r\n",
      "Requirement already satisfied: pyyaml>=5.1 in /opt/conda/lib/python3.7/site-packages (from fvcore<0.1.6,>=0.1.5->detectron2==0.5) (5.4.1)\r\n",
      "Requirement already satisfied: numpy in /opt/conda/lib/python3.7/site-packages (from fvcore<0.1.6,>=0.1.5->detectron2==0.5) (1.19.5)\r\n",
      "Requirement already satisfied: antlr4-python3-runtime==4.8 in /opt/conda/lib/python3.7/site-packages (from hydra-core>=1.1->detectron2==0.5) (4.8)\r\n",
      "Requirement already satisfied: importlib-resources in /opt/conda/lib/python3.7/site-packages (from hydra-core>=1.1->detectron2==0.5) (5.2.2)\r\n",
      "Requirement already satisfied: portalocker in /opt/conda/lib/python3.7/site-packages (from iopath<0.1.10,>=0.1.7->detectron2==0.5) (2.3.2)\r\n",
      "Requirement already satisfied: setuptools>=18.0 in /opt/conda/lib/python3.7/site-packages (from pycocotools>=2.0.2->detectron2==0.5) (58.0.4)\r\n",
      "Requirement already satisfied: cython>=0.27.3 in /opt/conda/lib/python3.7/site-packages (from pycocotools>=2.0.2->detectron2==0.5) (0.29.24)\r\n",
      "Requirement already satisfied: python-dateutil>=2.7 in /opt/conda/lib/python3.7/site-packages (from matplotlib->detectron2==0.5) (2.8.0)\r\n",
      "Requirement already satisfied: cycler>=0.10 in /opt/conda/lib/python3.7/site-packages (from matplotlib->detectron2==0.5) (0.10.0)\r\n",
      "Requirement already satisfied: kiwisolver>=1.0.1 in /opt/conda/lib/python3.7/site-packages (from matplotlib->detectron2==0.5) (1.3.2)\r\n",
      "Requirement already satisfied: pyparsing>=2.2.1 in /opt/conda/lib/python3.7/site-packages (from matplotlib->detectron2==0.5) (2.4.7)\r\n",
      "Requirement already satisfied: six in /opt/conda/lib/python3.7/site-packages (from cycler>=0.10->matplotlib->detectron2==0.5) (1.16.0)\r\n",
      "Requirement already satisfied: zipp>=0.5 in /opt/conda/lib/python3.7/site-packages (from importlib-metadata->click>=7.1.2->black==21.4b2->detectron2==0.5) (3.5.0)\r\n",
      "Requirement already satisfied: absl-py>=0.4 in /opt/conda/lib/python3.7/site-packages (from tensorboard->detectron2==0.5) (0.14.0)\r\n",
      "Requirement already satisfied: markdown>=2.6.8 in /opt/conda/lib/python3.7/site-packages (from tensorboard->detectron2==0.5) (3.3.4)\r\n",
      "Requirement already satisfied: tensorboard-plugin-wit>=1.6.0 in /opt/conda/lib/python3.7/site-packages (from tensorboard->detectron2==0.5) (1.8.0)\r\n",
      "Requirement already satisfied: requests<3,>=2.21.0 in /opt/conda/lib/python3.7/site-packages (from tensorboard->detectron2==0.5) (2.25.1)\r\n",
      "Requirement already satisfied: google-auth<2,>=1.6.3 in /opt/conda/lib/python3.7/site-packages (from tensorboard->detectron2==0.5) (1.35.0)\r\n",
      "Requirement already satisfied: google-auth-oauthlib<0.5,>=0.4.1 in /opt/conda/lib/python3.7/site-packages (from tensorboard->detectron2==0.5) (0.4.6)\r\n",
      "Requirement already satisfied: protobuf>=3.6.0 in /opt/conda/lib/python3.7/site-packages (from tensorboard->detectron2==0.5) (3.18.1)\r\n",
      "Requirement already satisfied: wheel>=0.26 in /opt/conda/lib/python3.7/site-packages (from tensorboard->detectron2==0.5) (0.37.0)\r\n",
      "Requirement already satisfied: tensorboard-data-server<0.7.0,>=0.6.0 in /opt/conda/lib/python3.7/site-packages (from tensorboard->detectron2==0.5) (0.6.1)\r\n",
      "Requirement already satisfied: werkzeug>=0.11.15 in /opt/conda/lib/python3.7/site-packages (from tensorboard->detectron2==0.5) (2.0.1)\r\n",
      "Requirement already satisfied: grpcio>=1.24.3 in /opt/conda/lib/python3.7/site-packages (from tensorboard->detectron2==0.5) (1.38.1)\r\n",
      "Requirement already satisfied: rsa<5,>=3.1.4 in /opt/conda/lib/python3.7/site-packages (from google-auth<2,>=1.6.3->tensorboard->detectron2==0.5) (4.7.2)\r\n",
      "Requirement already satisfied: cachetools<5.0,>=2.0.0 in /opt/conda/lib/python3.7/site-packages (from google-auth<2,>=1.6.3->tensorboard->detectron2==0.5) (4.2.2)\r\n",
      "Requirement already satisfied: pyasn1-modules>=0.2.1 in /opt/conda/lib/python3.7/site-packages (from google-auth<2,>=1.6.3->tensorboard->detectron2==0.5) (0.2.7)\r\n",
      "Requirement already satisfied: requests-oauthlib>=0.7.0 in /opt/conda/lib/python3.7/site-packages (from google-auth-oauthlib<0.5,>=0.4.1->tensorboard->detectron2==0.5) (1.3.0)\r\n",
      "Requirement already satisfied: pyasn1<0.5.0,>=0.4.6 in /opt/conda/lib/python3.7/site-packages (from pyasn1-modules>=0.2.1->google-auth<2,>=1.6.3->tensorboard->detectron2==0.5) (0.4.8)\r\n",
      "Requirement already satisfied: urllib3<1.27,>=1.21.1 in /opt/conda/lib/python3.7/site-packages (from requests<3,>=2.21.0->tensorboard->detectron2==0.5) (1.26.6)\r\n",
      "Requirement already satisfied: certifi>=2017.4.17 in /opt/conda/lib/python3.7/site-packages (from requests<3,>=2.21.0->tensorboard->detectron2==0.5) (2021.10.8)\r\n",
      "Requirement already satisfied: chardet<5,>=3.0.2 in /opt/conda/lib/python3.7/site-packages (from requests<3,>=2.21.0->tensorboard->detectron2==0.5) (4.0.0)\r\n",
      "Requirement already satisfied: idna<3,>=2.5 in /opt/conda/lib/python3.7/site-packages (from requests<3,>=2.21.0->tensorboard->detectron2==0.5) (2.10)\r\n",
      "Requirement already satisfied: oauthlib>=3.0.0 in /opt/conda/lib/python3.7/site-packages (from requests-oauthlib>=0.7.0->google-auth-oauthlib<0.5,>=0.4.1->tensorboard->detectron2==0.5) (3.1.1)\r\n",
      "Building wheels for collected packages: detectron2\r\n",
      "  Building wheel for detectron2 (setup.py) ... \u001b[?25l-\b \b\\\b \b|\b \b/\b \b-\b \b\\\b \b|\b \b/\b \b-\b \b\\\b \b|\b \b/\b \b-\b \b\\\b \b|\b \b/\b \b-\b \b\\\b \bdone\r\n",
      "\u001b[?25h  Created wheel for detectron2: filename=detectron2-0.5-cp37-cp37m-linux_x86_64.whl size=5726866 sha256=1fd39716bff74013b957ef44307f3989a9cac1523cd8509257c72807090268e2\r\n",
      "  Stored in directory: /tmp/pip-ephem-wheel-cache-0ahxn954/wheels/2c/7c/aa/9abf8b469a63a1d1e55f84a4eb7afea06d3399564584ea464a\r\n",
      "Successfully built detectron2\r\n",
      "Installing collected packages: omegaconf, hydra-core, black, detectron2\r\n",
      "  Attempting uninstall: black\r\n",
      "    Found existing installation: black 21.9b0\r\n",
      "    Uninstalling black-21.9b0:\r\n",
      "      Successfully uninstalled black-21.9b0\r\n",
      "Successfully installed black-21.4b2 detectron2-0.5 hydra-core-1.1.1 omegaconf-2.1.1\r\n",
      "\u001b[33mWARNING: Running pip as the 'root' user can result in broken permissions and conflicting behaviour with the system package manager. It is recommended to use a virtual environment instead: https://pip.pypa.io/warnings/venv\u001b[0m\r\n",
      "Looking in links: ./\r\n",
      "Processing /kaggle/input/ensemble-boxes-104/ensemble_boxes-1.0.4\r\n",
      "\u001b[33m  DEPRECATION: A future pip version will change local packages to be built in-place without first copying to a temporary directory. We recommend you use --use-feature=in-tree-build to test your packages with this new behavior before it becomes the default.\r\n",
      "   pip 21.3 will remove support for this functionality. You can find discussion regarding this at https://github.com/pypa/pip/issues/7555.\u001b[0m\r\n",
      "Requirement already satisfied: numpy in /opt/conda/lib/python3.7/site-packages (from ensemble-boxes==1.0.4) (1.19.5)\r\n",
      "Requirement already satisfied: pandas in /opt/conda/lib/python3.7/site-packages (from ensemble-boxes==1.0.4) (1.3.3)\r\n",
      "Requirement already satisfied: numba in /opt/conda/lib/python3.7/site-packages (from ensemble-boxes==1.0.4) (0.54.0)\r\n",
      "Requirement already satisfied: llvmlite<0.38,>=0.37.0rc1 in /opt/conda/lib/python3.7/site-packages (from numba->ensemble-boxes==1.0.4) (0.37.0)\r\n",
      "Requirement already satisfied: setuptools in /opt/conda/lib/python3.7/site-packages (from numba->ensemble-boxes==1.0.4) (58.0.4)\r\n",
      "Requirement already satisfied: pytz>=2017.3 in /opt/conda/lib/python3.7/site-packages (from pandas->ensemble-boxes==1.0.4) (2021.1)\r\n",
      "Requirement already satisfied: python-dateutil>=2.7.3 in /opt/conda/lib/python3.7/site-packages (from pandas->ensemble-boxes==1.0.4) (2.8.0)\r\n",
      "Requirement already satisfied: six>=1.5 in /opt/conda/lib/python3.7/site-packages (from python-dateutil>=2.7.3->pandas->ensemble-boxes==1.0.4) (1.16.0)\r\n",
      "Building wheels for collected packages: ensemble-boxes\r\n",
      "  Building wheel for ensemble-boxes (setup.py) ... \u001b[?25l-\b \bdone\r\n",
      "\u001b[?25h  Created wheel for ensemble-boxes: filename=ensemble_boxes-1.0.4-py3-none-any.whl size=14070 sha256=010f5fb12388d91adbb7352d2f35217078dda1ca4f54f76d54d6e7a98aba698e\r\n",
      "  Stored in directory: /root/.cache/pip/wheels/66/11/27/bd684df8a75ad0e720fdc77d199e5876063925350905a64205\r\n",
      "Successfully built ensemble-boxes\r\n",
      "Installing collected packages: ensemble-boxes\r\n",
      "Successfully installed ensemble-boxes-1.0.4\r\n",
      "\u001b[33mWARNING: Running pip as the 'root' user can result in broken permissions and conflicting behaviour with the system package manager. It is recommended to use a virtual environment instead: https://pip.pypa.io/warnings/venv\u001b[0m\r\n"
     ]
    }
   ],
   "source": [
    "!pip install ../input/detectron-05/whls/pycocotools-2.0.2/dist/pycocotools-2.0.2.tar --no-index --find-links ../input/detectron-05/whls \n",
    "!pip install ../input/detectron-05/whls/fvcore-0.1.5.post20211019/fvcore-0.1.5.post20211019 --no-index --find-links ../input/detectron-05/whls \n",
    "!pip install ../input/detectron-05/whls/antlr4-python3-runtime-4.8/antlr4-python3-runtime-4.8 --no-index --find-links ../input/detectron-05/whls \n",
    "!pip install ../input/detectron-05/whls/detectron2-0.5/detectron2 --no-index --find-links ../input/detectron-05/whls \n",
    "!pip install ../input/ensemble-boxes-104/ensemble_boxes-1.0.4/ -f ./ --no-index"
   ]
  },
  {
   "cell_type": "code",
   "execution_count": 2,
   "id": "8ac679a3",
   "metadata": {
    "execution": {
     "iopub.execute_input": "2021-12-30T22:46:52.388402Z",
     "iopub.status.busy": "2021-12-30T22:46:52.387593Z",
     "iopub.status.idle": "2021-12-30T22:46:54.480781Z",
     "shell.execute_reply": "2021-12-30T22:46:54.481378Z",
     "shell.execute_reply.started": "2021-12-19T17:50:30.408384Z"
    },
    "papermill": {
     "duration": 2.168456,
     "end_time": "2021-12-30T22:46:54.481573",
     "exception": false,
     "start_time": "2021-12-30T22:46:52.313117",
     "status": "completed"
    },
    "tags": []
   },
   "outputs": [
    {
     "name": "stdout",
     "output_type": "stream",
     "text": [
      "GPU is available\n",
      "detectron ver: 0.5\n"
     ]
    }
   ],
   "source": [
    "import os\n",
    "import cv2\n",
    "import json\n",
    "import time\n",
    "import numpy as np\n",
    "import pandas as pd\n",
    "import torch\n",
    "import detectron2\n",
    "from tqdm.auto import tqdm\n",
    "from detectron2 import model_zoo\n",
    "from detectron2.engine import DefaultPredictor\n",
    "from detectron2.config import get_cfg\n",
    "from detectron2.data.datasets import register_coco_instances\n",
    "from detectron2.evaluation import inference_on_dataset\n",
    "from detectron2.evaluation.evaluator import DatasetEvaluator\n",
    "from detectron2.data import DatasetCatalog, build_detection_test_loader\n",
    "import pycocotools.mask as mask_util\n",
    "from PIL import Image\n",
    "import matplotlib.pyplot as plt\n",
    "from fastcore.all import *\n",
    "from ensemble_boxes import *\n",
    "os.environ['CUDA_VISIBLE_DEVICES'] = '0' \n",
    "if torch.cuda.is_available():\n",
    "    DEVICE = torch.device('cuda')\n",
    "    print('GPU is available')\n",
    "else:\n",
    "    DEVICE = torch.device('cpu')\n",
    "    print('CPU is used')\n",
    "print('detectron ver:', detectron2.__version__)"
   ]
  },
  {
   "cell_type": "markdown",
   "id": "a516b307",
   "metadata": {
    "papermill": {
     "duration": 0.03255,
     "end_time": "2021-12-30T22:46:54.547534",
     "exception": false,
     "start_time": "2021-12-30T22:46:54.514984",
     "status": "completed"
    },
    "tags": []
   },
   "source": [
    "## My Models"
   ]
  },
  {
   "cell_type": "code",
   "execution_count": 3,
   "id": "df1d0ea5",
   "metadata": {
    "execution": {
     "iopub.execute_input": "2021-12-30T22:46:54.618836Z",
     "iopub.status.busy": "2021-12-30T22:46:54.618258Z",
     "iopub.status.idle": "2021-12-30T22:46:54.621868Z",
     "shell.execute_reply": "2021-12-30T22:46:54.621408Z",
     "shell.execute_reply.started": "2021-12-19T17:50:32.26215Z"
    },
    "papermill": {
     "duration": 0.041601,
     "end_time": "2021-12-30T22:46:54.622015",
     "exception": false,
     "start_time": "2021-12-30T22:46:54.580414",
     "status": "completed"
    },
    "tags": []
   },
   "outputs": [],
   "source": [
    "# best_model=(\n",
    "#     {'file': '/kaggle/input/gyy-sartoriusmodels/model_final_11.pth','config_name':'COCO-InstanceSegmentation/mask_rcnn_R_50_FPN_3x.yaml', 'LB score': 0.306,'ths':[.18, .38, .58]},\n",
    "#     {'file': '/kaggle/input/sartorius-transfer-learning-model/model_0009679.pth','config_name':'COCO-InstanceSegmentation/mask_rcnn_R_50_FPN_3x.yaml', 'LB score': 0.300,'ths':[.18, .38, .58]},\n",
    "# #     {'file': '/kaggle/input/gyy-sartoriusmodels/model_best_5.pth','config_name':'COCO-InstanceSegmentation/mask_rcnn_R_50_FPN_3x.yaml', 'LB score': 0.296,'ths':[.15, .35, .55]},\n",
    "#     {'file': '/kaggle/input/gyy-sartoriusmodels/model_final_7.pth','config_name':'COCO-InstanceSegmentation/mask_rcnn_R_50_FPN_3x.yaml', 'LB score': 0.305,'ths':[.18, .38, .58]},\n",
    "#     {'file': '/kaggle/input/gyy-sartoriusmodels/model_best_9.pth','config_name':'COCO-InstanceSegmentation/mask_rcnn_R_50_FPN_3x.yaml', 'LB score': 0.303,'ths':[.19, .39, .57]},\n",
    "#     {'file': '/kaggle/input/gyy-sartoriusmodels/model_final_6.pth','config_name':'COCO-InstanceSegmentation/mask_rcnn_R_50_FPN_3x.yaml', 'LB score': 0.307,'ths':[.21, .39, .57]},\n",
    "#     {'file': '/kaggle/input/gyy-sartoriusmodels/model_best_6.pth','config_name':'COCO-InstanceSegmentation/mask_rcnn_R_50_FPN_3x.yaml', 'LB score': 0.303,'ths':[.19, .39, .57]},\n",
    "#     {'file': '/kaggle/input/gyy-sartoriusmodels/model_final_5.pth','config_name':'COCO-InstanceSegmentation/mask_rcnn_R_50_FPN_3x.yaml', 'LB score': 0.303,'ths':[.19, .39, .57]}\n",
    "#             )"
   ]
  },
  {
   "cell_type": "code",
   "execution_count": 4,
   "id": "b4c32168",
   "metadata": {
    "execution": {
     "iopub.execute_input": "2021-12-30T22:46:54.697452Z",
     "iopub.status.busy": "2021-12-30T22:46:54.696554Z",
     "iopub.status.idle": "2021-12-30T22:46:54.698510Z",
     "shell.execute_reply": "2021-12-30T22:46:54.698962Z"
    },
    "papermill": {
     "duration": 0.043492,
     "end_time": "2021-12-30T22:46:54.699106",
     "exception": false,
     "start_time": "2021-12-30T22:46:54.655614",
     "status": "completed"
    },
    "tags": []
   },
   "outputs": [],
   "source": [
    "best_model=(\n",
    "    {'file': '/kaggle/input/gyy-sartoriusmodels/model_final_11.pth','config_name':'COCO-InstanceSegmentation/mask_rcnn_R_50_FPN_3x.yaml', 'LB score': 0.306,'ths':[.18, .38, .58]},\n",
    "    {'file': '/kaggle/input/sartorius-transfer-learning-model/model_0009679.pth','config_name':'COCO-InstanceSegmentation/mask_rcnn_R_50_FPN_3x.yaml', 'LB score': 0.300,'ths':[.18, .38, .58]},\n",
    "#     {'file': '/kaggle/input/gyy-sartoriusmodels/model_best_5.pth','config_name':'COCO-InstanceSegmentation/mask_rcnn_R_50_FPN_3x.yaml', 'LB score': 0.296,'ths':[.15, .35, .55]},\n",
    "    {'file': '/kaggle/input/gyy-sartoriusmodels/model_final_7.pth','config_name':'COCO-InstanceSegmentation/mask_rcnn_R_50_FPN_3x.yaml', 'LB score': 0.305,'ths':[.18, .38, .58]},\n",
    "    {'file': '/kaggle/input/gyy-sartoriusmodels/model_best_9.pth','config_name':'COCO-InstanceSegmentation/mask_rcnn_R_50_FPN_3x.yaml', 'LB score': 0.303,'ths':[.19, .39, .57]},\n",
    "    {'file': '/kaggle/input/gyy-sartoriusmodels/model_final_6.pth','config_name':'COCO-InstanceSegmentation/mask_rcnn_R_50_FPN_3x.yaml', 'LB score': 0.307,'ths':[.21, .39, .57]},\n",
    "#     {'file': '/kaggle/input/gyy-sartoriusmodels/model_best_6.pth','config_name':'COCO-InstanceSegmentation/mask_rcnn_R_50_FPN_3x.yaml', 'LB score': 0.303,'ths':[.19, .39, .57]},\n",
    "#     {'file': '/kaggle/input/gyy-sartoriusmodels/model_final_5.pth','config_name':'COCO-InstanceSegmentation/mask_rcnn_R_50_FPN_3x.yaml', 'LB score': 0.303,'ths':[.19, .39, .57]}\n",
    "\n",
    "            )"
   ]
  },
  {
   "cell_type": "code",
   "execution_count": 5,
   "id": "ed719367",
   "metadata": {
    "execution": {
     "iopub.execute_input": "2021-12-30T22:46:54.779078Z",
     "iopub.status.busy": "2021-12-30T22:46:54.778381Z",
     "iopub.status.idle": "2021-12-30T22:47:11.003783Z",
     "shell.execute_reply": "2021-12-30T22:47:11.004204Z",
     "shell.execute_reply.started": "2021-12-19T17:50:32.273687Z"
    },
    "papermill": {
     "duration": 16.267921,
     "end_time": "2021-12-30T22:47:11.004366",
     "exception": false,
     "start_time": "2021-12-30T22:46:54.736445",
     "status": "completed"
    },
    "tags": []
   },
   "outputs": [
    {
     "name": "stdout",
     "output_type": "stream",
     "text": [
      "all loaded:\n",
      "thresholds: [[0.18, 0.38, 0.58], [0.18, 0.38, 0.58], [0.18, 0.38, 0.58], [0.19, 0.39, 0.57], [0.21, 0.39, 0.57]]\n",
      "models: ['/kaggle/input/gyy-sartoriusmodels/model_final_11.pth', '/kaggle/input/sartorius-transfer-learning-model/model_0009679.pth', '/kaggle/input/gyy-sartoriusmodels/model_final_7.pth', '/kaggle/input/gyy-sartoriusmodels/model_best_9.pth', '/kaggle/input/gyy-sartoriusmodels/model_final_6.pth']\n"
     ]
    }
   ],
   "source": [
    "#config_name = \"COCO-InstanceSegmentation/mask_rcnn_R_50_FPN_3x.yaml\"\n",
    "mdl_path = \"\"\n",
    "DATA_PATH = \"../input/sartorius-cell-instance-segmentation\"\n",
    "MODELS = []\n",
    "BEST_MODELS =[]\n",
    "THSS = []\n",
    "ID_TEST = 0\n",
    "SUBM_PATH = f'{DATA_PATH}/test'\n",
    "SINGLE_MODE = False\n",
    "NMS = True\n",
    "MIN_PIXELS = [75, 150, 75]\n",
    "IOU_TH = 0.3\n",
    "for b_m in best_model:\n",
    "    model_name=b_m[\"file\"]\n",
    "    model_ths=b_m[\"ths\"]\n",
    "    config_name=b_m[\"config_name\"]\n",
    "    BEST_MODELS.append(model_name)\n",
    "    THSS.append(model_ths)\n",
    "    cfg = get_cfg()\n",
    "    cfg.merge_from_file(model_zoo.get_config_file(config_name))\n",
    "    cfg.INPUT.MASK_FORMAT = 'bitmask'\n",
    "    cfg.MODEL.ROI_HEADS.NUM_CLASSES = 3 \n",
    "    cfg.MODEL.WEIGHTS = f'{mdl_path}/{model_name}'  \n",
    "    cfg.TEST.DETECTIONS_PER_IMAGE = 1000\n",
    "    MODELS.append(DefaultPredictor(cfg))\n",
    "print(f'all loaded:\\nthresholds: {THSS}\\nmodels: {BEST_MODELS}')"
   ]
  },
  {
   "cell_type": "code",
   "execution_count": 6,
   "id": "6406ddfb",
   "metadata": {
    "execution": {
     "iopub.execute_input": "2021-12-30T22:47:11.076045Z",
     "iopub.status.busy": "2021-12-30T22:47:11.075361Z",
     "iopub.status.idle": "2021-12-30T22:47:11.078481Z",
     "shell.execute_reply": "2021-12-30T22:47:11.078954Z",
     "shell.execute_reply.started": "2021-12-19T17:50:46.143613Z"
    },
    "papermill": {
     "duration": 0.0419,
     "end_time": "2021-12-30T22:47:11.079093",
     "exception": false,
     "start_time": "2021-12-30T22:47:11.037193",
     "status": "completed"
    },
    "tags": []
   },
   "outputs": [
    {
     "data": {
      "text/plain": [
       "[<detectron2.engine.defaults.DefaultPredictor at 0x7fa41399b610>,\n",
       " <detectron2.engine.defaults.DefaultPredictor at 0x7fa40c128210>,\n",
       " <detectron2.engine.defaults.DefaultPredictor at 0x7fa40c047f10>,\n",
       " <detectron2.engine.defaults.DefaultPredictor at 0x7fa405ffc7d0>,\n",
       " <detectron2.engine.defaults.DefaultPredictor at 0x7fa405f36850>]"
      ]
     },
     "execution_count": 6,
     "metadata": {},
     "output_type": "execute_result"
    }
   ],
   "source": [
    "MODELS"
   ]
  },
  {
   "cell_type": "markdown",
   "id": "8a1b3b40",
   "metadata": {
    "papermill": {
     "duration": 0.032673,
     "end_time": "2021-12-30T22:47:11.144229",
     "exception": false,
     "start_time": "2021-12-30T22:47:11.111556",
     "status": "completed"
    },
    "tags": []
   },
   "source": [
    "## Utils"
   ]
  },
  {
   "cell_type": "code",
   "execution_count": 7,
   "id": "5fb75cc5",
   "metadata": {
    "execution": {
     "iopub.execute_input": "2021-12-30T22:47:11.234081Z",
     "iopub.status.busy": "2021-12-30T22:47:11.216563Z",
     "iopub.status.idle": "2021-12-30T22:47:11.236276Z",
     "shell.execute_reply": "2021-12-30T22:47:11.235858Z",
     "shell.execute_reply.started": "2021-12-19T18:01:39.154658Z"
    },
    "papermill": {
     "duration": 0.059699,
     "end_time": "2021-12-30T22:47:11.236384",
     "exception": false,
     "start_time": "2021-12-30T22:47:11.176685",
     "status": "completed"
    },
    "tags": []
   },
   "outputs": [],
   "source": [
    "def rle_decode(mask_rle, shape=(520, 704)):\n",
    "    '''\n",
    "    mask_rle: run-length as string formated (start length)\n",
    "    shape: (height,width) of array to return \n",
    "    Returns numpy array, 1 - mask, 0 - background\n",
    "\n",
    "    '''\n",
    "    s = mask_rle.split()\n",
    "    starts, lengths = [np.asarray(x, dtype=int) \n",
    "                       for x in (s[0:][::2], s[1:][::2])]\n",
    "    starts -= 1\n",
    "    ends = starts + lengths\n",
    "    img = np.zeros(shape[0] * shape[1], dtype=np.uint8)\n",
    "    for lo, hi in zip(starts, ends):\n",
    "        img[lo : hi] = 1\n",
    "    return img.reshape(shape)  # Needed to align to RLE direction\n",
    "\n",
    "def rle_encode(img):\n",
    "    '''\n",
    "    img: numpy array, 1 - mask, 0 - background\n",
    "    Returns run length as string formated\n",
    "    \n",
    "    '''\n",
    "    pixels = img.flatten()\n",
    "    pixels = np.concatenate([[0], pixels, [0]])\n",
    "    runs = np.where(pixels[1:] != pixels[:-1])[0] + 1\n",
    "    runs[1::2] -= runs[::2]\n",
    "    return ' '.join(str(x) for x in runs)\n",
    "\n",
    "def pred_masks(file_name, path, model, ths, min_pixels):\n",
    "    img = cv2.imread(f'{path}/{file_name}')\n",
    "    output = model(img)\n",
    "    pred_classes = output['instances'].pred_classes.cpu().numpy().tolist()\n",
    "    pred_class = max(set(pred_classes), key=pred_classes.count)\n",
    "    take = output['instances'].scores >= ths[pred_class]\n",
    "    pred_masks = output['instances'].pred_masks[take]\n",
    "    pred_masks = pred_masks.cpu().numpy()\n",
    "    result = []\n",
    "    used = np.zeros(img.shape[:2], dtype=int) \n",
    "    for i, mask in enumerate(pred_masks):\n",
    "        mask = mask * (1 - used)\n",
    "        if mask.sum() >= min_pixels[pred_class]:\n",
    "            used += mask\n",
    "            result.append(rle_encode(mask))\n",
    "    return result\n",
    "\n",
    "def ensemble_preds(file_name, path, models, ths):\n",
    "    img = cv2.imread(f'{path}/{file_name}')\n",
    "    classes = []\n",
    "    scores = []\n",
    "    bboxes = []\n",
    "    masks = []\n",
    "    for i, model in enumerate(models):\n",
    "        output = model(img)\n",
    "        pred_classes = output['instances'].pred_classes.cpu().numpy().tolist()\n",
    "        pred_class = max(set(pred_classes), key=pred_classes.count)\n",
    "        take = output['instances'].scores >= ths[i][pred_class]\n",
    "        classes.extend(output['instances'].pred_classes[take].cpu().numpy().tolist())\n",
    "        scores.extend(output['instances'].scores[take].cpu().numpy().tolist())\n",
    "        bboxes.extend(output['instances'].pred_boxes[take].tensor.cpu().numpy().tolist())\n",
    "        masks.extend(output['instances'].pred_masks[take].cpu().numpy())\n",
    "    assert len(classes) == len(masks) , 'ensemble lenght mismatch'\n",
    "    #scores, classes, bboxes, masks = zip(*sorted(zip(scores, classes, bboxes, masks),reverse=True))\n",
    "    return classes, scores, bboxes, masks\n",
    "\n",
    "def nms_predictions(classes, scores, bboxes, masks, \n",
    "                    iou_th=.5, shape=(520, 704)):\n",
    "    he, wd = shape[0], shape[1]\n",
    "    boxes_list = [[[x[0] / wd, x[1] / he, x[2] / wd, x[3] / he] for x in bboxes]]\n",
    "    scores_list = [[x for x in scores]]\n",
    "    classes_list = [[x for x in classes]]\n",
    "    nms_bboxes, nms_scores, nms_classes = non_maximum_weighted(\n",
    "        boxes_list, \n",
    "        scores_list, \n",
    "        classes_list, \n",
    "        weights=None,\n",
    "        iou_thr=0.3,skip_box_thr=0.0001  \n",
    "    )\n",
    "    nms_masks = []\n",
    "    for s in nms_scores:\n",
    "        nms_masks.append(masks[scores.index(s)])\n",
    "    nms_scores, nms_classes, nms_masks = zip(*sorted(zip(nms_scores, nms_classes, nms_masks), reverse=True))\n",
    "    return nms_classes, nms_scores, nms_masks\n",
    "\n",
    "def ensemble_pred_masks(masks, classes, min_pixels, shape=(520, 704)):\n",
    "    result = []\n",
    "    #pred_class = max(set(classes), key=classes.count)\n",
    "    pred_class = int(max(set(classes), key=classes.count).item())\n",
    "    used = np.zeros(shape, dtype=int) \n",
    "    for i, mask in enumerate(masks):\n",
    "        mask = mask * (1 - used)\n",
    "        if mask.sum() >= min_pixels[pred_class]:\n",
    "            used += mask\n",
    "            result.append(rle_encode(mask))\n",
    "    return result"
   ]
  },
  {
   "cell_type": "markdown",
   "id": "75896fea",
   "metadata": {
    "papermill": {
     "duration": 0.032157,
     "end_time": "2021-12-30T22:47:11.300884",
     "exception": false,
     "start_time": "2021-12-30T22:47:11.268727",
     "status": "completed"
    },
    "tags": []
   },
   "source": [
    "## Demo inference"
   ]
  },
  {
   "cell_type": "code",
   "execution_count": 8,
   "id": "8d15e681",
   "metadata": {
    "execution": {
     "iopub.execute_input": "2021-12-30T22:47:11.370025Z",
     "iopub.status.busy": "2021-12-30T22:47:11.369404Z",
     "iopub.status.idle": "2021-12-30T22:47:11.377712Z",
     "shell.execute_reply": "2021-12-30T22:47:11.377312Z",
     "shell.execute_reply.started": "2021-12-19T17:52:25.480496Z"
    },
    "papermill": {
     "duration": 0.044209,
     "end_time": "2021-12-30T22:47:11.377859",
     "exception": false,
     "start_time": "2021-12-30T22:47:11.333650",
     "status": "completed"
    },
    "tags": []
   },
   "outputs": [
    {
     "name": "stdout",
     "output_type": "stream",
     "text": [
      "test images: 3\n"
     ]
    }
   ],
   "source": [
    "test_names = os.listdir(SUBM_PATH)\n",
    "print('test images:', len(test_names))"
   ]
  },
  {
   "cell_type": "code",
   "execution_count": 9,
   "id": "34bbe752",
   "metadata": {
    "execution": {
     "iopub.execute_input": "2021-12-30T22:47:11.447244Z",
     "iopub.status.busy": "2021-12-30T22:47:11.446694Z",
     "iopub.status.idle": "2021-12-30T22:47:18.231390Z",
     "shell.execute_reply": "2021-12-30T22:47:18.232567Z",
     "shell.execute_reply.started": "2021-12-19T18:01:43.640219Z"
    },
    "papermill": {
     "duration": 6.822255,
     "end_time": "2021-12-30T22:47:18.232845",
     "exception": false,
     "start_time": "2021-12-30T22:47:11.410590",
     "status": "completed"
    },
    "tags": []
   },
   "outputs": [
    {
     "name": "stderr",
     "output_type": "stream",
     "text": [
      "/opt/conda/lib/python3.7/site-packages/torch/_tensor.py:575: UserWarning: floor_divide is deprecated, and will be removed in a future version of pytorch. It currently rounds toward 0 (like the 'trunc' function NOT 'floor'). This results in incorrect rounding for negative values.\n",
      "To keep the current behavior, use torch.div(a, b, rounding_mode='trunc'), or for actual floor division, use torch.div(a, b, rounding_mode='floor'). (Triggered internally at  /usr/local/src/pytorch/aten/src/ATen/native/BinaryOps.cpp:467.)\n",
      "  return torch.floor_divide(self, other)\n"
     ]
    }
   ],
   "source": [
    "encoded_masks_single = pred_masks(\n",
    "    test_names[ID_TEST], \n",
    "    path=SUBM_PATH, \n",
    "    model=MODELS[0],\n",
    "    ths=THSS[0],\n",
    "    min_pixels=MIN_PIXELS\n",
    ")"
   ]
  },
  {
   "cell_type": "code",
   "execution_count": 10,
   "id": "148dd254",
   "metadata": {
    "execution": {
     "iopub.execute_input": "2021-12-30T22:47:18.355793Z",
     "iopub.status.busy": "2021-12-30T22:47:18.354937Z",
     "iopub.status.idle": "2021-12-30T22:47:20.408962Z",
     "shell.execute_reply": "2021-12-30T22:47:20.408448Z",
     "shell.execute_reply.started": "2021-12-19T18:01:45.447479Z"
    },
    "papermill": {
     "duration": 2.120959,
     "end_time": "2021-12-30T22:47:20.409105",
     "exception": false,
     "start_time": "2021-12-30T22:47:18.288146",
     "status": "completed"
    },
    "tags": []
   },
   "outputs": [],
   "source": [
    "classes, scores, bboxes, masks = ensemble_preds(\n",
    "    file_name=test_names[ID_TEST] , \n",
    "    path=SUBM_PATH, \n",
    "    models=MODELS, \n",
    "    ths=THSS\n",
    ")\n",
    "if NMS:\n",
    "    classes, scores, masks = nms_predictions(\n",
    "        classes, \n",
    "        scores, \n",
    "        bboxes,\n",
    "        masks, iou_th=IOU_TH\n",
    "    )\n",
    "encoded_masks = ensemble_pred_masks(masks, classes, min_pixels=MIN_PIXELS)"
   ]
  },
  {
   "cell_type": "code",
   "execution_count": 11,
   "id": "c4298144",
   "metadata": {
    "execution": {
     "iopub.execute_input": "2021-12-30T22:47:20.499136Z",
     "iopub.status.busy": "2021-12-30T22:47:20.498502Z",
     "iopub.status.idle": "2021-12-30T22:47:36.899413Z",
     "shell.execute_reply": "2021-12-30T22:47:36.899902Z",
     "shell.execute_reply.started": "2021-12-19T18:01:53.201341Z"
    },
    "papermill": {
     "duration": 16.457529,
     "end_time": "2021-12-30T22:47:36.900058",
     "exception": false,
     "start_time": "2021-12-30T22:47:20.442529",
     "status": "completed"
    },
    "tags": []
   },
   "outputs": [
    {
     "data": {
      "image/png": "[encoded data removed]",
      "text/plain": [
       "<Figure size 1008x576 with 4 Axes>"
      ]
     },
     "metadata": {
      "needs_background": "light"
     },
     "output_type": "display_data"
    }
   ],
   "source": [
    "_, axs = plt.subplots(2, 2, figsize=(14, 8))\n",
    "axs[0][0].imshow(cv2.imread(f'{SUBM_PATH}/{test_names[ID_TEST]}'))\n",
    "axs[0][0].axis('off')\n",
    "axs[0][0].set_title(test_names[ID_TEST])\n",
    "for en_mask in encoded_masks_single:\n",
    "    dec_mask = rle_decode(en_mask)\n",
    "    axs[0][1].imshow(np.ma.masked_where(dec_mask == 0, dec_mask))\n",
    "    axs[0][1].axis('off')\n",
    "    axs[0][1].set_title('single model')\n",
    "axs[1][0].imshow(cv2.imread(f'{SUBM_PATH}/{test_names[ID_TEST]}'))\n",
    "axs[1][0].axis('off')\n",
    "axs[1][0].set_title(test_names[ID_TEST])\n",
    "for en_mask in encoded_masks:\n",
    "    dec_mask = rle_decode(en_mask)\n",
    "    axs[1][1].imshow(np.ma.masked_where(dec_mask == 0, dec_mask))\n",
    "    axs[1][1].axis('off')\n",
    "    axs[1][1].set_title('ensemble models')\n",
    "plt.show()"
   ]
  },
  {
   "cell_type": "markdown",
   "id": "672e2b1c",
   "metadata": {
    "papermill": {
     "duration": 0.036912,
     "end_time": "2021-12-30T22:47:36.975579",
     "exception": false,
     "start_time": "2021-12-30T22:47:36.938667",
     "status": "completed"
    },
    "tags": []
   },
   "source": [
    "## Inference"
   ]
  },
  {
   "cell_type": "code",
   "execution_count": 12,
   "id": "cb97a742",
   "metadata": {
    "execution": {
     "iopub.execute_input": "2021-12-30T22:47:37.056807Z",
     "iopub.status.busy": "2021-12-30T22:47:37.056206Z",
     "iopub.status.idle": "2021-12-30T22:47:40.448258Z",
     "shell.execute_reply": "2021-12-30T22:47:40.447765Z",
     "shell.execute_reply.started": "2021-12-19T17:58:22.836523Z"
    },
    "papermill": {
     "duration": 3.436183,
     "end_time": "2021-12-30T22:47:40.448383",
     "exception": false,
     "start_time": "2021-12-30T22:47:37.012200",
     "status": "completed"
    },
    "tags": []
   },
   "outputs": [
    {
     "data": {
      "application/vnd.jupyter.widget-view+json": {
       "model_id": "89cfc3a2971d462c9502f1cfcc35738b",
       "version_major": 2,
       "version_minor": 0
      },
      "text/plain": [
       "  0%|          | 0/3 [00:00<?, ?it/s]"
      ]
     },
     "metadata": {},
     "output_type": "display_data"
    }
   ],
   "source": [
    "subm_ids, subm_masks = [], []\n",
    "for test_name in tqdm(test_names):\n",
    "    if SINGLE_MODE:\n",
    "        encoded_masks = pred_masks(\n",
    "            test_name, \n",
    "            path=SUBM_PATH, \n",
    "            model=MODELS[0],\n",
    "            ths=THSS[0],\n",
    "            min_pixels=MIN_PIXELS\n",
    "        )\n",
    "    else:\n",
    "        classes, scores, bboxes, masks = ensemble_preds(\n",
    "            file_name=test_name, \n",
    "            path=SUBM_PATH, \n",
    "            models=MODELS, \n",
    "            ths=THSS\n",
    "        )\n",
    "        if NMS:\n",
    "            classes, scores, masks = nms_predictions(\n",
    "                classes, \n",
    "                scores, \n",
    "                bboxes, \n",
    "                masks, \n",
    "                iou_th=IOU_TH\n",
    "            )\n",
    "        encoded_masks = ensemble_pred_masks(\n",
    "            masks, \n",
    "            classes, \n",
    "            min_pixels=MIN_PIXELS\n",
    "        )\n",
    "    for enc_mask in encoded_masks:\n",
    "        subm_ids.append(test_name[:test_name.find('.')])\n",
    "        subm_masks.append(enc_mask)"
   ]
  },
  {
   "cell_type": "code",
   "execution_count": 13,
   "id": "551d32cc",
   "metadata": {
    "execution": {
     "iopub.execute_input": "2021-12-30T22:47:40.532921Z",
     "iopub.status.busy": "2021-12-30T22:47:40.532111Z",
     "iopub.status.idle": "2021-12-30T22:47:40.556594Z",
     "shell.execute_reply": "2021-12-30T22:47:40.557038Z",
     "shell.execute_reply.started": "2021-12-19T17:58:26.131847Z"
    },
    "papermill": {
     "duration": 0.071357,
     "end_time": "2021-12-30T22:47:40.557180",
     "exception": false,
     "start_time": "2021-12-30T22:47:40.485823",
     "status": "completed"
    },
    "tags": []
   },
   "outputs": [
    {
     "data": {
      "text/html": [
       "<div>\n",
       "<style scoped>\n",
       "    .dataframe tbody tr th:only-of-type {\n",
       "        vertical-align: middle;\n",
       "    }\n",
       "\n",
       "    .dataframe tbody tr th {\n",
       "        vertical-align: top;\n",
       "    }\n",
       "\n",
       "    .dataframe thead th {\n",
       "        text-align: right;\n",
       "    }\n",
       "</style>\n",
       "<table border=\"1\" class=\"dataframe\">\n",
       "  <thead>\n",
       "    <tr style=\"text-align: right;\">\n",
       "      <th></th>\n",
       "      <th>id</th>\n",
       "      <th>predicted</th>\n",
       "    </tr>\n",
       "  </thead>\n",
       "  <tbody>\n",
       "    <tr>\n",
       "      <th>0</th>\n",
       "      <td>7ae19de7bc2a</td>\n",
       "      <td>140003 18 140706 22 141410 22 142114 23 142818...</td>\n",
       "    </tr>\n",
       "    <tr>\n",
       "      <th>1</th>\n",
       "      <td>7ae19de7bc2a</td>\n",
       "      <td>354409 5 355112 7 355815 9 356517 11 357219 13...</td>\n",
       "    </tr>\n",
       "    <tr>\n",
       "      <th>2</th>\n",
       "      <td>7ae19de7bc2a</td>\n",
       "      <td>446 7 1149 9 1853 11 2557 11 3261 12 3965 13 4...</td>\n",
       "    </tr>\n",
       "    <tr>\n",
       "      <th>3</th>\n",
       "      <td>7ae19de7bc2a</td>\n",
       "      <td>178194 4 178897 5 179600 6 180304 6 181007 7 1...</td>\n",
       "    </tr>\n",
       "    <tr>\n",
       "      <th>4</th>\n",
       "      <td>7ae19de7bc2a</td>\n",
       "      <td>207257 6 207960 10 208663 12 209367 13 210070 ...</td>\n",
       "    </tr>\n",
       "  </tbody>\n",
       "</table>\n",
       "</div>"
      ],
      "text/plain": [
       "             id                                          predicted\n",
       "0  7ae19de7bc2a  140003 18 140706 22 141410 22 142114 23 142818...\n",
       "1  7ae19de7bc2a  354409 5 355112 7 355815 9 356517 11 357219 13...\n",
       "2  7ae19de7bc2a  446 7 1149 9 1853 11 2557 11 3261 12 3965 13 4...\n",
       "3  7ae19de7bc2a  178194 4 178897 5 179600 6 180304 6 181007 7 1...\n",
       "4  7ae19de7bc2a  207257 6 207960 10 208663 12 209367 13 210070 ..."
      ]
     },
     "execution_count": 13,
     "metadata": {},
     "output_type": "execute_result"
    }
   ],
   "source": [
    "pd.DataFrame({\n",
    "    'id': subm_ids, \n",
    "    'predicted': subm_masks\n",
    "}).to_csv('submission.csv', index=False)\n",
    "pd.read_csv('submission.csv').head()"
   ]
  },
  {
   "cell_type": "markdown",
   "id": "c37a335c",
   "metadata": {
    "papermill": {
     "duration": 0.037594,
     "end_time": "2021-12-30T22:47:40.682660",
     "exception": false,
     "start_time": "2021-12-30T22:47:40.645066",
     "status": "completed"
    },
    "tags": []
   },
   "source": [
    "# References\n",
    "1. https://www.kaggle.com/vgarshin/detectron2-inference-with-ensemble-and-nms"
   ]
  }
 ],
 "metadata": {
  "kernelspec": {
   "display_name": "Python 3",
   "language": "python",
   "name": "python3"
  },
  "language_info": {
   "codemirror_mode": {
    "name": "ipython",
    "version": 3
   },
   "file_extension": ".py",
   "mimetype": "text/x-python",
   "name": "python",
   "nbconvert_exporter": "python",
   "pygments_lexer": "ipython3",
   "version": "3.7.10"
  },
  "papermill": {
   "default_parameters": {},
   "duration": 275.125063,
   "end_time": "2021-12-30T22:47:42.032360",
   "environment_variables": {},
   "exception": null,
   "input_path": "__notebook__.ipynb",
   "output_path": "__notebook__.ipynb",
   "parameters": {},
   "start_time": "2021-12-30T22:43:06.907297",
   "version": "2.3.3"
  },
  "widgets": {
   "application/vnd.jupyter.widget-state+json": {
    "state": {
     "01235322f40e4a52a9a03d0ff9460f06": {
      "model_module": "@jupyter-widgets/controls",
      "model_module_version": "1.5.0",
      "model_name": "DescriptionStyleModel",
      "state": {
       "_model_module": "@jupyter-widgets/controls",
       "_model_module_version": "1.5.0",
       "_model_name": "DescriptionStyleModel",
       "_view_count": null,
       "_view_module": "@jupyter-widgets/base",
       "_view_module_version": "1.2.0",
       "_view_name": "StyleView",
       "description_width": ""
      }
     },
     "0a8146ea10d84d55b7364be506227eff": {
      "model_module": "@jupyter-widgets/base",
      "model_module_version": "1.2.0",
      "model_name": "LayoutModel",
      "state": {
       "_model_module": "@jupyter-widgets/base",
       "_model_module_version": "1.2.0",
       "_model_name": "LayoutModel",
       "_view_count": null,
       "_view_module": "@jupyter-widgets/base",
       "_view_module_version": "1.2.0",
       "_view_name": "LayoutView",
       "align_content": null,
       "align_items": null,
       "align_self": null,
       "border": null,
       "bottom": null,
       "display": null,
       "flex": null,
       "flex_flow": null,
       "grid_area": null,
       "grid_auto_columns": null,
       "grid_auto_flow": null,
       "grid_auto_rows": null,
       "grid_column": null,
       "grid_gap": null,
       "grid_row": null,
       "grid_template_areas": null,
       "grid_template_columns": null,
       "grid_template_rows": null,
       "height": null,
       "justify_content": null,
       "justify_items": null,
       "left": null,
       "margin": null,
       "max_height": null,
       "max_width": null,
       "min_height": null,
       "min_width": null,
       "object_fit": null,
       "object_position": null,
       "order": null,
       "overflow": null,
       "overflow_x": null,
       "overflow_y": null,
       "padding": null,
       "right": null,
       "top": null,
       "visibility": null,
       "width": null
      }
     },
     "1879d3f4840343608d71658e695f85dd": {
      "model_module": "@jupyter-widgets/base",
      "model_module_version": "1.2.0",
      "model_name": "LayoutModel",
      "state": {
       "_model_module": "@jupyter-widgets/base",
       "_model_module_version": "1.2.0",
       "_model_name": "LayoutModel",
       "_view_count": null,
       "_view_module": "@jupyter-widgets/base",
       "_view_module_version": "1.2.0",
       "_view_name": "LayoutView",
       "align_content": null,
       "align_items": null,
       "align_self": null,
       "border": null,
       "bottom": null,
       "display": null,
       "flex": null,
       "flex_flow": null,
       "grid_area": null,
       "grid_auto_columns": null,
       "grid_auto_flow": null,
       "grid_auto_rows": null,
       "grid_column": null,
       "grid_gap": null,
       "grid_row": null,
       "grid_template_areas": null,
       "grid_template_columns": null,
       "grid_template_rows": null,
       "height": null,
       "justify_content": null,
       "justify_items": null,
       "left": null,
       "margin": null,
       "max_height": null,
       "max_width": null,
       "min_height": null,
       "min_width": null,
       "object_fit": null,
       "object_position": null,
       "order": null,
       "overflow": null,
       "overflow_x": null,
       "overflow_y": null,
       "padding": null,
       "right": null,
       "top": null,
       "visibility": null,
       "width": null
      }
     },
     "2f3d36ad6d354b59947d59635b06b32b": {
      "model_module": "@jupyter-widgets/base",
      "model_module_version": "1.2.0",
      "model_name": "LayoutModel",
      "state": {
       "_model_module": "@jupyter-widgets/base",
       "_model_module_version": "1.2.0",
       "_model_name": "LayoutModel",
       "_view_count": null,
       "_view_module": "@jupyter-widgets/base",
       "_view_module_version": "1.2.0",
       "_view_name": "LayoutView",
       "align_content": null,
       "align_items": null,
       "align_self": null,
       "border": null,
       "bottom": null,
       "display": null,
       "flex": null,
       "flex_flow": null,
       "grid_area": null,
       "grid_auto_columns": null,
       "grid_auto_flow": null,
       "grid_auto_rows": null,
       "grid_column": null,
       "grid_gap": null,
       "grid_row": null,
       "grid_template_areas": null,
       "grid_template_columns": null,
       "grid_template_rows": null,
       "height": null,
       "justify_content": null,
       "justify_items": null,
       "left": null,
       "margin": null,
       "max_height": null,
       "max_width": null,
       "min_height": null,
       "min_width": null,
       "object_fit": null,
       "object_position": null,
       "order": null,
       "overflow": null,
       "overflow_x": null,
       "overflow_y": null,
       "padding": null,
       "right": null,
       "top": null,
       "visibility": null,
       "width": null
      }
     },
     "43bb291960f24556ad8a9612d164d579": {
      "model_module": "@jupyter-widgets/controls",
      "model_module_version": "1.5.0",
      "model_name": "HTMLModel",
      "state": {
       "_dom_classes": [],
       "_model_module": "@jupyter-widgets/controls",
       "_model_module_version": "1.5.0",
       "_model_name": "HTMLModel",
       "_view_count": null,
       "_view_module": "@jupyter-widgets/controls",
       "_view_module_version": "1.5.0",
       "_view_name": "HTMLView",
       "description": "",
       "description_tooltip": null,
       "layout": "IPY_MODEL_1879d3f4840343608d71658e695f85dd",
       "placeholder": "​",
       "style": "IPY_MODEL_eb0a4874af7140aebb96e78c6215b33e",
       "value": "100%"
      }
     },
     "69cbd5e8cda24a14be27097ad6affc0a": {
      "model_module": "@jupyter-widgets/controls",
      "model_module_version": "1.5.0",
      "model_name": "FloatProgressModel",
      "state": {
       "_dom_classes": [],
       "_model_module": "@jupyter-widgets/controls",
       "_model_module_version": "1.5.0",
       "_model_name": "FloatProgressModel",
       "_view_count": null,
       "_view_module": "@jupyter-widgets/controls",
       "_view_module_version": "1.5.0",
       "_view_name": "ProgressView",
       "bar_style": "success",
       "description": "",
       "description_tooltip": null,
       "layout": "IPY_MODEL_ac847ec98814404090102b4c323062a6",
       "max": 3.0,
       "min": 0.0,
       "orientation": "horizontal",
       "style": "IPY_MODEL_ed968f33bf8f4d9194c98ee8cfa5d4ff",
       "value": 3.0
      }
     },
     "89cfc3a2971d462c9502f1cfcc35738b": {
      "model_module": "@jupyter-widgets/controls",
      "model_module_version": "1.5.0",
      "model_name": "HBoxModel",
      "state": {
       "_dom_classes": [],
       "_model_module": "@jupyter-widgets/controls",
       "_model_module_version": "1.5.0",
       "_model_name": "HBoxModel",
       "_view_count": null,
       "_view_module": "@jupyter-widgets/controls",
       "_view_module_version": "1.5.0",
       "_view_name": "HBoxView",
       "box_style": "",
       "children": [
        "IPY_MODEL_43bb291960f24556ad8a9612d164d579",
        "IPY_MODEL_69cbd5e8cda24a14be27097ad6affc0a",
        "IPY_MODEL_def899595e704e37b045de7146fc7de6"
       ],
       "layout": "IPY_MODEL_2f3d36ad6d354b59947d59635b06b32b"
      }
     },
     "ac847ec98814404090102b4c323062a6": {
      "model_module": "@jupyter-widgets/base",
      "model_module_version": "1.2.0",
      "model_name": "LayoutModel",
      "state": {
       "_model_module": "@jupyter-widgets/base",
       "_model_module_version": "1.2.0",
       "_model_name": "LayoutModel",
       "_view_count": null,
       "_view_module": "@jupyter-widgets/base",
       "_view_module_version": "1.2.0",
       "_view_name": "LayoutView",
       "align_content": null,
       "align_items": null,
       "align_self": null,
       "border": null,
       "bottom": null,
       "display": null,
       "flex": null,
       "flex_flow": null,
       "grid_area": null,
       "grid_auto_columns": null,
       "grid_auto_flow": null,
       "grid_auto_rows": null,
       "grid_column": null,
       "grid_gap": null,
       "grid_row": null,
       "grid_template_areas": null,
       "grid_template_columns": null,
       "grid_template_rows": null,
       "height": null,
       "justify_content": null,
       "justify_items": null,
       "left": null,
       "margin": null,
       "max_height": null,
       "max_width": null,
       "min_height": null,
       "min_width": null,
       "object_fit": null,
       "object_position": null,
       "order": null,
       "overflow": null,
       "overflow_x": null,
       "overflow_y": null,
       "padding": null,
       "right": null,
       "top": null,
       "visibility": null,
       "width": null
      }
     },
     "def899595e704e37b045de7146fc7de6": {
      "model_module": "@jupyter-widgets/controls",
      "model_module_version": "1.5.0",
      "model_name": "HTMLModel",
      "state": {
       "_dom_classes": [],
       "_model_module": "@jupyter-widgets/controls",
       "_model_module_version": "1.5.0",
       "_model_name": "HTMLModel",
       "_view_count": null,
       "_view_module": "@jupyter-widgets/controls",
       "_view_module_version": "1.5.0",
       "_view_name": "HTMLView",
       "description": "",
       "description_tooltip": null,
       "layout": "IPY_MODEL_0a8146ea10d84d55b7364be506227eff",
       "placeholder": "​",
       "style": "IPY_MODEL_01235322f40e4a52a9a03d0ff9460f06",
       "value": " 3/3 [00:03&lt;00:00,  1.04s/it]"
      }
     },
     "eb0a4874af7140aebb96e78c6215b33e": {
      "model_module": "@jupyter-widgets/controls",
      "model_module_version": "1.5.0",
      "model_name": "DescriptionStyleModel",
      "state": {
       "_model_module": "@jupyter-widgets/controls",
       "_model_module_version": "1.5.0",
       "_model_name": "DescriptionStyleModel",
       "_view_count": null,
       "_view_module": "@jupyter-widgets/base",
       "_view_module_version": "1.2.0",
       "_view_name": "StyleView",
       "description_width": ""
      }
     },
     "ed968f33bf8f4d9194c98ee8cfa5d4ff": {
      "model_module": "@jupyter-widgets/controls",
      "model_module_version": "1.5.0",
      "model_name": "ProgressStyleModel",
      "state": {
       "_model_module": "@jupyter-widgets/controls",
       "_model_module_version": "1.5.0",
       "_model_name": "ProgressStyleModel",
       "_view_count": null,
       "_view_module": "@jupyter-widgets/base",
       "_view_module_version": "1.2.0",
       "_view_name": "StyleView",
       "bar_color": null,
       "description_width": ""
      }
     }
    },
    "version_major": 2,
    "version_minor": 0
   }
  }
 },
 "nbformat": 4,
 "nbformat_minor": 5
}
