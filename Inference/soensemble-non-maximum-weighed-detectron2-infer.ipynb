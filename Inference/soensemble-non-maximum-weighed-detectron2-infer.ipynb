{
 "cells": [
  {
   "cell_type": "markdown",
   "id": "9546f3cf",
   "metadata": {
    "papermill": {
     "duration": 0.05567,
     "end_time": "2021-12-30T22:39:04.399214",
     "exception": false,
     "start_time": "2021-12-30T22:39:04.343544",
     "status": "completed"
    },
    "tags": []
   },
   "source": [
    "# Ensemble NMS - Detectron2 [Inference]"
   ]
  },
  {
   "cell_type": "markdown",
   "id": "14b3f04f",
   "metadata": {
    "papermill": {
     "duration": 0.060522,
     "end_time": "2021-12-30T22:39:04.499893",
     "exception": false,
     "start_time": "2021-12-30T22:39:04.439371",
     "status": "completed"
    },
    "tags": []
   },
   "source": [
    "### Hi kagglers, This is `Ensemble NMW - Detectron2 [Inference]` notebook.\n",
    "* [Sartorius Segmentation - Detectron2 [training]](https://www.kaggle.com/ammarnassanalhajali/sartorius-segmentation-detectron2-training) \n",
    "* [Sartorius Segmentation - Detectron2 [Inference]](https://www.kaggle.com/ammarnassanalhajali/sartorius-segmentation-detectron2-inference) \n",
    "* [K-fold CrossValidation COCO Dataset Generator](https://www.kaggle.com/ammarnassanalhajali/k-fold-crossvalidation-coco-dataset-generator) \n",
    "\n",
    "\n",
    "### Please if this kernel is useful, <font color='red'>please upvote !!</font>"
   ]
  },
  {
   "cell_type": "code",
   "execution_count": null,
   "id": "525c78b1",
   "metadata": {
    "papermill": {
     "duration": 0.043264,
     "end_time": "2021-12-30T22:39:04.594873",
     "exception": false,
     "start_time": "2021-12-30T22:39:04.551609",
     "status": "completed"
    },
    "tags": []
   },
   "outputs": [],
   "source": []
  },
  {
   "cell_type": "markdown",
   "id": "b9211599",
   "metadata": {
    "papermill": {
     "duration": 0.054381,
     "end_time": "2021-12-30T22:39:04.686541",
     "exception": false,
     "start_time": "2021-12-30T22:39:04.632160",
     "status": "completed"
    },
    "tags": []
   },
   "source": [
    "## Other notebooks in this competition \n",
    "- [Sartorius Segmentation - Keras U-Net[Training]](https://www.kaggle.com/ammarnassanalhajali/sartorius-segmentation-keras-u-net-training)\n",
    "- [Sartorius Segmentation - Keras U-Net[Inference]](https://www.kaggle.com/ammarnassanalhajali/sartorius-segmentation-keras-u-net-inference/edit)"
   ]
  },
  {
   "cell_type": "markdown",
   "id": "7e1e1bcb",
   "metadata": {
    "papermill": {
     "duration": 0.040277,
     "end_time": "2021-12-30T22:39:04.786645",
     "exception": false,
     "start_time": "2021-12-30T22:39:04.746368",
     "status": "completed"
    },
    "tags": []
   },
   "source": [
    "# Intro\n",
    "Ensembling multiple weaker performing models can help to get the results that you want."
   ]
  },
  {
   "cell_type": "markdown",
   "id": "3a9e5203",
   "metadata": {
    "papermill": {
     "duration": 0.086057,
     "end_time": "2021-12-30T22:39:04.912874",
     "exception": false,
     "start_time": "2021-12-30T22:39:04.826817",
     "status": "completed"
    },
    "tags": []
   },
   "source": [
    "## Install and import libraries"
   ]
  },
  {
   "cell_type": "code",
   "execution_count": 1,
   "id": "177819a6",
   "metadata": {
    "_kg_hide-input": true,
    "_kg_hide-output": true,
    "execution": {
     "iopub.execute_input": "2021-12-30T22:39:05.015837Z",
     "iopub.status.busy": "2021-12-30T22:39:05.015038Z",
     "iopub.status.idle": "2021-12-30T22:42:34.732209Z",
     "shell.execute_reply": "2021-12-30T22:42:34.731375Z",
     "shell.execute_reply.started": "2021-12-30T22:37:02.655031Z"
    },
    "papermill": {
     "duration": 209.779123,
     "end_time": "2021-12-30T22:42:34.732384",
     "exception": false,
     "start_time": "2021-12-30T22:39:04.953261",
     "status": "completed"
    },
    "tags": []
   },
   "outputs": [
    {
     "name": "stdout",
     "output_type": "stream",
     "text": [
      "Looking in links: ../input/detectron-05/whls\r\n",
      "Processing /kaggle/input/detectron-05/whls/pycocotools-2.0.2/dist/pycocotools-2.0.2.tar\r\n",
      "Requirement already satisfied: setuptools>=18.0 in /opt/conda/lib/python3.7/site-packages (from pycocotools==2.0.2) (58.0.4)\r\n",
      "Requirement already satisfied: cython>=0.27.3 in /opt/conda/lib/python3.7/site-packages (from pycocotools==2.0.2) (0.29.24)\r\n",
      "Requirement already satisfied: matplotlib>=2.1.0 in /opt/conda/lib/python3.7/site-packages (from pycocotools==2.0.2) (3.4.3)\r\n",
      "Requirement already satisfied: kiwisolver>=1.0.1 in /opt/conda/lib/python3.7/site-packages (from matplotlib>=2.1.0->pycocotools==2.0.2) (1.3.2)\r\n",
      "Requirement already satisfied: cycler>=0.10 in /opt/conda/lib/python3.7/site-packages (from matplotlib>=2.1.0->pycocotools==2.0.2) (0.10.0)\r\n",
      "Requirement already satisfied: pyparsing>=2.2.1 in /opt/conda/lib/python3.7/site-packages (from matplotlib>=2.1.0->pycocotools==2.0.2) (2.4.7)\r\n",
      "Requirement already satisfied: numpy>=1.16 in /opt/conda/lib/python3.7/site-packages (from matplotlib>=2.1.0->pycocotools==2.0.2) (1.19.5)\r\n",
      "Requirement already satisfied: python-dateutil>=2.7 in /opt/conda/lib/python3.7/site-packages (from matplotlib>=2.1.0->pycocotools==2.0.2) (2.8.0)\r\n",
      "Requirement already satisfied: pillow>=6.2.0 in /opt/conda/lib/python3.7/site-packages (from matplotlib>=2.1.0->pycocotools==2.0.2) (8.2.0)\r\n",
      "Requirement already satisfied: six in /opt/conda/lib/python3.7/site-packages (from cycler>=0.10->matplotlib>=2.1.0->pycocotools==2.0.2) (1.16.0)\r\n",
      "Building wheels for collected packages: pycocotools\r\n",
      "  Building wheel for pycocotools (setup.py) ... \u001b[?25l-\b \b\\\b \b|\b \b/\b \b-\b \b\\\b \b|\b \b/\b \bdone\r\n",
      "\u001b[?25h  Created wheel for pycocotools: filename=pycocotools-2.0.2-cp37-cp37m-linux_x86_64.whl size=272231 sha256=39c57ff589de6e27e26c829459c746de31ebe15c2a1d2a8ac217a6c42460aa4d\r\n",
      "  Stored in directory: /root/.cache/pip/wheels/d2/09/29/2054c6cc4599cf39f1c52ce3c20bfb50be696caa5d5ba460c9\r\n",
      "Successfully built pycocotools\r\n",
      "Installing collected packages: pycocotools\r\n",
      "Successfully installed pycocotools-2.0.2\r\n",
      "\u001b[33mWARNING: Running pip as the 'root' user can result in broken permissions and conflicting behaviour with the system package manager. It is recommended to use a virtual environment instead: https://pip.pypa.io/warnings/venv\u001b[0m\r\n",
      "Looking in links: ../input/detectron-05/whls\r\n",
      "Processing /kaggle/input/detectron-05/whls/fvcore-0.1.5.post20211019/fvcore-0.1.5.post20211019\r\n",
      "\u001b[33m  DEPRECATION: A future pip version will change local packages to be built in-place without first copying to a temporary directory. We recommend you use --use-feature=in-tree-build to test your packages with this new behavior before it becomes the default.\r\n",
      "   pip 21.3 will remove support for this functionality. You can find discussion regarding this at https://github.com/pypa/pip/issues/7555.\u001b[0m\r\n",
      "Requirement already satisfied: numpy in /opt/conda/lib/python3.7/site-packages (from fvcore==0.1.5.post20211019) (1.19.5)\r\n",
      "Requirement already satisfied: yacs>=0.1.6 in /opt/conda/lib/python3.7/site-packages (from fvcore==0.1.5.post20211019) (0.1.8)\r\n",
      "Requirement already satisfied: pyyaml>=5.1 in /opt/conda/lib/python3.7/site-packages (from fvcore==0.1.5.post20211019) (5.4.1)\r\n",
      "Requirement already satisfied: tqdm in /opt/conda/lib/python3.7/site-packages (from fvcore==0.1.5.post20211019) (4.62.3)\r\n",
      "Requirement already satisfied: termcolor>=1.1 in /opt/conda/lib/python3.7/site-packages (from fvcore==0.1.5.post20211019) (1.1.0)\r\n",
      "Requirement already satisfied: Pillow in /opt/conda/lib/python3.7/site-packages (from fvcore==0.1.5.post20211019) (8.2.0)\r\n",
      "Requirement already satisfied: tabulate in /opt/conda/lib/python3.7/site-packages (from fvcore==0.1.5.post20211019) (0.8.9)\r\n",
      "Processing /kaggle/input/detectron-05/whls/iopath-0.1.9-py3-none-any.whl\r\n",
      "Requirement already satisfied: portalocker in /opt/conda/lib/python3.7/site-packages (from iopath>=0.1.7->fvcore==0.1.5.post20211019) (2.3.2)\r\n",
      "Building wheels for collected packages: fvcore\r\n",
      "  Building wheel for fvcore (setup.py) ... \u001b[?25l-\b \b\\\b \bdone\r\n",
      "\u001b[?25h  Created wheel for fvcore: filename=fvcore-0.1.5.post20211019-py3-none-any.whl size=60878 sha256=b75dbcff5dddff94c55fca606af5498ec8896fbfd4321ddcaec03bc29e5b865a\r\n",
      "  Stored in directory: /root/.cache/pip/wheels/ba/23/7f/50fe782028a2bb7f9d8b13585c0a0a1723a7a3adb53cf3d1b6\r\n",
      "Successfully built fvcore\r\n",
      "Installing collected packages: iopath, fvcore\r\n",
      "Successfully installed fvcore-0.1.5.post20211019 iopath-0.1.9\r\n",
      "\u001b[33mWARNING: Running pip as the 'root' user can result in broken permissions and conflicting behaviour with the system package manager. It is recommended to use a virtual environment instead: https://pip.pypa.io/warnings/venv\u001b[0m\r\n",
      "Looking in links: ../input/detectron-05/whls\r\n",
      "Processing /kaggle/input/detectron-05/whls/antlr4-python3-runtime-4.8/antlr4-python3-runtime-4.8\r\n",
      "\u001b[33m  DEPRECATION: A future pip version will change local packages to be built in-place without first copying to a temporary directory. We recommend you use --use-feature=in-tree-build to test your packages with this new behavior before it becomes the default.\r\n",
      "   pip 21.3 will remove support for this functionality. You can find discussion regarding this at https://github.com/pypa/pip/issues/7555.\u001b[0m\r\n",
      "Building wheels for collected packages: antlr4-python3-runtime\r\n",
      "  Building wheel for antlr4-python3-runtime (setup.py) ... \u001b[?25l-\b \b\\\b \bdone\r\n",
      "\u001b[?25h  Created wheel for antlr4-python3-runtime: filename=antlr4_python3_runtime-4.8-py3-none-any.whl size=141230 sha256=10c709c9b11e2f52489b21de7474defd7f4ea9cca0eaf91ebbd19c81777fae85\r\n",
      "  Stored in directory: /root/.cache/pip/wheels/6e/9c/5b/9e8e1e06147cb3b136c1ee5a7becab5e221e799fd0fb56d4e8\r\n",
      "Successfully built antlr4-python3-runtime\r\n",
      "Installing collected packages: antlr4-python3-runtime\r\n",
      "Successfully installed antlr4-python3-runtime-4.8\r\n",
      "\u001b[33mWARNING: Running pip as the 'root' user can result in broken permissions and conflicting behaviour with the system package manager. It is recommended to use a virtual environment instead: https://pip.pypa.io/warnings/venv\u001b[0m\r\n",
      "Looking in links: ../input/detectron-05/whls\r\n",
      "Processing /kaggle/input/detectron-05/whls/detectron2-0.5/detectron2\r\n",
      "\u001b[33m  DEPRECATION: A future pip version will change local packages to be built in-place without first copying to a temporary directory. We recommend you use --use-feature=in-tree-build to test your packages with this new behavior before it becomes the default.\r\n",
      "   pip 21.3 will remove support for this functionality. You can find discussion regarding this at https://github.com/pypa/pip/issues/7555.\u001b[0m\r\n",
      "Requirement already satisfied: Pillow>=7.1 in /opt/conda/lib/python3.7/site-packages (from detectron2==0.5) (8.2.0)\r\n",
      "Requirement already satisfied: matplotlib in /opt/conda/lib/python3.7/site-packages (from detectron2==0.5) (3.4.3)\r\n",
      "Requirement already satisfied: pycocotools>=2.0.2 in /opt/conda/lib/python3.7/site-packages (from detectron2==0.5) (2.0.2)\r\n",
      "Requirement already satisfied: termcolor>=1.1 in /opt/conda/lib/python3.7/site-packages (from detectron2==0.5) (1.1.0)\r\n",
      "Requirement already satisfied: yacs>=0.1.8 in /opt/conda/lib/python3.7/site-packages (from detectron2==0.5) (0.1.8)\r\n",
      "Requirement already satisfied: tabulate in /opt/conda/lib/python3.7/site-packages (from detectron2==0.5) (0.8.9)\r\n",
      "Requirement already satisfied: cloudpickle in /opt/conda/lib/python3.7/site-packages (from detectron2==0.5) (2.0.0)\r\n",
      "Requirement already satisfied: tqdm>4.29.0 in /opt/conda/lib/python3.7/site-packages (from detectron2==0.5) (4.62.3)\r\n",
      "Requirement already satisfied: tensorboard in /opt/conda/lib/python3.7/site-packages (from detectron2==0.5) (2.6.0)\r\n",
      "Requirement already satisfied: fvcore<0.1.6,>=0.1.5 in /opt/conda/lib/python3.7/site-packages (from detectron2==0.5) (0.1.5.post20211019)\r\n",
      "Requirement already satisfied: iopath<0.1.10,>=0.1.7 in /opt/conda/lib/python3.7/site-packages (from detectron2==0.5) (0.1.9)\r\n",
      "Requirement already satisfied: future in /opt/conda/lib/python3.7/site-packages (from detectron2==0.5) (0.18.2)\r\n",
      "Requirement already satisfied: pydot in /opt/conda/lib/python3.7/site-packages (from detectron2==0.5) (1.4.2)\r\n",
      "Processing /kaggle/input/detectron-05/whls/omegaconf-2.1.1-py3-none-any.whl\r\n",
      "Processing /kaggle/input/detectron-05/whls/hydra_core-1.1.1-py3-none-any.whl\r\n",
      "Processing /kaggle/input/detectron-05/whls/black-21.4b2-py3-none-any.whl\r\n",
      "Requirement already satisfied: regex>=2020.1.8 in /opt/conda/lib/python3.7/site-packages (from black==21.4b2->detectron2==0.5) (2021.8.28)\r\n",
      "Requirement already satisfied: click>=7.1.2 in /opt/conda/lib/python3.7/site-packages (from black==21.4b2->detectron2==0.5) (8.0.1)\r\n",
      "Requirement already satisfied: typing-extensions>=3.7.4 in /opt/conda/lib/python3.7/site-packages (from black==21.4b2->detectron2==0.5) (3.10.0.2)\r\n",
      "Requirement already satisfied: typed-ast>=1.4.2 in /opt/conda/lib/python3.7/site-packages (from black==21.4b2->detectron2==0.5) (1.4.3)\r\n",
      "Requirement already satisfied: appdirs in /opt/conda/lib/python3.7/site-packages (from black==21.4b2->detectron2==0.5) (1.4.4)\r\n",
      "Requirement already satisfied: pathspec<1,>=0.8.1 in /opt/conda/lib/python3.7/site-packages (from black==21.4b2->detectron2==0.5) (0.9.0)\r\n",
      "Requirement already satisfied: toml>=0.10.1 in /opt/conda/lib/python3.7/site-packages (from black==21.4b2->detectron2==0.5) (0.10.2)\r\n",
      "Requirement already satisfied: mypy-extensions>=0.4.3 in /opt/conda/lib/python3.7/site-packages (from black==21.4b2->detectron2==0.5) (0.4.3)\r\n",
      "Requirement already satisfied: importlib-metadata in /opt/conda/lib/python3.7/site-packages (from click>=7.1.2->black==21.4b2->detectron2==0.5) (4.8.1)\r\n",
      "Requirement already satisfied: pyyaml>=5.1 in /opt/conda/lib/python3.7/site-packages (from fvcore<0.1.6,>=0.1.5->detectron2==0.5) (5.4.1)\r\n",
      "Requirement already satisfied: numpy in /opt/conda/lib/python3.7/site-packages (from fvcore<0.1.6,>=0.1.5->detectron2==0.5) (1.19.5)\r\n",
      "Requirement already satisfied: importlib-resources in /opt/conda/lib/python3.7/site-packages (from hydra-core>=1.1->detectron2==0.5) (5.2.2)\r\n",
      "Requirement already satisfied: antlr4-python3-runtime==4.8 in /opt/conda/lib/python3.7/site-packages (from hydra-core>=1.1->detectron2==0.5) (4.8)\r\n",
      "Requirement already satisfied: portalocker in /opt/conda/lib/python3.7/site-packages (from iopath<0.1.10,>=0.1.7->detectron2==0.5) (2.3.2)\r\n",
      "Requirement already satisfied: cython>=0.27.3 in /opt/conda/lib/python3.7/site-packages (from pycocotools>=2.0.2->detectron2==0.5) (0.29.24)\r\n",
      "Requirement already satisfied: setuptools>=18.0 in /opt/conda/lib/python3.7/site-packages (from pycocotools>=2.0.2->detectron2==0.5) (58.0.4)\r\n",
      "Requirement already satisfied: pyparsing>=2.2.1 in /opt/conda/lib/python3.7/site-packages (from matplotlib->detectron2==0.5) (2.4.7)\r\n",
      "Requirement already satisfied: python-dateutil>=2.7 in /opt/conda/lib/python3.7/site-packages (from matplotlib->detectron2==0.5) (2.8.0)\r\n",
      "Requirement already satisfied: kiwisolver>=1.0.1 in /opt/conda/lib/python3.7/site-packages (from matplotlib->detectron2==0.5) (1.3.2)\r\n",
      "Requirement already satisfied: cycler>=0.10 in /opt/conda/lib/python3.7/site-packages (from matplotlib->detectron2==0.5) (0.10.0)\r\n",
      "Requirement already satisfied: six in /opt/conda/lib/python3.7/site-packages (from cycler>=0.10->matplotlib->detectron2==0.5) (1.16.0)\r\n",
      "Requirement already satisfied: zipp>=0.5 in /opt/conda/lib/python3.7/site-packages (from importlib-metadata->click>=7.1.2->black==21.4b2->detectron2==0.5) (3.5.0)\r\n",
      "Requirement already satisfied: tensorboard-plugin-wit>=1.6.0 in /opt/conda/lib/python3.7/site-packages (from tensorboard->detectron2==0.5) (1.8.0)\r\n",
      "Requirement already satisfied: absl-py>=0.4 in /opt/conda/lib/python3.7/site-packages (from tensorboard->detectron2==0.5) (0.14.0)\r\n",
      "Requirement already satisfied: google-auth-oauthlib<0.5,>=0.4.1 in /opt/conda/lib/python3.7/site-packages (from tensorboard->detectron2==0.5) (0.4.6)\r\n",
      "Requirement already satisfied: requests<3,>=2.21.0 in /opt/conda/lib/python3.7/site-packages (from tensorboard->detectron2==0.5) (2.25.1)\r\n",
      "Requirement already satisfied: werkzeug>=0.11.15 in /opt/conda/lib/python3.7/site-packages (from tensorboard->detectron2==0.5) (2.0.1)\r\n",
      "Requirement already satisfied: markdown>=2.6.8 in /opt/conda/lib/python3.7/site-packages (from tensorboard->detectron2==0.5) (3.3.4)\r\n",
      "Requirement already satisfied: grpcio>=1.24.3 in /opt/conda/lib/python3.7/site-packages (from tensorboard->detectron2==0.5) (1.38.1)\r\n",
      "Requirement already satisfied: tensorboard-data-server<0.7.0,>=0.6.0 in /opt/conda/lib/python3.7/site-packages (from tensorboard->detectron2==0.5) (0.6.1)\r\n",
      "Requirement already satisfied: google-auth<2,>=1.6.3 in /opt/conda/lib/python3.7/site-packages (from tensorboard->detectron2==0.5) (1.35.0)\r\n",
      "Requirement already satisfied: protobuf>=3.6.0 in /opt/conda/lib/python3.7/site-packages (from tensorboard->detectron2==0.5) (3.18.1)\r\n",
      "Requirement already satisfied: wheel>=0.26 in /opt/conda/lib/python3.7/site-packages (from tensorboard->detectron2==0.5) (0.37.0)\r\n",
      "Requirement already satisfied: cachetools<5.0,>=2.0.0 in /opt/conda/lib/python3.7/site-packages (from google-auth<2,>=1.6.3->tensorboard->detectron2==0.5) (4.2.2)\r\n",
      "Requirement already satisfied: rsa<5,>=3.1.4 in /opt/conda/lib/python3.7/site-packages (from google-auth<2,>=1.6.3->tensorboard->detectron2==0.5) (4.7.2)\r\n",
      "Requirement already satisfied: pyasn1-modules>=0.2.1 in /opt/conda/lib/python3.7/site-packages (from google-auth<2,>=1.6.3->tensorboard->detectron2==0.5) (0.2.7)\r\n",
      "Requirement already satisfied: requests-oauthlib>=0.7.0 in /opt/conda/lib/python3.7/site-packages (from google-auth-oauthlib<0.5,>=0.4.1->tensorboard->detectron2==0.5) (1.3.0)\r\n",
      "Requirement already satisfied: pyasn1<0.5.0,>=0.4.6 in /opt/conda/lib/python3.7/site-packages (from pyasn1-modules>=0.2.1->google-auth<2,>=1.6.3->tensorboard->detectron2==0.5) (0.4.8)\r\n",
      "Requirement already satisfied: idna<3,>=2.5 in /opt/conda/lib/python3.7/site-packages (from requests<3,>=2.21.0->tensorboard->detectron2==0.5) (2.10)\r\n",
      "Requirement already satisfied: urllib3<1.27,>=1.21.1 in /opt/conda/lib/python3.7/site-packages (from requests<3,>=2.21.0->tensorboard->detectron2==0.5) (1.26.6)\r\n",
      "Requirement already satisfied: chardet<5,>=3.0.2 in /opt/conda/lib/python3.7/site-packages (from requests<3,>=2.21.0->tensorboard->detectron2==0.5) (4.0.0)\r\n",
      "Requirement already satisfied: certifi>=2017.4.17 in /opt/conda/lib/python3.7/site-packages (from requests<3,>=2.21.0->tensorboard->detectron2==0.5) (2021.10.8)\r\n",
      "Requirement already satisfied: oauthlib>=3.0.0 in /opt/conda/lib/python3.7/site-packages (from requests-oauthlib>=0.7.0->google-auth-oauthlib<0.5,>=0.4.1->tensorboard->detectron2==0.5) (3.1.1)\r\n",
      "Building wheels for collected packages: detectron2\r\n",
      "  Building wheel for detectron2 (setup.py) ... \u001b[?25l-\b \b\\\b \b|\b \b/\b \b-\b \b\\\b \b|\b \b/\b \b-\b \b\\\b \b|\b \b/\b \b-\b \b\\\b \b|\b \b/\b \b-\b \b\\\b \bdone\r\n",
      "\u001b[?25h  Created wheel for detectron2: filename=detectron2-0.5-cp37-cp37m-linux_x86_64.whl size=5726896 sha256=7d16a1637351172b6f0e5e1e0e32bf848eae696281a08fd176fa7982c3005896\r\n",
      "  Stored in directory: /tmp/pip-ephem-wheel-cache-1eqpycsz/wheels/2c/7c/aa/9abf8b469a63a1d1e55f84a4eb7afea06d3399564584ea464a\r\n",
      "Successfully built detectron2\r\n",
      "Installing collected packages: omegaconf, hydra-core, black, detectron2\r\n",
      "  Attempting uninstall: black\r\n",
      "    Found existing installation: black 21.9b0\r\n",
      "    Uninstalling black-21.9b0:\r\n",
      "      Successfully uninstalled black-21.9b0\r\n",
      "Successfully installed black-21.4b2 detectron2-0.5 hydra-core-1.1.1 omegaconf-2.1.1\r\n",
      "\u001b[33mWARNING: Running pip as the 'root' user can result in broken permissions and conflicting behaviour with the system package manager. It is recommended to use a virtual environment instead: https://pip.pypa.io/warnings/venv\u001b[0m\r\n",
      "Looking in links: ./\r\n",
      "Processing /kaggle/input/ensemble-boxes-104/ensemble_boxes-1.0.4\r\n",
      "\u001b[33m  DEPRECATION: A future pip version will change local packages to be built in-place without first copying to a temporary directory. We recommend you use --use-feature=in-tree-build to test your packages with this new behavior before it becomes the default.\r\n",
      "   pip 21.3 will remove support for this functionality. You can find discussion regarding this at https://github.com/pypa/pip/issues/7555.\u001b[0m\r\n",
      "Requirement already satisfied: numpy in /opt/conda/lib/python3.7/site-packages (from ensemble-boxes==1.0.4) (1.19.5)\r\n",
      "Requirement already satisfied: pandas in /opt/conda/lib/python3.7/site-packages (from ensemble-boxes==1.0.4) (1.3.3)\r\n",
      "Requirement already satisfied: numba in /opt/conda/lib/python3.7/site-packages (from ensemble-boxes==1.0.4) (0.54.0)\r\n",
      "Requirement already satisfied: llvmlite<0.38,>=0.37.0rc1 in /opt/conda/lib/python3.7/site-packages (from numba->ensemble-boxes==1.0.4) (0.37.0)\r\n",
      "Requirement already satisfied: setuptools in /opt/conda/lib/python3.7/site-packages (from numba->ensemble-boxes==1.0.4) (58.0.4)\r\n",
      "Requirement already satisfied: python-dateutil>=2.7.3 in /opt/conda/lib/python3.7/site-packages (from pandas->ensemble-boxes==1.0.4) (2.8.0)\r\n",
      "Requirement already satisfied: pytz>=2017.3 in /opt/conda/lib/python3.7/site-packages (from pandas->ensemble-boxes==1.0.4) (2021.1)\r\n",
      "Requirement already satisfied: six>=1.5 in /opt/conda/lib/python3.7/site-packages (from python-dateutil>=2.7.3->pandas->ensemble-boxes==1.0.4) (1.16.0)\r\n",
      "Building wheels for collected packages: ensemble-boxes\r\n",
      "  Building wheel for ensemble-boxes (setup.py) ... \u001b[?25l-\b \bdone\r\n",
      "\u001b[?25h  Created wheel for ensemble-boxes: filename=ensemble_boxes-1.0.4-py3-none-any.whl size=14070 sha256=f6a6ae8218eadba4c0ce14e0492adc6a38e5900f771d85a9a1636f4fc4f961c2\r\n",
      "  Stored in directory: /root/.cache/pip/wheels/66/11/27/bd684df8a75ad0e720fdc77d199e5876063925350905a64205\r\n",
      "Successfully built ensemble-boxes\r\n",
      "Installing collected packages: ensemble-boxes\r\n",
      "Successfully installed ensemble-boxes-1.0.4\r\n",
      "\u001b[33mWARNING: Running pip as the 'root' user can result in broken permissions and conflicting behaviour with the system package manager. It is recommended to use a virtual environment instead: https://pip.pypa.io/warnings/venv\u001b[0m\r\n"
     ]
    }
   ],
   "source": [
    "!pip install ../input/detectron-05/whls/pycocotools-2.0.2/dist/pycocotools-2.0.2.tar --no-index --find-links ../input/detectron-05/whls \n",
    "!pip install ../input/detectron-05/whls/fvcore-0.1.5.post20211019/fvcore-0.1.5.post20211019 --no-index --find-links ../input/detectron-05/whls \n",
    "!pip install ../input/detectron-05/whls/antlr4-python3-runtime-4.8/antlr4-python3-runtime-4.8 --no-index --find-links ../input/detectron-05/whls \n",
    "!pip install ../input/detectron-05/whls/detectron2-0.5/detectron2 --no-index --find-links ../input/detectron-05/whls \n",
    "!pip install ../input/ensemble-boxes-104/ensemble_boxes-1.0.4/ -f ./ --no-index"
   ]
  },
  {
   "cell_type": "code",
   "execution_count": 2,
   "id": "0a475bdb",
   "metadata": {
    "execution": {
     "iopub.execute_input": "2021-12-30T22:42:34.854229Z",
     "iopub.status.busy": "2021-12-30T22:42:34.853041Z",
     "iopub.status.idle": "2021-12-30T22:42:36.725303Z",
     "shell.execute_reply": "2021-12-30T22:42:36.724707Z",
     "shell.execute_reply.started": "2021-12-30T22:37:45.076274Z"
    },
    "papermill": {
     "duration": 1.936712,
     "end_time": "2021-12-30T22:42:36.725475",
     "exception": false,
     "start_time": "2021-12-30T22:42:34.788763",
     "status": "completed"
    },
    "tags": []
   },
   "outputs": [
    {
     "name": "stdout",
     "output_type": "stream",
     "text": [
      "GPU is available\n",
      "detectron ver: 0.5\n"
     ]
    }
   ],
   "source": [
    "import os\n",
    "import cv2\n",
    "import json\n",
    "import time\n",
    "import numpy as np\n",
    "import pandas as pd\n",
    "import torch\n",
    "import detectron2\n",
    "from tqdm.auto import tqdm\n",
    "from detectron2 import model_zoo\n",
    "from detectron2.engine import DefaultPredictor\n",
    "from detectron2.config import get_cfg\n",
    "from detectron2.data.datasets import register_coco_instances\n",
    "from detectron2.evaluation import inference_on_dataset\n",
    "from detectron2.evaluation.evaluator import DatasetEvaluator\n",
    "from detectron2.data import DatasetCatalog, build_detection_test_loader\n",
    "import pycocotools.mask as mask_util\n",
    "from PIL import Image\n",
    "import matplotlib.pyplot as plt\n",
    "from fastcore.all import *\n",
    "from ensemble_boxes import *\n",
    "os.environ['CUDA_VISIBLE_DEVICES'] = '0' \n",
    "if torch.cuda.is_available():\n",
    "    DEVICE = torch.device('cuda')\n",
    "    print('GPU is available')\n",
    "else:\n",
    "    DEVICE = torch.device('cpu')\n",
    "    print('CPU is used')\n",
    "print('detectron ver:', detectron2.__version__)"
   ]
  },
  {
   "cell_type": "markdown",
   "id": "82cb3b56",
   "metadata": {
    "papermill": {
     "duration": 0.056895,
     "end_time": "2021-12-30T22:42:36.839403",
     "exception": false,
     "start_time": "2021-12-30T22:42:36.782508",
     "status": "completed"
    },
    "tags": []
   },
   "source": [
    "## My Models"
   ]
  },
  {
   "cell_type": "code",
   "execution_count": 3,
   "id": "9180818e",
   "metadata": {
    "execution": {
     "iopub.execute_input": "2021-12-30T22:42:36.957335Z",
     "iopub.status.busy": "2021-12-30T22:42:36.956472Z",
     "iopub.status.idle": "2021-12-30T22:42:36.958243Z",
     "shell.execute_reply": "2021-12-30T22:42:36.958706Z",
     "shell.execute_reply.started": "2021-12-30T22:37:36.318555Z"
    },
    "papermill": {
     "duration": 0.062957,
     "end_time": "2021-12-30T22:42:36.958834",
     "exception": false,
     "start_time": "2021-12-30T22:42:36.895877",
     "status": "completed"
    },
    "tags": []
   },
   "outputs": [],
   "source": [
    "# best_model=(\n",
    "#     {'file': '/kaggle/input/gyy-sartoriusmodels/model_final_11.pth','config_name':'COCO-InstanceSegmentation/mask_rcnn_R_50_FPN_3x.yaml', 'LB score': 0.306,'ths':[.18, .38, .58]},\n",
    "#     {'file': '/kaggle/input/sartorius-transfer-learning-model/model_0009679.pth','config_name':'COCO-InstanceSegmentation/mask_rcnn_R_50_FPN_3x.yaml', 'LB score': 0.300,'ths':[.18, .38, .58]},\n",
    "# #     {'file': '/kaggle/input/gyy-sartoriusmodels/model_best_5.pth','config_name':'COCO-InstanceSegmentation/mask_rcnn_R_50_FPN_3x.yaml', 'LB score': 0.296,'ths':[.15, .35, .55]},\n",
    "#     {'file': '/kaggle/input/gyy-sartoriusmodels/model_final_7.pth','config_name':'COCO-InstanceSegmentation/mask_rcnn_R_50_FPN_3x.yaml', 'LB score': 0.305,'ths':[.18, .38, .58]},\n",
    "#     {'file': '/kaggle/input/gyy-sartoriusmodels/model_best_9.pth','config_name':'COCO-InstanceSegmentation/mask_rcnn_R_50_FPN_3x.yaml', 'LB score': 0.303,'ths':[.19, .39, .57]}\n",
    "\n",
    "#             )"
   ]
  },
  {
   "cell_type": "code",
   "execution_count": 4,
   "id": "9fc04e4e",
   "metadata": {
    "execution": {
     "iopub.execute_input": "2021-12-30T22:42:37.085325Z",
     "iopub.status.busy": "2021-12-30T22:42:37.083672Z",
     "iopub.status.idle": "2021-12-30T22:42:37.085985Z",
     "shell.execute_reply": "2021-12-30T22:42:37.086400Z",
     "shell.execute_reply.started": "2021-12-30T22:37:48.074957Z"
    },
    "papermill": {
     "duration": 0.070418,
     "end_time": "2021-12-30T22:42:37.086576",
     "exception": false,
     "start_time": "2021-12-30T22:42:37.016158",
     "status": "completed"
    },
    "tags": []
   },
   "outputs": [],
   "source": [
    "best_model=(\n",
    "    {'file': '/kaggle/input/gyy-sartoriusmodels/model_final_11.pth','config_name':'COCO-InstanceSegmentation/mask_rcnn_R_50_FPN_3x.yaml', 'LB score': 0.306,'ths':[.18, .38, .58]},\n",
    "    {'file': '/kaggle/input/sartorius-transfer-learning-model/model_0009679.pth','config_name':'COCO-InstanceSegmentation/mask_rcnn_R_50_FPN_3x.yaml', 'LB score': 0.300,'ths':[.18, .38, .58]},\n",
    "#     {'file': '/kaggle/input/gyy-sartoriusmodels/model_best_5.pth','config_name':'COCO-InstanceSegmentation/mask_rcnn_R_50_FPN_3x.yaml', 'LB score': 0.296,'ths':[.15, .35, .55]},\n",
    "    {'file': '/kaggle/input/gyy-sartoriusmodels/model_final_7.pth','config_name':'COCO-InstanceSegmentation/mask_rcnn_R_50_FPN_3x.yaml', 'LB score': 0.305,'ths':[.18, .38, .58]},\n",
    "    {'file': '/kaggle/input/gyy-sartoriusmodels/model_best_9.pth','config_name':'COCO-InstanceSegmentation/mask_rcnn_R_50_FPN_3x.yaml', 'LB score': 0.303,'ths':[.19, .39, .57]},\n",
    "    {'file': '/kaggle/input/gyy-sartoriusmodels/model_final_6.pth','config_name':'COCO-InstanceSegmentation/mask_rcnn_R_50_FPN_3x.yaml', 'LB score': 0.307,'ths':[.21, .39, .57]},\n",
    "#     {'file': '/kaggle/input/gyy-sartoriusmodels/model_best_6.pth','config_name':'COCO-InstanceSegmentation/mask_rcnn_R_50_FPN_3x.yaml', 'LB score': 0.303,'ths':[.19, .39, .57]},\n",
    "#     {'file': '/kaggle/input/gyy-sartoriusmodels/model_final_5.pth','config_name':'COCO-InstanceSegmentation/mask_rcnn_R_50_FPN_3x.yaml', 'LB score': 0.303,'ths':[.19, .39, .57]}\n",
    "\n",
    "            )"
   ]
  },
  {
   "cell_type": "code",
   "execution_count": 5,
   "id": "3579506c",
   "metadata": {
    "execution": {
     "iopub.execute_input": "2021-12-30T22:42:37.219373Z",
     "iopub.status.busy": "2021-12-30T22:42:37.217454Z",
     "iopub.status.idle": "2021-12-30T22:42:52.686453Z",
     "shell.execute_reply": "2021-12-30T22:42:52.686995Z",
     "shell.execute_reply.started": "2021-12-30T22:37:48.639934Z"
    },
    "papermill": {
     "duration": 15.54027,
     "end_time": "2021-12-30T22:42:52.687179",
     "exception": false,
     "start_time": "2021-12-30T22:42:37.146909",
     "status": "completed"
    },
    "tags": []
   },
   "outputs": [
    {
     "name": "stdout",
     "output_type": "stream",
     "text": [
      "all loaded:\n",
      "thresholds: [[0.18, 0.38, 0.58], [0.18, 0.38, 0.58], [0.18, 0.38, 0.58], [0.19, 0.39, 0.57], [0.21, 0.39, 0.57]]\n",
      "models: ['/kaggle/input/gyy-sartoriusmodels/model_final_11.pth', '/kaggle/input/sartorius-transfer-learning-model/model_0009679.pth', '/kaggle/input/gyy-sartoriusmodels/model_final_7.pth', '/kaggle/input/gyy-sartoriusmodels/model_best_9.pth', '/kaggle/input/gyy-sartoriusmodels/model_final_6.pth']\n"
     ]
    }
   ],
   "source": [
    "#config_name = \"COCO-InstanceSegmentation/mask_rcnn_R_50_FPN_3x.yaml\"\n",
    "mdl_path = \"\"\n",
    "DATA_PATH = \"../input/sartorius-cell-instance-segmentation\"\n",
    "MODELS = []\n",
    "BEST_MODELS =[]\n",
    "THSS = []\n",
    "ID_TEST = 0\n",
    "SUBM_PATH = f'{DATA_PATH}/test'\n",
    "SINGLE_MODE = False\n",
    "NMS = True\n",
    "MIN_PIXELS = [75, 150, 75]\n",
    "IOU_TH = 0.3\n",
    "for b_m in best_model:\n",
    "    model_name=b_m[\"file\"]\n",
    "    model_ths=b_m[\"ths\"]\n",
    "    config_name=b_m[\"config_name\"]\n",
    "    BEST_MODELS.append(model_name)\n",
    "    THSS.append(model_ths)\n",
    "    cfg = get_cfg()\n",
    "    cfg.merge_from_file(model_zoo.get_config_file(config_name))\n",
    "    cfg.INPUT.MASK_FORMAT = 'bitmask'\n",
    "    cfg.MODEL.ROI_HEADS.NUM_CLASSES = 3 \n",
    "    cfg.MODEL.WEIGHTS = f'{mdl_path}/{model_name}'  \n",
    "    cfg.TEST.DETECTIONS_PER_IMAGE = 1000\n",
    "    MODELS.append(DefaultPredictor(cfg))\n",
    "print(f'all loaded:\\nthresholds: {THSS}\\nmodels: {BEST_MODELS}')"
   ]
  },
  {
   "cell_type": "code",
   "execution_count": 6,
   "id": "40876b56",
   "metadata": {
    "execution": {
     "iopub.execute_input": "2021-12-30T22:42:52.808877Z",
     "iopub.status.busy": "2021-12-30T22:42:52.807968Z",
     "iopub.status.idle": "2021-12-30T22:42:52.811157Z",
     "shell.execute_reply": "2021-12-30T22:42:52.811585Z",
     "shell.execute_reply.started": "2021-12-30T22:37:53.651405Z"
    },
    "papermill": {
     "duration": 0.066553,
     "end_time": "2021-12-30T22:42:52.811718",
     "exception": false,
     "start_time": "2021-12-30T22:42:52.745165",
     "status": "completed"
    },
    "tags": []
   },
   "outputs": [
    {
     "data": {
      "text/plain": [
       "[<detectron2.engine.defaults.DefaultPredictor at 0x7f529b79bfd0>,\n",
       " <detectron2.engine.defaults.DefaultPredictor at 0x7f53566e3550>,\n",
       " <detectron2.engine.defaults.DefaultPredictor at 0x7f5290fa6d50>,\n",
       " <detectron2.engine.defaults.DefaultPredictor at 0x7f52940cd810>,\n",
       " <detectron2.engine.defaults.DefaultPredictor at 0x7f5293fdde90>]"
      ]
     },
     "execution_count": 6,
     "metadata": {},
     "output_type": "execute_result"
    }
   ],
   "source": [
    "MODELS"
   ]
  },
  {
   "cell_type": "markdown",
   "id": "3689beb4",
   "metadata": {
    "papermill": {
     "duration": 0.057857,
     "end_time": "2021-12-30T22:42:52.926880",
     "exception": false,
     "start_time": "2021-12-30T22:42:52.869023",
     "status": "completed"
    },
    "tags": []
   },
   "source": [
    "## Utils"
   ]
  },
  {
   "cell_type": "code",
   "execution_count": 7,
   "id": "9ea86e33",
   "metadata": {
    "execution": {
     "iopub.execute_input": "2021-12-30T22:42:53.067285Z",
     "iopub.status.busy": "2021-12-30T22:42:53.066375Z",
     "iopub.status.idle": "2021-12-30T22:42:53.069752Z",
     "shell.execute_reply": "2021-12-30T22:42:53.069306Z",
     "shell.execute_reply.started": "2021-12-30T22:37:53.663293Z"
    },
    "papermill": {
     "duration": 0.086021,
     "end_time": "2021-12-30T22:42:53.069875",
     "exception": false,
     "start_time": "2021-12-30T22:42:52.983854",
     "status": "completed"
    },
    "tags": []
   },
   "outputs": [],
   "source": [
    "def rle_decode(mask_rle, shape=(520, 704)):\n",
    "    s = mask_rle.split()\n",
    "    starts, lengths = [np.asarray(x, dtype=int) \n",
    "                       for x in (s[0:][::2], s[1:][::2])]\n",
    "    starts -= 1\n",
    "    ends = starts + lengths\n",
    "    img = np.zeros(shape[0] * shape[1], dtype=np.uint8)\n",
    "    for lo, hi in zip(starts, ends):\n",
    "        img[lo : hi] = 1\n",
    "    return img.reshape(shape)  # Needed to align to RLE direction\n",
    "\n",
    "def rle_encode(img):\n",
    "    '''\n",
    "    img: numpy array, 1 - mask, 0 - background\n",
    "    Returns run length as string formated\n",
    "    \n",
    "    '''\n",
    "    pixels = img.flatten()\n",
    "    pixels = np.concatenate([[0], pixels, [0]])\n",
    "    runs = np.where(pixels[1:] != pixels[:-1])[0] + 1\n",
    "    runs[1::2] -= runs[::2]\n",
    "    return ' '.join(str(x) for x in runs)\n",
    "\n",
    "def pred_masks(file_name, path, model, ths, min_pixels):\n",
    "    img = cv2.imread(f'{path}/{file_name}')\n",
    "    output = model(img)\n",
    "    pred_classes = output['instances'].pred_classes.cpu().numpy().tolist()\n",
    "    pred_class = max(set(pred_classes), key=pred_classes.count)\n",
    "    take = output['instances'].scores >= ths[pred_class]\n",
    "    pred_masks = output['instances'].pred_masks[take]\n",
    "    pred_masks = pred_masks.cpu().numpy()\n",
    "    result = []\n",
    "    used = np.zeros(img.shape[:2], dtype=int) \n",
    "    for i, mask in enumerate(pred_masks):\n",
    "        mask = mask * (1 - used)\n",
    "        if mask.sum() >= min_pixels[pred_class]:\n",
    "            used += mask\n",
    "            result.append(rle_encode(mask))\n",
    "    return result\n",
    "\n",
    "def ensemble_preds(file_name, path, models, ths):\n",
    "    img = cv2.imread(f'{path}/{file_name}')\n",
    "    classes = []\n",
    "    scores = []\n",
    "    bboxes = []\n",
    "    masks = []\n",
    "    for i, model in enumerate(models):\n",
    "        output = model(img)\n",
    "        pred_classes = output['instances'].pred_classes.cpu().numpy().tolist()\n",
    "        pred_class = max(set(pred_classes), key=pred_classes.count)\n",
    "        take = output['instances'].scores >= ths[i][pred_class]\n",
    "        classes.extend(output['instances'].pred_classes[take].cpu().numpy().tolist())\n",
    "        scores.extend(output['instances'].scores[take].cpu().numpy().tolist())\n",
    "        bboxes.extend(output['instances'].pred_boxes[take].tensor.cpu().numpy().tolist())\n",
    "        masks.extend(output['instances'].pred_masks[take].cpu().numpy())\n",
    "    assert len(classes) == len(masks) , 'ensemble lenght mismatch'\n",
    "    #scores, classes, bboxes, masks = zip(*sorted(zip(scores, classes, bboxes, masks),reverse=True))\n",
    "    return classes, scores, bboxes, masks\n",
    "\n",
    "def nms_predictions(classes, scores, bboxes, masks, \n",
    "                    iou_th=.5, shape=(520, 704)):\n",
    "    he, wd = shape[0], shape[1]\n",
    "    boxes_list = [[[x[0] / wd, x[1] / he, x[2] / wd, x[3] / he] for x in bboxes]]\n",
    "    scores_list = [[x for x in scores]]\n",
    "    classes_list = [[x for x in classes]]\n",
    "    nms_bboxes, nms_scores, nms_classes = non_maximum_weighted(\n",
    "        boxes_list, \n",
    "        scores_list, \n",
    "        classes_list, \n",
    "        weights=None,\n",
    "        iou_thr=0.3,skip_box_thr=0.0001  \n",
    "    )\n",
    "    nms_masks = []\n",
    "    for s in nms_scores:\n",
    "        nms_masks.append(masks[scores.index(s)])\n",
    "    nms_scores, nms_classes, nms_masks = zip(*sorted(zip(nms_scores, nms_classes, nms_masks), reverse=True))\n",
    "    return nms_classes, nms_scores, nms_masks\n",
    "\n",
    "def ensemble_pred_masks(masks, classes, min_pixels, shape=(520, 704)):\n",
    "    result = []\n",
    "    #pred_class = max(set(classes), key=classes.count)\n",
    "    pred_class = int(max(set(classes), key=classes.count).item())\n",
    "    used = np.zeros(shape, dtype=int) \n",
    "    for i, mask in enumerate(masks):\n",
    "        mask = mask * (1 - used)\n",
    "        if mask.sum() >= min_pixels[pred_class]:\n",
    "            used += mask\n",
    "            result.append(rle_encode(mask))\n",
    "    return result"
   ]
  },
  {
   "cell_type": "markdown",
   "id": "f1f0b49e",
   "metadata": {
    "papermill": {
     "duration": 0.05738,
     "end_time": "2021-12-30T22:42:53.188070",
     "exception": false,
     "start_time": "2021-12-30T22:42:53.130690",
     "status": "completed"
    },
    "tags": []
   },
   "source": [
    "## Demo inference"
   ]
  },
  {
   "cell_type": "code",
   "execution_count": 8,
   "id": "beb74906",
   "metadata": {
    "execution": {
     "iopub.execute_input": "2021-12-30T22:42:53.308037Z",
     "iopub.status.busy": "2021-12-30T22:42:53.307272Z",
     "iopub.status.idle": "2021-12-30T22:42:53.316851Z",
     "shell.execute_reply": "2021-12-30T22:42:53.317487Z",
     "shell.execute_reply.started": "2021-12-30T22:37:53.696904Z"
    },
    "papermill": {
     "duration": 0.071351,
     "end_time": "2021-12-30T22:42:53.317713",
     "exception": false,
     "start_time": "2021-12-30T22:42:53.246362",
     "status": "completed"
    },
    "tags": []
   },
   "outputs": [
    {
     "name": "stdout",
     "output_type": "stream",
     "text": [
      "test images: 3\n",
      "['7ae19de7bc2a.png', 'd8bfd1dafdc4.png', 'd48ec7815252.png']\n"
     ]
    }
   ],
   "source": [
    "test_names = os.listdir(SUBM_PATH)\n",
    "print('test images:', len(test_names))\n",
    "print(test_names)"
   ]
  },
  {
   "cell_type": "code",
   "execution_count": 9,
   "id": "925ff2fe",
   "metadata": {
    "execution": {
     "iopub.execute_input": "2021-12-30T22:42:53.457472Z",
     "iopub.status.busy": "2021-12-30T22:42:53.456809Z",
     "iopub.status.idle": "2021-12-30T22:42:59.361139Z",
     "shell.execute_reply": "2021-12-30T22:42:59.360198Z",
     "shell.execute_reply.started": "2021-12-30T22:37:53.712323Z"
    },
    "papermill": {
     "duration": 5.975124,
     "end_time": "2021-12-30T22:42:59.361286",
     "exception": false,
     "start_time": "2021-12-30T22:42:53.386162",
     "status": "completed"
    },
    "tags": []
   },
   "outputs": [
    {
     "name": "stderr",
     "output_type": "stream",
     "text": [
      "/opt/conda/lib/python3.7/site-packages/torch/_tensor.py:575: UserWarning: floor_divide is deprecated, and will be removed in a future version of pytorch. It currently rounds toward 0 (like the 'trunc' function NOT 'floor'). This results in incorrect rounding for negative values.\n",
      "To keep the current behavior, use torch.div(a, b, rounding_mode='trunc'), or for actual floor division, use torch.div(a, b, rounding_mode='floor'). (Triggered internally at  /usr/local/src/pytorch/aten/src/ATen/native/BinaryOps.cpp:467.)\n",
      "  return torch.floor_divide(self, other)\n"
     ]
    }
   ],
   "source": [
    "encoded_masks_single = pred_masks(\n",
    "    test_names[ID_TEST], \n",
    "    path=SUBM_PATH, \n",
    "    model=MODELS[0],\n",
    "    ths=THSS[0],\n",
    "    min_pixels=MIN_PIXELS\n",
    ")"
   ]
  },
  {
   "cell_type": "code",
   "execution_count": 10,
   "id": "8db740b5",
   "metadata": {
    "execution": {
     "iopub.execute_input": "2021-12-30T22:42:59.490196Z",
     "iopub.status.busy": "2021-12-30T22:42:59.489576Z",
     "iopub.status.idle": "2021-12-30T22:43:01.507236Z",
     "shell.execute_reply": "2021-12-30T22:43:01.506697Z",
     "shell.execute_reply.started": "2021-12-30T22:37:54.290190Z"
    },
    "papermill": {
     "duration": 2.084502,
     "end_time": "2021-12-30T22:43:01.507370",
     "exception": false,
     "start_time": "2021-12-30T22:42:59.422868",
     "status": "completed"
    },
    "tags": []
   },
   "outputs": [],
   "source": [
    "classes, scores, bboxes, masks = ensemble_preds(\n",
    "    file_name=test_names[ID_TEST] , \n",
    "    path=SUBM_PATH, \n",
    "    models=MODELS, \n",
    "    ths=THSS\n",
    ")\n",
    "if NMS:\n",
    "    classes, scores, masks = nms_predictions(\n",
    "        classes, \n",
    "        scores, \n",
    "        bboxes,\n",
    "        masks, iou_th=IOU_TH\n",
    "    )\n",
    "encoded_masks = ensemble_pred_masks(masks, classes, min_pixels=MIN_PIXELS)"
   ]
  },
  {
   "cell_type": "code",
   "execution_count": 11,
   "id": "489cfea5",
   "metadata": {
    "execution": {
     "iopub.execute_input": "2021-12-30T22:43:01.642246Z",
     "iopub.status.busy": "2021-12-30T22:43:01.637584Z",
     "iopub.status.idle": "2021-12-30T22:43:18.301673Z",
     "shell.execute_reply": "2021-12-30T22:43:18.302080Z",
     "shell.execute_reply.started": "2021-12-30T22:37:55.958320Z"
    },
    "papermill": {
     "duration": 16.737059,
     "end_time": "2021-12-30T22:43:18.302236",
     "exception": false,
     "start_time": "2021-12-30T22:43:01.565177",
     "status": "completed"
    },
    "tags": []
   },
   "outputs": [
    {
     "data": {
      "image/png": "[encoded data removed]",
      "text/plain": [
       "<Figure size 1008x576 with 4 Axes>"
      ]
     },
     "metadata": {
      "needs_background": "light"
     },
     "output_type": "display_data"
    }
   ],
   "source": [
    "_, axs = plt.subplots(2, 2, figsize=(14, 8))\n",
    "axs[0][0].imshow(cv2.imread(f'{SUBM_PATH}/{test_names[ID_TEST]}'))\n",
    "axs[0][0].axis('off')\n",
    "axs[0][0].set_title(test_names[ID_TEST])\n",
    "for en_mask in encoded_masks_single:\n",
    "    dec_mask = rle_decode(en_mask)\n",
    "    axs[0][1].imshow(np.ma.masked_where(dec_mask == 0, dec_mask))\n",
    "    axs[0][1].axis('off')\n",
    "    axs[0][1].set_title('single model')\n",
    "axs[1][0].imshow(cv2.imread(f'{SUBM_PATH}/{test_names[ID_TEST]}'))\n",
    "axs[1][0].axis('off')\n",
    "axs[1][0].set_title(test_names[ID_TEST])\n",
    "for en_mask in encoded_masks:\n",
    "    dec_mask = rle_decode(en_mask)\n",
    "    axs[1][1].imshow(np.ma.masked_where(dec_mask == 0, dec_mask))\n",
    "    axs[1][1].axis('off')\n",
    "    axs[1][1].set_title('ensemble models')\n",
    "plt.show()"
   ]
  },
  {
   "cell_type": "markdown",
   "id": "739b7bc8",
   "metadata": {
    "papermill": {
     "duration": 0.063659,
     "end_time": "2021-12-30T22:43:18.430580",
     "exception": false,
     "start_time": "2021-12-30T22:43:18.366921",
     "status": "completed"
    },
    "tags": []
   },
   "source": [
    "## Inference"
   ]
  },
  {
   "cell_type": "code",
   "execution_count": 12,
   "id": "3f3e3083",
   "metadata": {
    "execution": {
     "iopub.execute_input": "2021-12-30T22:43:18.557076Z",
     "iopub.status.busy": "2021-12-30T22:43:18.556246Z",
     "iopub.status.idle": "2021-12-30T22:43:18.558566Z",
     "shell.execute_reply": "2021-12-30T22:43:18.558154Z",
     "shell.execute_reply.started": "2021-12-30T22:38:10.531420Z"
    },
    "papermill": {
     "duration": 0.066998,
     "end_time": "2021-12-30T22:43:18.558678",
     "exception": false,
     "start_time": "2021-12-30T22:43:18.491680",
     "status": "completed"
    },
    "tags": []
   },
   "outputs": [],
   "source": [
    "# import json\n",
    "# with open(\"/kaggle/input/sartorius-coco-dataset-notebook/val_dataset.json\") as f:\n",
    "#     val_data = json.load(f)\n",
    "\n",
    "    \n",
    "# val_file_name = []\n",
    "# for i in range(len(val_data['images'])):\n",
    "#     val_file_name.append(\"/kaggle/\" + val_data['images'][i]['file_name'][3:-1]+'g')\n",
    "    \n",
    "# val_file_name = sorted(val_file_name)"
   ]
  },
  {
   "cell_type": "code",
   "execution_count": 13,
   "id": "f5fb336f",
   "metadata": {
    "execution": {
     "iopub.execute_input": "2021-12-30T22:43:18.687649Z",
     "iopub.status.busy": "2021-12-30T22:43:18.686944Z",
     "iopub.status.idle": "2021-12-30T22:43:22.200049Z",
     "shell.execute_reply": "2021-12-30T22:43:22.199592Z",
     "shell.execute_reply.started": "2021-12-30T22:38:10.539034Z"
    },
    "papermill": {
     "duration": 3.581018,
     "end_time": "2021-12-30T22:43:22.200170",
     "exception": false,
     "start_time": "2021-12-30T22:43:18.619152",
     "status": "completed"
    },
    "tags": []
   },
   "outputs": [
    {
     "data": {
      "application/vnd.jupyter.widget-view+json": {
       "model_id": "f8769af77b484ae8b1daa5e3e06c9c10",
       "version_major": 2,
       "version_minor": 0
      },
      "text/plain": [
       "  0%|          | 0/3 [00:00<?, ?it/s]"
      ]
     },
     "metadata": {},
     "output_type": "display_data"
    }
   ],
   "source": [
    "subm_ids, subm_masks = [], []\n",
    "for test_name in tqdm(test_names):\n",
    "    if SINGLE_MODE:\n",
    "        encoded_masks = pred_masks(\n",
    "            test_name, \n",
    "            path=SUBM_PATH, \n",
    "            model=MODELS[0],\n",
    "            ths=THSS[0],\n",
    "            min_pixels=MIN_PIXELS\n",
    "        )\n",
    "    else:\n",
    "        classes, scores, bboxes, masks = ensemble_preds(\n",
    "            file_name=test_name, \n",
    "            path=SUBM_PATH, \n",
    "            models=MODELS, \n",
    "            ths=THSS\n",
    "        )\n",
    "        if NMS:\n",
    "            classes, scores, masks = nms_predictions(\n",
    "                classes, \n",
    "                scores, \n",
    "                bboxes, \n",
    "                masks, \n",
    "                iou_th=IOU_TH\n",
    "            )\n",
    "        encoded_masks = ensemble_pred_masks(\n",
    "            masks, \n",
    "            classes, \n",
    "            min_pixels=MIN_PIXELS\n",
    "        )\n",
    "    for enc_mask in encoded_masks:\n",
    "        subm_ids.append(test_name[:test_name.find('.')])\n",
    "        subm_masks.append(enc_mask)"
   ]
  },
  {
   "cell_type": "code",
   "execution_count": 14,
   "id": "8234b5a8",
   "metadata": {
    "execution": {
     "iopub.execute_input": "2021-12-30T22:43:22.335852Z",
     "iopub.status.busy": "2021-12-30T22:43:22.334376Z",
     "iopub.status.idle": "2021-12-30T22:43:22.336551Z",
     "shell.execute_reply": "2021-12-30T22:43:22.336953Z",
     "shell.execute_reply.started": "2021-12-30T22:38:14.179823Z"
    },
    "papermill": {
     "duration": 0.073531,
     "end_time": "2021-12-30T22:43:22.337081",
     "exception": false,
     "start_time": "2021-12-30T22:43:22.263550",
     "status": "completed"
    },
    "tags": []
   },
   "outputs": [],
   "source": [
    "nmw_df = pd.DataFrame({\n",
    "    'id': subm_ids, \n",
    "    'predicted': subm_masks\n",
    "})"
   ]
  },
  {
   "cell_type": "markdown",
   "id": "3e3a2be9",
   "metadata": {
    "papermill": {
     "duration": 0.062325,
     "end_time": "2021-12-30T22:43:22.460972",
     "exception": false,
     "start_time": "2021-12-30T22:43:22.398647",
     "status": "completed"
    },
    "tags": []
   },
   "source": [
    "# NMS:"
   ]
  },
  {
   "cell_type": "code",
   "execution_count": 15,
   "id": "27d92602",
   "metadata": {
    "execution": {
     "iopub.execute_input": "2021-12-30T22:43:22.609201Z",
     "iopub.status.busy": "2021-12-30T22:43:22.608356Z",
     "iopub.status.idle": "2021-12-30T22:43:22.610533Z",
     "shell.execute_reply": "2021-12-30T22:43:22.610955Z",
     "shell.execute_reply.started": "2021-12-30T22:38:14.196185Z"
    },
    "papermill": {
     "duration": 0.087549,
     "end_time": "2021-12-30T22:43:22.611085",
     "exception": false,
     "start_time": "2021-12-30T22:43:22.523536",
     "status": "completed"
    },
    "tags": []
   },
   "outputs": [],
   "source": [
    "def rle_decode(mask_rle, shape=(520, 704)):\n",
    "    '''\n",
    "    mask_rle: run-length as string formated (start length)\n",
    "    shape: (height,width) of array to return \n",
    "    Returns numpy array, 1 - mask, 0 - background\n",
    "\n",
    "    '''\n",
    "    s = mask_rle.split()\n",
    "    starts, lengths = [np.asarray(x, dtype=int) \n",
    "                       for x in (s[0:][::2], s[1:][::2])]\n",
    "    starts -= 1\n",
    "    ends = starts + lengths\n",
    "    img = np.zeros(shape[0] * shape[1], dtype=np.uint8)\n",
    "    for lo, hi in zip(starts, ends):\n",
    "        img[lo : hi] = 1\n",
    "    return img.reshape(shape)  # Needed to align to RLE direction\n",
    "\n",
    "def rle_encode(img):\n",
    "    '''\n",
    "    img: numpy array, 1 - mask, 0 - background\n",
    "    Returns run length as string formated\n",
    "    \n",
    "    '''\n",
    "    pixels = img.flatten()\n",
    "    pixels = np.concatenate([[0], pixels, [0]])\n",
    "    runs = np.where(pixels[1:] != pixels[:-1])[0] + 1\n",
    "    runs[1::2] -= runs[::2]\n",
    "    return ' '.join(str(x) for x in runs)\n",
    "\n",
    "def pred_masks(file_name, path, model, ths, min_pixels):\n",
    "    img = cv2.imread(f'{path}/{file_name}')\n",
    "    output = model(img)\n",
    "    pred_classes = output['instances'].pred_classes.cpu().numpy().tolist()\n",
    "    pred_class = max(set(pred_classes), key=pred_classes.count)\n",
    "    take = output['instances'].scores >= ths[pred_class]\n",
    "    pred_masks = output['instances'].pred_masks[take]\n",
    "    pred_masks = pred_masks.cpu().numpy()\n",
    "    result = []\n",
    "    used = np.zeros(img.shape[:2], dtype=int) \n",
    "    for i, mask in enumerate(pred_masks):\n",
    "        mask = mask * (1 - used)\n",
    "        if mask.sum() >= min_pixels[pred_class]:\n",
    "            used += mask\n",
    "            result.append(rle_encode(mask))\n",
    "    return result\n",
    "\n",
    "def ensemble_preds(file_name, path, models, ths):\n",
    "    img = cv2.imread(f'{path}/{file_name}')\n",
    "    classes = []\n",
    "    scores = []\n",
    "    bboxes = []\n",
    "    masks = []\n",
    "    for i, model in enumerate(models):\n",
    "        output = model(img)\n",
    "        pred_classes = output['instances'].pred_classes.cpu().numpy().tolist()\n",
    "        pred_class = max(set(pred_classes), key=pred_classes.count)\n",
    "        take = output['instances'].scores >= ths[i][pred_class]\n",
    "        classes.extend(output['instances'].pred_classes[take].cpu().numpy().tolist())\n",
    "        scores.extend(output['instances'].scores[take].cpu().numpy().tolist())\n",
    "        bboxes.extend(output['instances'].pred_boxes[take].tensor.cpu().numpy().tolist())\n",
    "        masks.extend(output['instances'].pred_masks[take].cpu().numpy())\n",
    "    assert len(classes) == len(masks) , 'ensemble lenght mismatch'\n",
    "    #scores, classes, bboxes, masks = zip(*sorted(zip(scores, classes, bboxes, masks),reverse=True))\n",
    "    return classes, scores, bboxes, masks\n",
    "\n",
    "def nms_predictions(classes, scores, bboxes, masks, \n",
    "                    iou_th=.5, shape=(520, 704)):\n",
    "    he, wd = shape[0], shape[1]\n",
    "    boxes_list = [[x[0] / wd, x[1] / he, x[2] / wd, x[3] / he]\n",
    "                  for x in bboxes]\n",
    "    scores_list = [x for x in scores]\n",
    "    labels_list = [x for x in classes]\n",
    "    nms_bboxes, nms_scores, nms_classes = nms(\n",
    "        boxes=[boxes_list], \n",
    "        scores=[scores_list], \n",
    "        labels=[labels_list], \n",
    "        weights=None,\n",
    "        iou_thr=iou_th\n",
    "    )\n",
    "    nms_masks = []\n",
    "    for s in nms_scores:\n",
    "        nms_masks.append(masks[scores.index(s)])\n",
    "    nms_scores, nms_classes, nms_masks = zip(*sorted(zip(nms_scores, nms_classes, nms_masks), reverse=True))\n",
    "    return nms_classes, nms_scores, nms_masks\n",
    "\n",
    "def ensemble_pred_masks(masks, classes, min_pixels, shape=(520, 704)):\n",
    "    result = []\n",
    "    pred_class = max(set(classes), key=classes.count)\n",
    "    used = np.zeros(shape, dtype=int) \n",
    "    for i, mask in enumerate(masks):\n",
    "        mask = mask * (1 - used)\n",
    "        if mask.sum() >= min_pixels[pred_class]:\n",
    "            used += mask\n",
    "            result.append(rle_encode(mask))\n",
    "    return result\n"
   ]
  },
  {
   "cell_type": "code",
   "execution_count": 16,
   "id": "4ae0bf6b",
   "metadata": {
    "execution": {
     "iopub.execute_input": "2021-12-30T22:43:22.744121Z",
     "iopub.status.busy": "2021-12-30T22:43:22.743263Z",
     "iopub.status.idle": "2021-12-30T22:43:27.987174Z",
     "shell.execute_reply": "2021-12-30T22:43:27.986740Z",
     "shell.execute_reply.started": "2021-12-30T22:38:14.245161Z"
    },
    "papermill": {
     "duration": 5.314115,
     "end_time": "2021-12-30T22:43:27.987294",
     "exception": false,
     "start_time": "2021-12-30T22:43:22.673179",
     "status": "completed"
    },
    "tags": []
   },
   "outputs": [
    {
     "data": {
      "application/vnd.jupyter.widget-view+json": {
       "model_id": "9b3b821eb9d34ef3899ddded80c031db",
       "version_major": 2,
       "version_minor": 0
      },
      "text/plain": [
       "  0%|          | 0/3 [00:00<?, ?it/s]"
      ]
     },
     "metadata": {},
     "output_type": "display_data"
    }
   ],
   "source": [
    "subm_ids, subm_masks = [], []\n",
    "for test_name in tqdm(test_names):\n",
    "    if SINGLE_MODE:\n",
    "        encoded_masks = pred_masks(\n",
    "            test_name, \n",
    "            path=SUBM_PATH, \n",
    "            model=MODELS[0],\n",
    "            ths=THSS[0],\n",
    "            min_pixels=MIN_PIXELS\n",
    "        )\n",
    "    else:\n",
    "        classes, scores, bboxes, masks = ensemble_preds(\n",
    "            file_name=test_name, \n",
    "            path=SUBM_PATH, \n",
    "            models=MODELS, \n",
    "            ths=THSS\n",
    "        )\n",
    "        if NMS:\n",
    "            classes, scores, masks = nms_predictions(\n",
    "                classes, \n",
    "                scores, \n",
    "                bboxes, \n",
    "                masks, \n",
    "                iou_th=IOU_TH\n",
    "            )\n",
    "        encoded_masks = ensemble_pred_masks(\n",
    "            masks, \n",
    "            classes, \n",
    "            min_pixels=MIN_PIXELS\n",
    "        )\n",
    "    for enc_mask in encoded_masks:\n",
    "        subm_ids.append(test_name[:test_name.find('.')])\n",
    "        subm_masks.append(enc_mask)"
   ]
  },
  {
   "cell_type": "code",
   "execution_count": 17,
   "id": "e75a018b",
   "metadata": {
    "execution": {
     "iopub.execute_input": "2021-12-30T22:43:28.118550Z",
     "iopub.status.busy": "2021-12-30T22:43:28.118013Z",
     "iopub.status.idle": "2021-12-30T22:43:28.121593Z",
     "shell.execute_reply": "2021-12-30T22:43:28.121151Z",
     "shell.execute_reply.started": "2021-12-30T22:38:17.378299Z"
    },
    "papermill": {
     "duration": 0.071355,
     "end_time": "2021-12-30T22:43:28.121764",
     "exception": false,
     "start_time": "2021-12-30T22:43:28.050409",
     "status": "completed"
    },
    "tags": []
   },
   "outputs": [],
   "source": [
    "nms_df = pd.DataFrame({\n",
    "    'id': subm_ids, \n",
    "    'predicted': subm_masks\n",
    "})\n"
   ]
  },
  {
   "cell_type": "markdown",
   "id": "e6fdd327",
   "metadata": {
    "papermill": {
     "duration": 0.063755,
     "end_time": "2021-12-30T22:43:28.248059",
     "exception": false,
     "start_time": "2021-12-30T22:43:28.184304",
     "status": "completed"
    },
    "tags": []
   },
   "source": [
    "# ensemble of ensemble:"
   ]
  },
  {
   "cell_type": "code",
   "execution_count": 18,
   "id": "a6e97783",
   "metadata": {
    "execution": {
     "iopub.execute_input": "2021-12-30T22:43:28.385826Z",
     "iopub.status.busy": "2021-12-30T22:43:28.384784Z",
     "iopub.status.idle": "2021-12-30T22:43:28.386903Z",
     "shell.execute_reply": "2021-12-30T22:43:28.387428Z",
     "shell.execute_reply.started": "2021-12-30T22:38:17.388346Z"
    },
    "papermill": {
     "duration": 0.076466,
     "end_time": "2021-12-30T22:43:28.387579",
     "exception": false,
     "start_time": "2021-12-30T22:43:28.311113",
     "status": "completed"
    },
    "tags": []
   },
   "outputs": [],
   "source": [
    "def rle_decode1(mask_rle, shape=(520,704,1), color=1):\n",
    "    s = mask_rle.split()\n",
    "    starts, lengths = [np.asarray(x, dtype=int) for x in (s[0:][::2], s[1:][::2])]\n",
    "    starts -= 1\n",
    "    ends = starts + lengths\n",
    "    img = np.zeros((shape[0] * shape[1], shape[2]), dtype=np.float32)\n",
    "    for lo, hi in zip(starts, ends):\n",
    "        img[lo : hi] = color\n",
    "    return img.reshape(shape)\n",
    "    \n",
    "\n",
    "def build_masks(image_id, df, input_shape=(520,704), colors=False):\n",
    "    height, width = input_shape\n",
    "    labels = df[df[\"id\"] == image_id][\"predicted\"].tolist()\n",
    "    if colors:\n",
    "        mask = np.zeros((height, width, 3))\n",
    "        for label in labels:\n",
    "            mask += rle_decode1(label, shape=(height,width , 3), color=np.random.rand(3))\n",
    "    else:\n",
    "        mask = np.zeros((height, width, 1))\n",
    "        for label in labels:\n",
    "            mask += rle_decode1(label, shape=(height, width, 1))\n",
    "    mask = mask.clip(0, 1)\n",
    "    return mask"
   ]
  },
  {
   "cell_type": "code",
   "execution_count": 19,
   "id": "e6ce7dbb",
   "metadata": {
    "execution": {
     "iopub.execute_input": "2021-12-30T22:43:28.525788Z",
     "iopub.status.busy": "2021-12-30T22:43:28.525230Z",
     "iopub.status.idle": "2021-12-30T22:43:29.049538Z",
     "shell.execute_reply": "2021-12-30T22:43:29.049953Z",
     "shell.execute_reply.started": "2021-12-30T22:38:17.406335Z"
    },
    "papermill": {
     "duration": 0.599284,
     "end_time": "2021-12-30T22:43:29.050100",
     "exception": false,
     "start_time": "2021-12-30T22:43:28.450816",
     "status": "completed"
    },
    "tags": []
   },
   "outputs": [
    {
     "data": {
      "text/plain": [
       "<matplotlib.image.AxesImage at 0x7f5290967210>"
      ]
     },
     "execution_count": 19,
     "metadata": {},
     "output_type": "execute_result"
    },
    {
     "data": {
      "image/png": "[encoded data removed]",
      "text/plain": [
       "<Figure size 432x288 with 1 Axes>"
      ]
     },
     "metadata": {
      "needs_background": "light"
     },
     "output_type": "display_data"
    }
   ],
   "source": [
    "test_ids = list(np.unique(nms_df['id']))\n",
    "nms_pred_mask = []\n",
    "for ids in test_ids:\n",
    "    mask1 = build_masks(ids,nms_df)\n",
    "    nms_pred_mask.append(mask1)\n",
    "    \n",
    "nmw_pred_mask = []\n",
    "for ids in test_ids:\n",
    "    mask2 = build_masks(ids,nmw_df)\n",
    "    nmw_pred_mask.append(mask2)\n",
    "    \n",
    "plt.imshow(nmw_pred_mask[2])"
   ]
  },
  {
   "cell_type": "code",
   "execution_count": 20,
   "id": "4ba80b5d",
   "metadata": {
    "execution": {
     "iopub.execute_input": "2021-12-30T22:43:29.183310Z",
     "iopub.status.busy": "2021-12-30T22:43:29.182483Z",
     "iopub.status.idle": "2021-12-30T22:43:29.184266Z",
     "shell.execute_reply": "2021-12-30T22:43:29.184785Z",
     "shell.execute_reply.started": "2021-12-30T22:38:18.061682Z"
    },
    "papermill": {
     "duration": 0.069968,
     "end_time": "2021-12-30T22:43:29.184950",
     "exception": false,
     "start_time": "2021-12-30T22:43:29.114982",
     "status": "completed"
    },
    "tags": []
   },
   "outputs": [],
   "source": [
    "# len(nms_pred_mask)"
   ]
  },
  {
   "cell_type": "code",
   "execution_count": null,
   "id": "5df470a5",
   "metadata": {
    "papermill": {
     "duration": 0.066077,
     "end_time": "2021-12-30T22:43:29.316039",
     "exception": false,
     "start_time": "2021-12-30T22:43:29.249962",
     "status": "completed"
    },
    "tags": []
   },
   "outputs": [],
   "source": []
  },
  {
   "cell_type": "code",
   "execution_count": 21,
   "id": "0e8df79d",
   "metadata": {
    "execution": {
     "iopub.execute_input": "2021-12-30T22:43:29.452285Z",
     "iopub.status.busy": "2021-12-30T22:43:29.451732Z",
     "iopub.status.idle": "2021-12-30T22:43:29.461592Z",
     "shell.execute_reply": "2021-12-30T22:43:29.461129Z",
     "shell.execute_reply.started": "2021-12-30T22:38:18.069840Z"
    },
    "papermill": {
     "duration": 0.081485,
     "end_time": "2021-12-30T22:43:29.461706",
     "exception": false,
     "start_time": "2021-12-30T22:43:29.380221",
     "status": "completed"
    },
    "tags": []
   },
   "outputs": [],
   "source": [
    "final_pred_mask = [] \n",
    "for i in range(3):\n",
    "    dest_and = cv2.bitwise_and(nmw_pred_mask[i], nms_pred_mask[i], mask = None)\n",
    "    final_pred_mask.append(dest_and)"
   ]
  },
  {
   "cell_type": "code",
   "execution_count": 22,
   "id": "5bc77950",
   "metadata": {
    "execution": {
     "iopub.execute_input": "2021-12-30T22:43:29.594913Z",
     "iopub.status.busy": "2021-12-30T22:43:29.594094Z",
     "iopub.status.idle": "2021-12-30T22:43:29.840749Z",
     "shell.execute_reply": "2021-12-30T22:43:29.841135Z",
     "shell.execute_reply.started": "2021-12-30T22:38:18.084749Z"
    },
    "papermill": {
     "duration": 0.315343,
     "end_time": "2021-12-30T22:43:29.841285",
     "exception": false,
     "start_time": "2021-12-30T22:43:29.525942",
     "status": "completed"
    },
    "tags": []
   },
   "outputs": [
    {
     "data": {
      "text/plain": [
       "<matplotlib.image.AxesImage at 0x7f52927b7fd0>"
      ]
     },
     "execution_count": 22,
     "metadata": {},
     "output_type": "execute_result"
    },
    {
     "data": {
      "image/png": "[encoded data removed]",
      "text/plain": [
       "<Figure size 432x288 with 1 Axes>"
      ]
     },
     "metadata": {
      "needs_background": "light"
     },
     "output_type": "display_data"
    }
   ],
   "source": [
    "plt.imshow(final_pred_mask[2])"
   ]
  },
  {
   "cell_type": "code",
   "execution_count": 23,
   "id": "c58f7204",
   "metadata": {
    "execution": {
     "iopub.execute_input": "2021-12-30T22:43:29.978113Z",
     "iopub.status.busy": "2021-12-30T22:43:29.977281Z",
     "iopub.status.idle": "2021-12-30T22:43:29.982997Z",
     "shell.execute_reply": "2021-12-30T22:43:29.982557Z",
     "shell.execute_reply.started": "2021-12-30T22:38:18.382324Z"
    },
    "papermill": {
     "duration": 0.075449,
     "end_time": "2021-12-30T22:43:29.983108",
     "exception": false,
     "start_time": "2021-12-30T22:43:29.907659",
     "status": "completed"
    },
    "tags": []
   },
   "outputs": [
    {
     "data": {
      "text/plain": [
       "(520, 704)"
      ]
     },
     "execution_count": 23,
     "metadata": {},
     "output_type": "execute_result"
    }
   ],
   "source": [
    "final_pred_mask[2].shape"
   ]
  },
  {
   "cell_type": "code",
   "execution_count": 24,
   "id": "d83dc81d",
   "metadata": {
    "execution": {
     "iopub.execute_input": "2021-12-30T22:43:30.123755Z",
     "iopub.status.busy": "2021-12-30T22:43:30.122877Z",
     "iopub.status.idle": "2021-12-30T22:43:30.124678Z",
     "shell.execute_reply": "2021-12-30T22:43:30.125116Z",
     "shell.execute_reply.started": "2021-12-30T22:38:18.393377Z"
    },
    "papermill": {
     "duration": 0.075666,
     "end_time": "2021-12-30T22:43:30.125242",
     "exception": false,
     "start_time": "2021-12-30T22:43:30.049576",
     "status": "completed"
    },
    "tags": []
   },
   "outputs": [],
   "source": [
    "def post_process(probability, threshold=0.5, min_size=300):\n",
    "    mask = cv2.threshold(probability, threshold, 1, cv2.THRESH_BINARY)[1]\n",
    "    num_component, component = cv2.connectedComponents(mask.astype(np.uint8))\n",
    "    predictions = []\n",
    "    for c in range(1, num_component):\n",
    "        p = (component == c)\n",
    "        if p.sum() > min_size:\n",
    "            a_prediction = np.zeros((520, 704), np.float32)\n",
    "            a_prediction[p] = 1\n",
    "            predictions.append(a_prediction)\n",
    "    return predictions"
   ]
  },
  {
   "cell_type": "code",
   "execution_count": 25,
   "id": "3b475208",
   "metadata": {
    "execution": {
     "iopub.execute_input": "2021-12-30T22:43:30.264734Z",
     "iopub.status.busy": "2021-12-30T22:43:30.263884Z",
     "iopub.status.idle": "2021-12-30T22:43:30.265687Z",
     "shell.execute_reply": "2021-12-30T22:43:30.266126Z",
     "shell.execute_reply.started": "2021-12-30T22:38:18.406051Z"
    },
    "papermill": {
     "duration": 0.074438,
     "end_time": "2021-12-30T22:43:30.266255",
     "exception": false,
     "start_time": "2021-12-30T22:43:30.191817",
     "status": "completed"
    },
    "tags": []
   },
   "outputs": [],
   "source": [
    "def rle_encoding(x):\n",
    "    dots = np.where(x.flatten() == 1)[0]\n",
    "    run_lengths = []\n",
    "    prev = -2\n",
    "    for b in dots:\n",
    "        if (b>prev+1): run_lengths.extend((b + 1, 0))\n",
    "        run_lengths[-1] += 1\n",
    "        prev = b\n",
    "    return ' '.join(map(str, run_lengths))"
   ]
  },
  {
   "cell_type": "code",
   "execution_count": 26,
   "id": "67a555eb",
   "metadata": {
    "execution": {
     "iopub.execute_input": "2021-12-30T22:43:30.518130Z",
     "iopub.status.busy": "2021-12-30T22:43:30.517447Z",
     "iopub.status.idle": "2021-12-30T22:43:30.968213Z",
     "shell.execute_reply": "2021-12-30T22:43:30.967558Z",
     "shell.execute_reply.started": "2021-12-30T22:38:18.417189Z"
    },
    "papermill": {
     "duration": 0.598478,
     "end_time": "2021-12-30T22:43:30.968346",
     "exception": false,
     "start_time": "2021-12-30T22:43:30.369868",
     "status": "completed"
    },
    "tags": []
   },
   "outputs": [],
   "source": [
    "id_test = []\n",
    "rle_test = []\n",
    "for i in range(3):\n",
    "    post_pro = post_process(final_pred_mask[i])\n",
    "    for j in post_pro:\n",
    "        id_test.append(test_ids[i])\n",
    "        rle_test.append(rle_encoding(j))"
   ]
  },
  {
   "cell_type": "code",
   "execution_count": 27,
   "id": "030cf41e",
   "metadata": {
    "execution": {
     "iopub.execute_input": "2021-12-30T22:43:31.108795Z",
     "iopub.status.busy": "2021-12-30T22:43:31.107934Z",
     "iopub.status.idle": "2021-12-30T22:43:31.127498Z",
     "shell.execute_reply": "2021-12-30T22:43:31.127995Z",
     "shell.execute_reply.started": "2021-12-30T22:38:18.792069Z"
    },
    "papermill": {
     "duration": 0.092414,
     "end_time": "2021-12-30T22:43:31.128140",
     "exception": false,
     "start_time": "2021-12-30T22:43:31.035726",
     "status": "completed"
    },
    "tags": []
   },
   "outputs": [
    {
     "data": {
      "text/html": [
       "<div>\n",
       "<style scoped>\n",
       "    .dataframe tbody tr th:only-of-type {\n",
       "        vertical-align: middle;\n",
       "    }\n",
       "\n",
       "    .dataframe tbody tr th {\n",
       "        vertical-align: top;\n",
       "    }\n",
       "\n",
       "    .dataframe thead th {\n",
       "        text-align: right;\n",
       "    }\n",
       "</style>\n",
       "<table border=\"1\" class=\"dataframe\">\n",
       "  <thead>\n",
       "    <tr style=\"text-align: right;\">\n",
       "      <th></th>\n",
       "      <th>id</th>\n",
       "      <th>predicted</th>\n",
       "    </tr>\n",
       "  </thead>\n",
       "  <tbody>\n",
       "    <tr>\n",
       "      <th>0</th>\n",
       "      <td>7ae19de7bc2a</td>\n",
       "      <td>63 11 763 15 1456 2 1459 22 2160 25 2864 24 35...</td>\n",
       "    </tr>\n",
       "    <tr>\n",
       "      <th>1</th>\n",
       "      <td>7ae19de7bc2a</td>\n",
       "      <td>276 4 980 6 1684 9 2388 12 3093 13 3798 14 450...</td>\n",
       "    </tr>\n",
       "    <tr>\n",
       "      <th>2</th>\n",
       "      <td>7ae19de7bc2a</td>\n",
       "      <td>522 10 1206 7 1225 11 1907 12 1928 13 2610 14 ...</td>\n",
       "    </tr>\n",
       "    <tr>\n",
       "      <th>3</th>\n",
       "      <td>7ae19de7bc2a</td>\n",
       "      <td>564 11 581 8 1272 16 1290 3 1978 18 2682 18 33...</td>\n",
       "    </tr>\n",
       "    <tr>\n",
       "      <th>4</th>\n",
       "      <td>7ae19de7bc2a</td>\n",
       "      <td>9116 4 9820 5 10523 7 11226 9 11929 11 12632 1...</td>\n",
       "    </tr>\n",
       "  </tbody>\n",
       "</table>\n",
       "</div>"
      ],
      "text/plain": [
       "             id                                          predicted\n",
       "0  7ae19de7bc2a  63 11 763 15 1456 2 1459 22 2160 25 2864 24 35...\n",
       "1  7ae19de7bc2a  276 4 980 6 1684 9 2388 12 3093 13 3798 14 450...\n",
       "2  7ae19de7bc2a  522 10 1206 7 1225 11 1907 12 1928 13 2610 14 ...\n",
       "3  7ae19de7bc2a  564 11 581 8 1272 16 1290 3 1978 18 2682 18 33...\n",
       "4  7ae19de7bc2a  9116 4 9820 5 10523 7 11226 9 11929 11 12632 1..."
      ]
     },
     "execution_count": 27,
     "metadata": {},
     "output_type": "execute_result"
    }
   ],
   "source": [
    "pd.DataFrame({\n",
    "    'id': id_test, \n",
    "    'predicted': rle_test\n",
    "}).to_csv('submission.csv', index=False)\n",
    "pd.read_csv('submission.csv').head()"
   ]
  },
  {
   "cell_type": "code",
   "execution_count": 28,
   "id": "fb500d01",
   "metadata": {
    "execution": {
     "iopub.execute_input": "2021-12-30T22:43:31.273385Z",
     "iopub.status.busy": "2021-12-30T22:43:31.271760Z",
     "iopub.status.idle": "2021-12-30T22:43:31.274027Z",
     "shell.execute_reply": "2021-12-30T22:43:31.274422Z",
     "shell.execute_reply.started": "2021-12-30T22:37:37.987366Z"
    },
    "papermill": {
     "duration": 0.075499,
     "end_time": "2021-12-30T22:43:31.274579",
     "exception": false,
     "start_time": "2021-12-30T22:43:31.199080",
     "status": "completed"
    },
    "tags": []
   },
   "outputs": [],
   "source": [
    "# pred_mask1 = post_process(final_pred_mask[2])\n",
    "# plt.imshow(pred_mask1[0])"
   ]
  },
  {
   "cell_type": "code",
   "execution_count": null,
   "id": "d2fe3dde",
   "metadata": {
    "papermill": {
     "duration": 0.06693,
     "end_time": "2021-12-30T22:43:31.407754",
     "exception": false,
     "start_time": "2021-12-30T22:43:31.340824",
     "status": "completed"
    },
    "tags": []
   },
   "outputs": [],
   "source": []
  },
  {
   "cell_type": "code",
   "execution_count": 29,
   "id": "c2f3bbe6",
   "metadata": {
    "execution": {
     "iopub.execute_input": "2021-12-30T22:43:31.546920Z",
     "iopub.status.busy": "2021-12-30T22:43:31.545289Z",
     "iopub.status.idle": "2021-12-30T22:43:31.547564Z",
     "shell.execute_reply": "2021-12-30T22:43:31.547989Z",
     "shell.execute_reply.started": "2021-12-30T22:37:37.989591Z"
    },
    "papermill": {
     "duration": 0.073787,
     "end_time": "2021-12-30T22:43:31.548121",
     "exception": false,
     "start_time": "2021-12-30T22:43:31.474334",
     "status": "completed"
    },
    "tags": []
   },
   "outputs": [],
   "source": [
    "\n",
    "\n",
    "# rle = rle_encoding()\n",
    "# pred_mask1 = post_process(final_pred_mask[2])\n",
    "# p\n",
    "# plt.imshow(rle_decode1(rle))"
   ]
  },
  {
   "cell_type": "code",
   "execution_count": null,
   "id": "99f641c8",
   "metadata": {
    "papermill": {
     "duration": 0.067874,
     "end_time": "2021-12-30T22:43:31.682861",
     "exception": false,
     "start_time": "2021-12-30T22:43:31.614987",
     "status": "completed"
    },
    "tags": []
   },
   "outputs": [],
   "source": []
  },
  {
   "cell_type": "code",
   "execution_count": 30,
   "id": "f2945993",
   "metadata": {
    "execution": {
     "iopub.execute_input": "2021-12-30T22:43:31.820784Z",
     "iopub.status.busy": "2021-12-30T22:43:31.820072Z",
     "iopub.status.idle": "2021-12-30T22:43:31.822888Z",
     "shell.execute_reply": "2021-12-30T22:43:31.822360Z",
     "shell.execute_reply.started": "2021-12-30T22:37:37.991967Z"
    },
    "papermill": {
     "duration": 0.07287,
     "end_time": "2021-12-30T22:43:31.823000",
     "exception": false,
     "start_time": "2021-12-30T22:43:31.750130",
     "status": "completed"
    },
    "tags": []
   },
   "outputs": [],
   "source": [
    "# def rles_to_mask(encs, shape=(520,704)):\n",
    "#     img = np.zeros(shape[0] * shape[1], dtype=np.uint)\n",
    "#     if type(encs)==float:\n",
    "#         return img\n",
    "#     for m, enc in enumerate(encs):\n",
    "#         if isinstance(enc, np.float) and np.isnan(enc):\n",
    "#             continue\n",
    "#         enc_split = enc.split()\n",
    "#         for i in range(len(enc_split) // 2):\n",
    "#             start = int(enc_split[2 * i]) - 1\n",
    "#             length = int(enc_split[2 * i + 1])\n",
    "#             img[start: start + length] = 1 + m\n",
    "#     return img.reshape(shape)"
   ]
  },
  {
   "cell_type": "code",
   "execution_count": 31,
   "id": "2bf0bd86",
   "metadata": {
    "execution": {
     "iopub.execute_input": "2021-12-30T22:43:31.959710Z",
     "iopub.status.busy": "2021-12-30T22:43:31.958891Z",
     "iopub.status.idle": "2021-12-30T22:43:31.960875Z",
     "shell.execute_reply": "2021-12-30T22:43:31.961247Z",
     "shell.execute_reply.started": "2021-12-30T22:37:37.994243Z"
    },
    "papermill": {
     "duration": 0.072604,
     "end_time": "2021-12-30T22:43:31.961387",
     "exception": false,
     "start_time": "2021-12-30T22:43:31.888783",
     "status": "completed"
    },
    "tags": []
   },
   "outputs": [],
   "source": [
    "# subm_only_ids = [i.split('/')[-1] for i in subm_ids]\n",
    "# # len(np.unique(subm_only_ids))\n",
    "# subm_only_ids[0]"
   ]
  },
  {
   "cell_type": "code",
   "execution_count": 32,
   "id": "7d4a72c4",
   "metadata": {
    "execution": {
     "iopub.execute_input": "2021-12-30T22:43:32.099193Z",
     "iopub.status.busy": "2021-12-30T22:43:32.098240Z",
     "iopub.status.idle": "2021-12-30T22:43:32.100025Z",
     "shell.execute_reply": "2021-12-30T22:43:32.100527Z",
     "shell.execute_reply.started": "2021-12-30T22:37:37.996776Z"
    },
    "papermill": {
     "duration": 0.073257,
     "end_time": "2021-12-30T22:43:32.100671",
     "exception": false,
     "start_time": "2021-12-30T22:43:32.027414",
     "status": "completed"
    },
    "tags": []
   },
   "outputs": [],
   "source": [
    "# train_csv = \"../input/sartorius-cell-instance-segmentation/train.csv\"\n",
    "# df = pd.read_csv(train_csv)\n",
    "\n",
    "# gt_rle = []\n",
    "\n",
    "# for i in val_file_name:\n",
    "#     image_id = i.split('/')[-1].split('.')[0]\n",
    "#     labels = df[df[\"id\"] == image_id][\"annotation\"].tolist()\n",
    "#     gt_rle.append(labels)"
   ]
  },
  {
   "cell_type": "code",
   "execution_count": 33,
   "id": "c8008664",
   "metadata": {
    "execution": {
     "iopub.execute_input": "2021-12-30T22:43:32.238365Z",
     "iopub.status.busy": "2021-12-30T22:43:32.237526Z",
     "iopub.status.idle": "2021-12-30T22:43:32.239278Z",
     "shell.execute_reply": "2021-12-30T22:43:32.239741Z",
     "shell.execute_reply.started": "2021-12-30T22:37:37.999344Z"
    },
    "papermill": {
     "duration": 0.072596,
     "end_time": "2021-12-30T22:43:32.239872",
     "exception": false,
     "start_time": "2021-12-30T22:43:32.167276",
     "status": "completed"
    },
    "tags": []
   },
   "outputs": [],
   "source": [
    "# labels = df[df[\"id\"] == image_id][\"annotation\"].tolist()\n",
    "# plt.imshow(rles_to_mask(labels))"
   ]
  },
  {
   "cell_type": "code",
   "execution_count": 34,
   "id": "9af3d913",
   "metadata": {
    "execution": {
     "iopub.execute_input": "2021-12-30T22:43:32.376976Z",
     "iopub.status.busy": "2021-12-30T22:43:32.374975Z",
     "iopub.status.idle": "2021-12-30T22:43:32.380070Z",
     "shell.execute_reply": "2021-12-30T22:43:32.379639Z",
     "shell.execute_reply.started": "2021-12-30T22:37:38.001457Z"
    },
    "papermill": {
     "duration": 0.073624,
     "end_time": "2021-12-30T22:43:32.380178",
     "exception": false,
     "start_time": "2021-12-30T22:43:32.306554",
     "status": "completed"
    },
    "tags": []
   },
   "outputs": [],
   "source": [
    "# val_df = pd.DataFrame({\n",
    "#     'id': subm_only_ids, \n",
    "#     'predicted': subm_masks\n",
    "# })\n",
    "\n",
    "# # image_id = '15aeb12e7a83'\n",
    "# val_labels = val_df[val_df[\"id\"] == image_id][\"predicted\"].tolist()\n",
    "# plt.imshow(rles_to_mask(val_labels))\n",
    "# # len(np.unique(val_df['id'].values))\n",
    "# # pd.read_csv('submission.csv').head()"
   ]
  },
  {
   "cell_type": "code",
   "execution_count": 35,
   "id": "20d899ee",
   "metadata": {
    "execution": {
     "iopub.execute_input": "2021-12-30T22:43:32.521230Z",
     "iopub.status.busy": "2021-12-30T22:43:32.519593Z",
     "iopub.status.idle": "2021-12-30T22:43:32.521835Z",
     "shell.execute_reply": "2021-12-30T22:43:32.522239Z",
     "shell.execute_reply.started": "2021-12-30T22:37:38.003877Z"
    },
    "papermill": {
     "duration": 0.075896,
     "end_time": "2021-12-30T22:43:32.522380",
     "exception": false,
     "start_time": "2021-12-30T22:43:32.446484",
     "status": "completed"
    },
    "tags": []
   },
   "outputs": [],
   "source": [
    "# def compute_iou(labels, y_pred):\n",
    "#     true_objects = len(np.unique(labels))\n",
    "#     pred_objects = len(np.unique(y_pred))\n",
    "\n",
    "#     # Compute intersection between all objects\n",
    "#     intersection = np.histogram2d(\n",
    "#         labels.flatten(), y_pred.flatten(), bins=(true_objects, pred_objects)\n",
    "#     )[0]\n",
    "\n",
    "#     # Compute areas (needed for finding the union between all objects)\n",
    "#     area_true = np.histogram(labels, bins=true_objects)[0]\n",
    "#     area_pred = np.histogram(y_pred, bins=pred_objects)[0]\n",
    "#     area_true = np.expand_dims(area_true, -1)\n",
    "#     area_pred = np.expand_dims(area_pred, 0)\n",
    "\n",
    "#     # Compute union\n",
    "#     union = area_true + area_pred - intersection\n",
    "#     iou = intersection / union\n",
    "    \n",
    "#     return iou[1:, 1:]  # exclude background\n",
    "\n",
    "# def precision_at(threshold, iou):\n",
    "#     matches = iou > threshold\n",
    "#     true_positives = np.sum(matches, axis=1) >= 1  # Correct objects\n",
    "#     false_negatives = np.sum(matches, axis=1) == 0  # Missed objects\n",
    "#     false_positives = np.sum(matches, axis=0) == 0  # Extra objects\n",
    "#     tp, fp, fn = (\n",
    "#         np.sum(true_positives),\n",
    "#         np.sum(false_positives),\n",
    "#         np.sum(false_negatives),\n",
    "#     )\n",
    "#     return tp, fp, fn\n",
    "\n",
    "# # def iou_map(truths, preds, verbose=0):\n",
    "# #     ious = [compute_iou(truth, pred) for truth, pred in zip(truths, preds)]\n",
    "    \n",
    "# # #     print(ious[0].shape)\n",
    "\n",
    "# #     if verbose:\n",
    "# #         print(\"Thresh\\tTP\\tFP\\tFN\\tPrec.\")\n",
    "\n",
    "# #     prec = []\n",
    "# #     for t in np.arange(0.5, 1.0, 0.05):\n",
    "# #         tps, fps, fns = 0, 0, 0\n",
    "# #         for iou in ious:\n",
    "# #             tp, fp, fn = precision_at(t, iou)\n",
    "# #             tps += tp\n",
    "# #             fps += fp\n",
    "# #             fns += fn\n",
    "\n",
    "# #         p = tps / (tps + fps + fns)\n",
    "# #         prec.append(p)\n",
    "\n",
    "# #         if verbose:\n",
    "# #             print(\"{:1.3f}\\t{}\\t{}\\t{}\\t{:1.3f}\".format(t, tps, fps, fns, p))\n",
    "\n",
    "# #     if verbose:\n",
    "# #         print(\"AP\\t-\\t-\\t-\\t{:1.3f}\".format(np.mean(prec)))\n",
    "\n",
    "# #     return np.mean(prec)\n",
    "\n",
    "# def iou_map(truths, preds, verbose=0):\n",
    "#     \"\"\"\n",
    "#     Computes the metric for the competition.\n",
    "#     Masks contain the segmented pixels where each object has one value associated,\n",
    "#     and 0 is the background.\n",
    "\n",
    "#     Args:\n",
    "#         truths (list of masks): Ground truths.\n",
    "#         preds (list of masks): Predictions.\n",
    "#         verbose (int, optional): Whether to print infos. Defaults to 0.\n",
    "\n",
    "#     Returns:\n",
    "#         float: mAP.\n",
    "#     \"\"\"\n",
    "#     ious = [\n",
    "#         compute_iou(rles_to_mask(truth), rles_to_mask(pred)) \n",
    "#             for truth, pred in tqdm(zip(truths, preds))\n",
    "#     ]\n",
    "    \n",
    "#     if verbose:\n",
    "#         print(ious[0].shape)\n",
    "#         print(\"Thresh\\tTP\\tFP\\tFN\\tPrec.\")\n",
    "\n",
    "#     prec = []\n",
    "#     for t in np.arange(0.5, 1.0, 0.05):\n",
    "#         tps, fps, fns = 0, 0, 0\n",
    "#         for iou in ious:\n",
    "#             tp, fp, fn = precision_at(t, iou)\n",
    "#             tps += tp\n",
    "#             fps += fp\n",
    "#             fns += fn\n",
    "\n",
    "#         p = tps / (tps + fps + fns)\n",
    "#         prec.append(p)\n",
    "\n",
    "#         if verbose:\n",
    "#             print(\"{:1.3f}\\t{}\\t{}\\t{}\\t{:1.3f}\".format(t, tps, fps, fns, p))\n",
    "\n",
    "#     if verbose:\n",
    "#         print(\"AP\\t-\\t-\\t-\\t{:1.3f}\".format(np.mean(prec)))\n",
    "\n",
    "#     return np.mean(prec)"
   ]
  },
  {
   "cell_type": "code",
   "execution_count": 36,
   "id": "66207cc4",
   "metadata": {
    "execution": {
     "iopub.execute_input": "2021-12-30T22:43:32.661426Z",
     "iopub.status.busy": "2021-12-30T22:43:32.660777Z",
     "iopub.status.idle": "2021-12-30T22:43:32.663121Z",
     "shell.execute_reply": "2021-12-30T22:43:32.663497Z",
     "shell.execute_reply.started": "2021-12-30T22:37:38.006198Z"
    },
    "papermill": {
     "duration": 0.074903,
     "end_time": "2021-12-30T22:43:32.663657",
     "exception": false,
     "start_time": "2021-12-30T22:43:32.588754",
     "status": "completed"
    },
    "tags": []
   },
   "outputs": [],
   "source": [
    "# def rle_decode1(mask_rle, shape, color=1):\n",
    "#     s = mask_rle.split()\n",
    "#     starts, lengths = [np.asarray(x, dtype=int) for x in (s[0:][::2], s[1:][::2])]\n",
    "#     starts -= 1\n",
    "#     ends = starts + lengths\n",
    "#     img = np.zeros((shape[0] * shape[1], shape[2]), dtype=np.float32)\n",
    "#     for lo, hi in zip(starts, ends):\n",
    "#         img[lo : hi] = color\n",
    "#     return img.reshape(shape)\n",
    "    \n",
    "\n",
    "# def build_masks(image_id,input_shape=(520,704), colors=False):\n",
    "#     height, width = input_shape\n",
    "#     labels = df[df[\"id\"] == image_id][\"annotation\"].tolist()\n",
    "#     if colors:\n",
    "#         mask = np.zeros((height, width, 3))\n",
    "#         for label in labels:\n",
    "#             mask += rle_decode1(label, shape=(height,width , 3), color=np.random.rand(3))\n",
    "#     else:\n",
    "#         mask = np.zeros((height, width, 1))\n",
    "#         for label in labels:\n",
    "#             mask += rle_decode1(label, shape=(height, width, 1))\n",
    "#     mask = mask.clip(0, 1)\n",
    "#     return mask"
   ]
  },
  {
   "cell_type": "code",
   "execution_count": 37,
   "id": "6d44bc89",
   "metadata": {
    "execution": {
     "iopub.execute_input": "2021-12-30T22:43:32.801000Z",
     "iopub.status.busy": "2021-12-30T22:43:32.799473Z",
     "iopub.status.idle": "2021-12-30T22:43:32.801656Z",
     "shell.execute_reply": "2021-12-30T22:43:32.802064Z",
     "shell.execute_reply.started": "2021-12-30T22:37:38.008575Z"
    },
    "papermill": {
     "duration": 0.072123,
     "end_time": "2021-12-30T22:43:32.802191",
     "exception": false,
     "start_time": "2021-12-30T22:43:32.730068",
     "status": "completed"
    },
    "tags": []
   },
   "outputs": [],
   "source": [
    "# img_id = '15aeb12e7a83'\n",
    "# val_pred = val_df[val_df[\"id\"] == img_id][\"predicted\"].tolist()\n",
    "# gt_pred = df[df[\"id\"] == img_id][\"annotation\"].tolist()\n",
    "# iou_map(gt_pred,val_pred,verbose=1)"
   ]
  },
  {
   "cell_type": "code",
   "execution_count": 38,
   "id": "3b0ed6d8",
   "metadata": {
    "execution": {
     "iopub.execute_input": "2021-12-30T22:43:32.942635Z",
     "iopub.status.busy": "2021-12-30T22:43:32.941751Z",
     "iopub.status.idle": "2021-12-30T22:43:32.943568Z",
     "shell.execute_reply": "2021-12-30T22:43:32.944035Z",
     "shell.execute_reply.started": "2021-12-30T22:37:38.011182Z"
    },
    "papermill": {
     "duration": 0.073119,
     "end_time": "2021-12-30T22:43:32.944168",
     "exception": false,
     "start_time": "2021-12-30T22:43:32.871049",
     "status": "completed"
    },
    "tags": []
   },
   "outputs": [],
   "source": [
    "# from tqdm import tqdm\n",
    "# val_map_list = []\n",
    "# for img_id in tqdm(list(np.unique(subm_only_ids))):\n",
    "# #     print(img_id)\n",
    "# #     break\n",
    "#     val_pred = val_df[val_df[\"id\"] == img_id][\"predicted\"].tolist()\n",
    "# #     print(val_pred)\n",
    "# #     break\n",
    "#     gt_pred = df[df[\"id\"] == img_id][\"annotation\"].tolist()\n",
    "#     print(gt_pred)\n",
    "#     break\n",
    "#     val_map_list.append(iou_map(gt_pred,val_pred,verbose=1))\n"
   ]
  },
  {
   "cell_type": "code",
   "execution_count": 39,
   "id": "38e47bc4",
   "metadata": {
    "execution": {
     "iopub.execute_input": "2021-12-30T22:43:33.083709Z",
     "iopub.status.busy": "2021-12-30T22:43:33.082857Z",
     "iopub.status.idle": "2021-12-30T22:43:33.085321Z",
     "shell.execute_reply": "2021-12-30T22:43:33.084916Z",
     "shell.execute_reply.started": "2021-12-30T22:37:38.013454Z"
    },
    "papermill": {
     "duration": 0.074704,
     "end_time": "2021-12-30T22:43:33.085434",
     "exception": false,
     "start_time": "2021-12-30T22:43:33.010730",
     "status": "completed"
    },
    "tags": []
   },
   "outputs": [],
   "source": [
    "# print(list(np.unique(subm_only_ids)) )\n",
    "# print([i.split('/')[-1].split('.')[0] for i in val_file_name])\n",
    "# list(np.unique(subm_only_ids))"
   ]
  },
  {
   "cell_type": "code",
   "execution_count": 40,
   "id": "ed3d3934",
   "metadata": {
    "execution": {
     "iopub.execute_input": "2021-12-30T22:43:33.233612Z",
     "iopub.status.busy": "2021-12-30T22:43:33.232764Z",
     "iopub.status.idle": "2021-12-30T22:43:33.234859Z",
     "shell.execute_reply": "2021-12-30T22:43:33.235227Z",
     "shell.execute_reply.started": "2021-12-30T22:37:38.016252Z"
    },
    "papermill": {
     "duration": 0.074583,
     "end_time": "2021-12-30T22:43:33.235370",
     "exception": false,
     "start_time": "2021-12-30T22:43:33.160787",
     "status": "completed"
    },
    "tags": []
   },
   "outputs": [],
   "source": [
    "# pd.DataFrame({\n",
    "#     'id': subm_ids, \n",
    "#     'predicted': subm_masks\n",
    "# }).to_csv('submission.csv', index=False)\n",
    "# pd.read_csv('submission.csv').head()"
   ]
  },
  {
   "cell_type": "markdown",
   "id": "42ce0ca8",
   "metadata": {
    "papermill": {
     "duration": 0.066954,
     "end_time": "2021-12-30T22:43:33.370051",
     "exception": false,
     "start_time": "2021-12-30T22:43:33.303097",
     "status": "completed"
    },
    "tags": []
   },
   "source": [
    "# References\n",
    "1. https://www.kaggle.com/vgarshin/detectron2-inference-with-ensemble-and-nms"
   ]
  },
  {
   "cell_type": "code",
   "execution_count": null,
   "id": "e45d6edc",
   "metadata": {
    "papermill": {
     "duration": 0.066551,
     "end_time": "2021-12-30T22:43:33.503374",
     "exception": false,
     "start_time": "2021-12-30T22:43:33.436823",
     "status": "completed"
    },
    "tags": []
   },
   "outputs": [],
   "source": []
  },
  {
   "cell_type": "code",
   "execution_count": null,
   "id": "4ccd7a69",
   "metadata": {
    "papermill": {
     "duration": 0.066522,
     "end_time": "2021-12-30T22:43:33.636185",
     "exception": false,
     "start_time": "2021-12-30T22:43:33.569663",
     "status": "completed"
    },
    "tags": []
   },
   "outputs": [],
   "source": []
  },
  {
   "cell_type": "code",
   "execution_count": null,
   "id": "a2023414",
   "metadata": {
    "papermill": {
     "duration": 0.066317,
     "end_time": "2021-12-30T22:43:33.768645",
     "exception": false,
     "start_time": "2021-12-30T22:43:33.702328",
     "status": "completed"
    },
    "tags": []
   },
   "outputs": [],
   "source": []
  },
  {
   "cell_type": "code",
   "execution_count": null,
   "id": "e34e391c",
   "metadata": {
    "papermill": {
     "duration": 0.066081,
     "end_time": "2021-12-30T22:43:33.900723",
     "exception": false,
     "start_time": "2021-12-30T22:43:33.834642",
     "status": "completed"
    },
    "tags": []
   },
   "outputs": [],
   "source": []
  },
  {
   "cell_type": "code",
   "execution_count": null,
   "id": "43591e8e",
   "metadata": {
    "papermill": {
     "duration": 0.06644,
     "end_time": "2021-12-30T22:43:34.033388",
     "exception": false,
     "start_time": "2021-12-30T22:43:33.966948",
     "status": "completed"
    },
    "tags": []
   },
   "outputs": [],
   "source": []
  },
  {
   "cell_type": "code",
   "execution_count": null,
   "id": "7fa28e6b",
   "metadata": {
    "papermill": {
     "duration": 0.072953,
     "end_time": "2021-12-30T22:43:34.173131",
     "exception": false,
     "start_time": "2021-12-30T22:43:34.100178",
     "status": "completed"
    },
    "tags": []
   },
   "outputs": [],
   "source": []
  },
  {
   "cell_type": "code",
   "execution_count": null,
   "id": "d14a017b",
   "metadata": {
    "papermill": {
     "duration": 0.074999,
     "end_time": "2021-12-30T22:43:34.316543",
     "exception": false,
     "start_time": "2021-12-30T22:43:34.241544",
     "status": "completed"
    },
    "tags": []
   },
   "outputs": [],
   "source": []
  }
 ],
 "metadata": {
  "kernelspec": {
   "display_name": "Python 3",
   "language": "python",
   "name": "python3"
  },
  "language_info": {
   "codemirror_mode": {
    "name": "ipython",
    "version": 3
   },
   "file_extension": ".py",
   "mimetype": "text/x-python",
   "name": "python",
   "nbconvert_exporter": "python",
   "pygments_lexer": "ipython3",
   "version": "3.7.10"
  },
  "papermill": {
   "default_parameters": {},
   "duration": 278.93064,
   "end_time": "2021-12-30T22:43:35.698021",
   "environment_variables": {},
   "exception": null,
   "input_path": "__notebook__.ipynb",
   "output_path": "__notebook__.ipynb",
   "parameters": {},
   "start_time": "2021-12-30T22:38:56.767381",
   "version": "2.3.3"
  },
  "widgets": {
   "application/vnd.jupyter.widget-state+json": {
    "state": {
     "0e18b7981985470ca190a15e8617e6fe": {
      "model_module": "@jupyter-widgets/controls",
      "model_module_version": "1.5.0",
      "model_name": "FloatProgressModel",
      "state": {
       "_dom_classes": [],
       "_model_module": "@jupyter-widgets/controls",
       "_model_module_version": "1.5.0",
       "_model_name": "FloatProgressModel",
       "_view_count": null,
       "_view_module": "@jupyter-widgets/controls",
       "_view_module_version": "1.5.0",
       "_view_name": "ProgressView",
       "bar_style": "success",
       "description": "",
       "description_tooltip": null,
       "layout": "IPY_MODEL_58471be55de449b3aa350ad92e0b0e77",
       "max": 3.0,
       "min": 0.0,
       "orientation": "horizontal",
       "style": "IPY_MODEL_b8d15f33e4e94818a593ae32610a4836",
       "value": 3.0
      }
     },
     "1c724a24713e42e18b7cc6943af3a8b7": {
      "model_module": "@jupyter-widgets/base",
      "model_module_version": "1.2.0",
      "model_name": "LayoutModel",
      "state": {
       "_model_module": "@jupyter-widgets/base",
       "_model_module_version": "1.2.0",
       "_model_name": "LayoutModel",
       "_view_count": null,
       "_view_module": "@jupyter-widgets/base",
       "_view_module_version": "1.2.0",
       "_view_name": "LayoutView",
       "align_content": null,
       "align_items": null,
       "align_self": null,
       "border": null,
       "bottom": null,
       "display": null,
       "flex": null,
       "flex_flow": null,
       "grid_area": null,
       "grid_auto_columns": null,
       "grid_auto_flow": null,
       "grid_auto_rows": null,
       "grid_column": null,
       "grid_gap": null,
       "grid_row": null,
       "grid_template_areas": null,
       "grid_template_columns": null,
       "grid_template_rows": null,
       "height": null,
       "justify_content": null,
       "justify_items": null,
       "left": null,
       "margin": null,
       "max_height": null,
       "max_width": null,
       "min_height": null,
       "min_width": null,
       "object_fit": null,
       "object_position": null,
       "order": null,
       "overflow": null,
       "overflow_x": null,
       "overflow_y": null,
       "padding": null,
       "right": null,
       "top": null,
       "visibility": null,
       "width": null
      }
     },
     "27cec510a50343b09c45d6bf2dea7b0b": {
      "model_module": "@jupyter-widgets/controls",
      "model_module_version": "1.5.0",
      "model_name": "DescriptionStyleModel",
      "state": {
       "_model_module": "@jupyter-widgets/controls",
       "_model_module_version": "1.5.0",
       "_model_name": "DescriptionStyleModel",
       "_view_count": null,
       "_view_module": "@jupyter-widgets/base",
       "_view_module_version": "1.2.0",
       "_view_name": "StyleView",
       "description_width": ""
      }
     },
     "2ddbc202ed2b41acabdec3d80593b73f": {
      "model_module": "@jupyter-widgets/controls",
      "model_module_version": "1.5.0",
      "model_name": "DescriptionStyleModel",
      "state": {
       "_model_module": "@jupyter-widgets/controls",
       "_model_module_version": "1.5.0",
       "_model_name": "DescriptionStyleModel",
       "_view_count": null,
       "_view_module": "@jupyter-widgets/base",
       "_view_module_version": "1.2.0",
       "_view_name": "StyleView",
       "description_width": ""
      }
     },
     "38250ee7d6e94c148f8136f1aa70736d": {
      "model_module": "@jupyter-widgets/controls",
      "model_module_version": "1.5.0",
      "model_name": "HTMLModel",
      "state": {
       "_dom_classes": [],
       "_model_module": "@jupyter-widgets/controls",
       "_model_module_version": "1.5.0",
       "_model_name": "HTMLModel",
       "_view_count": null,
       "_view_module": "@jupyter-widgets/controls",
       "_view_module_version": "1.5.0",
       "_view_name": "HTMLView",
       "description": "",
       "description_tooltip": null,
       "layout": "IPY_MODEL_c88c31d32a7440a69a1612a846bf3261",
       "placeholder": "​",
       "style": "IPY_MODEL_dd46675c8c75440f8871ed57b30d051e",
       "value": " 3/3 [00:05&lt;00:00,  1.42s/it]"
      }
     },
     "43dcf8cdb1bf46d6969055cad5f3caa5": {
      "model_module": "@jupyter-widgets/controls",
      "model_module_version": "1.5.0",
      "model_name": "ProgressStyleModel",
      "state": {
       "_model_module": "@jupyter-widgets/controls",
       "_model_module_version": "1.5.0",
       "_model_name": "ProgressStyleModel",
       "_view_count": null,
       "_view_module": "@jupyter-widgets/base",
       "_view_module_version": "1.2.0",
       "_view_name": "StyleView",
       "bar_color": null,
       "description_width": ""
      }
     },
     "49b5bda024de4342862911da083d485b": {
      "model_module": "@jupyter-widgets/controls",
      "model_module_version": "1.5.0",
      "model_name": "HTMLModel",
      "state": {
       "_dom_classes": [],
       "_model_module": "@jupyter-widgets/controls",
       "_model_module_version": "1.5.0",
       "_model_name": "HTMLModel",
       "_view_count": null,
       "_view_module": "@jupyter-widgets/controls",
       "_view_module_version": "1.5.0",
       "_view_name": "HTMLView",
       "description": "",
       "description_tooltip": null,
       "layout": "IPY_MODEL_d7b914035d1049bc80eea149b9c8e2e5",
       "placeholder": "​",
       "style": "IPY_MODEL_27cec510a50343b09c45d6bf2dea7b0b",
       "value": " 3/3 [00:03&lt;00:00,  1.05s/it]"
      }
     },
     "58471be55de449b3aa350ad92e0b0e77": {
      "model_module": "@jupyter-widgets/base",
      "model_module_version": "1.2.0",
      "model_name": "LayoutModel",
      "state": {
       "_model_module": "@jupyter-widgets/base",
       "_model_module_version": "1.2.0",
       "_model_name": "LayoutModel",
       "_view_count": null,
       "_view_module": "@jupyter-widgets/base",
       "_view_module_version": "1.2.0",
       "_view_name": "LayoutView",
       "align_content": null,
       "align_items": null,
       "align_self": null,
       "border": null,
       "bottom": null,
       "display": null,
       "flex": null,
       "flex_flow": null,
       "grid_area": null,
       "grid_auto_columns": null,
       "grid_auto_flow": null,
       "grid_auto_rows": null,
       "grid_column": null,
       "grid_gap": null,
       "grid_row": null,
       "grid_template_areas": null,
       "grid_template_columns": null,
       "grid_template_rows": null,
       "height": null,
       "justify_content": null,
       "justify_items": null,
       "left": null,
       "margin": null,
       "max_height": null,
       "max_width": null,
       "min_height": null,
       "min_width": null,
       "object_fit": null,
       "object_position": null,
       "order": null,
       "overflow": null,
       "overflow_x": null,
       "overflow_y": null,
       "padding": null,
       "right": null,
       "top": null,
       "visibility": null,
       "width": null
      }
     },
     "66445809e7884492b3848be17155d6bf": {
      "model_module": "@jupyter-widgets/base",
      "model_module_version": "1.2.0",
      "model_name": "LayoutModel",
      "state": {
       "_model_module": "@jupyter-widgets/base",
       "_model_module_version": "1.2.0",
       "_model_name": "LayoutModel",
       "_view_count": null,
       "_view_module": "@jupyter-widgets/base",
       "_view_module_version": "1.2.0",
       "_view_name": "LayoutView",
       "align_content": null,
       "align_items": null,
       "align_self": null,
       "border": null,
       "bottom": null,
       "display": null,
       "flex": null,
       "flex_flow": null,
       "grid_area": null,
       "grid_auto_columns": null,
       "grid_auto_flow": null,
       "grid_auto_rows": null,
       "grid_column": null,
       "grid_gap": null,
       "grid_row": null,
       "grid_template_areas": null,
       "grid_template_columns": null,
       "grid_template_rows": null,
       "height": null,
       "justify_content": null,
       "justify_items": null,
       "left": null,
       "margin": null,
       "max_height": null,
       "max_width": null,
       "min_height": null,
       "min_width": null,
       "object_fit": null,
       "object_position": null,
       "order": null,
       "overflow": null,
       "overflow_x": null,
       "overflow_y": null,
       "padding": null,
       "right": null,
       "top": null,
       "visibility": null,
       "width": null
      }
     },
     "67c3dbc560f64e9fb12e273ed4cb9690": {
      "model_module": "@jupyter-widgets/controls",
      "model_module_version": "1.5.0",
      "model_name": "HTMLModel",
      "state": {
       "_dom_classes": [],
       "_model_module": "@jupyter-widgets/controls",
       "_model_module_version": "1.5.0",
       "_model_name": "HTMLModel",
       "_view_count": null,
       "_view_module": "@jupyter-widgets/controls",
       "_view_module_version": "1.5.0",
       "_view_name": "HTMLView",
       "description": "",
       "description_tooltip": null,
       "layout": "IPY_MODEL_862bbab3f2e242b8abe377ff0739cfa2",
       "placeholder": "​",
       "style": "IPY_MODEL_70f275af24ae4464bd7d8efbb7c12ddb",
       "value": "100%"
      }
     },
     "70f275af24ae4464bd7d8efbb7c12ddb": {
      "model_module": "@jupyter-widgets/controls",
      "model_module_version": "1.5.0",
      "model_name": "DescriptionStyleModel",
      "state": {
       "_model_module": "@jupyter-widgets/controls",
       "_model_module_version": "1.5.0",
       "_model_name": "DescriptionStyleModel",
       "_view_count": null,
       "_view_module": "@jupyter-widgets/base",
       "_view_module_version": "1.2.0",
       "_view_name": "StyleView",
       "description_width": ""
      }
     },
     "7875d88461cc4837afbebe863682e3df": {
      "model_module": "@jupyter-widgets/base",
      "model_module_version": "1.2.0",
      "model_name": "LayoutModel",
      "state": {
       "_model_module": "@jupyter-widgets/base",
       "_model_module_version": "1.2.0",
       "_model_name": "LayoutModel",
       "_view_count": null,
       "_view_module": "@jupyter-widgets/base",
       "_view_module_version": "1.2.0",
       "_view_name": "LayoutView",
       "align_content": null,
       "align_items": null,
       "align_self": null,
       "border": null,
       "bottom": null,
       "display": null,
       "flex": null,
       "flex_flow": null,
       "grid_area": null,
       "grid_auto_columns": null,
       "grid_auto_flow": null,
       "grid_auto_rows": null,
       "grid_column": null,
       "grid_gap": null,
       "grid_row": null,
       "grid_template_areas": null,
       "grid_template_columns": null,
       "grid_template_rows": null,
       "height": null,
       "justify_content": null,
       "justify_items": null,
       "left": null,
       "margin": null,
       "max_height": null,
       "max_width": null,
       "min_height": null,
       "min_width": null,
       "object_fit": null,
       "object_position": null,
       "order": null,
       "overflow": null,
       "overflow_x": null,
       "overflow_y": null,
       "padding": null,
       "right": null,
       "top": null,
       "visibility": null,
       "width": null
      }
     },
     "8137f45176f8464baba2ae949ad328c3": {
      "model_module": "@jupyter-widgets/controls",
      "model_module_version": "1.5.0",
      "model_name": "FloatProgressModel",
      "state": {
       "_dom_classes": [],
       "_model_module": "@jupyter-widgets/controls",
       "_model_module_version": "1.5.0",
       "_model_name": "FloatProgressModel",
       "_view_count": null,
       "_view_module": "@jupyter-widgets/controls",
       "_view_module_version": "1.5.0",
       "_view_name": "ProgressView",
       "bar_style": "success",
       "description": "",
       "description_tooltip": null,
       "layout": "IPY_MODEL_de0c6aac6bf0480b9710d8cdaf27e2b4",
       "max": 3.0,
       "min": 0.0,
       "orientation": "horizontal",
       "style": "IPY_MODEL_43dcf8cdb1bf46d6969055cad5f3caa5",
       "value": 3.0
      }
     },
     "862bbab3f2e242b8abe377ff0739cfa2": {
      "model_module": "@jupyter-widgets/base",
      "model_module_version": "1.2.0",
      "model_name": "LayoutModel",
      "state": {
       "_model_module": "@jupyter-widgets/base",
       "_model_module_version": "1.2.0",
       "_model_name": "LayoutModel",
       "_view_count": null,
       "_view_module": "@jupyter-widgets/base",
       "_view_module_version": "1.2.0",
       "_view_name": "LayoutView",
       "align_content": null,
       "align_items": null,
       "align_self": null,
       "border": null,
       "bottom": null,
       "display": null,
       "flex": null,
       "flex_flow": null,
       "grid_area": null,
       "grid_auto_columns": null,
       "grid_auto_flow": null,
       "grid_auto_rows": null,
       "grid_column": null,
       "grid_gap": null,
       "grid_row": null,
       "grid_template_areas": null,
       "grid_template_columns": null,
       "grid_template_rows": null,
       "height": null,
       "justify_content": null,
       "justify_items": null,
       "left": null,
       "margin": null,
       "max_height": null,
       "max_width": null,
       "min_height": null,
       "min_width": null,
       "object_fit": null,
       "object_position": null,
       "order": null,
       "overflow": null,
       "overflow_x": null,
       "overflow_y": null,
       "padding": null,
       "right": null,
       "top": null,
       "visibility": null,
       "width": null
      }
     },
     "9b3b821eb9d34ef3899ddded80c031db": {
      "model_module": "@jupyter-widgets/controls",
      "model_module_version": "1.5.0",
      "model_name": "HBoxModel",
      "state": {
       "_dom_classes": [],
       "_model_module": "@jupyter-widgets/controls",
       "_model_module_version": "1.5.0",
       "_model_name": "HBoxModel",
       "_view_count": null,
       "_view_module": "@jupyter-widgets/controls",
       "_view_module_version": "1.5.0",
       "_view_name": "HBoxView",
       "box_style": "",
       "children": [
        "IPY_MODEL_67c3dbc560f64e9fb12e273ed4cb9690",
        "IPY_MODEL_0e18b7981985470ca190a15e8617e6fe",
        "IPY_MODEL_38250ee7d6e94c148f8136f1aa70736d"
       ],
       "layout": "IPY_MODEL_1c724a24713e42e18b7cc6943af3a8b7"
      }
     },
     "9e655f44918d4c14bf7a32b75a010883": {
      "model_module": "@jupyter-widgets/controls",
      "model_module_version": "1.5.0",
      "model_name": "HTMLModel",
      "state": {
       "_dom_classes": [],
       "_model_module": "@jupyter-widgets/controls",
       "_model_module_version": "1.5.0",
       "_model_name": "HTMLModel",
       "_view_count": null,
       "_view_module": "@jupyter-widgets/controls",
       "_view_module_version": "1.5.0",
       "_view_name": "HTMLView",
       "description": "",
       "description_tooltip": null,
       "layout": "IPY_MODEL_66445809e7884492b3848be17155d6bf",
       "placeholder": "​",
       "style": "IPY_MODEL_2ddbc202ed2b41acabdec3d80593b73f",
       "value": "100%"
      }
     },
     "b8d15f33e4e94818a593ae32610a4836": {
      "model_module": "@jupyter-widgets/controls",
      "model_module_version": "1.5.0",
      "model_name": "ProgressStyleModel",
      "state": {
       "_model_module": "@jupyter-widgets/controls",
       "_model_module_version": "1.5.0",
       "_model_name": "ProgressStyleModel",
       "_view_count": null,
       "_view_module": "@jupyter-widgets/base",
       "_view_module_version": "1.2.0",
       "_view_name": "StyleView",
       "bar_color": null,
       "description_width": ""
      }
     },
     "c88c31d32a7440a69a1612a846bf3261": {
      "model_module": "@jupyter-widgets/base",
      "model_module_version": "1.2.0",
      "model_name": "LayoutModel",
      "state": {
       "_model_module": "@jupyter-widgets/base",
       "_model_module_version": "1.2.0",
       "_model_name": "LayoutModel",
       "_view_count": null,
       "_view_module": "@jupyter-widgets/base",
       "_view_module_version": "1.2.0",
       "_view_name": "LayoutView",
       "align_content": null,
       "align_items": null,
       "align_self": null,
       "border": null,
       "bottom": null,
       "display": null,
       "flex": null,
       "flex_flow": null,
       "grid_area": null,
       "grid_auto_columns": null,
       "grid_auto_flow": null,
       "grid_auto_rows": null,
       "grid_column": null,
       "grid_gap": null,
       "grid_row": null,
       "grid_template_areas": null,
       "grid_template_columns": null,
       "grid_template_rows": null,
       "height": null,
       "justify_content": null,
       "justify_items": null,
       "left": null,
       "margin": null,
       "max_height": null,
       "max_width": null,
       "min_height": null,
       "min_width": null,
       "object_fit": null,
       "object_position": null,
       "order": null,
       "overflow": null,
       "overflow_x": null,
       "overflow_y": null,
       "padding": null,
       "right": null,
       "top": null,
       "visibility": null,
       "width": null
      }
     },
     "d7b914035d1049bc80eea149b9c8e2e5": {
      "model_module": "@jupyter-widgets/base",
      "model_module_version": "1.2.0",
      "model_name": "LayoutModel",
      "state": {
       "_model_module": "@jupyter-widgets/base",
       "_model_module_version": "1.2.0",
       "_model_name": "LayoutModel",
       "_view_count": null,
       "_view_module": "@jupyter-widgets/base",
       "_view_module_version": "1.2.0",
       "_view_name": "LayoutView",
       "align_content": null,
       "align_items": null,
       "align_self": null,
       "border": null,
       "bottom": null,
       "display": null,
       "flex": null,
       "flex_flow": null,
       "grid_area": null,
       "grid_auto_columns": null,
       "grid_auto_flow": null,
       "grid_auto_rows": null,
       "grid_column": null,
       "grid_gap": null,
       "grid_row": null,
       "grid_template_areas": null,
       "grid_template_columns": null,
       "grid_template_rows": null,
       "height": null,
       "justify_content": null,
       "justify_items": null,
       "left": null,
       "margin": null,
       "max_height": null,
       "max_width": null,
       "min_height": null,
       "min_width": null,
       "object_fit": null,
       "object_position": null,
       "order": null,
       "overflow": null,
       "overflow_x": null,
       "overflow_y": null,
       "padding": null,
       "right": null,
       "top": null,
       "visibility": null,
       "width": null
      }
     },
     "dd46675c8c75440f8871ed57b30d051e": {
      "model_module": "@jupyter-widgets/controls",
      "model_module_version": "1.5.0",
      "model_name": "DescriptionStyleModel",
      "state": {
       "_model_module": "@jupyter-widgets/controls",
       "_model_module_version": "1.5.0",
       "_model_name": "DescriptionStyleModel",
       "_view_count": null,
       "_view_module": "@jupyter-widgets/base",
       "_view_module_version": "1.2.0",
       "_view_name": "StyleView",
       "description_width": ""
      }
     },
     "de0c6aac6bf0480b9710d8cdaf27e2b4": {
      "model_module": "@jupyter-widgets/base",
      "model_module_version": "1.2.0",
      "model_name": "LayoutModel",
      "state": {
       "_model_module": "@jupyter-widgets/base",
       "_model_module_version": "1.2.0",
       "_model_name": "LayoutModel",
       "_view_count": null,
       "_view_module": "@jupyter-widgets/base",
       "_view_module_version": "1.2.0",
       "_view_name": "LayoutView",
       "align_content": null,
       "align_items": null,
       "align_self": null,
       "border": null,
       "bottom": null,
       "display": null,
       "flex": null,
       "flex_flow": null,
       "grid_area": null,
       "grid_auto_columns": null,
       "grid_auto_flow": null,
       "grid_auto_rows": null,
       "grid_column": null,
       "grid_gap": null,
       "grid_row": null,
       "grid_template_areas": null,
       "grid_template_columns": null,
       "grid_template_rows": null,
       "height": null,
       "justify_content": null,
       "justify_items": null,
       "left": null,
       "margin": null,
       "max_height": null,
       "max_width": null,
       "min_height": null,
       "min_width": null,
       "object_fit": null,
       "object_position": null,
       "order": null,
       "overflow": null,
       "overflow_x": null,
       "overflow_y": null,
       "padding": null,
       "right": null,
       "top": null,
       "visibility": null,
       "width": null
      }
     },
     "f8769af77b484ae8b1daa5e3e06c9c10": {
      "model_module": "@jupyter-widgets/controls",
      "model_module_version": "1.5.0",
      "model_name": "HBoxModel",
      "state": {
       "_dom_classes": [],
       "_model_module": "@jupyter-widgets/controls",
       "_model_module_version": "1.5.0",
       "_model_name": "HBoxModel",
       "_view_count": null,
       "_view_module": "@jupyter-widgets/controls",
       "_view_module_version": "1.5.0",
       "_view_name": "HBoxView",
       "box_style": "",
       "children": [
        "IPY_MODEL_9e655f44918d4c14bf7a32b75a010883",
        "IPY_MODEL_8137f45176f8464baba2ae949ad328c3",
        "IPY_MODEL_49b5bda024de4342862911da083d485b"
       ],
       "layout": "IPY_MODEL_7875d88461cc4837afbebe863682e3df"
      }
     }
    },
    "version_major": 2,
    "version_minor": 0
   }
  }
 },
 "nbformat": 4,
 "nbformat_minor": 5
}
