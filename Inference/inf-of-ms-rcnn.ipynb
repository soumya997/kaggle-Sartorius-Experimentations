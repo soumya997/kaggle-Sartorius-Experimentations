{
 "cells": [
  {
   "cell_type": "markdown",
   "id": "fbb7907a",
   "metadata": {
    "papermill": {
     "duration": 0.023063,
     "end_time": "2021-12-19T20:21:56.607267",
     "exception": false,
     "start_time": "2021-12-19T20:21:56.584204",
     "status": "completed"
    },
    "tags": []
   },
   "source": [
    "# **Previous Notebooks**"
   ]
  },
  {
   "cell_type": "markdown",
   "id": "e4552360",
   "metadata": {
    "papermill": {
     "duration": 0.021602,
     "end_time": "2021-12-19T20:21:56.652954",
     "exception": false,
     "start_time": "2021-12-19T20:21:56.631352",
     "status": "completed"
    },
    "tags": []
   },
   "source": [
    "https://www.kaggle.com/vexxingbanana/sartorius-coco-dataset-notebook\n",
    "\n",
    "https://www.kaggle.com/vexxingbanana/sartorius-mmdetection-training"
   ]
  },
  {
   "cell_type": "markdown",
   "id": "40681789",
   "metadata": {
    "papermill": {
     "duration": 0.021524,
     "end_time": "2021-12-19T20:21:56.696374",
     "exception": false,
     "start_time": "2021-12-19T20:21:56.674850",
     "status": "completed"
    },
    "tags": []
   },
   "source": [
    "# **References**"
   ]
  },
  {
   "cell_type": "markdown",
   "id": "c08aee47",
   "metadata": {
    "papermill": {
     "duration": 0.022205,
     "end_time": "2021-12-19T20:21:56.740651",
     "exception": false,
     "start_time": "2021-12-19T20:21:56.718446",
     "status": "completed"
    },
    "tags": []
   },
   "source": [
    "https://www.kaggle.com/dschettler8845/sartorius-segmentation-eda-and-baseline\n",
    "\n",
    "https://www.kaggle.com/ihelon/cell-segmentation-run-length-decoding\n",
    "\n",
    "https://www.kaggle.com/stainsby/fast-tested-rle\n",
    "\n",
    "https://www.kaggle.com/paulorzp/run-length-encode-and-decode\n",
    "\n",
    "https://www.kaggle.com/awsaf49/sartorius-mmdetection-infer\n",
    "\n",
    "https://www.kaggle.com/awsaf49/sartorius-mmdetection-train\n",
    "\n",
    "https://www.kaggle.com/evancofsky/sartorius-torch-lightning-mask-r-cnn/notebook"
   ]
  },
  {
   "cell_type": "markdown",
   "id": "a039360d",
   "metadata": {
    "papermill": {
     "duration": 0.021746,
     "end_time": "2021-12-19T20:21:56.784753",
     "exception": false,
     "start_time": "2021-12-19T20:21:56.763007",
     "status": "completed"
    },
    "tags": []
   },
   "source": [
    "# **Install MMDetection**"
   ]
  },
  {
   "cell_type": "code",
   "execution_count": 1,
   "id": "2c431598",
   "metadata": {
    "_cell_guid": "b1076dfc-b9ad-4769-8c92-a6c4dae69d19",
    "_uuid": "8f2839f25d086af736a60e9eeb907d3b93b6e0e5",
    "execution": {
     "iopub.execute_input": "2021-12-19T20:21:56.842010Z",
     "iopub.status.busy": "2021-12-19T20:21:56.841211Z",
     "iopub.status.idle": "2021-12-19T20:23:51.704393Z",
     "shell.execute_reply": "2021-12-19T20:23:51.703791Z",
     "shell.execute_reply.started": "2021-12-19T20:13:16.963413Z"
    },
    "papermill": {
     "duration": 114.897885,
     "end_time": "2021-12-19T20:23:51.704556",
     "exception": false,
     "start_time": "2021-12-19T20:21:56.806671",
     "status": "completed"
    },
    "tags": []
   },
   "outputs": [
    {
     "name": "stdout",
     "output_type": "stream",
     "text": [
      "Processing /kaggle/input/pytorch-170-cuda-toolkit-110221/torch-1.7.0+cu110-cp37-cp37m-linux_x86_64.whl\r\n",
      "Installing collected packages: torch\r\n",
      "  Attempting uninstall: torch\r\n",
      "    Found existing installation: torch 1.9.1\r\n",
      "    Uninstalling torch-1.9.1:\r\n",
      "      Successfully uninstalled torch-1.9.1\r\n",
      "Successfully installed torch-1.7.0+cu110\r\n",
      "\u001b[33mWARNING: Running pip as the 'root' user can result in broken permissions and conflicting behaviour with the system package manager. It is recommended to use a virtual environment instead: https://pip.pypa.io/warnings/venv\u001b[0m\r\n",
      "Processing /kaggle/input/pytorch-170-cuda-toolkit-110221/torchvision-0.8.1+cu110-cp37-cp37m-linux_x86_64.whl\r\n",
      "Installing collected packages: torchvision\r\n",
      "  Attempting uninstall: torchvision\r\n",
      "    Found existing installation: torchvision 0.10.1\r\n",
      "    Uninstalling torchvision-0.10.1:\r\n",
      "      Successfully uninstalled torchvision-0.10.1\r\n",
      "Successfully installed torchvision-0.8.1+cu110\r\n",
      "\u001b[33mWARNING: Running pip as the 'root' user can result in broken permissions and conflicting behaviour with the system package manager. It is recommended to use a virtual environment instead: https://pip.pypa.io/warnings/venv\u001b[0m\r\n",
      "Processing /kaggle/input/pytorch-170-cuda-toolkit-110221/torchaudio-0.7.0-cp37-cp37m-linux_x86_64.whl\r\n",
      "Installing collected packages: torchaudio\r\n",
      "  Attempting uninstall: torchaudio\r\n",
      "    Found existing installation: torchaudio 0.9.1\r\n",
      "    Uninstalling torchaudio-0.9.1:\r\n",
      "      Successfully uninstalled torchaudio-0.9.1\r\n",
      "Successfully installed torchaudio-0.7.0\r\n",
      "\u001b[33mWARNING: Running pip as the 'root' user can result in broken permissions and conflicting behaviour with the system package manager. It is recommended to use a virtual environment instead: https://pip.pypa.io/warnings/venv\u001b[0m\r\n"
     ]
    }
   ],
   "source": [
    "!pip install '/kaggle/input/pytorch-170-cuda-toolkit-110221/torch-1.7.0+cu110-cp37-cp37m-linux_x86_64.whl' --no-deps\n",
    "!pip install '/kaggle/input/pytorch-170-cuda-toolkit-110221/torchvision-0.8.1+cu110-cp37-cp37m-linux_x86_64.whl' --no-deps\n",
    "!pip install '/kaggle/input/pytorch-170-cuda-toolkit-110221/torchaudio-0.7.0-cp37-cp37m-linux_x86_64.whl' --no-deps"
   ]
  },
  {
   "cell_type": "code",
   "execution_count": 2,
   "id": "e5b09548",
   "metadata": {
    "execution": {
     "iopub.execute_input": "2021-12-19T20:23:51.786644Z",
     "iopub.status.busy": "2021-12-19T20:23:51.781758Z",
     "iopub.status.idle": "2021-12-19T20:29:12.670813Z",
     "shell.execute_reply": "2021-12-19T20:29:12.669975Z",
     "shell.execute_reply.started": "2021-12-19T20:14:20.077526Z"
    },
    "papermill": {
     "duration": 320.939907,
     "end_time": "2021-12-19T20:29:12.670960",
     "exception": false,
     "start_time": "2021-12-19T20:23:51.731053",
     "status": "completed"
    },
    "tags": []
   },
   "outputs": [
    {
     "name": "stdout",
     "output_type": "stream",
     "text": [
      "Processing /kaggle/input/mmdetectionv2140/addict-2.4.0-py3-none-any.whl\r\n",
      "Installing collected packages: addict\r\n",
      "Successfully installed addict-2.4.0\r\n",
      "\u001b[33mWARNING: Running pip as the 'root' user can result in broken permissions and conflicting behaviour with the system package manager. It is recommended to use a virtual environment instead: https://pip.pypa.io/warnings/venv\u001b[0m\r\n",
      "Processing /kaggle/input/mmdetectionv2140/yapf-0.31.0-py2.py3-none-any.whl\r\n",
      "Installing collected packages: yapf\r\n",
      "Successfully installed yapf-0.31.0\r\n",
      "\u001b[33mWARNING: Running pip as the 'root' user can result in broken permissions and conflicting behaviour with the system package manager. It is recommended to use a virtual environment instead: https://pip.pypa.io/warnings/venv\u001b[0m\r\n",
      "Processing /kaggle/input/mmdetectionv2140/terminal-0.4.0-py3-none-any.whl\r\n",
      "Installing collected packages: terminal\r\n",
      "Successfully installed terminal-0.4.0\r\n",
      "\u001b[33mWARNING: Running pip as the 'root' user can result in broken permissions and conflicting behaviour with the system package manager. It is recommended to use a virtual environment instead: https://pip.pypa.io/warnings/venv\u001b[0m\r\n",
      "Processing /kaggle/input/mmdetectionv2140/terminaltables-3.1.0-py3-none-any.whl\r\n",
      "Installing collected packages: terminaltables\r\n",
      "Successfully installed terminaltables-3.1.0\r\n",
      "\u001b[33mWARNING: Running pip as the 'root' user can result in broken permissions and conflicting behaviour with the system package manager. It is recommended to use a virtual environment instead: https://pip.pypa.io/warnings/venv\u001b[0m\r\n",
      "Processing /kaggle/input/mmdetectionv2140/mmcv_full-1_3_8-cu110-torch1_7_0/mmcv_full-1.3.8-cp37-cp37m-manylinux1_x86_64.whl\r\n",
      "Installing collected packages: mmcv-full\r\n",
      "Successfully installed mmcv-full-1.3.8\r\n",
      "\u001b[33mWARNING: Running pip as the 'root' user can result in broken permissions and conflicting behaviour with the system package manager. It is recommended to use a virtual environment instead: https://pip.pypa.io/warnings/venv\u001b[0m\r\n",
      "Processing /kaggle/input/mmdetectionv2140/pycocotools-2.0.2/pycocotools-2.0.2\r\n",
      "  Preparing metadata (setup.py) ... \u001b[?25l-\b \b\\\b \bdone\r\n",
      "\u001b[?25hBuilding wheels for collected packages: pycocotools\r\n",
      "  Building wheel for pycocotools (setup.py) ... \u001b[?25l-\b \berror\r\n",
      "\u001b[31m  ERROR: Command errored out with exit status 1:\r\n",
      "   command: /opt/conda/bin/python3.7 -u -c 'import io, os, sys, setuptools, tokenize; sys.argv[0] = '\"'\"'/kaggle/input/mmdetectionv2140/pycocotools-2.0.2/pycocotools-2.0.2/setup.py'\"'\"'; __file__='\"'\"'/kaggle/input/mmdetectionv2140/pycocotools-2.0.2/pycocotools-2.0.2/setup.py'\"'\"';f = getattr(tokenize, '\"'\"'open'\"'\"', open)(__file__) if os.path.exists(__file__) else io.StringIO('\"'\"'from setuptools import setup; setup()'\"'\"');code = f.read().replace('\"'\"'\\r\\n'\"'\"', '\"'\"'\\n'\"'\"');f.close();exec(compile(code, __file__, '\"'\"'exec'\"'\"'))' bdist_wheel -d /tmp/pip-wheel-u_1_n4ny\r\n",
      "       cwd: /kaggle/input/mmdetectionv2140/pycocotools-2.0.2/pycocotools-2.0.2/\r\n",
      "  Complete output (5 lines):\r\n",
      "  running bdist_wheel\r\n",
      "  running build\r\n",
      "  running build_py\r\n",
      "  creating build\r\n",
      "  error: could not create 'build': Read-only file system\r\n",
      "  ----------------------------------------\u001b[0m\r\n",
      "\u001b[31m  ERROR: Failed building wheel for pycocotools\u001b[0m\r\n",
      "\u001b[?25h  Running setup.py clean for pycocotools\r\n",
      "Failed to build pycocotools\r\n",
      "Installing collected packages: pycocotools\r\n",
      "    Running setup.py install for pycocotools ... \u001b[?25l-\b \berror\r\n",
      "\u001b[31m    ERROR: Command errored out with exit status 1:\r\n",
      "     command: /opt/conda/bin/python3.7 -u -c 'import io, os, sys, setuptools, tokenize; sys.argv[0] = '\"'\"'/kaggle/input/mmdetectionv2140/pycocotools-2.0.2/pycocotools-2.0.2/setup.py'\"'\"'; __file__='\"'\"'/kaggle/input/mmdetectionv2140/pycocotools-2.0.2/pycocotools-2.0.2/setup.py'\"'\"';f = getattr(tokenize, '\"'\"'open'\"'\"', open)(__file__) if os.path.exists(__file__) else io.StringIO('\"'\"'from setuptools import setup; setup()'\"'\"');code = f.read().replace('\"'\"'\\r\\n'\"'\"', '\"'\"'\\n'\"'\"');f.close();exec(compile(code, __file__, '\"'\"'exec'\"'\"'))' install --record /tmp/pip-record-3_8_fjau/install-record.txt --single-version-externally-managed --compile --install-headers /opt/conda/include/python3.7m/pycocotools\r\n",
      "         cwd: /kaggle/input/mmdetectionv2140/pycocotools-2.0.2/pycocotools-2.0.2/\r\n",
      "    Complete output (7 lines):\r\n",
      "    running install\r\n",
      "    /opt/conda/lib/python3.7/site-packages/setuptools/command/install.py:37: SetuptoolsDeprecationWarning: setup.py install is deprecated. Use build and pip and other standards-based tools.\r\n",
      "      setuptools.SetuptoolsDeprecationWarning,\r\n",
      "    running build\r\n",
      "    running build_py\r\n",
      "    creating build\r\n",
      "    error: could not create 'build': Read-only file system\r\n",
      "    ----------------------------------------\u001b[0m\r\n",
      "\u001b[31mERROR: Command errored out with exit status 1: /opt/conda/bin/python3.7 -u -c 'import io, os, sys, setuptools, tokenize; sys.argv[0] = '\"'\"'/kaggle/input/mmdetectionv2140/pycocotools-2.0.2/pycocotools-2.0.2/setup.py'\"'\"'; __file__='\"'\"'/kaggle/input/mmdetectionv2140/pycocotools-2.0.2/pycocotools-2.0.2/setup.py'\"'\"';f = getattr(tokenize, '\"'\"'open'\"'\"', open)(__file__) if os.path.exists(__file__) else io.StringIO('\"'\"'from setuptools import setup; setup()'\"'\"');code = f.read().replace('\"'\"'\\r\\n'\"'\"', '\"'\"'\\n'\"'\"');f.close();exec(compile(code, __file__, '\"'\"'exec'\"'\"'))' install --record /tmp/pip-record-3_8_fjau/install-record.txt --single-version-externally-managed --compile --install-headers /opt/conda/include/python3.7m/pycocotools Check the logs for full command output.\u001b[0m\r\n",
      "\u001b[?25hProcessing /kaggle/input/mmdetectionv2140/mmpycocotools-12.0.3/mmpycocotools-12.0.3\r\n",
      "  Preparing metadata (setup.py) ... \u001b[?25l-\b \bdone\r\n",
      "\u001b[?25hBuilding wheels for collected packages: mmpycocotools\r\n",
      "  Building wheel for mmpycocotools (setup.py) ... \u001b[?25l-\b \berror\r\n",
      "\u001b[31m  ERROR: Command errored out with exit status 1:\r\n",
      "   command: /opt/conda/bin/python3.7 -u -c 'import io, os, sys, setuptools, tokenize; sys.argv[0] = '\"'\"'/kaggle/input/mmdetectionv2140/mmpycocotools-12.0.3/mmpycocotools-12.0.3/setup.py'\"'\"'; __file__='\"'\"'/kaggle/input/mmdetectionv2140/mmpycocotools-12.0.3/mmpycocotools-12.0.3/setup.py'\"'\"';f = getattr(tokenize, '\"'\"'open'\"'\"', open)(__file__) if os.path.exists(__file__) else io.StringIO('\"'\"'from setuptools import setup; setup()'\"'\"');code = f.read().replace('\"'\"'\\r\\n'\"'\"', '\"'\"'\\n'\"'\"');f.close();exec(compile(code, __file__, '\"'\"'exec'\"'\"'))' bdist_wheel -d /tmp/pip-wheel-7flo9v66\r\n",
      "       cwd: /kaggle/input/mmdetectionv2140/mmpycocotools-12.0.3/mmpycocotools-12.0.3/\r\n",
      "  Complete output (5 lines):\r\n",
      "  running bdist_wheel\r\n",
      "  running build\r\n",
      "  running build_py\r\n",
      "  creating build\r\n",
      "  error: could not create 'build': Read-only file system\r\n",
      "  ----------------------------------------\u001b[0m\r\n",
      "\u001b[31m  ERROR: Failed building wheel for mmpycocotools\u001b[0m\r\n",
      "\u001b[?25h  Running setup.py clean for mmpycocotools\r\n",
      "Failed to build mmpycocotools\r\n",
      "Installing collected packages: mmpycocotools\r\n",
      "    Running setup.py install for mmpycocotools ... \u001b[?25l-\b \berror\r\n",
      "\u001b[31m    ERROR: Command errored out with exit status 1:\r\n",
      "     command: /opt/conda/bin/python3.7 -u -c 'import io, os, sys, setuptools, tokenize; sys.argv[0] = '\"'\"'/kaggle/input/mmdetectionv2140/mmpycocotools-12.0.3/mmpycocotools-12.0.3/setup.py'\"'\"'; __file__='\"'\"'/kaggle/input/mmdetectionv2140/mmpycocotools-12.0.3/mmpycocotools-12.0.3/setup.py'\"'\"';f = getattr(tokenize, '\"'\"'open'\"'\"', open)(__file__) if os.path.exists(__file__) else io.StringIO('\"'\"'from setuptools import setup; setup()'\"'\"');code = f.read().replace('\"'\"'\\r\\n'\"'\"', '\"'\"'\\n'\"'\"');f.close();exec(compile(code, __file__, '\"'\"'exec'\"'\"'))' install --record /tmp/pip-record-m6_wv9kr/install-record.txt --single-version-externally-managed --compile --install-headers /opt/conda/include/python3.7m/mmpycocotools\r\n",
      "         cwd: /kaggle/input/mmdetectionv2140/mmpycocotools-12.0.3/mmpycocotools-12.0.3/\r\n",
      "    Complete output (7 lines):\r\n",
      "    running install\r\n",
      "    /opt/conda/lib/python3.7/site-packages/setuptools/command/install.py:37: SetuptoolsDeprecationWarning: setup.py install is deprecated. Use build and pip and other standards-based tools.\r\n",
      "      setuptools.SetuptoolsDeprecationWarning,\r\n",
      "    running build\r\n",
      "    running build_py\r\n",
      "    creating build\r\n",
      "    error: could not create 'build': Read-only file system\r\n",
      "    ----------------------------------------\u001b[0m\r\n",
      "\u001b[31mERROR: Command errored out with exit status 1: /opt/conda/bin/python3.7 -u -c 'import io, os, sys, setuptools, tokenize; sys.argv[0] = '\"'\"'/kaggle/input/mmdetectionv2140/mmpycocotools-12.0.3/mmpycocotools-12.0.3/setup.py'\"'\"'; __file__='\"'\"'/kaggle/input/mmdetectionv2140/mmpycocotools-12.0.3/mmpycocotools-12.0.3/setup.py'\"'\"';f = getattr(tokenize, '\"'\"'open'\"'\"', open)(__file__) if os.path.exists(__file__) else io.StringIO('\"'\"'from setuptools import setup; setup()'\"'\"');code = f.read().replace('\"'\"'\\r\\n'\"'\"', '\"'\"'\\n'\"'\"');f.close();exec(compile(code, __file__, '\"'\"'exec'\"'\"'))' install --record /tmp/pip-record-m6_wv9kr/install-record.txt --single-version-externally-managed --compile --install-headers /opt/conda/include/python3.7m/mmpycocotools Check the logs for full command output.\u001b[0m\r\n",
      "\u001b[?25h/kaggle/working/mmdetection\n",
      "Obtaining file:///kaggle/working/mmdetection\r\n",
      "  Preparing metadata (setup.py) ... \u001b[?25l-\b \bdone\r\n",
      "\u001b[?25hRequirement already satisfied: matplotlib in /opt/conda/lib/python3.7/site-packages (from mmdet==2.18.1) (3.5.0)\r\n",
      "Requirement already satisfied: numpy in /opt/conda/lib/python3.7/site-packages (from mmdet==2.18.1) (1.19.5)\r\n",
      "Requirement already satisfied: six in /opt/conda/lib/python3.7/site-packages (from mmdet==2.18.1) (1.16.0)\r\n",
      "Requirement already satisfied: terminaltables in /opt/conda/lib/python3.7/site-packages (from mmdet==2.18.1) (3.1.0)\r\n",
      "\u001b[33mWARNING: Retrying (Retry(total=4, connect=None, read=None, redirect=None, status=None)) after connection broken by 'NewConnectionError('<pip._vendor.urllib3.connection.HTTPSConnection object at 0x7f6198eb3650>: Failed to establish a new connection: [Errno -3] Temporary failure in name resolution')': /simple/pycocotools/\u001b[0m\r\n",
      "\u001b[33mWARNING: Retrying (Retry(total=3, connect=None, read=None, redirect=None, status=None)) after connection broken by 'NewConnectionError('<pip._vendor.urllib3.connection.HTTPSConnection object at 0x7f6199021410>: Failed to establish a new connection: [Errno -3] Temporary failure in name resolution')': /simple/pycocotools/\u001b[0m\r\n",
      "\u001b[33mWARNING: Retrying (Retry(total=2, connect=None, read=None, redirect=None, status=None)) after connection broken by 'NewConnectionError('<pip._vendor.urllib3.connection.HTTPSConnection object at 0x7f6199021090>: Failed to establish a new connection: [Errno -3] Temporary failure in name resolution')': /simple/pycocotools/\u001b[0m\r\n",
      "\u001b[33mWARNING: Retrying (Retry(total=1, connect=None, read=None, redirect=None, status=None)) after connection broken by 'NewConnectionError('<pip._vendor.urllib3.connection.HTTPSConnection object at 0x7f6198f47f90>: Failed to establish a new connection: [Errno -3] Temporary failure in name resolution')': /simple/pycocotools/\u001b[0m\r\n",
      "\u001b[33mWARNING: Retrying (Retry(total=0, connect=None, read=None, redirect=None, status=None)) after connection broken by 'NewConnectionError('<pip._vendor.urllib3.connection.HTTPSConnection object at 0x7f6198f47b10>: Failed to establish a new connection: [Errno -3] Temporary failure in name resolution')': /simple/pycocotools/\u001b[0m\r\n",
      "\u001b[31mERROR: Could not find a version that satisfies the requirement pycocotools (from mmdet) (from versions: none)\u001b[0m\r\n",
      "\u001b[31mERROR: No matching distribution found for pycocotools\u001b[0m\r\n"
     ]
    }
   ],
   "source": [
    "!pip install '/kaggle/input/mmdetectionv2140/addict-2.4.0-py3-none-any.whl' --no-deps\n",
    "!pip install '/kaggle/input/mmdetectionv2140/yapf-0.31.0-py2.py3-none-any.whl' --no-deps\n",
    "!pip install '/kaggle/input/mmdetectionv2140/terminal-0.4.0-py3-none-any.whl' --no-deps\n",
    "!pip install '/kaggle/input/mmdetectionv2140/terminaltables-3.1.0-py3-none-any.whl' --no-deps\n",
    "!pip install '/kaggle/input/mmdetectionv2140/mmcv_full-1_3_8-cu110-torch1_7_0/mmcv_full-1.3.8-cp37-cp37m-manylinux1_x86_64.whl' --no-deps\n",
    "!pip install '/kaggle/input/mmdetectionv2140/pycocotools-2.0.2/pycocotools-2.0.2' --no-deps\n",
    "!pip install '/kaggle/input/mmdetectionv2140/mmpycocotools-12.0.3/mmpycocotools-12.0.3' --no-deps\n",
    "\n",
    "!rm -rf mmdetection\n",
    "\n",
    "!cp -r ../input/edited-mmdetection /kaggle/working/\n",
    "!mv /kaggle/working/edited-mmdetection /kaggle/working/mmdetection\n",
    "%cd /kaggle/working/mmdetection\n",
    "!pip install -e ."
   ]
  },
  {
   "cell_type": "markdown",
   "id": "d81eb592",
   "metadata": {
    "papermill": {
     "duration": 0.036806,
     "end_time": "2021-12-19T20:29:12.745319",
     "exception": false,
     "start_time": "2021-12-19T20:29:12.708513",
     "status": "completed"
    },
    "tags": []
   },
   "source": [
    "# **Import Libraries**"
   ]
  },
  {
   "cell_type": "code",
   "execution_count": 3,
   "id": "846b5e68",
   "metadata": {
    "execution": {
     "iopub.execute_input": "2021-12-19T20:29:12.829181Z",
     "iopub.status.busy": "2021-12-19T20:29:12.828413Z",
     "iopub.status.idle": "2021-12-19T20:29:18.679917Z",
     "shell.execute_reply": "2021-12-19T20:29:18.679188Z",
     "shell.execute_reply.started": "2021-12-19T03:00:16.935828Z"
    },
    "papermill": {
     "duration": 5.897175,
     "end_time": "2021-12-19T20:29:18.680232",
     "exception": true,
     "start_time": "2021-12-19T20:29:12.783057",
     "status": "failed"
    },
    "tags": []
   },
   "outputs": [
    {
     "ename": "ModuleNotFoundError",
     "evalue": "No module named 'pycocotools'",
     "output_type": "error",
     "traceback": [
      "\u001b[0;31m---------------------------------------------------------------------------\u001b[0m",
      "\u001b[0;31mModuleNotFoundError\u001b[0m                       Traceback (most recent call last)",
      "\u001b[0;32m/tmp/ipykernel_24/1065070722.py\u001b[0m in \u001b[0;36m<module>\u001b[0;34m\u001b[0m\n\u001b[1;32m     23\u001b[0m \u001b[0;32mimport\u001b[0m \u001b[0mglob\u001b[0m\u001b[0;34m\u001b[0m\u001b[0;34m\u001b[0m\u001b[0m\n\u001b[1;32m     24\u001b[0m \u001b[0;32mfrom\u001b[0m \u001b[0mpathlib\u001b[0m \u001b[0;32mimport\u001b[0m \u001b[0mPath\u001b[0m\u001b[0;34m\u001b[0m\u001b[0;34m\u001b[0m\u001b[0m\n\u001b[0;32m---> 25\u001b[0;31m \u001b[0;32mimport\u001b[0m \u001b[0mpycocotools\u001b[0m\u001b[0;34m\u001b[0m\u001b[0;34m\u001b[0m\u001b[0m\n\u001b[0m\u001b[1;32m     26\u001b[0m \u001b[0;32mfrom\u001b[0m \u001b[0mpycocotools\u001b[0m \u001b[0;32mimport\u001b[0m \u001b[0mmask\u001b[0m\u001b[0;34m\u001b[0m\u001b[0;34m\u001b[0m\u001b[0m\n\u001b[1;32m     27\u001b[0m \u001b[0;32mimport\u001b[0m \u001b[0mnumpy\u001b[0m\u001b[0;34m.\u001b[0m\u001b[0mrandom\u001b[0m\u001b[0;34m\u001b[0m\u001b[0;34m\u001b[0m\u001b[0m\n",
      "\u001b[0;31mModuleNotFoundError\u001b[0m: No module named 'pycocotools'"
     ]
    }
   ],
   "source": [
    "import torch\n",
    "import torch.nn as nn\n",
    "import torchvision.transforms as transforms\n",
    "import torch.nn.functional as F\n",
    "import sklearn\n",
    "import torchvision\n",
    "from sklearn.model_selection import train_test_split\n",
    "from sklearn.preprocessing import LabelEncoder\n",
    "import numpy as np\n",
    "import cupy as cp\n",
    "import gc\n",
    "import pandas as pd\n",
    "import os\n",
    "import matplotlib.pyplot as plt\n",
    "import PIL\n",
    "import json\n",
    "from PIL import Image, ImageEnhance\n",
    "import albumentations as A\n",
    "import mmdet\n",
    "import mmcv\n",
    "from albumentations.pytorch import ToTensorV2\n",
    "import seaborn as sns\n",
    "import glob\n",
    "from pathlib import Path\n",
    "import pycocotools\n",
    "from pycocotools import mask\n",
    "import numpy.random\n",
    "import random\n",
    "import cv2\n",
    "import re\n",
    "import shutil\n",
    "from mmdet.datasets import build_dataset\n",
    "from mmdet.models import build_detector\n",
    "from mmdet.apis import train_detector\n",
    "from mmdet.apis import inference_detector, init_detector, show_result_pyplot, set_random_seed"
   ]
  },
  {
   "cell_type": "code",
   "execution_count": null,
   "id": "cf1ed164",
   "metadata": {
    "execution": {
     "iopub.execute_input": "2021-12-19T03:00:42.605939Z",
     "iopub.status.busy": "2021-12-19T03:00:42.605691Z",
     "iopub.status.idle": "2021-12-19T03:00:42.612878Z",
     "shell.execute_reply": "2021-12-19T03:00:42.611958Z",
     "shell.execute_reply.started": "2021-12-19T03:00:42.60591Z"
    },
    "papermill": {
     "duration": null,
     "end_time": null,
     "exception": null,
     "start_time": null,
     "status": "pending"
    },
    "tags": []
   },
   "outputs": [],
   "source": [
    "%cd .."
   ]
  },
  {
   "cell_type": "markdown",
   "id": "7e09957f",
   "metadata": {
    "papermill": {
     "duration": null,
     "end_time": null,
     "exception": null,
     "start_time": null,
     "status": "pending"
    },
    "tags": []
   },
   "source": [
    "# **Helper Functions**"
   ]
  },
  {
   "cell_type": "code",
   "execution_count": null,
   "id": "64174ced",
   "metadata": {
    "execution": {
     "iopub.execute_input": "2021-12-19T03:00:42.614616Z",
     "iopub.status.busy": "2021-12-19T03:00:42.614023Z",
     "iopub.status.idle": "2021-12-19T03:00:42.622035Z",
     "shell.execute_reply": "2021-12-19T03:00:42.621362Z",
     "shell.execute_reply.started": "2021-12-19T03:00:42.614579Z"
    },
    "papermill": {
     "duration": null,
     "end_time": null,
     "exception": null,
     "start_time": null,
     "status": "pending"
    },
    "tags": []
   },
   "outputs": [],
   "source": [
    "IMG_WIDTH = 704\n",
    "IMG_HEIGHT = 520"
   ]
  },
  {
   "cell_type": "code",
   "execution_count": null,
   "id": "e61a8a6b",
   "metadata": {
    "execution": {
     "iopub.execute_input": "2021-12-19T03:00:42.624095Z",
     "iopub.status.busy": "2021-12-19T03:00:42.623863Z",
     "iopub.status.idle": "2021-12-19T03:00:42.633956Z",
     "shell.execute_reply": "2021-12-19T03:00:42.633018Z",
     "shell.execute_reply.started": "2021-12-19T03:00:42.624053Z"
    },
    "papermill": {
     "duration": null,
     "end_time": null,
     "exception": null,
     "start_time": null,
     "status": "pending"
    },
    "tags": []
   },
   "outputs": [],
   "source": [
    "def rle_decode(mask_rle, shape):\n",
    "    '''\n",
    "    mask_rle: run-length as string formated (start length)\n",
    "    shape: (height,width) of array to return \n",
    "    Returns numpy array, 1 - mask, 0 - background\n",
    "\n",
    "    '''\n",
    "    s = mask_rle.split()\n",
    "    starts, lengths = [np.asarray(x, dtype=int) for x in (s[0:][::2], s[1:][::2])]\n",
    "    starts -= 1\n",
    "    ends = starts + lengths\n",
    "    img = np.zeros(shape[0]*shape[1], dtype=np.uint8)\n",
    "    for lo, hi in zip(starts, ends):\n",
    "        img[lo:hi] = 1\n",
    "    return img.reshape(shape)\n",
    "\n",
    "def rle_encode(img):\n",
    "    '''\n",
    "    img: numpy array, 1 - mask, 0 - background\n",
    "    Returns run length as string formated\n",
    "    '''\n",
    "    pixels = img.flatten()\n",
    "    pixels = np.concatenate([[0], pixels, [0]])\n",
    "    runs = np.where(pixels[1:] != pixels[:-1])[0] + 1\n",
    "    runs[1::2] -= runs[::2]\n",
    "    return ' '.join(str(x) for x in runs)"
   ]
  },
  {
   "cell_type": "code",
   "execution_count": null,
   "id": "e26dc380",
   "metadata": {
    "execution": {
     "iopub.execute_input": "2021-12-19T03:00:42.635769Z",
     "iopub.status.busy": "2021-12-19T03:00:42.635341Z",
     "iopub.status.idle": "2021-12-19T03:00:42.64694Z",
     "shell.execute_reply": "2021-12-19T03:00:42.646253Z",
     "shell.execute_reply.started": "2021-12-19T03:00:42.63573Z"
    },
    "papermill": {
     "duration": null,
     "end_time": null,
     "exception": null,
     "start_time": null,
     "status": "pending"
    },
    "tags": []
   },
   "outputs": [],
   "source": [
    "def rle_encoding(x):\n",
    "    dots = np.where(x.flatten() == 1)[0]\n",
    "    run_lengths = []\n",
    "    prev = -2\n",
    "    for b in dots:\n",
    "        if (b>prev+1): run_lengths.extend((b + 1, 0))\n",
    "        run_lengths[-1] += 1\n",
    "        prev = b\n",
    "    return ' '.join(map(str, run_lengths))"
   ]
  },
  {
   "cell_type": "code",
   "execution_count": null,
   "id": "7279a6dd",
   "metadata": {
    "execution": {
     "iopub.execute_input": "2021-12-19T03:00:42.648625Z",
     "iopub.status.busy": "2021-12-19T03:00:42.647928Z",
     "iopub.status.idle": "2021-12-19T03:00:42.656798Z",
     "shell.execute_reply": "2021-12-19T03:00:42.656161Z",
     "shell.execute_reply.started": "2021-12-19T03:00:42.648596Z"
    },
    "papermill": {
     "duration": null,
     "end_time": null,
     "exception": null,
     "start_time": null,
     "status": "pending"
    },
    "tags": []
   },
   "outputs": [],
   "source": [
    "def get_mask_from_result(result):\n",
    "    d = {True : 1, False : 0}\n",
    "    u,inv = np.unique(result,return_inverse = True)\n",
    "    mk = cp.array([d[x] for x in u])[inv].reshape(result.shape)\n",
    "#     print(mk.shape)\n",
    "    return mk"
   ]
  },
  {
   "cell_type": "code",
   "execution_count": null,
   "id": "0a6a3e5b",
   "metadata": {
    "execution": {
     "iopub.execute_input": "2021-12-19T03:00:42.658181Z",
     "iopub.status.busy": "2021-12-19T03:00:42.657884Z",
     "iopub.status.idle": "2021-12-19T03:00:42.667039Z",
     "shell.execute_reply": "2021-12-19T03:00:42.666436Z",
     "shell.execute_reply.started": "2021-12-19T03:00:42.658155Z"
    },
    "papermill": {
     "duration": null,
     "end_time": null,
     "exception": null,
     "start_time": null,
     "status": "pending"
    },
    "tags": []
   },
   "outputs": [],
   "source": [
    "def does_overlap(mask, other_masks):\n",
    "    for other_mask in other_masks:\n",
    "        if np.sum(np.logical_and(mask, other_mask)) > 0:\n",
    "            return True\n",
    "    return False\n",
    "\n",
    "\n",
    "def remove_overlapping_pixels(mask, other_masks):\n",
    "    for other_mask in other_masks:\n",
    "        if np.sum(np.logical_and(mask, other_mask)) > 0:\n",
    "            print(\"Overlap detected\")\n",
    "            mask[np.logical_and(mask, other_mask)] = 0\n",
    "    return mask"
   ]
  },
  {
   "cell_type": "code",
   "execution_count": null,
   "id": "243ec15b",
   "metadata": {
    "execution": {
     "iopub.execute_input": "2021-12-19T03:00:50.200307Z",
     "iopub.status.busy": "2021-12-19T03:00:50.199837Z",
     "iopub.status.idle": "2021-12-19T03:00:50.213703Z",
     "shell.execute_reply": "2021-12-19T03:00:50.212513Z",
     "shell.execute_reply.started": "2021-12-19T03:00:50.200258Z"
    },
    "papermill": {
     "duration": null,
     "end_time": null,
     "exception": null,
     "start_time": null,
     "status": "pending"
    },
    "tags": []
   },
   "outputs": [],
   "source": [
    "def get_img_and_mask(img_path, annotation, width, height):\n",
    "    \"\"\" Capture the relevant image array as well as the image mask \"\"\"\n",
    "    img_mask = np.zeros((height, width), dtype=np.uint8)\n",
    "    for i, annot in enumerate(annotation): \n",
    "        img_mask = np.where(rle_decode(annot, (height, width))!=0, i, img_mask)\n",
    "    img = cv2.imread(img_path)[..., ::-1]\n",
    "    return img[..., 0], img_mask\n",
    "\n",
    "def plot_img_and_mask(img, mask, invert_img=True, boost_contrast=True):\n",
    "    \"\"\" Function to take an image and the corresponding mask and plot\n",
    "    \n",
    "    Args:\n",
    "        img (np.arr): 1 channel np arr representing the image of cellular structures\n",
    "        mask (np.arr): 1 channel np arr representing the instance masks (incrementing by one)\n",
    "        invert_img (bool, optional): Whether or not to invert the base image\n",
    "        boost_contrast (bool, optional): Whether or not to boost contrast of the base image\n",
    "        \n",
    "    Returns:\n",
    "        None; Plots the two arrays and overlays them to create a merged image\n",
    "    \"\"\"\n",
    "    plt.figure(figsize=(20,10))\n",
    "    \n",
    "    plt.subplot(1,3,1)\n",
    "    _img = np.tile(np.expand_dims(img, axis=-1), 3)\n",
    "    \n",
    "    # Flip black-->white ... white-->black\n",
    "    if invert_img:\n",
    "        _img = _img.max()-_img\n",
    "        \n",
    "    if boost_contrast:\n",
    "        _img = np.asarray(ImageEnhance.Contrast(Image.fromarray(_img)).enhance(16))\n",
    "        \n",
    "    plt.imshow(_img)\n",
    "    plt.axis(False)\n",
    "    plt.title(\"Cell Image\", fontweight=\"bold\")\n",
    "    \n",
    "    plt.subplot(1,3,2)\n",
    "    _mask = np.zeros_like(_img)\n",
    "    _mask[..., 0] = mask\n",
    "    plt.imshow(mask, cmap='rainbow')\n",
    "    plt.axis(False)\n",
    "    plt.title(\"Instance Segmentation Mask\", fontweight=\"bold\")\n",
    "    \n",
    "    merged = cv2.addWeighted(_img, 0.75, np.clip(_mask, 0, 1)*255, 0.25, 0.0,)\n",
    "    plt.subplot(1,3,3)\n",
    "    plt.imshow(merged)\n",
    "    plt.axis(False)\n",
    "    plt.title(\"Cell Image w/ Instance Segmentation Mask Overlay\", fontweight=\"bold\")\n",
    "    \n",
    "    plt.tight_layout()\n",
    "    plt.show()"
   ]
  },
  {
   "cell_type": "markdown",
   "id": "e68f09fb",
   "metadata": {
    "papermill": {
     "duration": null,
     "end_time": null,
     "exception": null,
     "start_time": null,
     "status": "pending"
    },
    "tags": []
   },
   "source": [
    "# **Model**"
   ]
  },
  {
   "cell_type": "code",
   "execution_count": null,
   "id": "a4495449",
   "metadata": {
    "execution": {
     "iopub.execute_input": "2021-12-19T03:00:50.637534Z",
     "iopub.status.busy": "2021-12-19T03:00:50.637213Z",
     "iopub.status.idle": "2021-12-19T03:00:50.673752Z",
     "shell.execute_reply": "2021-12-19T03:00:50.673068Z",
     "shell.execute_reply.started": "2021-12-19T03:00:50.637493Z"
    },
    "papermill": {
     "duration": null,
     "end_time": null,
     "exception": null,
     "start_time": null,
     "status": "pending"
    },
    "tags": []
   },
   "outputs": [],
   "source": [
    "from mmcv import Config\n",
    "cfg = Config.fromfile('/kaggle/working/mmdetection/configs/ms_rcnn/ms_rcnn_x101_32x4d_fpn_1x_coco.py')\n",
    "# cfg = Config.fromfile('/kaggle/working/mmdetection/configs/cascade_rcnn/cascade_mask_rcnn_r50_fpn_20e_coco.py')"
   ]
  },
  {
   "cell_type": "code",
   "execution_count": null,
   "id": "ca14d002",
   "metadata": {
    "execution": {
     "iopub.execute_input": "2021-12-19T03:00:50.916832Z",
     "iopub.status.busy": "2021-12-19T03:00:50.916391Z",
     "iopub.status.idle": "2021-12-19T03:00:51.965096Z",
     "shell.execute_reply": "2021-12-19T03:00:51.964074Z",
     "shell.execute_reply.started": "2021-12-19T03:00:50.916802Z"
    },
    "papermill": {
     "duration": null,
     "end_time": null,
     "exception": null,
     "start_time": null,
     "status": "pending"
    },
    "tags": []
   },
   "outputs": [],
   "source": [
    "cfg.model.roi_head.bbox_head.num_classes = 3\n",
    "    \n",
    "cfg.model.roi_head.mask_head.num_classes=3\n",
    "\n",
    "cfg.model.roi_head.mask_iou_head.num_classes=3\n",
    "\n",
    "cfg.test_pipeline = [\n",
    "    dict(type='LoadImageFromFile'),\n",
    "    dict(\n",
    "        type='MultiScaleFlipAug',\n",
    "        img_scale=(1333, 800),\n",
    "        flip=False,\n",
    "        transforms=[\n",
    "            dict(type='Resize', keep_ratio=True),\n",
    "            dict(type='RandomFlip'),\n",
    "            dict(\n",
    "                type='Normalize',\n",
    "                mean=[128, 128, 128],\n",
    "                std=[11.58, 11.58, 11.58],\n",
    "                to_rgb=True),\n",
    "            dict(type='Pad', size_divisor=32),\n",
    "            dict(type='ImageToTensor', keys=['img']),\n",
    "            dict(type='Collect', keys=['img'])\n",
    "        ])\n",
    "]\n",
    "\n",
    "# cfg.data.test.pipeline[1].transforms[2] = dict(\n",
    "#                                             type='Normalize',\n",
    "#                                             mean=[128, 128, 128],\n",
    "#                                             std=[11.58, 11.58, 11.58],\n",
    "#                                             to_rgb=True)\n",
    "\n",
    "cfg.data.test.pipeline = cfg.test_pipeline\n",
    "\n",
    "cfg.model.test_cfg.rcnn.max_per_img = 300\n",
    "\n",
    "# cfg.load_from = '../input/cascade-mask-rcnn-mmdet/cascade_mask_rcnn_x101_64x4d_fpn_20e_coco_20200512_161033-bdb5126a.pth'\n",
    "\n",
    "cfg.work_dir = '/kaggle/working/model_output'\n",
    "\n",
    "cfg.data.samples_per_gpu = 2\n",
    "cfg.data.workers_per_gpu = 2\n",
    "\n",
    "cfg.img_norm_cfg = dict(  \n",
    "    mean=[128, 128, 128],  \n",
    "    std=[11.58, 11.58, 11.58],  \n",
    "    to_rgb=True)\n",
    "\n",
    "cfg.seed = 0\n",
    "set_random_seed(0, deterministic=False)\n",
    "cfg.gpu_ids = range(1)\n",
    "cfg.fp16 = dict(loss_scale=512.0)\n",
    "meta = dict()\n",
    "meta['config'] = cfg.pretty_text\n",
    "\n",
    "print(f'Config:\\n{cfg.pretty_text}')"
   ]
  },
  {
   "cell_type": "markdown",
   "id": "8cdd763e",
   "metadata": {
    "papermill": {
     "duration": null,
     "end_time": null,
     "exception": null,
     "start_time": null,
     "status": "pending"
    },
    "tags": []
   },
   "source": [
    "# **Inference**"
   ]
  },
  {
   "cell_type": "code",
   "execution_count": null,
   "id": "eeb51c22",
   "metadata": {
    "execution": {
     "iopub.execute_input": "2021-12-19T03:00:53.565361Z",
     "iopub.status.busy": "2021-12-19T03:00:53.564855Z",
     "iopub.status.idle": "2021-12-19T03:00:53.569384Z",
     "shell.execute_reply": "2021-12-19T03:00:53.568604Z",
     "shell.execute_reply.started": "2021-12-19T03:00:53.565328Z"
    },
    "papermill": {
     "duration": null,
     "end_time": null,
     "exception": null,
     "start_time": null,
     "status": "pending"
    },
    "tags": []
   },
   "outputs": [],
   "source": [
    "confidence_thresholds = {0: 0.25, 1: 0.55, 2: 0.35}"
   ]
  },
  {
   "cell_type": "code",
   "execution_count": null,
   "id": "705224c3",
   "metadata": {
    "execution": {
     "iopub.execute_input": "2021-12-19T03:00:53.789366Z",
     "iopub.status.busy": "2021-12-19T03:00:53.789056Z",
     "iopub.status.idle": "2021-12-19T03:00:53.793305Z",
     "shell.execute_reply": "2021-12-19T03:00:53.792476Z",
     "shell.execute_reply.started": "2021-12-19T03:00:53.789315Z"
    },
    "papermill": {
     "duration": null,
     "end_time": null,
     "exception": null,
     "start_time": null,
     "status": "pending"
    },
    "tags": []
   },
   "outputs": [],
   "source": [
    "segms = []\n",
    "files = []"
   ]
  },
  {
   "cell_type": "code",
   "execution_count": null,
   "id": "1a441a1e",
   "metadata": {
    "papermill": {
     "duration": null,
     "end_time": null,
     "exception": null,
     "start_time": null,
     "status": "pending"
    },
    "tags": []
   },
   "outputs": [],
   "source": [
    "\"\"\"\n",
    "result -> tuple -> len=2 |---> list --> len = 3\n",
    "                         |\n",
    "                         |---> tuple --> len = 2\n",
    "\n",
    "\n",
    "\n",
    "\"\"\""
   ]
  },
  {
   "cell_type": "code",
   "execution_count": null,
   "id": "de74660c",
   "metadata": {
    "papermill": {
     "duration": null,
     "end_time": null,
     "exception": null,
     "start_time": null,
     "status": "pending"
    },
    "tags": []
   },
   "outputs": [],
   "source": [
    "import mmcv\n",
    "\n",
    "model = init_detector(cfg, '/kaggle/input/sartorius-mmdetection-training-1/finetune_output/epoch_5.pth')\n",
    "for file in sorted(os.listdir('../input/sartorius-cell-instance-segmentation/test')):\n",
    "    img = mmcv.imread('../input/sartorius-cell-instance-segmentation/test/' + file)\n",
    "    result = inference_detector(model, img)\n",
    "    show_result_pyplot(model, img, result)\n",
    "    bbox_result, segm_result = result\n",
    "    bboxes = np.vstack(bbox_result)\n",
    "#     print(bboxes[:,-1])\n",
    "    \n",
    "    if isinstance(segm_result, tuple):\n",
    "        segm_result = segm_result[0]  # ms rcnn\n",
    "        \n",
    "    labels = [\n",
    "        np.full(bbox.shape[0], i, dtype=np.int32)\n",
    "        for i, bbox in enumerate(bbox_result)\n",
    "    ]\n",
    "    \n",
    "    labels = np.concatenate(labels)\n",
    "\n",
    "    segms = None\n",
    "    if segm_result is not None and len(labels) > 0:  # non empty\n",
    "        segms = mmcv.concat_list(segm_result)\n",
    "        if isinstance(segms[0], torch.Tensor):\n",
    "            segms = torch.stack(segms, dim=0).detach().cpu().numpy()\n",
    "        else:\n",
    "            segms = np.stack(segms, axis=0)\n",
    "    \n",
    "    previous_masks = []\n",
    "    for thres,segs in zip(bboxes[:,-1],segms):\n",
    "        mask = segs\n",
    "        mask = remove_overlapping_pixels(mask, previous_masks)\n",
    "        previous_masks.append(mask)\n",
    "    \n",
    "    for mk in previous_masks:\n",
    "        rle_mask = rle_encoding(mk)\n",
    "        segms_pr.append(rle_mask)\n",
    "        files.append(str(file.split('.')[0]))"
   ]
  },
  {
   "cell_type": "code",
   "execution_count": null,
   "id": "128c2fe6",
   "metadata": {
    "execution": {
     "iopub.execute_input": "2021-12-19T03:02:41.021472Z",
     "iopub.status.busy": "2021-12-19T03:02:41.021159Z",
     "iopub.status.idle": "2021-12-19T03:02:51.179205Z",
     "shell.execute_reply": "2021-12-19T03:02:51.178101Z",
     "shell.execute_reply.started": "2021-12-19T03:02:41.02144Z"
    },
    "papermill": {
     "duration": null,
     "end_time": null,
     "exception": null,
     "start_time": null,
     "status": "pending"
    },
    "tags": []
   },
   "outputs": [],
   "source": [
    "# model = init_detector(cfg, '../input/sartorius-mmdetection-training-1/finetune_output/epoch_5.pth')\n",
    "# for file in sorted(os.listdir('../input/sartorius-cell-instance-segmentation/test')):\n",
    "#     img = mmcv.imread('../input/sartorius-cell-instance-segmentation/test/' + file)\n",
    "#     result = inference_detector(model, img)\n",
    "#     print(result[0][0].shape)\n",
    "#     print(type(result[1][0][0]))\n",
    "#     break"
   ]
  },
  {
   "cell_type": "code",
   "execution_count": null,
   "id": "c5f873be",
   "metadata": {
    "execution": {
     "iopub.execute_input": "2021-12-18T18:23:23.18016Z",
     "iopub.status.busy": "2021-12-18T18:23:23.179596Z",
     "iopub.status.idle": "2021-12-18T18:23:33.975561Z",
     "shell.execute_reply": "2021-12-18T18:23:33.97484Z",
     "shell.execute_reply.started": "2021-12-18T18:23:23.18012Z"
    },
    "papermill": {
     "duration": null,
     "end_time": null,
     "exception": null,
     "start_time": null,
     "status": "pending"
    },
    "tags": []
   },
   "outputs": [],
   "source": [
    "# model = init_detector(cfg, '../input/sartorius-mmdetection-training-1/finetune_output/epoch_6.pth')\n",
    "# for file in sorted(os.listdir('../input/sartorius-cell-instance-segmentation/test')):\n",
    "#     img = mmcv.imread('../input/sartorius-cell-instance-segmentation/test/' + file)\n",
    "#     result = inference_detector(model, img)\n",
    "#     print(type(result[1][0]))\n",
    "# #     show_result_pyplot(model, img, result)\n",
    "# #     previous_masks = []\n",
    "# #     for i, classe in enumerate(result[0]):\n",
    "# #         if classe.shape != (0, 5):\n",
    "# #             bbs = classe\n",
    "\n",
    "# #             sgs = result[1][i]\n",
    "# #             for bb, sg in zip(bbs,sgs):\n",
    "# #                 box = bb[:4]\n",
    "# #                 cnf = bb[4]\n",
    "# #                 if cnf >= confidence_thresholds[i]:\n",
    "# #                     mask = get_mask_from_result(sg)\n",
    "# #                     mask = remove_overlapping_pixels(mask, previous_masks)\n",
    "# #                     previous_masks.append(mask)\n",
    "\n",
    "# #     for mk in previous_masks:\n",
    "# #             rle_mask = rle_encoding(mk)\n",
    "# #             segms.append(rle_mask)\n",
    "# #             files.append(str(file.split('.')[0]))"
   ]
  },
  {
   "cell_type": "code",
   "execution_count": null,
   "id": "f6d8cf3b",
   "metadata": {
    "papermill": {
     "duration": null,
     "end_time": null,
     "exception": null,
     "start_time": null,
     "status": "pending"
    },
    "tags": []
   },
   "outputs": [],
   "source": [
    "# def get_mask_from_result(result):\n",
    "#     d = {True : 1, False : 0}\n",
    "#     u,inv = np.unique(result,return_inverse = True)\n",
    "#     mk = cp.array([d[x] for x in u])[inv].reshape(result.shape)\n",
    "# #     print(mk.shape)\n",
    "#     return mk"
   ]
  },
  {
   "cell_type": "code",
   "execution_count": null,
   "id": "bea3e1e4",
   "metadata": {
    "execution": {
     "iopub.execute_input": "2021-12-18T16:23:18.513467Z",
     "iopub.status.busy": "2021-12-18T16:23:18.512707Z",
     "iopub.status.idle": "2021-12-18T16:23:18.518117Z",
     "shell.execute_reply": "2021-12-18T16:23:18.517337Z",
     "shell.execute_reply.started": "2021-12-18T16:23:18.51342Z"
    },
    "papermill": {
     "duration": null,
     "end_time": null,
     "exception": null,
     "start_time": null,
     "status": "pending"
    },
    "tags": []
   },
   "outputs": [],
   "source": [
    "indexes = []\n",
    "for i, segm in enumerate(segms):\n",
    "    if segm == '':\n",
    "        indexes.append(i)"
   ]
  },
  {
   "cell_type": "code",
   "execution_count": null,
   "id": "df92ec82",
   "metadata": {
    "execution": {
     "iopub.execute_input": "2021-12-18T16:23:18.738962Z",
     "iopub.status.busy": "2021-12-18T16:23:18.738386Z",
     "iopub.status.idle": "2021-12-18T16:23:18.74398Z",
     "shell.execute_reply": "2021-12-18T16:23:18.743205Z",
     "shell.execute_reply.started": "2021-12-18T16:23:18.738923Z"
    },
    "papermill": {
     "duration": null,
     "end_time": null,
     "exception": null,
     "start_time": null,
     "status": "pending"
    },
    "tags": []
   },
   "outputs": [],
   "source": [
    "for element in sorted(indexes, reverse = True):\n",
    "    del segms[element]\n",
    "    del files[element]"
   ]
  },
  {
   "cell_type": "code",
   "execution_count": null,
   "id": "73a22693",
   "metadata": {
    "execution": {
     "iopub.execute_input": "2021-12-18T16:23:19.83523Z",
     "iopub.status.busy": "2021-12-18T16:23:19.834552Z",
     "iopub.status.idle": "2021-12-18T16:23:19.846164Z",
     "shell.execute_reply": "2021-12-18T16:23:19.845445Z",
     "shell.execute_reply.started": "2021-12-18T16:23:19.835194Z"
    },
    "papermill": {
     "duration": null,
     "end_time": null,
     "exception": null,
     "start_time": null,
     "status": "pending"
    },
    "tags": []
   },
   "outputs": [],
   "source": [
    "files = pd.Series(files, name='id')\n",
    "preds = pd.Series(segms, name='predicted')"
   ]
  },
  {
   "cell_type": "code",
   "execution_count": null,
   "id": "fa9c1264",
   "metadata": {
    "execution": {
     "iopub.execute_input": "2021-12-18T16:23:24.193584Z",
     "iopub.status.busy": "2021-12-18T16:23:24.192996Z",
     "iopub.status.idle": "2021-12-18T16:23:24.200007Z",
     "shell.execute_reply": "2021-12-18T16:23:24.199066Z",
     "shell.execute_reply.started": "2021-12-18T16:23:24.193547Z"
    },
    "papermill": {
     "duration": null,
     "end_time": null,
     "exception": null,
     "start_time": null,
     "status": "pending"
    },
    "tags": []
   },
   "outputs": [],
   "source": [
    "preds"
   ]
  },
  {
   "cell_type": "code",
   "execution_count": null,
   "id": "b046bd0a",
   "metadata": {
    "execution": {
     "iopub.status.busy": "2021-11-24T00:37:54.533526Z",
     "iopub.status.idle": "2021-11-24T00:37:54.53408Z",
     "shell.execute_reply": "2021-11-24T00:37:54.53387Z",
     "shell.execute_reply.started": "2021-11-24T00:37:54.533844Z"
    },
    "papermill": {
     "duration": null,
     "end_time": null,
     "exception": null,
     "start_time": null,
     "status": "pending"
    },
    "tags": []
   },
   "outputs": [],
   "source": [
    "submission_df = pd.concat([files, preds], axis=1)"
   ]
  },
  {
   "cell_type": "code",
   "execution_count": null,
   "id": "7d05df03",
   "metadata": {
    "execution": {
     "iopub.status.busy": "2021-11-24T00:37:54.535187Z",
     "iopub.status.idle": "2021-11-24T00:37:54.535747Z",
     "shell.execute_reply": "2021-11-24T00:37:54.535532Z",
     "shell.execute_reply.started": "2021-11-24T00:37:54.535506Z"
    },
    "papermill": {
     "duration": null,
     "end_time": null,
     "exception": null,
     "start_time": null,
     "status": "pending"
    },
    "tags": []
   },
   "outputs": [],
   "source": [
    "submission_df.to_csv('submission.csv', index=False)"
   ]
  },
  {
   "cell_type": "code",
   "execution_count": null,
   "id": "e61dd18b",
   "metadata": {
    "execution": {
     "iopub.status.busy": "2021-11-24T00:37:54.536805Z",
     "iopub.status.idle": "2021-11-24T00:37:54.537362Z",
     "shell.execute_reply": "2021-11-24T00:37:54.537142Z",
     "shell.execute_reply.started": "2021-11-24T00:37:54.537116Z"
    },
    "papermill": {
     "duration": null,
     "end_time": null,
     "exception": null,
     "start_time": null,
     "status": "pending"
    },
    "tags": []
   },
   "outputs": [],
   "source": [
    "submission_df"
   ]
  },
  {
   "cell_type": "code",
   "execution_count": null,
   "id": "8cec8570",
   "metadata": {
    "execution": {
     "iopub.status.busy": "2021-11-24T00:37:54.54483Z",
     "iopub.status.idle": "2021-11-24T00:37:54.545377Z",
     "shell.execute_reply": "2021-11-24T00:37:54.545158Z",
     "shell.execute_reply.started": "2021-11-24T00:37:54.545133Z"
    },
    "papermill": {
     "duration": null,
     "end_time": null,
     "exception": null,
     "start_time": null,
     "status": "pending"
    },
    "tags": []
   },
   "outputs": [],
   "source": [
    "shutil.rmtree('/kaggle/working/mmdetection')"
   ]
  }
 ],
 "metadata": {
  "kernelspec": {
   "display_name": "Python 3",
   "language": "python",
   "name": "python3"
  },
  "language_info": {
   "codemirror_mode": {
    "name": "ipython",
    "version": 3
   },
   "file_extension": ".py",
   "mimetype": "text/x-python",
   "name": "python",
   "nbconvert_exporter": "python",
   "pygments_lexer": "ipython3",
   "version": "3.7.12"
  },
  "papermill": {
   "default_parameters": {},
   "duration": 451.836409,
   "end_time": "2021-12-19T20:29:20.034560",
   "environment_variables": {},
   "exception": true,
   "input_path": "__notebook__.ipynb",
   "output_path": "__notebook__.ipynb",
   "parameters": {},
   "start_time": "2021-12-19T20:21:48.198151",
   "version": "2.3.3"
  }
 },
 "nbformat": 4,
 "nbformat_minor": 5
}
