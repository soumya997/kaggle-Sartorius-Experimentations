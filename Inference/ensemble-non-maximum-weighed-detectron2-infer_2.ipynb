{
 "cells": [
  {
   "cell_type": "markdown",
   "id": "9a45f315",
   "metadata": {
    "papermill": {
     "duration": 0.016091,
     "end_time": "2022-03-06T13:28:08.107944",
     "exception": false,
     "start_time": "2022-03-06T13:28:08.091853",
     "status": "completed"
    },
    "tags": []
   },
   "source": [
    "# Ensemble NMS - Detectron2 [Inference]"
   ]
  },
  {
   "cell_type": "markdown",
   "id": "a546588f",
   "metadata": {
    "papermill": {
     "duration": 0.012666,
     "end_time": "2022-03-06T13:28:08.135385",
     "exception": false,
     "start_time": "2022-03-06T13:28:08.122719",
     "status": "completed"
    },
    "tags": []
   },
   "source": [
    "### Hi kagglers, This is `Ensemble NMW - Detectron2 [Inference]` notebook.\n",
    "* [Sartorius Segmentation - Detectron2 [training]](https://www.kaggle.com/ammarnassanalhajali/sartorius-segmentation-detectron2-training) \n",
    "* [Sartorius Segmentation - Detectron2 [Inference]](https://www.kaggle.com/ammarnassanalhajali/sartorius-segmentation-detectron2-inference) \n",
    "* [K-fold CrossValidation COCO Dataset Generator](https://www.kaggle.com/ammarnassanalhajali/k-fold-crossvalidation-coco-dataset-generator) \n",
    "\n",
    "\n",
    "### Please if this kernel is useful, <font color='red'>please upvote !!</font>"
   ]
  },
  {
   "cell_type": "markdown",
   "id": "07c167d7",
   "metadata": {
    "papermill": {
     "duration": 0.022059,
     "end_time": "2022-03-06T13:28:08.171310",
     "exception": false,
     "start_time": "2022-03-06T13:28:08.149251",
     "status": "completed"
    },
    "tags": []
   },
   "source": [
    "## Other notebooks in this competition \n",
    "- [Sartorius Segmentation - Keras U-Net[Training]](https://www.kaggle.com/ammarnassanalhajali/sartorius-segmentation-keras-u-net-training)\n",
    "- [Sartorius Segmentation - Keras U-Net[Inference]](https://www.kaggle.com/ammarnassanalhajali/sartorius-segmentation-keras-u-net-inference/edit)"
   ]
  },
  {
   "cell_type": "markdown",
   "id": "5e2bbf71",
   "metadata": {
    "papermill": {
     "duration": 0.017797,
     "end_time": "2022-03-06T13:28:08.211710",
     "exception": false,
     "start_time": "2022-03-06T13:28:08.193913",
     "status": "completed"
    },
    "tags": []
   },
   "source": [
    "# Intro\n",
    "Ensembling multiple weaker performing models can help to get the results that you want."
   ]
  },
  {
   "cell_type": "markdown",
   "id": "ee03119f",
   "metadata": {
    "papermill": {
     "duration": 0.019009,
     "end_time": "2022-03-06T13:28:08.245169",
     "exception": false,
     "start_time": "2022-03-06T13:28:08.226160",
     "status": "completed"
    },
    "tags": []
   },
   "source": [
    "## Install and import libraries"
   ]
  },
  {
   "cell_type": "code",
   "execution_count": 1,
   "id": "d16a07a1",
   "metadata": {
    "_kg_hide-input": true,
    "_kg_hide-output": true,
    "execution": {
     "iopub.execute_input": "2022-03-06T13:28:08.301051Z",
     "iopub.status.busy": "2022-03-06T13:28:08.300301Z",
     "iopub.status.idle": "2022-03-06T13:31:36.429166Z",
     "shell.execute_reply": "2022-03-06T13:31:36.428447Z",
     "shell.execute_reply.started": "2021-12-19T17:46:56.75856Z"
    },
    "papermill": {
     "duration": 208.162478,
     "end_time": "2022-03-06T13:31:36.429351",
     "exception": false,
     "start_time": "2022-03-06T13:28:08.266873",
     "status": "completed"
    },
    "tags": []
   },
   "outputs": [
    {
     "name": "stdout",
     "output_type": "stream",
     "text": [
      "Looking in links: ../input/detectron-05/whls\r\n",
      "Processing /kaggle/input/detectron-05/whls/pycocotools-2.0.2/dist/pycocotools-2.0.2.tar\r\n",
      "Requirement already satisfied: setuptools>=18.0 in /opt/conda/lib/python3.7/site-packages (from pycocotools==2.0.2) (58.0.4)\r\n",
      "Requirement already satisfied: cython>=0.27.3 in /opt/conda/lib/python3.7/site-packages (from pycocotools==2.0.2) (0.29.24)\r\n",
      "Requirement already satisfied: matplotlib>=2.1.0 in /opt/conda/lib/python3.7/site-packages (from pycocotools==2.0.2) (3.4.3)\r\n",
      "Requirement already satisfied: numpy>=1.16 in /opt/conda/lib/python3.7/site-packages (from matplotlib>=2.1.0->pycocotools==2.0.2) (1.19.5)\r\n",
      "Requirement already satisfied: python-dateutil>=2.7 in /opt/conda/lib/python3.7/site-packages (from matplotlib>=2.1.0->pycocotools==2.0.2) (2.8.0)\r\n",
      "Requirement already satisfied: pillow>=6.2.0 in /opt/conda/lib/python3.7/site-packages (from matplotlib>=2.1.0->pycocotools==2.0.2) (8.2.0)\r\n",
      "Requirement already satisfied: cycler>=0.10 in /opt/conda/lib/python3.7/site-packages (from matplotlib>=2.1.0->pycocotools==2.0.2) (0.10.0)\r\n",
      "Requirement already satisfied: kiwisolver>=1.0.1 in /opt/conda/lib/python3.7/site-packages (from matplotlib>=2.1.0->pycocotools==2.0.2) (1.3.2)\r\n",
      "Requirement already satisfied: pyparsing>=2.2.1 in /opt/conda/lib/python3.7/site-packages (from matplotlib>=2.1.0->pycocotools==2.0.2) (2.4.7)\r\n",
      "Requirement already satisfied: six in /opt/conda/lib/python3.7/site-packages (from cycler>=0.10->matplotlib>=2.1.0->pycocotools==2.0.2) (1.16.0)\r\n",
      "Building wheels for collected packages: pycocotools\r\n",
      "  Building wheel for pycocotools (setup.py) ... \u001b[?25l-\b \b\\\b \b|\b \b/\b \b-\b \b\\\b \b|\b \b/\b \bdone\r\n",
      "\u001b[?25h  Created wheel for pycocotools: filename=pycocotools-2.0.2-cp37-cp37m-linux_x86_64.whl size=272234 sha256=b50950749970ce19fbe9d0cf8fbd510563cf7729d559d24051ec9f0a26095205\r\n",
      "  Stored in directory: /root/.cache/pip/wheels/d2/09/29/2054c6cc4599cf39f1c52ce3c20bfb50be696caa5d5ba460c9\r\n",
      "Successfully built pycocotools\r\n",
      "Installing collected packages: pycocotools\r\n",
      "Successfully installed pycocotools-2.0.2\r\n",
      "\u001b[33mWARNING: Running pip as the 'root' user can result in broken permissions and conflicting behaviour with the system package manager. It is recommended to use a virtual environment instead: https://pip.pypa.io/warnings/venv\u001b[0m\r\n",
      "Looking in links: ../input/detectron-05/whls\r\n",
      "Processing /kaggle/input/detectron-05/whls/fvcore-0.1.5.post20211019/fvcore-0.1.5.post20211019\r\n",
      "\u001b[33m  DEPRECATION: A future pip version will change local packages to be built in-place without first copying to a temporary directory. We recommend you use --use-feature=in-tree-build to test your packages with this new behavior before it becomes the default.\r\n",
      "   pip 21.3 will remove support for this functionality. You can find discussion regarding this at https://github.com/pypa/pip/issues/7555.\u001b[0m\r\n",
      "Requirement already satisfied: numpy in /opt/conda/lib/python3.7/site-packages (from fvcore==0.1.5.post20211019) (1.19.5)\r\n",
      "Requirement already satisfied: yacs>=0.1.6 in /opt/conda/lib/python3.7/site-packages (from fvcore==0.1.5.post20211019) (0.1.8)\r\n",
      "Requirement already satisfied: pyyaml>=5.1 in /opt/conda/lib/python3.7/site-packages (from fvcore==0.1.5.post20211019) (5.4.1)\r\n",
      "Requirement already satisfied: tqdm in /opt/conda/lib/python3.7/site-packages (from fvcore==0.1.5.post20211019) (4.62.3)\r\n",
      "Requirement already satisfied: termcolor>=1.1 in /opt/conda/lib/python3.7/site-packages (from fvcore==0.1.5.post20211019) (1.1.0)\r\n",
      "Requirement already satisfied: Pillow in /opt/conda/lib/python3.7/site-packages (from fvcore==0.1.5.post20211019) (8.2.0)\r\n",
      "Requirement already satisfied: tabulate in /opt/conda/lib/python3.7/site-packages (from fvcore==0.1.5.post20211019) (0.8.9)\r\n",
      "Processing /kaggle/input/detectron-05/whls/iopath-0.1.9-py3-none-any.whl\r\n",
      "Requirement already satisfied: portalocker in /opt/conda/lib/python3.7/site-packages (from iopath>=0.1.7->fvcore==0.1.5.post20211019) (2.3.2)\r\n",
      "Building wheels for collected packages: fvcore\r\n",
      "  Building wheel for fvcore (setup.py) ... \u001b[?25l-\b \b\\\b \bdone\r\n",
      "\u001b[?25h  Created wheel for fvcore: filename=fvcore-0.1.5.post20211019-py3-none-any.whl size=60878 sha256=9aae2c179c2ca29b2424d4d829e2dc9ae858c5c107c89dabd780260f8fa0fd1f\r\n",
      "  Stored in directory: /root/.cache/pip/wheels/ba/23/7f/50fe782028a2bb7f9d8b13585c0a0a1723a7a3adb53cf3d1b6\r\n",
      "Successfully built fvcore\r\n",
      "Installing collected packages: iopath, fvcore\r\n",
      "Successfully installed fvcore-0.1.5.post20211019 iopath-0.1.9\r\n",
      "\u001b[33mWARNING: Running pip as the 'root' user can result in broken permissions and conflicting behaviour with the system package manager. It is recommended to use a virtual environment instead: https://pip.pypa.io/warnings/venv\u001b[0m\r\n",
      "Looking in links: ../input/detectron-05/whls\r\n",
      "Processing /kaggle/input/detectron-05/whls/antlr4-python3-runtime-4.8/antlr4-python3-runtime-4.8\r\n",
      "\u001b[33m  DEPRECATION: A future pip version will change local packages to be built in-place without first copying to a temporary directory. We recommend you use --use-feature=in-tree-build to test your packages with this new behavior before it becomes the default.\r\n",
      "   pip 21.3 will remove support for this functionality. You can find discussion regarding this at https://github.com/pypa/pip/issues/7555.\u001b[0m\r\n",
      "Building wheels for collected packages: antlr4-python3-runtime\r\n",
      "  Building wheel for antlr4-python3-runtime (setup.py) ... \u001b[?25l-\b \b\\\b \bdone\r\n",
      "\u001b[?25h  Created wheel for antlr4-python3-runtime: filename=antlr4_python3_runtime-4.8-py3-none-any.whl size=141230 sha256=c47458ad400b3c898fb62420a38ce33bc8c1dacf6db1f2772dcca3c9d6fc3b0c\r\n",
      "  Stored in directory: /root/.cache/pip/wheels/6e/9c/5b/9e8e1e06147cb3b136c1ee5a7becab5e221e799fd0fb56d4e8\r\n",
      "Successfully built antlr4-python3-runtime\r\n",
      "Installing collected packages: antlr4-python3-runtime\r\n",
      "Successfully installed antlr4-python3-runtime-4.8\r\n",
      "\u001b[33mWARNING: Running pip as the 'root' user can result in broken permissions and conflicting behaviour with the system package manager. It is recommended to use a virtual environment instead: https://pip.pypa.io/warnings/venv\u001b[0m\r\n",
      "Looking in links: ../input/detectron-05/whls\r\n",
      "Processing /kaggle/input/detectron-05/whls/detectron2-0.5/detectron2\r\n",
      "\u001b[33m  DEPRECATION: A future pip version will change local packages to be built in-place without first copying to a temporary directory. We recommend you use --use-feature=in-tree-build to test your packages with this new behavior before it becomes the default.\r\n",
      "   pip 21.3 will remove support for this functionality. You can find discussion regarding this at https://github.com/pypa/pip/issues/7555.\u001b[0m\r\n",
      "Requirement already satisfied: Pillow>=7.1 in /opt/conda/lib/python3.7/site-packages (from detectron2==0.5) (8.2.0)\r\n",
      "Requirement already satisfied: matplotlib in /opt/conda/lib/python3.7/site-packages (from detectron2==0.5) (3.4.3)\r\n",
      "Requirement already satisfied: pycocotools>=2.0.2 in /opt/conda/lib/python3.7/site-packages (from detectron2==0.5) (2.0.2)\r\n",
      "Requirement already satisfied: termcolor>=1.1 in /opt/conda/lib/python3.7/site-packages (from detectron2==0.5) (1.1.0)\r\n",
      "Requirement already satisfied: yacs>=0.1.8 in /opt/conda/lib/python3.7/site-packages (from detectron2==0.5) (0.1.8)\r\n",
      "Requirement already satisfied: tabulate in /opt/conda/lib/python3.7/site-packages (from detectron2==0.5) (0.8.9)\r\n",
      "Requirement already satisfied: cloudpickle in /opt/conda/lib/python3.7/site-packages (from detectron2==0.5) (2.0.0)\r\n",
      "Requirement already satisfied: tqdm>4.29.0 in /opt/conda/lib/python3.7/site-packages (from detectron2==0.5) (4.62.3)\r\n",
      "Requirement already satisfied: tensorboard in /opt/conda/lib/python3.7/site-packages (from detectron2==0.5) (2.6.0)\r\n",
      "Requirement already satisfied: fvcore<0.1.6,>=0.1.5 in /opt/conda/lib/python3.7/site-packages (from detectron2==0.5) (0.1.5.post20211019)\r\n",
      "Requirement already satisfied: iopath<0.1.10,>=0.1.7 in /opt/conda/lib/python3.7/site-packages (from detectron2==0.5) (0.1.9)\r\n",
      "Requirement already satisfied: future in /opt/conda/lib/python3.7/site-packages (from detectron2==0.5) (0.18.2)\r\n",
      "Requirement already satisfied: pydot in /opt/conda/lib/python3.7/site-packages (from detectron2==0.5) (1.4.2)\r\n",
      "Processing /kaggle/input/detectron-05/whls/omegaconf-2.1.1-py3-none-any.whl\r\n",
      "Processing /kaggle/input/detectron-05/whls/hydra_core-1.1.1-py3-none-any.whl\r\n",
      "Processing /kaggle/input/detectron-05/whls/black-21.4b2-py3-none-any.whl\r\n",
      "Requirement already satisfied: appdirs in /opt/conda/lib/python3.7/site-packages (from black==21.4b2->detectron2==0.5) (1.4.4)\r\n",
      "Requirement already satisfied: regex>=2020.1.8 in /opt/conda/lib/python3.7/site-packages (from black==21.4b2->detectron2==0.5) (2021.8.28)\r\n",
      "Requirement already satisfied: typing-extensions>=3.7.4 in /opt/conda/lib/python3.7/site-packages (from black==21.4b2->detectron2==0.5) (3.10.0.2)\r\n",
      "Requirement already satisfied: pathspec<1,>=0.8.1 in /opt/conda/lib/python3.7/site-packages (from black==21.4b2->detectron2==0.5) (0.9.0)\r\n",
      "Requirement already satisfied: typed-ast>=1.4.2 in /opt/conda/lib/python3.7/site-packages (from black==21.4b2->detectron2==0.5) (1.4.3)\r\n",
      "Requirement already satisfied: click>=7.1.2 in /opt/conda/lib/python3.7/site-packages (from black==21.4b2->detectron2==0.5) (8.0.1)\r\n",
      "Requirement already satisfied: toml>=0.10.1 in /opt/conda/lib/python3.7/site-packages (from black==21.4b2->detectron2==0.5) (0.10.2)\r\n",
      "Requirement already satisfied: mypy-extensions>=0.4.3 in /opt/conda/lib/python3.7/site-packages (from black==21.4b2->detectron2==0.5) (0.4.3)\r\n",
      "Requirement already satisfied: importlib-metadata in /opt/conda/lib/python3.7/site-packages (from click>=7.1.2->black==21.4b2->detectron2==0.5) (4.8.1)\r\n",
      "Requirement already satisfied: pyyaml>=5.1 in /opt/conda/lib/python3.7/site-packages (from fvcore<0.1.6,>=0.1.5->detectron2==0.5) (5.4.1)\r\n",
      "Requirement already satisfied: numpy in /opt/conda/lib/python3.7/site-packages (from fvcore<0.1.6,>=0.1.5->detectron2==0.5) (1.19.5)\r\n",
      "Requirement already satisfied: importlib-resources in /opt/conda/lib/python3.7/site-packages (from hydra-core>=1.1->detectron2==0.5) (5.2.2)\r\n",
      "Requirement already satisfied: antlr4-python3-runtime==4.8 in /opt/conda/lib/python3.7/site-packages (from hydra-core>=1.1->detectron2==0.5) (4.8)\r\n",
      "Requirement already satisfied: portalocker in /opt/conda/lib/python3.7/site-packages (from iopath<0.1.10,>=0.1.7->detectron2==0.5) (2.3.2)\r\n",
      "Requirement already satisfied: setuptools>=18.0 in /opt/conda/lib/python3.7/site-packages (from pycocotools>=2.0.2->detectron2==0.5) (58.0.4)\r\n",
      "Requirement already satisfied: cython>=0.27.3 in /opt/conda/lib/python3.7/site-packages (from pycocotools>=2.0.2->detectron2==0.5) (0.29.24)\r\n",
      "Requirement already satisfied: cycler>=0.10 in /opt/conda/lib/python3.7/site-packages (from matplotlib->detectron2==0.5) (0.10.0)\r\n",
      "Requirement already satisfied: pyparsing>=2.2.1 in /opt/conda/lib/python3.7/site-packages (from matplotlib->detectron2==0.5) (2.4.7)\r\n",
      "Requirement already satisfied: python-dateutil>=2.7 in /opt/conda/lib/python3.7/site-packages (from matplotlib->detectron2==0.5) (2.8.0)\r\n",
      "Requirement already satisfied: kiwisolver>=1.0.1 in /opt/conda/lib/python3.7/site-packages (from matplotlib->detectron2==0.5) (1.3.2)\r\n",
      "Requirement already satisfied: six in /opt/conda/lib/python3.7/site-packages (from cycler>=0.10->matplotlib->detectron2==0.5) (1.16.0)\r\n",
      "Requirement already satisfied: zipp>=0.5 in /opt/conda/lib/python3.7/site-packages (from importlib-metadata->click>=7.1.2->black==21.4b2->detectron2==0.5) (3.5.0)\r\n",
      "Requirement already satisfied: tensorboard-plugin-wit>=1.6.0 in /opt/conda/lib/python3.7/site-packages (from tensorboard->detectron2==0.5) (1.8.0)\r\n",
      "Requirement already satisfied: google-auth<2,>=1.6.3 in /opt/conda/lib/python3.7/site-packages (from tensorboard->detectron2==0.5) (1.35.0)\r\n",
      "Requirement already satisfied: google-auth-oauthlib<0.5,>=0.4.1 in /opt/conda/lib/python3.7/site-packages (from tensorboard->detectron2==0.5) (0.4.6)\r\n",
      "Requirement already satisfied: tensorboard-data-server<0.7.0,>=0.6.0 in /opt/conda/lib/python3.7/site-packages (from tensorboard->detectron2==0.5) (0.6.1)\r\n",
      "Requirement already satisfied: wheel>=0.26 in /opt/conda/lib/python3.7/site-packages (from tensorboard->detectron2==0.5) (0.37.0)\r\n",
      "Requirement already satisfied: werkzeug>=0.11.15 in /opt/conda/lib/python3.7/site-packages (from tensorboard->detectron2==0.5) (2.0.1)\r\n",
      "Requirement already satisfied: absl-py>=0.4 in /opt/conda/lib/python3.7/site-packages (from tensorboard->detectron2==0.5) (0.14.0)\r\n",
      "Requirement already satisfied: requests<3,>=2.21.0 in /opt/conda/lib/python3.7/site-packages (from tensorboard->detectron2==0.5) (2.25.1)\r\n",
      "Requirement already satisfied: markdown>=2.6.8 in /opt/conda/lib/python3.7/site-packages (from tensorboard->detectron2==0.5) (3.3.4)\r\n",
      "Requirement already satisfied: grpcio>=1.24.3 in /opt/conda/lib/python3.7/site-packages (from tensorboard->detectron2==0.5) (1.38.1)\r\n",
      "Requirement already satisfied: protobuf>=3.6.0 in /opt/conda/lib/python3.7/site-packages (from tensorboard->detectron2==0.5) (3.18.1)\r\n",
      "Requirement already satisfied: pyasn1-modules>=0.2.1 in /opt/conda/lib/python3.7/site-packages (from google-auth<2,>=1.6.3->tensorboard->detectron2==0.5) (0.2.7)\r\n",
      "Requirement already satisfied: rsa<5,>=3.1.4 in /opt/conda/lib/python3.7/site-packages (from google-auth<2,>=1.6.3->tensorboard->detectron2==0.5) (4.7.2)\r\n",
      "Requirement already satisfied: cachetools<5.0,>=2.0.0 in /opt/conda/lib/python3.7/site-packages (from google-auth<2,>=1.6.3->tensorboard->detectron2==0.5) (4.2.2)\r\n",
      "Requirement already satisfied: requests-oauthlib>=0.7.0 in /opt/conda/lib/python3.7/site-packages (from google-auth-oauthlib<0.5,>=0.4.1->tensorboard->detectron2==0.5) (1.3.0)\r\n",
      "Requirement already satisfied: pyasn1<0.5.0,>=0.4.6 in /opt/conda/lib/python3.7/site-packages (from pyasn1-modules>=0.2.1->google-auth<2,>=1.6.3->tensorboard->detectron2==0.5) (0.4.8)\r\n",
      "Requirement already satisfied: certifi>=2017.4.17 in /opt/conda/lib/python3.7/site-packages (from requests<3,>=2.21.0->tensorboard->detectron2==0.5) (2021.10.8)\r\n",
      "Requirement already satisfied: urllib3<1.27,>=1.21.1 in /opt/conda/lib/python3.7/site-packages (from requests<3,>=2.21.0->tensorboard->detectron2==0.5) (1.26.6)\r\n",
      "Requirement already satisfied: idna<3,>=2.5 in /opt/conda/lib/python3.7/site-packages (from requests<3,>=2.21.0->tensorboard->detectron2==0.5) (2.10)\r\n",
      "Requirement already satisfied: chardet<5,>=3.0.2 in /opt/conda/lib/python3.7/site-packages (from requests<3,>=2.21.0->tensorboard->detectron2==0.5) (4.0.0)\r\n",
      "Requirement already satisfied: oauthlib>=3.0.0 in /opt/conda/lib/python3.7/site-packages (from requests-oauthlib>=0.7.0->google-auth-oauthlib<0.5,>=0.4.1->tensorboard->detectron2==0.5) (3.1.1)\r\n",
      "Building wheels for collected packages: detectron2\r\n",
      "  Building wheel for detectron2 (setup.py) ... \u001b[?25l-\b \b\\\b \b|\b \b/\b \b-\b \b\\\b \b|\b \b/\b \b-\b \b\\\b \b|\b \b/\b \b-\b \b\\\b \b|\b \b/\b \b-\b \b\\\b \bdone\r\n",
      "\u001b[?25h  Created wheel for detectron2: filename=detectron2-0.5-cp37-cp37m-linux_x86_64.whl size=5726939 sha256=b47d02677910c02f13f8664ec4c02f45ce03dfdb7ec1cdf8556f95bc5bf5f2ea\r\n",
      "  Stored in directory: /tmp/pip-ephem-wheel-cache-0kqh0_9w/wheels/2c/7c/aa/9abf8b469a63a1d1e55f84a4eb7afea06d3399564584ea464a\r\n",
      "Successfully built detectron2\r\n",
      "Installing collected packages: omegaconf, hydra-core, black, detectron2\r\n",
      "  Attempting uninstall: black\r\n",
      "    Found existing installation: black 21.9b0\r\n",
      "    Uninstalling black-21.9b0:\r\n",
      "      Successfully uninstalled black-21.9b0\r\n",
      "Successfully installed black-21.4b2 detectron2-0.5 hydra-core-1.1.1 omegaconf-2.1.1\r\n",
      "\u001b[33mWARNING: Running pip as the 'root' user can result in broken permissions and conflicting behaviour with the system package manager. It is recommended to use a virtual environment instead: https://pip.pypa.io/warnings/venv\u001b[0m\r\n",
      "Looking in links: ./\r\n",
      "Processing /kaggle/input/ensemble-boxes-104/ensemble_boxes-1.0.4\r\n",
      "\u001b[33m  DEPRECATION: A future pip version will change local packages to be built in-place without first copying to a temporary directory. We recommend you use --use-feature=in-tree-build to test your packages with this new behavior before it becomes the default.\r\n",
      "   pip 21.3 will remove support for this functionality. You can find discussion regarding this at https://github.com/pypa/pip/issues/7555.\u001b[0m\r\n",
      "Requirement already satisfied: numpy in /opt/conda/lib/python3.7/site-packages (from ensemble-boxes==1.0.4) (1.19.5)\r\n",
      "Requirement already satisfied: pandas in /opt/conda/lib/python3.7/site-packages (from ensemble-boxes==1.0.4) (1.3.3)\r\n",
      "Requirement already satisfied: numba in /opt/conda/lib/python3.7/site-packages (from ensemble-boxes==1.0.4) (0.54.0)\r\n",
      "Requirement already satisfied: setuptools in /opt/conda/lib/python3.7/site-packages (from numba->ensemble-boxes==1.0.4) (58.0.4)\r\n",
      "Requirement already satisfied: llvmlite<0.38,>=0.37.0rc1 in /opt/conda/lib/python3.7/site-packages (from numba->ensemble-boxes==1.0.4) (0.37.0)\r\n",
      "Requirement already satisfied: pytz>=2017.3 in /opt/conda/lib/python3.7/site-packages (from pandas->ensemble-boxes==1.0.4) (2021.1)\r\n",
      "Requirement already satisfied: python-dateutil>=2.7.3 in /opt/conda/lib/python3.7/site-packages (from pandas->ensemble-boxes==1.0.4) (2.8.0)\r\n",
      "Requirement already satisfied: six>=1.5 in /opt/conda/lib/python3.7/site-packages (from python-dateutil>=2.7.3->pandas->ensemble-boxes==1.0.4) (1.16.0)\r\n",
      "Building wheels for collected packages: ensemble-boxes\r\n",
      "  Building wheel for ensemble-boxes (setup.py) ... \u001b[?25l-\b \bdone\r\n",
      "\u001b[?25h  Created wheel for ensemble-boxes: filename=ensemble_boxes-1.0.4-py3-none-any.whl size=14070 sha256=edfa53f6e3720efdd6d1dff50af585be43ba502d065e9f1a3342efe6618ce8f3\r\n",
      "  Stored in directory: /root/.cache/pip/wheels/66/11/27/bd684df8a75ad0e720fdc77d199e5876063925350905a64205\r\n",
      "Successfully built ensemble-boxes\r\n",
      "Installing collected packages: ensemble-boxes\r\n",
      "Successfully installed ensemble-boxes-1.0.4\r\n",
      "\u001b[33mWARNING: Running pip as the 'root' user can result in broken permissions and conflicting behaviour with the system package manager. It is recommended to use a virtual environment instead: https://pip.pypa.io/warnings/venv\u001b[0m\r\n"
     ]
    }
   ],
   "source": [
    "!pip install ../input/detectron-05/whls/pycocotools-2.0.2/dist/pycocotools-2.0.2.tar --no-index --find-links ../input/detectron-05/whls \n",
    "!pip install ../input/detectron-05/whls/fvcore-0.1.5.post20211019/fvcore-0.1.5.post20211019 --no-index --find-links ../input/detectron-05/whls \n",
    "!pip install ../input/detectron-05/whls/antlr4-python3-runtime-4.8/antlr4-python3-runtime-4.8 --no-index --find-links ../input/detectron-05/whls \n",
    "!pip install ../input/detectron-05/whls/detectron2-0.5/detectron2 --no-index --find-links ../input/detectron-05/whls \n",
    "!pip install ../input/ensemble-boxes-104/ensemble_boxes-1.0.4/ -f ./ --no-index"
   ]
  },
  {
   "cell_type": "code",
   "execution_count": 2,
   "id": "837e9974",
   "metadata": {
    "execution": {
     "iopub.execute_input": "2022-03-06T13:31:36.503187Z",
     "iopub.status.busy": "2022-03-06T13:31:36.502403Z",
     "iopub.status.idle": "2022-03-06T13:31:38.247011Z",
     "shell.execute_reply": "2022-03-06T13:31:38.246572Z",
     "shell.execute_reply.started": "2021-12-19T17:50:30.408384Z"
    },
    "papermill": {
     "duration": 1.784736,
     "end_time": "2022-03-06T13:31:38.247151",
     "exception": false,
     "start_time": "2022-03-06T13:31:36.462415",
     "status": "completed"
    },
    "tags": []
   },
   "outputs": [
    {
     "name": "stdout",
     "output_type": "stream",
     "text": [
      "GPU is available\n",
      "detectron ver: 0.5\n"
     ]
    }
   ],
   "source": [
    "import os\n",
    "import cv2\n",
    "import json\n",
    "import time\n",
    "import numpy as np\n",
    "import pandas as pd\n",
    "import torch\n",
    "import detectron2\n",
    "from tqdm.auto import tqdm\n",
    "from detectron2 import model_zoo\n",
    "from detectron2.engine import DefaultPredictor\n",
    "from detectron2.config import get_cfg\n",
    "from detectron2.data.datasets import register_coco_instances\n",
    "from detectron2.evaluation import inference_on_dataset\n",
    "from detectron2.evaluation.evaluator import DatasetEvaluator\n",
    "from detectron2.data import DatasetCatalog, build_detection_test_loader\n",
    "import pycocotools.mask as mask_util\n",
    "from PIL import Image\n",
    "import matplotlib.pyplot as plt\n",
    "from fastcore.all import *\n",
    "from ensemble_boxes import *\n",
    "os.environ['CUDA_VISIBLE_DEVICES'] = '0' \n",
    "if torch.cuda.is_available():\n",
    "    DEVICE = torch.device('cuda')\n",
    "    print('GPU is available')\n",
    "else:\n",
    "    DEVICE = torch.device('cpu')\n",
    "    print('CPU is used')\n",
    "print('detectron ver:', detectron2.__version__)"
   ]
  },
  {
   "cell_type": "markdown",
   "id": "155a734b",
   "metadata": {
    "papermill": {
     "duration": 0.03189,
     "end_time": "2022-03-06T13:31:38.311494",
     "exception": false,
     "start_time": "2022-03-06T13:31:38.279604",
     "status": "completed"
    },
    "tags": []
   },
   "source": [
    "## My Models"
   ]
  },
  {
   "cell_type": "code",
   "execution_count": 3,
   "id": "bbfdfc08",
   "metadata": {
    "execution": {
     "iopub.execute_input": "2022-03-06T13:31:38.381864Z",
     "iopub.status.busy": "2022-03-06T13:31:38.381170Z",
     "iopub.status.idle": "2022-03-06T13:31:38.383408Z",
     "shell.execute_reply": "2022-03-06T13:31:38.383819Z",
     "shell.execute_reply.started": "2021-12-19T17:50:32.26215Z"
    },
    "papermill": {
     "duration": 0.040058,
     "end_time": "2022-03-06T13:31:38.383946",
     "exception": false,
     "start_time": "2022-03-06T13:31:38.343888",
     "status": "completed"
    },
    "tags": []
   },
   "outputs": [],
   "source": [
    "best_model=(\n",
    "    {'file': 'R50-306.pth','config_name':'COCO-InstanceSegmentation/mask_rcnn_R_50_FPN_3x.yaml', 'LB score': 0.306,'ths':[.18, .38, .58]},\n",
    "    {'file': '50_FPN_3x_F3_R82_300.pth','config_name':'COCO-InstanceSegmentation/mask_rcnn_R_50_FPN_3x.yaml', 'LB score': 0.300,'ths':[.18, .38, .58]},\n",
    "    {'file': '32x8d_FPN_3x_F3_R57_295.pth','config_name':'COCO-InstanceSegmentation/mask_rcnn_X_101_32x8d_FPN_3x.yaml', 'LB score': 0.295,'ths':[.18, .38, .58]},\n",
    "    {'file': '50_FPN_3x_F5_ATTT32_300.pth','config_name':'COCO-InstanceSegmentation/mask_rcnn_R_50_FPN_3x.yaml', 'LB score': 0.300,'ths':[.19, .39, .57]}\n",
    "            )"
   ]
  },
  {
   "cell_type": "code",
   "execution_count": 4,
   "id": "0e0d1e3a",
   "metadata": {
    "execution": {
     "iopub.execute_input": "2022-03-06T13:31:38.456623Z",
     "iopub.status.busy": "2022-03-06T13:31:38.451005Z",
     "iopub.status.idle": "2022-03-06T13:31:42.282230Z",
     "shell.execute_reply": "2022-03-06T13:31:42.281596Z",
     "shell.execute_reply.started": "2021-12-19T17:50:32.273687Z"
    },
    "papermill": {
     "duration": 3.866739,
     "end_time": "2022-03-06T13:31:42.282490",
     "exception": true,
     "start_time": "2022-03-06T13:31:38.415751",
     "status": "failed"
    },
    "tags": []
   },
   "outputs": [
    {
     "ename": "AssertionError",
     "evalue": "Checkpoint ../input/dtectron2-models-5fold/R50-306.pth not found!",
     "output_type": "error",
     "traceback": [
      "\u001b[0;31m---------------------------------------------------------------------------\u001b[0m",
      "\u001b[0;31mAssertionError\u001b[0m                            Traceback (most recent call last)",
      "\u001b[0;32m/tmp/ipykernel_24/1525776744.py\u001b[0m in \u001b[0;36m<module>\u001b[0;34m\u001b[0m\n\u001b[1;32m     23\u001b[0m     \u001b[0mcfg\u001b[0m\u001b[0;34m.\u001b[0m\u001b[0mMODEL\u001b[0m\u001b[0;34m.\u001b[0m\u001b[0mWEIGHTS\u001b[0m \u001b[0;34m=\u001b[0m \u001b[0;34mf'{mdl_path}/{model_name}'\u001b[0m\u001b[0;34m\u001b[0m\u001b[0;34m\u001b[0m\u001b[0m\n\u001b[1;32m     24\u001b[0m     \u001b[0mcfg\u001b[0m\u001b[0;34m.\u001b[0m\u001b[0mTEST\u001b[0m\u001b[0;34m.\u001b[0m\u001b[0mDETECTIONS_PER_IMAGE\u001b[0m \u001b[0;34m=\u001b[0m \u001b[0;36m1000\u001b[0m\u001b[0;34m\u001b[0m\u001b[0;34m\u001b[0m\u001b[0m\n\u001b[0;32m---> 25\u001b[0;31m     \u001b[0mMODELS\u001b[0m\u001b[0;34m.\u001b[0m\u001b[0mappend\u001b[0m\u001b[0;34m(\u001b[0m\u001b[0mDefaultPredictor\u001b[0m\u001b[0;34m(\u001b[0m\u001b[0mcfg\u001b[0m\u001b[0;34m)\u001b[0m\u001b[0;34m)\u001b[0m\u001b[0;34m\u001b[0m\u001b[0;34m\u001b[0m\u001b[0m\n\u001b[0m\u001b[1;32m     26\u001b[0m \u001b[0mprint\u001b[0m\u001b[0;34m(\u001b[0m\u001b[0;34mf'all loaded:\\nthresholds: {THSS}\\nmodels: {BEST_MODELS}'\u001b[0m\u001b[0;34m)\u001b[0m\u001b[0;34m\u001b[0m\u001b[0;34m\u001b[0m\u001b[0m\n",
      "\u001b[0;32m/opt/conda/lib/python3.7/site-packages/detectron2/engine/defaults.py\u001b[0m in \u001b[0;36m__init__\u001b[0;34m(self, cfg)\u001b[0m\n\u001b[1;32m    285\u001b[0m \u001b[0;34m\u001b[0m\u001b[0m\n\u001b[1;32m    286\u001b[0m         \u001b[0mcheckpointer\u001b[0m \u001b[0;34m=\u001b[0m \u001b[0mDetectionCheckpointer\u001b[0m\u001b[0;34m(\u001b[0m\u001b[0mself\u001b[0m\u001b[0;34m.\u001b[0m\u001b[0mmodel\u001b[0m\u001b[0;34m)\u001b[0m\u001b[0;34m\u001b[0m\u001b[0;34m\u001b[0m\u001b[0m\n\u001b[0;32m--> 287\u001b[0;31m         \u001b[0mcheckpointer\u001b[0m\u001b[0;34m.\u001b[0m\u001b[0mload\u001b[0m\u001b[0;34m(\u001b[0m\u001b[0mcfg\u001b[0m\u001b[0;34m.\u001b[0m\u001b[0mMODEL\u001b[0m\u001b[0;34m.\u001b[0m\u001b[0mWEIGHTS\u001b[0m\u001b[0;34m)\u001b[0m\u001b[0;34m\u001b[0m\u001b[0;34m\u001b[0m\u001b[0m\n\u001b[0m\u001b[1;32m    288\u001b[0m \u001b[0;34m\u001b[0m\u001b[0m\n\u001b[1;32m    289\u001b[0m         self.aug = T.ResizeShortestEdge(\n",
      "\u001b[0;32m/opt/conda/lib/python3.7/site-packages/detectron2/checkpoint/detection_checkpoint.py\u001b[0m in \u001b[0;36mload\u001b[0;34m(self, path, *args, **kwargs)\u001b[0m\n\u001b[1;32m     50\u001b[0m             \u001b[0;32mif\u001b[0m \u001b[0;32mnot\u001b[0m \u001b[0mhas_file\u001b[0m\u001b[0;34m:\u001b[0m\u001b[0;34m\u001b[0m\u001b[0;34m\u001b[0m\u001b[0m\n\u001b[1;32m     51\u001b[0m                 \u001b[0mpath\u001b[0m \u001b[0;34m=\u001b[0m \u001b[0;32mNone\u001b[0m  \u001b[0;31m# don't load if not readable\u001b[0m\u001b[0;34m\u001b[0m\u001b[0;34m\u001b[0m\u001b[0m\n\u001b[0;32m---> 52\u001b[0;31m         \u001b[0mret\u001b[0m \u001b[0;34m=\u001b[0m \u001b[0msuper\u001b[0m\u001b[0;34m(\u001b[0m\u001b[0;34m)\u001b[0m\u001b[0;34m.\u001b[0m\u001b[0mload\u001b[0m\u001b[0;34m(\u001b[0m\u001b[0mpath\u001b[0m\u001b[0;34m,\u001b[0m \u001b[0;34m*\u001b[0m\u001b[0margs\u001b[0m\u001b[0;34m,\u001b[0m \u001b[0;34m**\u001b[0m\u001b[0mkwargs\u001b[0m\u001b[0;34m)\u001b[0m\u001b[0;34m\u001b[0m\u001b[0;34m\u001b[0m\u001b[0m\n\u001b[0m\u001b[1;32m     53\u001b[0m \u001b[0;34m\u001b[0m\u001b[0m\n\u001b[1;32m     54\u001b[0m         \u001b[0;32mif\u001b[0m \u001b[0mneed_sync\u001b[0m\u001b[0;34m:\u001b[0m\u001b[0;34m\u001b[0m\u001b[0;34m\u001b[0m\u001b[0m\n",
      "\u001b[0;32m/opt/conda/lib/python3.7/site-packages/fvcore/common/checkpoint.py\u001b[0m in \u001b[0;36mload\u001b[0;34m(self, path, checkpointables)\u001b[0m\n\u001b[1;32m    151\u001b[0m         \u001b[0;32mif\u001b[0m \u001b[0;32mnot\u001b[0m \u001b[0mos\u001b[0m\u001b[0;34m.\u001b[0m\u001b[0mpath\u001b[0m\u001b[0;34m.\u001b[0m\u001b[0misfile\u001b[0m\u001b[0;34m(\u001b[0m\u001b[0mpath\u001b[0m\u001b[0;34m)\u001b[0m\u001b[0;34m:\u001b[0m\u001b[0;34m\u001b[0m\u001b[0;34m\u001b[0m\u001b[0m\n\u001b[1;32m    152\u001b[0m             \u001b[0mpath\u001b[0m \u001b[0;34m=\u001b[0m \u001b[0mself\u001b[0m\u001b[0;34m.\u001b[0m\u001b[0mpath_manager\u001b[0m\u001b[0;34m.\u001b[0m\u001b[0mget_local_path\u001b[0m\u001b[0;34m(\u001b[0m\u001b[0mpath\u001b[0m\u001b[0;34m)\u001b[0m\u001b[0;34m\u001b[0m\u001b[0;34m\u001b[0m\u001b[0m\n\u001b[0;32m--> 153\u001b[0;31m             \u001b[0;32massert\u001b[0m \u001b[0mos\u001b[0m\u001b[0;34m.\u001b[0m\u001b[0mpath\u001b[0m\u001b[0;34m.\u001b[0m\u001b[0misfile\u001b[0m\u001b[0;34m(\u001b[0m\u001b[0mpath\u001b[0m\u001b[0;34m)\u001b[0m\u001b[0;34m,\u001b[0m \u001b[0;34m\"Checkpoint {} not found!\"\u001b[0m\u001b[0;34m.\u001b[0m\u001b[0mformat\u001b[0m\u001b[0;34m(\u001b[0m\u001b[0mpath\u001b[0m\u001b[0;34m)\u001b[0m\u001b[0;34m\u001b[0m\u001b[0;34m\u001b[0m\u001b[0m\n\u001b[0m\u001b[1;32m    154\u001b[0m \u001b[0;34m\u001b[0m\u001b[0m\n\u001b[1;32m    155\u001b[0m         \u001b[0mcheckpoint\u001b[0m \u001b[0;34m=\u001b[0m \u001b[0mself\u001b[0m\u001b[0;34m.\u001b[0m\u001b[0m_load_file\u001b[0m\u001b[0;34m(\u001b[0m\u001b[0mpath\u001b[0m\u001b[0;34m)\u001b[0m\u001b[0;34m\u001b[0m\u001b[0;34m\u001b[0m\u001b[0m\n",
      "\u001b[0;31mAssertionError\u001b[0m: Checkpoint ../input/dtectron2-models-5fold/R50-306.pth not found!"
     ]
    }
   ],
   "source": [
    "#config_name = \"COCO-InstanceSegmentation/mask_rcnn_R_50_FPN_3x.yaml\"\n",
    "mdl_path = \"../input/dtectron2-models-5fold\"\n",
    "DATA_PATH = \"../input/sartorius-cell-instance-segmentation\"\n",
    "MODELS = []\n",
    "BEST_MODELS =[]\n",
    "THSS = []\n",
    "ID_TEST = 0\n",
    "SUBM_PATH = f'{DATA_PATH}/test'\n",
    "SINGLE_MODE = False\n",
    "NMS = True\n",
    "MIN_PIXELS = [75, 150, 75]\n",
    "IOU_TH = 0.3\n",
    "for b_m in best_model:\n",
    "    model_name=b_m[\"file\"]\n",
    "    model_ths=b_m[\"ths\"]\n",
    "    config_name=b_m[\"config_name\"]\n",
    "    BEST_MODELS.append(model_name)\n",
    "    THSS.append(model_ths)\n",
    "    cfg = get_cfg()\n",
    "    cfg.merge_from_file(model_zoo.get_config_file(config_name))\n",
    "    cfg.INPUT.MASK_FORMAT = 'bitmask'\n",
    "    cfg.MODEL.ROI_HEADS.NUM_CLASSES = 3 \n",
    "    cfg.MODEL.WEIGHTS = f'{mdl_path}/{model_name}'  \n",
    "    cfg.TEST.DETECTIONS_PER_IMAGE = 1000\n",
    "    MODELS.append(DefaultPredictor(cfg))\n",
    "print(f'all loaded:\\nthresholds: {THSS}\\nmodels: {BEST_MODELS}')"
   ]
  },
  {
   "cell_type": "code",
   "execution_count": null,
   "id": "d2efda96",
   "metadata": {
    "execution": {
     "iopub.execute_input": "2021-12-19T17:50:46.143654Z",
     "iopub.status.busy": "2021-12-19T17:50:46.142729Z",
     "iopub.status.idle": "2021-12-19T17:50:46.1526Z",
     "shell.execute_reply": "2021-12-19T17:50:46.151783Z",
     "shell.execute_reply.started": "2021-12-19T17:50:46.143613Z"
    },
    "papermill": {
     "duration": null,
     "end_time": null,
     "exception": null,
     "start_time": null,
     "status": "pending"
    },
    "tags": []
   },
   "outputs": [],
   "source": [
    "MODELS"
   ]
  },
  {
   "cell_type": "markdown",
   "id": "31440008",
   "metadata": {
    "papermill": {
     "duration": null,
     "end_time": null,
     "exception": null,
     "start_time": null,
     "status": "pending"
    },
    "tags": []
   },
   "source": [
    "## Utils"
   ]
  },
  {
   "cell_type": "code",
   "execution_count": null,
   "id": "552e80a9",
   "metadata": {
    "execution": {
     "iopub.execute_input": "2021-12-19T18:01:39.154686Z",
     "iopub.status.busy": "2021-12-19T18:01:39.154428Z",
     "iopub.status.idle": "2021-12-19T18:01:39.17835Z",
     "shell.execute_reply": "2021-12-19T18:01:39.176798Z",
     "shell.execute_reply.started": "2021-12-19T18:01:39.154658Z"
    },
    "papermill": {
     "duration": null,
     "end_time": null,
     "exception": null,
     "start_time": null,
     "status": "pending"
    },
    "tags": []
   },
   "outputs": [],
   "source": [
    "def rle_decode(mask_rle, shape=(520, 704)):\n",
    "    '''\n",
    "    mask_rle: run-length as string formated (start length)\n",
    "    shape: (height,width) of array to return \n",
    "    Returns numpy array, 1 - mask, 0 - background\n",
    "\n",
    "    '''\n",
    "    s = mask_rle.split()\n",
    "    starts, lengths = [np.asarray(x, dtype=int) \n",
    "                       for x in (s[0:][::2], s[1:][::2])]\n",
    "    starts -= 1\n",
    "    ends = starts + lengths\n",
    "    img = np.zeros(shape[0] * shape[1], dtype=np.uint8)\n",
    "    for lo, hi in zip(starts, ends):\n",
    "        img[lo : hi] = 1\n",
    "    return img.reshape(shape)  # Needed to align to RLE direction\n",
    "\n",
    "def rle_encode(img):\n",
    "    '''\n",
    "    img: numpy array, 1 - mask, 0 - background\n",
    "    Returns run length as string formated\n",
    "    \n",
    "    '''\n",
    "    pixels = img.flatten()\n",
    "    pixels = np.concatenate([[0], pixels, [0]])\n",
    "    runs = np.where(pixels[1:] != pixels[:-1])[0] + 1\n",
    "    runs[1::2] -= runs[::2]\n",
    "    return ' '.join(str(x) for x in runs)\n",
    "\n",
    "def pred_masks(file_name, path, model, ths, min_pixels):\n",
    "    img = cv2.imread(f'{path}/{file_name}')\n",
    "    output = model(img)\n",
    "    pred_classes = output['instances'].pred_classes.cpu().numpy().tolist()\n",
    "    pred_class = max(set(pred_classes), key=pred_classes.count)\n",
    "    take = output['instances'].scores >= ths[pred_class]\n",
    "    pred_masks = output['instances'].pred_masks[take]\n",
    "    pred_masks = pred_masks.cpu().numpy()\n",
    "    result = []\n",
    "    used = np.zeros(img.shape[:2], dtype=int) \n",
    "    for i, mask in enumerate(pred_masks):\n",
    "        mask = mask * (1 - used)\n",
    "        if mask.sum() >= min_pixels[pred_class]:\n",
    "            used += mask\n",
    "            result.append(rle_encode(mask))\n",
    "    return result\n",
    "\n",
    "def ensemble_preds(file_name, path, models, ths):\n",
    "    img = cv2.imread(f'{path}/{file_name}')\n",
    "    classes = []\n",
    "    scores = []\n",
    "    bboxes = []\n",
    "    masks = []\n",
    "    for i, model in enumerate(models):\n",
    "        output = model(img)\n",
    "        pred_classes = output['instances'].pred_classes.cpu().numpy().tolist()\n",
    "        pred_class = max(set(pred_classes), key=pred_classes.count)\n",
    "        take = output['instances'].scores >= ths[i][pred_class]\n",
    "        classes.extend(output['instances'].pred_classes[take].cpu().numpy().tolist())\n",
    "        scores.extend(output['instances'].scores[take].cpu().numpy().tolist())\n",
    "        bboxes.extend(output['instances'].pred_boxes[take].tensor.cpu().numpy().tolist())\n",
    "        masks.extend(output['instances'].pred_masks[take].cpu().numpy())\n",
    "    assert len(classes) == len(masks) , 'ensemble lenght mismatch'\n",
    "    #scores, classes, bboxes, masks = zip(*sorted(zip(scores, classes, bboxes, masks),reverse=True))\n",
    "    return classes, scores, bboxes, masks\n",
    "\n",
    "def nms_predictions(classes, scores, bboxes, masks, \n",
    "                    iou_th=.5, shape=(520, 704)):\n",
    "    he, wd = shape[0], shape[1]\n",
    "    boxes_list = [[[x[0] / wd, x[1] / he, x[2] / wd, x[3] / he] for x in bboxes]]\n",
    "    scores_list = [[x for x in scores]]\n",
    "    classes_list = [[x for x in classes]]\n",
    "    nms_bboxes, nms_scores, nms_classes = non_maximum_weighted(\n",
    "        boxes_list, \n",
    "        scores_list, \n",
    "        classes_list, \n",
    "        weights=None,\n",
    "        iou_thr=0.3,skip_box_thr=0.0001  \n",
    "    )\n",
    "    nms_masks = []\n",
    "    for s in nms_scores:\n",
    "        nms_masks.append(masks[scores.index(s)])\n",
    "    nms_scores, nms_classes, nms_masks = zip(*sorted(zip(nms_scores, nms_classes, nms_masks), reverse=True))\n",
    "    return nms_classes, nms_scores, nms_masks\n",
    "\n",
    "def ensemble_pred_masks(masks, classes, min_pixels, shape=(520, 704)):\n",
    "    result = []\n",
    "    #pred_class = max(set(classes), key=classes.count)\n",
    "    pred_class = int(max(set(classes), key=classes.count).item())\n",
    "    used = np.zeros(shape, dtype=int) \n",
    "    for i, mask in enumerate(masks):\n",
    "        mask = mask * (1 - used)\n",
    "        if mask.sum() >= min_pixels[pred_class]:\n",
    "            used += mask\n",
    "            result.append(rle_encode(mask))\n",
    "    return result"
   ]
  },
  {
   "cell_type": "markdown",
   "id": "530da19d",
   "metadata": {
    "papermill": {
     "duration": null,
     "end_time": null,
     "exception": null,
     "start_time": null,
     "status": "pending"
    },
    "tags": []
   },
   "source": [
    "## Demo inference"
   ]
  },
  {
   "cell_type": "code",
   "execution_count": null,
   "id": "da95d26c",
   "metadata": {
    "execution": {
     "iopub.execute_input": "2021-12-19T17:52:25.480533Z",
     "iopub.status.busy": "2021-12-19T17:52:25.480096Z",
     "iopub.status.idle": "2021-12-19T17:52:25.487078Z",
     "shell.execute_reply": "2021-12-19T17:52:25.486143Z",
     "shell.execute_reply.started": "2021-12-19T17:52:25.480496Z"
    },
    "papermill": {
     "duration": null,
     "end_time": null,
     "exception": null,
     "start_time": null,
     "status": "pending"
    },
    "tags": []
   },
   "outputs": [],
   "source": [
    "test_names = os.listdir(SUBM_PATH)\n",
    "print('test images:', len(test_names))"
   ]
  },
  {
   "cell_type": "code",
   "execution_count": null,
   "id": "ea9db334",
   "metadata": {
    "execution": {
     "iopub.execute_input": "2021-12-19T18:01:43.640256Z",
     "iopub.status.busy": "2021-12-19T18:01:43.639736Z",
     "iopub.status.idle": "2021-12-19T18:01:44.171477Z",
     "shell.execute_reply": "2021-12-19T18:01:44.170756Z",
     "shell.execute_reply.started": "2021-12-19T18:01:43.640219Z"
    },
    "papermill": {
     "duration": null,
     "end_time": null,
     "exception": null,
     "start_time": null,
     "status": "pending"
    },
    "tags": []
   },
   "outputs": [],
   "source": [
    "encoded_masks_single = pred_masks(\n",
    "    test_names[ID_TEST], \n",
    "    path=SUBM_PATH, \n",
    "    model=MODELS[0],\n",
    "    ths=THSS[0],\n",
    "    min_pixels=MIN_PIXELS\n",
    ")"
   ]
  },
  {
   "cell_type": "code",
   "execution_count": null,
   "id": "f1fa0df7",
   "metadata": {
    "execution": {
     "iopub.execute_input": "2021-12-19T18:01:45.447519Z",
     "iopub.status.busy": "2021-12-19T18:01:45.446941Z",
     "iopub.status.idle": "2021-12-19T18:01:46.936495Z",
     "shell.execute_reply": "2021-12-19T18:01:46.935754Z",
     "shell.execute_reply.started": "2021-12-19T18:01:45.447479Z"
    },
    "papermill": {
     "duration": null,
     "end_time": null,
     "exception": null,
     "start_time": null,
     "status": "pending"
    },
    "tags": []
   },
   "outputs": [],
   "source": [
    "classes, scores, bboxes, masks = ensemble_preds(\n",
    "    file_name=test_names[ID_TEST] , \n",
    "    path=SUBM_PATH, \n",
    "    models=MODELS, \n",
    "    ths=THSS\n",
    ")\n",
    "if NMS:\n",
    "    classes, scores, masks = nms_predictions(\n",
    "        classes, \n",
    "        scores, \n",
    "        bboxes,\n",
    "        masks, iou_th=IOU_TH\n",
    "    )\n",
    "encoded_masks = ensemble_pred_masks(masks, classes, min_pixels=MIN_PIXELS)"
   ]
  },
  {
   "cell_type": "code",
   "execution_count": null,
   "id": "38b17260",
   "metadata": {
    "execution": {
     "iopub.execute_input": "2021-12-19T18:01:53.201379Z",
     "iopub.status.busy": "2021-12-19T18:01:53.200834Z",
     "iopub.status.idle": "2021-12-19T18:02:10.269269Z",
     "shell.execute_reply": "2021-12-19T18:02:10.268588Z",
     "shell.execute_reply.started": "2021-12-19T18:01:53.201341Z"
    },
    "papermill": {
     "duration": null,
     "end_time": null,
     "exception": null,
     "start_time": null,
     "status": "pending"
    },
    "tags": []
   },
   "outputs": [],
   "source": [
    "_, axs = plt.subplots(2, 2, figsize=(14, 8))\n",
    "axs[0][0].imshow(cv2.imread(f'{SUBM_PATH}/{test_names[ID_TEST]}'))\n",
    "axs[0][0].axis('off')\n",
    "axs[0][0].set_title(test_names[ID_TEST])\n",
    "for en_mask in encoded_masks_single:\n",
    "    dec_mask = rle_decode(en_mask)\n",
    "    axs[0][1].imshow(np.ma.masked_where(dec_mask == 0, dec_mask))\n",
    "    axs[0][1].axis('off')\n",
    "    axs[0][1].set_title('single model')\n",
    "axs[1][0].imshow(cv2.imread(f'{SUBM_PATH}/{test_names[ID_TEST]}'))\n",
    "axs[1][0].axis('off')\n",
    "axs[1][0].set_title(test_names[ID_TEST])\n",
    "for en_mask in encoded_masks:\n",
    "    dec_mask = rle_decode(en_mask)\n",
    "    axs[1][1].imshow(np.ma.masked_where(dec_mask == 0, dec_mask))\n",
    "    axs[1][1].axis('off')\n",
    "    axs[1][1].set_title('ensemble models')\n",
    "plt.show()"
   ]
  },
  {
   "cell_type": "markdown",
   "id": "c933f9de",
   "metadata": {
    "papermill": {
     "duration": null,
     "end_time": null,
     "exception": null,
     "start_time": null,
     "status": "pending"
    },
    "tags": []
   },
   "source": [
    "## Inference"
   ]
  },
  {
   "cell_type": "code",
   "execution_count": null,
   "id": "8d44712e",
   "metadata": {
    "execution": {
     "iopub.execute_input": "2021-12-19T17:58:22.836571Z",
     "iopub.status.busy": "2021-12-19T17:58:22.836163Z",
     "iopub.status.idle": "2021-12-19T17:58:26.129492Z",
     "shell.execute_reply": "2021-12-19T17:58:26.128778Z",
     "shell.execute_reply.started": "2021-12-19T17:58:22.836523Z"
    },
    "papermill": {
     "duration": null,
     "end_time": null,
     "exception": null,
     "start_time": null,
     "status": "pending"
    },
    "tags": []
   },
   "outputs": [],
   "source": [
    "subm_ids, subm_masks = [], []\n",
    "for test_name in tqdm(test_names):\n",
    "    if SINGLE_MODE:\n",
    "        encoded_masks = pred_masks(\n",
    "            test_name, \n",
    "            path=SUBM_PATH, \n",
    "            model=MODELS[0],\n",
    "            ths=THSS[0],\n",
    "            min_pixels=MIN_PIXELS\n",
    "        )\n",
    "    else:\n",
    "        classes, scores, bboxes, masks = ensemble_preds(\n",
    "            file_name=test_name, \n",
    "            path=SUBM_PATH, \n",
    "            models=MODELS, \n",
    "            ths=THSS\n",
    "        )\n",
    "        if NMS:\n",
    "            classes, scores, masks = nms_predictions(\n",
    "                classes, \n",
    "                scores, \n",
    "                bboxes, \n",
    "                masks, \n",
    "                iou_th=IOU_TH\n",
    "            )\n",
    "        encoded_masks = ensemble_pred_masks(\n",
    "            masks, \n",
    "            classes, \n",
    "            min_pixels=MIN_PIXELS\n",
    "        )\n",
    "    for enc_mask in encoded_masks:\n",
    "        subm_ids.append(test_name[:test_name.find('.')])\n",
    "        subm_masks.append(enc_mask)"
   ]
  },
  {
   "cell_type": "code",
   "execution_count": null,
   "id": "6c82904e",
   "metadata": {
    "execution": {
     "iopub.execute_input": "2021-12-19T17:58:26.131901Z",
     "iopub.status.busy": "2021-12-19T17:58:26.131425Z",
     "iopub.status.idle": "2021-12-19T17:58:26.160952Z",
     "shell.execute_reply": "2021-12-19T17:58:26.160154Z",
     "shell.execute_reply.started": "2021-12-19T17:58:26.131847Z"
    },
    "papermill": {
     "duration": null,
     "end_time": null,
     "exception": null,
     "start_time": null,
     "status": "pending"
    },
    "tags": []
   },
   "outputs": [],
   "source": [
    "pd.DataFrame({\n",
    "    'id': subm_ids, \n",
    "    'predicted': subm_masks\n",
    "}).to_csv('submission.csv', index=False)\n",
    "pd.read_csv('submission.csv').head()"
   ]
  },
  {
   "cell_type": "markdown",
   "id": "dfa97fcd",
   "metadata": {
    "papermill": {
     "duration": null,
     "end_time": null,
     "exception": null,
     "start_time": null,
     "status": "pending"
    },
    "tags": []
   },
   "source": [
    "# References\n",
    "1. https://www.kaggle.com/vgarshin/detectron2-inference-with-ensemble-and-nms"
   ]
  }
 ],
 "metadata": {
  "kernelspec": {
   "display_name": "Python 3",
   "language": "python",
   "name": "python3"
  },
  "language_info": {
   "codemirror_mode": {
    "name": "ipython",
    "version": 3
   },
   "file_extension": ".py",
   "mimetype": "text/x-python",
   "name": "python",
   "nbconvert_exporter": "python",
   "pygments_lexer": "ipython3",
   "version": "3.7.10"
  },
  "papermill": {
   "default_parameters": {},
   "duration": 225.457628,
   "end_time": "2022-03-06T13:31:45.896388",
   "environment_variables": {},
   "exception": true,
   "input_path": "__notebook__.ipynb",
   "output_path": "__notebook__.ipynb",
   "parameters": {},
   "start_time": "2022-03-06T13:28:00.438760",
   "version": "2.3.3"
  }
 },
 "nbformat": 4,
 "nbformat_minor": 5
}
