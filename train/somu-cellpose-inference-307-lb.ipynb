{
 "cells": [
  {
   "cell_type": "markdown",
   "id": "18afd543",
   "metadata": {
    "papermill": {
     "duration": 0.020335,
     "end_time": "2021-12-08T07:05:50.441415",
     "exception": false,
     "start_time": "2021-12-08T07:05:50.421080",
     "status": "completed"
    },
    "tags": []
   },
   "source": [
    "# Inference example with a Cellpose model: www.cellpose.org\n",
    "The model is based on U-Net, however rather than training it directly on bitmask targets they first convert them to \"spatial flows\" representations and train on that. This makes segmentation of dense and touching cells more reliable. For details and additional tricks they use see the paper \"Cellpose: a generalist algorithm for cellular segmentation\".\n",
    "\n",
    "To train it I used the script provided in the cellpose repo ie: `python -m cellpose --train ...` after I converted the dataset to the input format it expects.\n",
    "\n",
    "In inference I just submit the masks as they were returned from the model - no postprocessing"
   ]
  },
  {
   "cell_type": "markdown",
   "id": "b67b8214",
   "metadata": {
    "papermill": {
     "duration": 0.025554,
     "end_time": "2021-12-08T07:05:50.487784",
     "exception": false,
     "start_time": "2021-12-08T07:05:50.462230",
     "status": "completed"
    },
    "tags": []
   },
   "source": [
    "# Calculation log"
   ]
  },
  {
   "cell_type": "markdown",
   "id": "ca6ecfb0",
   "metadata": {
    "papermill": {
     "duration": 0.028861,
     "end_time": "2021-12-08T07:05:50.554604",
     "exception": false,
     "start_time": "2021-12-08T07:05:50.525743",
     "status": "completed"
    },
    "tags": []
   },
   "source": [
    "1. 2021/12/06:1 epoch training, LB score:\n",
    "2. "
   ]
  },
  {
   "cell_type": "markdown",
   "id": "846dfffd",
   "metadata": {
    "papermill": {
     "duration": 0.0189,
     "end_time": "2021-12-08T07:05:50.602639",
     "exception": false,
     "start_time": "2021-12-08T07:05:50.583739",
     "status": "completed"
    },
    "tags": []
   },
   "source": [
    "# Import"
   ]
  },
  {
   "cell_type": "code",
   "execution_count": 1,
   "id": "923f8443",
   "metadata": {
    "execution": {
     "iopub.execute_input": "2021-12-08T07:05:50.671734Z",
     "iopub.status.busy": "2021-12-08T07:05:50.670935Z",
     "iopub.status.idle": "2021-12-08T07:06:46.700171Z",
     "shell.execute_reply": "2021-12-08T07:06:46.699530Z",
     "shell.execute_reply.started": "2021-12-08T06:41:25.706219Z"
    },
    "papermill": {
     "duration": 56.078673,
     "end_time": "2021-12-08T07:06:46.700337",
     "exception": false,
     "start_time": "2021-12-08T07:05:50.621664",
     "status": "completed"
    },
    "tags": []
   },
   "outputs": [
    {
     "name": "stdout",
     "output_type": "stream",
     "text": [
      "Looking in links: ../input/numpyv3\r\n",
      "Processing /kaggle/input/numpyv3/numpy-1.20.0-cp37-cp37m-manylinux2010_x86_64.whl\r\n",
      "Installing collected packages: numpy\r\n",
      "  Attempting uninstall: numpy\r\n",
      "    Found existing installation: numpy 1.19.5\r\n",
      "    Uninstalling numpy-1.19.5:\r\n",
      "      Successfully uninstalled numpy-1.19.5\r\n",
      "\u001b[31mERROR: pip's dependency resolver does not currently take into account all the packages that are installed. This behaviour is the source of the following dependency conflicts.\r\n",
      "tensorflow-io 0.21.0 requires tensorflow-io-gcs-filesystem==0.21.0, which is not installed.\r\n",
      "explainable-ai-sdk 1.3.2 requires xai-image-widget, which is not installed.\r\n",
      "dask-cudf 21.10.1 requires cupy-cuda114, which is not installed.\r\n",
      "cudf 21.10.1 requires cupy-cuda110, which is not installed.\r\n",
      "beatrix-jupyterlab 3.1.4 requires google-cloud-bigquery-storage, which is not installed.\r\n",
      "yellowbrick 1.3.post1 requires numpy<1.20,>=1.16.0, but you have numpy 1.20.0 which is incompatible.\r\n",
      "tfx-bsl 1.4.0 requires absl-py<0.13,>=0.9, but you have absl-py 0.15.0 which is incompatible.\r\n",
      "tfx-bsl 1.4.0 requires numpy<1.20,>=1.16, but you have numpy 1.20.0 which is incompatible.\r\n",
      "tfx-bsl 1.4.0 requires pyarrow<6,>=1, but you have pyarrow 6.0.0 which is incompatible.\r\n",
      "tensorflow 2.6.2 requires numpy~=1.19.2, but you have numpy 1.20.0 which is incompatible.\r\n",
      "tensorflow 2.6.2 requires six~=1.15.0, but you have six 1.16.0 which is incompatible.\r\n",
      "tensorflow 2.6.2 requires typing-extensions~=3.7.4, but you have typing-extensions 3.10.0.2 which is incompatible.\r\n",
      "tensorflow 2.6.2 requires wrapt~=1.12.1, but you have wrapt 1.13.3 which is incompatible.\r\n",
      "tensorflow-transform 1.4.0 requires absl-py<0.13,>=0.9, but you have absl-py 0.15.0 which is incompatible.\r\n",
      "tensorflow-transform 1.4.0 requires numpy<1.20,>=1.16, but you have numpy 1.20.0 which is incompatible.\r\n",
      "tensorflow-transform 1.4.0 requires pyarrow<6,>=1, but you have pyarrow 6.0.0 which is incompatible.\r\n",
      "pdpbox 0.2.1 requires matplotlib==3.1.1, but you have matplotlib 3.5.0 which is incompatible.\r\n",
      "imbalanced-learn 0.8.1 requires scikit-learn>=0.24, but you have scikit-learn 0.23.2 which is incompatible.\r\n",
      "dask-cudf 21.10.1 requires dask==2021.09.1, but you have dask 2021.11.2 which is incompatible.\r\n",
      "dask-cudf 21.10.1 requires distributed==2021.09.1, but you have distributed 2021.11.2 which is incompatible.\r\n",
      "apache-beam 2.34.0 requires dill<0.3.2,>=0.3.1.1, but you have dill 0.3.4 which is incompatible.\r\n",
      "apache-beam 2.34.0 requires httplib2<0.20.0,>=0.8, but you have httplib2 0.20.2 which is incompatible.\r\n",
      "apache-beam 2.34.0 requires pyarrow<6.0.0,>=0.15.1, but you have pyarrow 6.0.0 which is incompatible.\u001b[0m\r\n",
      "Successfully installed numpy-1.20.0\r\n",
      "\u001b[33mWARNING: Running pip as the 'root' user can result in broken permissions and conflicting behaviour with the system package manager. It is recommended to use a virtual environment instead: https://pip.pypa.io/warnings/venv\u001b[0m\r\n",
      "Looking in links: ../input/natsort\r\n",
      "Processing /kaggle/input/natsort/natsort-7.1.1-py3-none-any.whl\r\n",
      "Installing collected packages: natsort\r\n",
      "Successfully installed natsort-7.1.1\r\n",
      "\u001b[33mWARNING: Running pip as the 'root' user can result in broken permissions and conflicting behaviour with the system package manager. It is recommended to use a virtual environment instead: https://pip.pypa.io/warnings/venv\u001b[0m\r\n",
      "Looking in links: ../input/fastremap\r\n",
      "Processing /kaggle/input/fastremap/fastremap-1.11.1-cp37-cp37m-manylinux1_x86_64.whl\r\n",
      "Requirement already satisfied: numpy in /opt/conda/lib/python3.7/site-packages (from fastremap==1.11.1) (1.20.0)\r\n",
      "Installing collected packages: fastremap\r\n",
      "Successfully installed fastremap-1.11.1\r\n",
      "\u001b[33mWARNING: Running pip as the 'root' user can result in broken permissions and conflicting behaviour with the system package manager. It is recommended to use a virtual environment instead: https://pip.pypa.io/warnings/venv\u001b[0m\r\n",
      "Looking in links: ../input/edtpackage\r\n",
      "Processing /kaggle/input/edtpackage/edt-2.0.2-cp37-cp37m-manylinux2010_x86_64.whl\r\n",
      "Requirement already satisfied: numpy in /opt/conda/lib/python3.7/site-packages (from edt==2.0.2) (1.20.0)\r\n",
      "Installing collected packages: edt\r\n",
      "Successfully installed edt-2.0.2\r\n",
      "\u001b[33mWARNING: Running pip as the 'root' user can result in broken permissions and conflicting behaviour with the system package manager. It is recommended to use a virtual environment instead: https://pip.pypa.io/warnings/venv\u001b[0m\r\n",
      "Looking in links: ../input/pytorchranger\r\n",
      "Processing /kaggle/input/pytorchranger/pytorch_ranger-0.1.1-py3-none-any.whl\r\n",
      "Requirement already satisfied: torch in /opt/conda/lib/python3.7/site-packages (from pytorch-ranger==0.1.1) (1.9.1)\r\n",
      "Requirement already satisfied: typing-extensions in /opt/conda/lib/python3.7/site-packages (from torch->pytorch-ranger==0.1.1) (3.10.0.2)\r\n",
      "Installing collected packages: pytorch-ranger\r\n",
      "Successfully installed pytorch-ranger-0.1.1\r\n",
      "\u001b[33mWARNING: Running pip as the 'root' user can result in broken permissions and conflicting behaviour with the system package manager. It is recommended to use a virtual environment instead: https://pip.pypa.io/warnings/venv\u001b[0m\r\n",
      "Looking in links: ../input/torchoptimzier\r\n",
      "Processing /kaggle/input/torchoptimzier/torch_optimizer-0.1.0-py3-none-any.whl\r\n",
      "Requirement already satisfied: torch>=1.1.0 in /opt/conda/lib/python3.7/site-packages (from torch-optimizer==0.1.0) (1.9.1)\r\n",
      "Requirement already satisfied: pytorch-ranger>=0.1.1 in /opt/conda/lib/python3.7/site-packages (from torch-optimizer==0.1.0) (0.1.1)\r\n",
      "Requirement already satisfied: typing-extensions in /opt/conda/lib/python3.7/site-packages (from torch>=1.1.0->torch-optimizer==0.1.0) (3.10.0.2)\r\n",
      "Installing collected packages: torch-optimizer\r\n",
      "Successfully installed torch-optimizer-0.1.0\r\n",
      "\u001b[33mWARNING: Running pip as the 'root' user can result in broken permissions and conflicting behaviour with the system package manager. It is recommended to use a virtual environment instead: https://pip.pypa.io/warnings/venv\u001b[0m\r\n",
      "Looking in links: ../input/cellposelibrary\r\n",
      "Processing /kaggle/input/global-wheels/cellpose-0.7.2-py3-none-any.whl\r\n",
      "Requirement already satisfied: fastremap in /opt/conda/lib/python3.7/site-packages (from cellpose==0.7.2) (1.11.1)\r\n",
      "Requirement already satisfied: torch>=1.6 in /opt/conda/lib/python3.7/site-packages (from cellpose==0.7.2) (1.9.1)\r\n",
      "Requirement already satisfied: tifffile in /opt/conda/lib/python3.7/site-packages (from cellpose==0.7.2) (2021.11.2)\r\n",
      "Requirement already satisfied: tqdm in /opt/conda/lib/python3.7/site-packages (from cellpose==0.7.2) (4.62.3)\r\n",
      "Requirement already satisfied: opencv-python-headless in /opt/conda/lib/python3.7/site-packages (from cellpose==0.7.2) (4.5.4.60)\r\n",
      "Requirement already satisfied: scipy in /opt/conda/lib/python3.7/site-packages (from cellpose==0.7.2) (1.7.2)\r\n",
      "Requirement already satisfied: numba in /opt/conda/lib/python3.7/site-packages (from cellpose==0.7.2) (0.54.1)\r\n",
      "Requirement already satisfied: numpy>=1.20.0 in /opt/conda/lib/python3.7/site-packages (from cellpose==0.7.2) (1.20.0)\r\n",
      "Requirement already satisfied: edt in /opt/conda/lib/python3.7/site-packages (from cellpose==0.7.2) (2.0.2)\r\n",
      "Requirement already satisfied: natsort in /opt/conda/lib/python3.7/site-packages (from cellpose==0.7.2) (7.1.1)\r\n",
      "Requirement already satisfied: torch-optimizer in /opt/conda/lib/python3.7/site-packages (from cellpose==0.7.2) (0.1.0)\r\n",
      "Requirement already satisfied: typing-extensions in /opt/conda/lib/python3.7/site-packages (from torch>=1.6->cellpose==0.7.2) (3.10.0.2)\r\n",
      "Requirement already satisfied: setuptools in /opt/conda/lib/python3.7/site-packages (from numba->cellpose==0.7.2) (59.1.1)\r\n",
      "Requirement already satisfied: llvmlite<0.38,>=0.37.0rc1 in /opt/conda/lib/python3.7/site-packages (from numba->cellpose==0.7.2) (0.37.0)\r\n",
      "Requirement already satisfied: pytorch-ranger>=0.1.1 in /opt/conda/lib/python3.7/site-packages (from torch-optimizer->cellpose==0.7.2) (0.1.1)\r\n",
      "Installing collected packages: cellpose\r\n",
      "Successfully installed cellpose-0.7.2\r\n",
      "\u001b[33mWARNING: Running pip as the 'root' user can result in broken permissions and conflicting behaviour with the system package manager. It is recommended to use a virtual environment instead: https://pip.pypa.io/warnings/venv\u001b[0m\r\n"
     ]
    }
   ],
   "source": [
    "!pip install --no-index ../input/numpyv3/numpy-1.20.0-cp37-cp37m-manylinux2010_x86_64.whl --find-links=../input/numpyv3\n",
    "!pip install --no-index ../input/natsort/natsort-7.1.1-py3-none-any.whl --find-links=../input/natsort\n",
    "!pip install --no-index ../input/fastremap/fastremap-1.11.1-cp37-cp37m-manylinux1_x86_64.whl --find-links=../input/fastremap\n",
    "!pip install --no-index ../input/edtpackage/edt-2.0.2-cp37-cp37m-manylinux2010_x86_64.whl --find-links=../input/edtpackage\n",
    "!pip install --no-index ../input/pytorchranger/pytorch_ranger-0.1.1-py3-none-any.whl --find-links=../input/pytorchranger\n",
    "!pip install --no-index ../input/torchoptimzier/torch_optimizer-0.1.0-py3-none-any.whl --find-links=../input/torchoptimzier\n",
    "!pip install --no-index ../input/global-wheels/cellpose-0.7.2-py3-none-any.whl --find-links=../input/cellposelibrary"
   ]
  },
  {
   "cell_type": "code",
   "execution_count": 2,
   "id": "52117cbc",
   "metadata": {
    "execution": {
     "iopub.execute_input": "2021-12-08T07:06:46.758812Z",
     "iopub.status.busy": "2021-12-08T07:06:46.758270Z",
     "iopub.status.idle": "2021-12-08T07:06:46.761102Z",
     "shell.execute_reply": "2021-12-08T07:06:46.761508Z",
     "shell.execute_reply.started": "2021-12-08T06:43:06.903215Z"
    },
    "papermill": {
     "duration": 0.033927,
     "end_time": "2021-12-08T07:06:46.761628",
     "exception": false,
     "start_time": "2021-12-08T07:06:46.727701",
     "status": "completed"
    },
    "tags": []
   },
   "outputs": [
    {
     "name": "stdout",
     "output_type": "stream",
     "text": [
      "1.19.5\n"
     ]
    }
   ],
   "source": [
    "import numpy as np\n",
    "print(np.__version__)"
   ]
  },
  {
   "cell_type": "code",
   "execution_count": 3,
   "id": "16825433",
   "metadata": {
    "execution": {
     "iopub.execute_input": "2021-12-08T07:06:46.821142Z",
     "iopub.status.busy": "2021-12-08T07:06:46.820415Z",
     "iopub.status.idle": "2021-12-08T07:06:59.598342Z",
     "shell.execute_reply": "2021-12-08T07:06:59.597828Z",
     "shell.execute_reply.started": "2021-12-08T06:43:08.600181Z"
    },
    "papermill": {
     "duration": 12.809373,
     "end_time": "2021-12-08T07:06:59.598473",
     "exception": false,
     "start_time": "2021-12-08T07:06:46.789100",
     "status": "completed"
    },
    "tags": []
   },
   "outputs": [
    {
     "name": "stdout",
     "output_type": "stream",
     "text": [
      "creating new log file\n"
     ]
    }
   ],
   "source": [
    "from cellpose import models, io, plot"
   ]
  },
  {
   "cell_type": "markdown",
   "id": "37772fcb",
   "metadata": {
    "papermill": {
     "duration": 0.026849,
     "end_time": "2021-12-08T07:06:59.654042",
     "exception": false,
     "start_time": "2021-12-08T07:06:59.627193",
     "status": "completed"
    },
    "tags": []
   },
   "source": [
    "# Dataset"
   ]
  },
  {
   "cell_type": "code",
   "execution_count": 4,
   "id": "202057ba",
   "metadata": {
    "execution": {
     "iopub.execute_input": "2021-12-08T07:06:59.712052Z",
     "iopub.status.busy": "2021-12-08T07:06:59.710604Z",
     "iopub.status.idle": "2021-12-08T07:06:59.714297Z",
     "shell.execute_reply": "2021-12-08T07:06:59.713868Z"
    },
    "papermill": {
     "duration": 0.033033,
     "end_time": "2021-12-08T07:06:59.714414",
     "exception": false,
     "start_time": "2021-12-08T07:06:59.681381",
     "status": "completed"
    },
    "tags": []
   },
   "outputs": [],
   "source": [
    "# import shutil\n",
    "# import os\n",
    "\n",
    "# cell_dir_path = './cell'\n",
    "# if os.path.exists(cell_dir_path):\n",
    "#     shutil.rmtree(cell_dir_path)"
   ]
  },
  {
   "cell_type": "code",
   "execution_count": 5,
   "id": "8ff6cac4",
   "metadata": {
    "execution": {
     "iopub.execute_input": "2021-12-08T07:06:59.772062Z",
     "iopub.status.busy": "2021-12-08T07:06:59.771277Z",
     "iopub.status.idle": "2021-12-08T07:06:59.773770Z",
     "shell.execute_reply": "2021-12-08T07:06:59.773343Z"
    },
    "papermill": {
     "duration": 0.032396,
     "end_time": "2021-12-08T07:06:59.773886",
     "exception": false,
     "start_time": "2021-12-08T07:06:59.741490",
     "status": "completed"
    },
    "tags": []
   },
   "outputs": [],
   "source": [
    "# import os\n",
    "# os.makedirs(f\"/kaggle/working/cell/train\", exist_ok=True)\n",
    "# os.makedirs(f\"/kaggle/working/cell/test\", exist_ok=True)"
   ]
  },
  {
   "cell_type": "code",
   "execution_count": 6,
   "id": "c3ea57db",
   "metadata": {
    "execution": {
     "iopub.execute_input": "2021-12-08T07:06:59.833934Z",
     "iopub.status.busy": "2021-12-08T07:06:59.833175Z",
     "iopub.status.idle": "2021-12-08T07:06:59.835181Z",
     "shell.execute_reply": "2021-12-08T07:06:59.835548Z"
    },
    "papermill": {
     "duration": 0.034455,
     "end_time": "2021-12-08T07:06:59.835663",
     "exception": false,
     "start_time": "2021-12-08T07:06:59.801208",
     "status": "completed"
    },
    "tags": []
   },
   "outputs": [],
   "source": [
    "# import random\n",
    "# import glob\n",
    "# import pathlib\n",
    "# import shutil\n",
    "\n",
    "\n",
    "# def train_test_split(cell_type,train_test_split_ratio=0.8):\n",
    "#     img_dir_path = f\"../input/cell-tiff/\"\n",
    "#     files = glob.glob(img_dir_path + f\"{cell_type}_image/*\")\n",
    "\n",
    "\n",
    "#     new_files = []\n",
    "#     for file in files:\n",
    "#         new_file = file.replace('_image', '')\n",
    "#         new_files.append(new_file)\n",
    "\n",
    "#     #print(new_files)    \n",
    "#     num_train = int(train_test_split_ratio*len(new_files))\n",
    "\n",
    "#     random.seed(0)\n",
    "\n",
    "#     train_lst = random.sample(new_files,num_train)\n",
    "#     test_lst = list(set(new_files) ^ set(train_lst))\n",
    "\n",
    "#     for file in train_lst:\n",
    "#         file = pathlib.Path(file).stem\n",
    "#         suffixs = [\"image\",\"mask\"]\n",
    "#         for suffix in suffixs:\n",
    "#             new_file = f\"{file}_{suffix}.tiff\"\n",
    "#             if suffix == \"image\":\n",
    "#                 new2_file = f\"{file}.tif\"\n",
    "#             else:\n",
    "#                 new2_file = f\"{file}_masks.tif\"\n",
    "#             #print(file_name)\n",
    "#             shutil.copy(img_dir_path + f\"{cell_type}_{suffix}/\" + new_file, f'./cell/train/{new2_file}')\n",
    "\n",
    "#     for file in test_lst:\n",
    "#         file = pathlib.Path(file).stem\n",
    "#         suffixs = [\"image\",\"mask\"]\n",
    "#         for suffix in suffixs:\n",
    "#             new_file = f\"{file}_{suffix}.tiff\"\n",
    "#             if suffix == \"image\":\n",
    "#                 new2_file = new2_file = f\"{file}.tif\"\n",
    "#             else:\n",
    "#                 new2_file = f\"{file}_masks.tif\"\n",
    "#             #print(file_name)\n",
    "#             shutil.copy(img_dir_path + f\"{cell_type}_{suffix}/\" + new_file, f'./cell/test/{new2_file}')\n",
    "\n",
    "#     print(len(new_files))\n",
    "#     print(len(train_lst))\n",
    "#     print(len(test_lst))\n",
    "#     print(len(list(set(train_lst) & set(test_lst))))"
   ]
  },
  {
   "cell_type": "code",
   "execution_count": 7,
   "id": "b6c85f16",
   "metadata": {
    "execution": {
     "iopub.execute_input": "2021-12-08T07:06:59.902508Z",
     "iopub.status.busy": "2021-12-08T07:06:59.901521Z",
     "iopub.status.idle": "2021-12-08T07:06:59.904216Z",
     "shell.execute_reply": "2021-12-08T07:06:59.904685Z"
    },
    "papermill": {
     "duration": 0.039929,
     "end_time": "2021-12-08T07:06:59.904817",
     "exception": false,
     "start_time": "2021-12-08T07:06:59.864888",
     "status": "completed"
    },
    "tags": []
   },
   "outputs": [],
   "source": [
    "# cell_type_lst = [\"astro\", \"cort\", \"shsy5y\"]\n",
    "# # cell_type = \"astro\"\n",
    "\n",
    "# for cell_type in cell_type_lst:\n",
    "#     train_test_split(cell_type)"
   ]
  },
  {
   "cell_type": "code",
   "execution_count": 8,
   "id": "263c2758",
   "metadata": {
    "execution": {
     "iopub.execute_input": "2021-12-08T07:06:59.968933Z",
     "iopub.status.busy": "2021-12-08T07:06:59.968367Z",
     "iopub.status.idle": "2021-12-08T07:06:59.970803Z",
     "shell.execute_reply": "2021-12-08T07:06:59.971254Z"
    },
    "papermill": {
     "duration": 0.035169,
     "end_time": "2021-12-08T07:06:59.971385",
     "exception": false,
     "start_time": "2021-12-08T07:06:59.936216",
     "status": "completed"
    },
    "tags": []
   },
   "outputs": [],
   "source": [
    "#!python -m cellpose --train --dir ../input/sartorius-cell-instance-segmentation/train --test_dir /datasets/cellpose/test --img_filter _img --pretrained_model None --n_epochs 500 --chan 2 --chan2 1 --learning_rate 0.2"
   ]
  },
  {
   "cell_type": "code",
   "execution_count": 9,
   "id": "d4ca0c7c",
   "metadata": {
    "execution": {
     "iopub.execute_input": "2021-12-08T07:07:00.032528Z",
     "iopub.status.busy": "2021-12-08T07:07:00.031988Z",
     "iopub.status.idle": "2021-12-08T07:07:00.034949Z",
     "shell.execute_reply": "2021-12-08T07:07:00.034546Z"
    },
    "papermill": {
     "duration": 0.034124,
     "end_time": "2021-12-08T07:07:00.035088",
     "exception": false,
     "start_time": "2021-12-08T07:07:00.000964",
     "status": "completed"
    },
    "tags": []
   },
   "outputs": [],
   "source": [
    "#!pwd\n",
    "#!echo $HOME"
   ]
  },
  {
   "cell_type": "code",
   "execution_count": 10,
   "id": "4465534b",
   "metadata": {
    "execution": {
     "iopub.execute_input": "2021-12-08T07:07:00.093019Z",
     "iopub.status.busy": "2021-12-08T07:07:00.092219Z",
     "iopub.status.idle": "2021-12-08T07:07:00.095724Z",
     "shell.execute_reply": "2021-12-08T07:07:00.095288Z"
    },
    "papermill": {
     "duration": 0.033212,
     "end_time": "2021-12-08T07:07:00.095819",
     "exception": false,
     "start_time": "2021-12-08T07:07:00.062607",
     "status": "completed"
    },
    "tags": []
   },
   "outputs": [],
   "source": [
    "#!ls -la ./cell"
   ]
  },
  {
   "cell_type": "code",
   "execution_count": 11,
   "id": "c87f5fee",
   "metadata": {
    "execution": {
     "iopub.execute_input": "2021-12-08T07:07:00.154971Z",
     "iopub.status.busy": "2021-12-08T07:07:00.154345Z",
     "iopub.status.idle": "2021-12-08T07:07:00.156939Z",
     "shell.execute_reply": "2021-12-08T07:07:00.156552Z"
    },
    "papermill": {
     "duration": 0.033084,
     "end_time": "2021-12-08T07:07:00.157065",
     "exception": false,
     "start_time": "2021-12-08T07:07:00.123981",
     "status": "completed"
    },
    "tags": []
   },
   "outputs": [],
   "source": [
    "#!ls /kaggle/working/cell"
   ]
  },
  {
   "cell_type": "code",
   "execution_count": 12,
   "id": "45c819be",
   "metadata": {
    "execution": {
     "iopub.execute_input": "2021-12-08T07:07:00.220728Z",
     "iopub.status.busy": "2021-12-08T07:07:00.219862Z",
     "iopub.status.idle": "2021-12-08T07:07:00.222069Z",
     "shell.execute_reply": "2021-12-08T07:07:00.221555Z"
    },
    "papermill": {
     "duration": 0.037362,
     "end_time": "2021-12-08T07:07:00.222172",
     "exception": false,
     "start_time": "2021-12-08T07:07:00.184810",
     "status": "completed"
    },
    "tags": []
   },
   "outputs": [],
   "source": [
    "#!ls -la ./cell/train"
   ]
  },
  {
   "cell_type": "markdown",
   "id": "3a6883bc",
   "metadata": {
    "papermill": {
     "duration": 0.027722,
     "end_time": "2021-12-08T07:07:00.277598",
     "exception": false,
     "start_time": "2021-12-08T07:07:00.249876",
     "status": "completed"
    },
    "tags": []
   },
   "source": [
    "# model training 1:"
   ]
  },
  {
   "cell_type": "code",
   "execution_count": 13,
   "id": "2d858f4d",
   "metadata": {
    "execution": {
     "iopub.execute_input": "2021-12-08T07:07:00.346260Z",
     "iopub.status.busy": "2021-12-08T07:07:00.345734Z",
     "iopub.status.idle": "2021-12-08T07:07:09.835020Z",
     "shell.execute_reply": "2021-12-08T07:07:09.834493Z",
     "shell.execute_reply.started": "2021-12-08T06:43:21.404006Z"
    },
    "papermill": {
     "duration": 9.520676,
     "end_time": "2021-12-08T07:07:09.835176",
     "exception": false,
     "start_time": "2021-12-08T07:07:00.314500",
     "status": "completed"
    },
    "tags": []
   },
   "outputs": [
    {
     "data": {
      "text/plain": [
       "'./cell'"
      ]
     },
     "execution_count": 13,
     "metadata": {},
     "output_type": "execute_result"
    }
   ],
   "source": [
    "import shutil\n",
    "import os\n",
    "cell_dir_path = './cell'\n",
    "if os.path.exists(cell_dir_path):\n",
    "    shutil.rmtree(cell_dir_path)\n",
    "shutil.copytree(\"../input/cell-data-20211207/cell_dataset\", \"./cell\")"
   ]
  },
  {
   "cell_type": "code",
   "execution_count": 14,
   "id": "0f7d1415",
   "metadata": {
    "execution": {
     "iopub.execute_input": "2021-12-08T07:07:09.909097Z",
     "iopub.status.busy": "2021-12-08T07:07:09.897950Z",
     "iopub.status.idle": "2021-12-08T09:10:34.452806Z",
     "shell.execute_reply": "2021-12-08T09:10:34.453408Z",
     "shell.execute_reply.started": "2021-12-08T06:43:30.080481Z"
    },
    "papermill": {
     "duration": 7404.589617,
     "end_time": "2021-12-08T09:10:34.453967",
     "exception": false,
     "start_time": "2021-12-08T07:07:09.864350",
     "status": "completed"
    },
    "tags": []
   },
   "outputs": [
    {
     "name": "stdout",
     "output_type": "stream",
     "text": [
      "Not all flows are present. Run flow generation again.\r\n",
      "Not all flows are present. Run flow generation again.\r\n",
      "100%|█████████████████████████████████████████| 484/484 [03:16<00:00,  2.46it/s]\r\n",
      "100%|█████████████████████████████████████████| 122/122 [05:08<00:00,  2.53s/it]\r\n",
      "\u001b[0m"
     ]
    }
   ],
   "source": [
    "!python -m cellpose --train --dir \"/kaggle/working/cell/train\" --test_dir \"/kaggle/working/cell/test\" --pretrained_model cyto2torch_3 --n_epochs 475 --chan 2 --chan2 1 --learning_rate 0.2 --use_gpu"
   ]
  },
  {
   "cell_type": "code",
   "execution_count": 15,
   "id": "56cc77cb",
   "metadata": {
    "execution": {
     "iopub.execute_input": "2021-12-08T09:10:34.894399Z",
     "iopub.status.busy": "2021-12-08T09:10:34.893402Z",
     "iopub.status.idle": "2021-12-08T09:10:34.895301Z",
     "shell.execute_reply": "2021-12-08T09:10:34.895726Z",
     "shell.execute_reply.started": "2021-12-08T06:29:33.265262Z"
    },
    "papermill": {
     "duration": 0.258909,
     "end_time": "2021-12-08T09:10:34.895858",
     "exception": false,
     "start_time": "2021-12-08T09:10:34.636949",
     "status": "completed"
    },
    "tags": []
   },
   "outputs": [],
   "source": [
    "# model_file = [i for i in os.listdir(\"/kaggle/working/cell/train\") if i.split(\"/\")[-1].split(\".\")[-1] != \"tif\"]\n",
    "# model_file"
   ]
  },
  {
   "cell_type": "code",
   "execution_count": 16,
   "id": "45a0073c",
   "metadata": {
    "execution": {
     "iopub.execute_input": "2021-12-08T09:10:35.264305Z",
     "iopub.status.busy": "2021-12-08T09:10:35.263579Z",
     "iopub.status.idle": "2021-12-08T09:10:35.265605Z",
     "shell.execute_reply": "2021-12-08T09:10:35.265969Z",
     "shell.execute_reply.started": "2021-12-08T06:33:19.842791Z"
    },
    "papermill": {
     "duration": 0.188072,
     "end_time": "2021-12-08T09:10:35.266131",
     "exception": false,
     "start_time": "2021-12-08T09:10:35.078059",
     "status": "completed"
    },
    "tags": []
   },
   "outputs": [],
   "source": [
    "# os.listdir(\"/kaggle/working/cell/train/models\")[0]"
   ]
  },
  {
   "cell_type": "code",
   "execution_count": 17,
   "id": "9fe0294b",
   "metadata": {
    "execution": {
     "iopub.execute_input": "2021-12-08T09:10:35.630377Z",
     "iopub.status.busy": "2021-12-08T09:10:35.629611Z",
     "iopub.status.idle": "2021-12-08T09:10:35.631586Z",
     "shell.execute_reply": "2021-12-08T09:10:35.631980Z",
     "shell.execute_reply.started": "2021-12-08T06:54:23.157615Z"
    },
    "papermill": {
     "duration": 0.185305,
     "end_time": "2021-12-08T09:10:35.632132",
     "exception": false,
     "start_time": "2021-12-08T09:10:35.446827",
     "status": "completed"
    },
    "tags": []
   },
   "outputs": [],
   "source": [
    "# import wandb\n",
    "# from wandb.keras import WandbCallback\n",
    "\n",
    "# try:\n",
    "#     from kaggle_secrets import UserSecretsClient\n",
    "#     user_secrets = UserSecretsClient()\n",
    "#     api_key = user_secrets.get_secret(\"WANDB\")\n",
    "#     wandb.login(key=api_key)\n",
    "#     anonymous = None\n",
    "# except:\n",
    "#     anonymous = \"must\"\n",
    "#     print('To use your W&B account,\\nGo to Add-ons -> Secrets and provide your W&B access token. Use the Label name as WANDB. \\nGet your W&B access token from here: https://wandb.ai/authorize')"
   ]
  },
  {
   "cell_type": "code",
   "execution_count": 18,
   "id": "a29da170",
   "metadata": {
    "execution": {
     "iopub.execute_input": "2021-12-08T09:10:35.997017Z",
     "iopub.status.busy": "2021-12-08T09:10:35.996171Z",
     "iopub.status.idle": "2021-12-08T09:10:35.998659Z",
     "shell.execute_reply": "2021-12-08T09:10:35.998239Z"
    },
    "papermill": {
     "duration": 0.186872,
     "end_time": "2021-12-08T09:10:35.998769",
     "exception": false,
     "start_time": "2021-12-08T09:10:35.811897",
     "status": "completed"
    },
    "tags": []
   },
   "outputs": [],
   "source": [
    "# wandb.save(os.listdir(\"/kaggle/working/cell/train/models\")[0], base_path=wandb.run.dir)"
   ]
  },
  {
   "cell_type": "code",
   "execution_count": 19,
   "id": "e6665711",
   "metadata": {
    "execution": {
     "iopub.execute_input": "2021-12-08T09:10:36.371228Z",
     "iopub.status.busy": "2021-12-08T09:10:36.369876Z",
     "iopub.status.idle": "2021-12-08T09:10:36.371736Z",
     "shell.execute_reply": "2021-12-08T09:10:36.372607Z",
     "shell.execute_reply.started": "2021-12-08T06:54:29.169885Z"
    },
    "papermill": {
     "duration": 0.187873,
     "end_time": "2021-12-08T09:10:36.372743",
     "exception": false,
     "start_time": "2021-12-08T09:10:36.184870",
     "status": "completed"
    },
    "tags": []
   },
   "outputs": [],
   "source": [
    "# # import wandb\n",
    "# wandb.init(project=\"sartorius_cellpose\", entity=\"somusan\")\n",
    "# wandb.save(os.listdir(\"/kaggle/working/cell/train/models\")[0])"
   ]
  },
  {
   "cell_type": "code",
   "execution_count": 20,
   "id": "97100a63",
   "metadata": {
    "execution": {
     "iopub.execute_input": "2021-12-08T09:10:36.735902Z",
     "iopub.status.busy": "2021-12-08T09:10:36.735141Z",
     "iopub.status.idle": "2021-12-08T09:10:36.737554Z",
     "shell.execute_reply": "2021-12-08T09:10:36.737131Z",
     "shell.execute_reply.started": "2021-12-08T07:02:59.608689Z"
    },
    "papermill": {
     "duration": 0.184841,
     "end_time": "2021-12-08T09:10:36.737654",
     "exception": false,
     "start_time": "2021-12-08T09:10:36.552813",
     "status": "completed"
    },
    "tags": []
   },
   "outputs": [],
   "source": [
    "# os.listdir(\"/kaggle/working/cell/train/models\")[0]"
   ]
  },
  {
   "cell_type": "markdown",
   "id": "6cc7c80b",
   "metadata": {
    "papermill": {
     "duration": 0.186486,
     "end_time": "2021-12-08T09:10:37.103006",
     "exception": false,
     "start_time": "2021-12-08T09:10:36.916520",
     "status": "completed"
    },
    "tags": []
   },
   "source": [
    "### model training really taking time"
   ]
  },
  {
   "cell_type": "code",
   "execution_count": 21,
   "id": "b1bed7be",
   "metadata": {
    "execution": {
     "iopub.execute_input": "2021-12-08T09:10:37.469919Z",
     "iopub.status.busy": "2021-12-08T09:10:37.468374Z",
     "iopub.status.idle": "2021-12-08T09:10:37.470528Z",
     "shell.execute_reply": "2021-12-08T09:10:37.470923Z"
    },
    "papermill": {
     "duration": 0.186721,
     "end_time": "2021-12-08T09:10:37.471070",
     "exception": false,
     "start_time": "2021-12-08T09:10:37.284349",
     "status": "completed"
    },
    "tags": []
   },
   "outputs": [],
   "source": [
    "# import numpy as np\n",
    "# from cellpose import models, io, plot\n",
    "# from pathlib import Path\n",
    "# import pandas as pd\n",
    "\n",
    "# def rle_encode(img):\n",
    "#     pixels = img.flatten()\n",
    "#     pixels = np.concatenate([[0], pixels, [0]])\n",
    "#     runs = np.where(pixels[1:] != pixels[:-1])[0] + 1\n",
    "#     runs[1::2] -= runs[::2]\n",
    "#     return ' '.join(str(x) for x in runs)\n",
    "\n",
    "# test_dir = Path('../input/sartorius-cell-instance-segmentation/test')\n",
    "# test_files = [fname for fname in test_dir.iterdir()]\n",
    "# model = models.CellposeModel(gpu=True, pretrained_model='../input/cellpose-models/models/cyto2torch_3')\n",
    "# #model = models.Cellpose(gpu=False, model_type='cyto')\n",
    "# #model = models.Cellpose(gpu=True, model_type='cyto')\n",
    "\n",
    "# ids, masks = [],[]\n",
    "# for fn in test_files:\n",
    "#     # preds, flows, _,_ = model.eval(io.imread(str(fn)), diameter=19, channels=[0,0], augment=True, resample=True)#when you run on your kernel.\n",
    "#     preds, flows, _ = model.eval(io.imread(str(fn)), diameter=19, channels=[0,0], augment=True, resample=True)#when you submit.\n",
    "#     for i in range (1, preds.max() + 1):\n",
    "#         ids.append(fn.stem)\n",
    "#         masks.append(rle_encode(preds == i))\n",
    "        \n",
    "# pd.DataFrame({'id':ids, 'predicted':masks}).to_csv('submission.csv', index=False)"
   ]
  },
  {
   "cell_type": "code",
   "execution_count": 22,
   "id": "527eaa32",
   "metadata": {
    "execution": {
     "iopub.execute_input": "2021-12-08T09:10:37.835211Z",
     "iopub.status.busy": "2021-12-08T09:10:37.834430Z",
     "iopub.status.idle": "2021-12-08T09:10:37.836417Z",
     "shell.execute_reply": "2021-12-08T09:10:37.836786Z"
    },
    "papermill": {
     "duration": 0.186654,
     "end_time": "2021-12-08T09:10:37.836906",
     "exception": false,
     "start_time": "2021-12-08T09:10:37.650252",
     "status": "completed"
    },
    "tags": []
   },
   "outputs": [],
   "source": [
    "# import pandas as pd\n",
    "# pd.read_csv('submission.csv').head()"
   ]
  },
  {
   "cell_type": "code",
   "execution_count": 23,
   "id": "8fe5410a",
   "metadata": {
    "execution": {
     "iopub.execute_input": "2021-12-08T09:10:38.206375Z",
     "iopub.status.busy": "2021-12-08T09:10:38.205555Z",
     "iopub.status.idle": "2021-12-08T09:10:38.207973Z",
     "shell.execute_reply": "2021-12-08T09:10:38.207555Z"
    },
    "papermill": {
     "duration": 0.188388,
     "end_time": "2021-12-08T09:10:38.208114",
     "exception": false,
     "start_time": "2021-12-08T09:10:38.019726",
     "status": "completed"
    },
    "tags": []
   },
   "outputs": [],
   "source": [
    "#!ls -la\n",
    "#!ls cell/test\n",
    "#!ls cell/train/models"
   ]
  },
  {
   "cell_type": "code",
   "execution_count": 24,
   "id": "c3ed0bf4",
   "metadata": {
    "execution": {
     "iopub.execute_input": "2021-12-08T09:10:38.575009Z",
     "iopub.status.busy": "2021-12-08T09:10:38.574217Z",
     "iopub.status.idle": "2021-12-08T09:10:38.576217Z",
     "shell.execute_reply": "2021-12-08T09:10:38.576586Z"
    },
    "papermill": {
     "duration": 0.186389,
     "end_time": "2021-12-08T09:10:38.576707",
     "exception": false,
     "start_time": "2021-12-08T09:10:38.390318",
     "status": "completed"
    },
    "tags": []
   },
   "outputs": [],
   "source": [
    "#submission_path = '/kaggle/working/submission.csv'\n",
    "#assert os.path.exists(submission_path) == True"
   ]
  },
  {
   "cell_type": "code",
   "execution_count": 25,
   "id": "4ee35775",
   "metadata": {
    "execution": {
     "iopub.execute_input": "2021-12-08T09:10:38.943458Z",
     "iopub.status.busy": "2021-12-08T09:10:38.942752Z",
     "iopub.status.idle": "2021-12-08T09:10:38.944709Z",
     "shell.execute_reply": "2021-12-08T09:10:38.945130Z"
    },
    "papermill": {
     "duration": 0.187696,
     "end_time": "2021-12-08T09:10:38.945258",
     "exception": false,
     "start_time": "2021-12-08T09:10:38.757562",
     "status": "completed"
    },
    "tags": []
   },
   "outputs": [],
   "source": [
    "# for name in glob.glob('./cell/train/*_flows.tif'):\n",
    "#     os.remove(name)\n",
    "\n",
    "# for name in glob.glob('./cell/test/*_flows.tif'):\n",
    "#     os.remove(name)\n",
    "    \n",
    "# os.remove('./cell_dataset.zip')"
   ]
  },
  {
   "cell_type": "code",
   "execution_count": 26,
   "id": "d2a81bf0",
   "metadata": {
    "execution": {
     "iopub.execute_input": "2021-12-08T09:10:39.323325Z",
     "iopub.status.busy": "2021-12-08T09:10:39.322789Z",
     "iopub.status.idle": "2021-12-08T09:10:40.574466Z",
     "shell.execute_reply": "2021-12-08T09:10:40.574854Z"
    },
    "papermill": {
     "duration": 1.4442,
     "end_time": "2021-12-08T09:10:40.575020",
     "exception": false,
     "start_time": "2021-12-08T09:10:39.130820",
     "status": "completed"
    },
    "tags": []
   },
   "outputs": [
    {
     "name": "stdout",
     "output_type": "stream",
     "text": [
      "/kaggle/working/from0to475model.zip\n"
     ]
    }
   ],
   "source": [
    "import shutil\n",
    "\n",
    "#print(shutil.make_archive('cell_dataset', 'zip', root_dir='./cell'))\n",
    "print(shutil.make_archive('from0to475model', 'zip', root_dir='./cell/train/models'))"
   ]
  },
  {
   "cell_type": "code",
   "execution_count": 27,
   "id": "91b73199",
   "metadata": {
    "execution": {
     "iopub.execute_input": "2021-12-08T09:10:40.942540Z",
     "iopub.status.busy": "2021-12-08T09:10:40.940908Z",
     "iopub.status.idle": "2021-12-08T09:10:40.943120Z",
     "shell.execute_reply": "2021-12-08T09:10:40.943526Z"
    },
    "papermill": {
     "duration": 0.187959,
     "end_time": "2021-12-08T09:10:40.943652",
     "exception": false,
     "start_time": "2021-12-08T09:10:40.755693",
     "status": "completed"
    },
    "tags": []
   },
   "outputs": [],
   "source": [
    "# cell_dir_path = './cell'\n",
    "# if os.path.exists(cell_dir_path):\n",
    "#     shutil.rmtree(cell_dir_path)"
   ]
  }
 ],
 "metadata": {
  "kernelspec": {
   "display_name": "Python 3",
   "language": "python",
   "name": "python3"
  },
  "language_info": {
   "codemirror_mode": {
    "name": "ipython",
    "version": 3
   },
   "file_extension": ".py",
   "mimetype": "text/x-python",
   "name": "python",
   "nbconvert_exporter": "python",
   "pygments_lexer": "ipython3",
   "version": "3.7.12"
  },
  "papermill": {
   "default_parameters": {},
   "duration": 7499.754529,
   "end_time": "2021-12-08T09:10:42.270098",
   "environment_variables": {},
   "exception": null,
   "input_path": "__notebook__.ipynb",
   "output_path": "__notebook__.ipynb",
   "parameters": {},
   "start_time": "2021-12-08T07:05:42.515569",
   "version": "2.3.3"
  }
 },
 "nbformat": 4,
 "nbformat_minor": 5
}
