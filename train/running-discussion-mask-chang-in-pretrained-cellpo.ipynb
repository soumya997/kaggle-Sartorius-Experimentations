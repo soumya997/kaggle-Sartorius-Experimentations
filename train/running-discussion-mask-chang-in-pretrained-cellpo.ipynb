{
 "cells": [
  {
   "cell_type": "code",
   "execution_count": 1,
   "id": "c93a9375",
   "metadata": {
    "_cell_guid": "b1076dfc-b9ad-4769-8c92-a6c4dae69d19",
    "_uuid": "8f2839f25d086af736a60e9eeb907d3b93b6e0e5",
    "execution": {
     "iopub.execute_input": "2021-12-11T08:47:19.864760Z",
     "iopub.status.busy": "2021-12-11T08:47:19.859565Z",
     "iopub.status.idle": "2021-12-11T08:48:17.478237Z",
     "shell.execute_reply": "2021-12-11T08:48:17.477587Z",
     "shell.execute_reply.started": "2021-12-11T08:11:02.63512Z"
    },
    "papermill": {
     "duration": 57.646019,
     "end_time": "2021-12-11T08:48:17.478409",
     "exception": false,
     "start_time": "2021-12-11T08:47:19.832390",
     "status": "completed"
    },
    "tags": []
   },
   "outputs": [
    {
     "name": "stdout",
     "output_type": "stream",
     "text": [
      "Looking in links: ../input/numpyv3\r\n",
      "Processing /kaggle/input/global-wheels/numpy-1.20.0-cp37-cp37m-manylinux2010_x86_64.whl\r\n",
      "Installing collected packages: numpy\r\n",
      "  Attempting uninstall: numpy\r\n",
      "    Found existing installation: numpy 1.19.5\r\n",
      "    Uninstalling numpy-1.19.5:\r\n",
      "      Successfully uninstalled numpy-1.19.5\r\n",
      "\u001b[31mERROR: pip's dependency resolver does not currently take into account all the packages that are installed. This behaviour is the source of the following dependency conflicts.\r\n",
      "tensorflow-io 0.21.0 requires tensorflow-io-gcs-filesystem==0.21.0, which is not installed.\r\n",
      "explainable-ai-sdk 1.3.2 requires xai-image-widget, which is not installed.\r\n",
      "dask-cudf 21.10.1 requires cupy-cuda114, which is not installed.\r\n",
      "cudf 21.10.1 requires cupy-cuda110, which is not installed.\r\n",
      "beatrix-jupyterlab 3.1.4 requires google-cloud-bigquery-storage, which is not installed.\r\n",
      "yellowbrick 1.3.post1 requires numpy<1.20,>=1.16.0, but you have numpy 1.20.0 which is incompatible.\r\n",
      "tfx-bsl 1.4.0 requires absl-py<0.13,>=0.9, but you have absl-py 0.15.0 which is incompatible.\r\n",
      "tfx-bsl 1.4.0 requires numpy<1.20,>=1.16, but you have numpy 1.20.0 which is incompatible.\r\n",
      "tfx-bsl 1.4.0 requires pyarrow<6,>=1, but you have pyarrow 6.0.0 which is incompatible.\r\n",
      "tensorflow 2.6.2 requires numpy~=1.19.2, but you have numpy 1.20.0 which is incompatible.\r\n",
      "tensorflow 2.6.2 requires six~=1.15.0, but you have six 1.16.0 which is incompatible.\r\n",
      "tensorflow 2.6.2 requires typing-extensions~=3.7.4, but you have typing-extensions 3.10.0.2 which is incompatible.\r\n",
      "tensorflow 2.6.2 requires wrapt~=1.12.1, but you have wrapt 1.13.3 which is incompatible.\r\n",
      "tensorflow-transform 1.4.0 requires absl-py<0.13,>=0.9, but you have absl-py 0.15.0 which is incompatible.\r\n",
      "tensorflow-transform 1.4.0 requires numpy<1.20,>=1.16, but you have numpy 1.20.0 which is incompatible.\r\n",
      "tensorflow-transform 1.4.0 requires pyarrow<6,>=1, but you have pyarrow 6.0.0 which is incompatible.\r\n",
      "pdpbox 0.2.1 requires matplotlib==3.1.1, but you have matplotlib 3.5.0 which is incompatible.\r\n",
      "imbalanced-learn 0.8.1 requires scikit-learn>=0.24, but you have scikit-learn 0.23.2 which is incompatible.\r\n",
      "dask-cudf 21.10.1 requires dask==2021.09.1, but you have dask 2021.11.2 which is incompatible.\r\n",
      "dask-cudf 21.10.1 requires distributed==2021.09.1, but you have distributed 2021.11.2 which is incompatible.\r\n",
      "apache-beam 2.34.0 requires dill<0.3.2,>=0.3.1.1, but you have dill 0.3.4 which is incompatible.\r\n",
      "apache-beam 2.34.0 requires httplib2<0.20.0,>=0.8, but you have httplib2 0.20.2 which is incompatible.\r\n",
      "apache-beam 2.34.0 requires pyarrow<6.0.0,>=0.15.1, but you have pyarrow 6.0.0 which is incompatible.\u001b[0m\r\n",
      "Successfully installed numpy-1.20.0\r\n",
      "\u001b[33mWARNING: Running pip as the 'root' user can result in broken permissions and conflicting behaviour with the system package manager. It is recommended to use a virtual environment instead: https://pip.pypa.io/warnings/venv\u001b[0m\r\n",
      "Looking in links: ../input/natsort\r\n",
      "Processing /kaggle/input/global-wheels/natsort-7.1.1-py3-none-any.whl\r\n",
      "Installing collected packages: natsort\r\n",
      "Successfully installed natsort-7.1.1\r\n",
      "\u001b[33mWARNING: Running pip as the 'root' user can result in broken permissions and conflicting behaviour with the system package manager. It is recommended to use a virtual environment instead: https://pip.pypa.io/warnings/venv\u001b[0m\r\n",
      "Looking in links: ../input/fastremap\r\n",
      "Processing /kaggle/input/global-wheels/fastremap-1.11.1-cp37-cp37m-manylinux1_x86_64.whl\r\n",
      "Requirement already satisfied: numpy in /opt/conda/lib/python3.7/site-packages (from fastremap==1.11.1) (1.20.0)\r\n",
      "Installing collected packages: fastremap\r\n",
      "Successfully installed fastremap-1.11.1\r\n",
      "\u001b[33mWARNING: Running pip as the 'root' user can result in broken permissions and conflicting behaviour with the system package manager. It is recommended to use a virtual environment instead: https://pip.pypa.io/warnings/venv\u001b[0m\r\n",
      "Looking in links: ../input/edtpackage\r\n",
      "Processing /kaggle/input/global-wheels/edt-2.0.2-cp37-cp37m-manylinux2010_x86_64.whl\r\n",
      "Requirement already satisfied: numpy in /opt/conda/lib/python3.7/site-packages (from edt==2.0.2) (1.20.0)\r\n",
      "Installing collected packages: edt\r\n",
      "Successfully installed edt-2.0.2\r\n",
      "\u001b[33mWARNING: Running pip as the 'root' user can result in broken permissions and conflicting behaviour with the system package manager. It is recommended to use a virtual environment instead: https://pip.pypa.io/warnings/venv\u001b[0m\r\n",
      "Looking in links: ../input/pytorchranger\r\n",
      "Processing /kaggle/input/global-wheels/pytorch_ranger-0.1.1-py3-none-any.whl\r\n",
      "Requirement already satisfied: torch in /opt/conda/lib/python3.7/site-packages (from pytorch-ranger==0.1.1) (1.9.1)\r\n",
      "Requirement already satisfied: typing-extensions in /opt/conda/lib/python3.7/site-packages (from torch->pytorch-ranger==0.1.1) (3.10.0.2)\r\n",
      "Installing collected packages: pytorch-ranger\r\n",
      "Successfully installed pytorch-ranger-0.1.1\r\n",
      "\u001b[33mWARNING: Running pip as the 'root' user can result in broken permissions and conflicting behaviour with the system package manager. It is recommended to use a virtual environment instead: https://pip.pypa.io/warnings/venv\u001b[0m\r\n",
      "Looking in links: ../input/torchoptimzier\r\n",
      "Processing /kaggle/input/global-wheels/torch_optimizer-0.1.0-py3-none-any.whl\r\n",
      "Requirement already satisfied: pytorch-ranger>=0.1.1 in /opt/conda/lib/python3.7/site-packages (from torch-optimizer==0.1.0) (0.1.1)\r\n",
      "Requirement already satisfied: torch>=1.1.0 in /opt/conda/lib/python3.7/site-packages (from torch-optimizer==0.1.0) (1.9.1)\r\n",
      "Requirement already satisfied: typing-extensions in /opt/conda/lib/python3.7/site-packages (from torch>=1.1.0->torch-optimizer==0.1.0) (3.10.0.2)\r\n",
      "Installing collected packages: torch-optimizer\r\n",
      "Successfully installed torch-optimizer-0.1.0\r\n",
      "\u001b[33mWARNING: Running pip as the 'root' user can result in broken permissions and conflicting behaviour with the system package manager. It is recommended to use a virtual environment instead: https://pip.pypa.io/warnings/venv\u001b[0m\r\n",
      "Looking in links: ../input/cellposelibrary\r\n",
      "Processing /kaggle/input/global-wheels/cellpose-0.7.2-py3-none-any.whl\r\n",
      "Requirement already satisfied: torch-optimizer in /opt/conda/lib/python3.7/site-packages (from cellpose==0.7.2) (0.1.0)\r\n",
      "Requirement already satisfied: tifffile in /opt/conda/lib/python3.7/site-packages (from cellpose==0.7.2) (2021.11.2)\r\n",
      "Requirement already satisfied: scipy in /opt/conda/lib/python3.7/site-packages (from cellpose==0.7.2) (1.7.2)\r\n",
      "Requirement already satisfied: numba in /opt/conda/lib/python3.7/site-packages (from cellpose==0.7.2) (0.54.1)\r\n",
      "Requirement already satisfied: fastremap in /opt/conda/lib/python3.7/site-packages (from cellpose==0.7.2) (1.11.1)\r\n",
      "Requirement already satisfied: numpy>=1.20.0 in /opt/conda/lib/python3.7/site-packages (from cellpose==0.7.2) (1.20.0)\r\n",
      "Requirement already satisfied: opencv-python-headless in /opt/conda/lib/python3.7/site-packages (from cellpose==0.7.2) (4.5.4.60)\r\n",
      "Requirement already satisfied: natsort in /opt/conda/lib/python3.7/site-packages (from cellpose==0.7.2) (7.1.1)\r\n",
      "Requirement already satisfied: torch>=1.6 in /opt/conda/lib/python3.7/site-packages (from cellpose==0.7.2) (1.9.1)\r\n",
      "Requirement already satisfied: edt in /opt/conda/lib/python3.7/site-packages (from cellpose==0.7.2) (2.0.2)\r\n",
      "Requirement already satisfied: tqdm in /opt/conda/lib/python3.7/site-packages (from cellpose==0.7.2) (4.62.3)\r\n",
      "Requirement already satisfied: typing-extensions in /opt/conda/lib/python3.7/site-packages (from torch>=1.6->cellpose==0.7.2) (3.10.0.2)\r\n",
      "Requirement already satisfied: setuptools in /opt/conda/lib/python3.7/site-packages (from numba->cellpose==0.7.2) (59.1.1)\r\n",
      "Requirement already satisfied: llvmlite<0.38,>=0.37.0rc1 in /opt/conda/lib/python3.7/site-packages (from numba->cellpose==0.7.2) (0.37.0)\r\n",
      "Requirement already satisfied: pytorch-ranger>=0.1.1 in /opt/conda/lib/python3.7/site-packages (from torch-optimizer->cellpose==0.7.2) (0.1.1)\r\n",
      "Installing collected packages: cellpose\r\n",
      "Successfully installed cellpose-0.7.2\r\n",
      "\u001b[33mWARNING: Running pip as the 'root' user can result in broken permissions and conflicting behaviour with the system package manager. It is recommended to use a virtual environment instead: https://pip.pypa.io/warnings/venv\u001b[0m\r\n"
     ]
    }
   ],
   "source": [
    "!pip install --no-index ../input/global-wheels/numpy-1.20.0-cp37-cp37m-manylinux2010_x86_64.whl --find-links=../input/numpyv3\n",
    "!pip install --no-index ../input/global-wheels/natsort-7.1.1-py3-none-any.whl --find-links=../input/natsort\n",
    "!pip install --no-index ../input/global-wheels/fastremap-1.11.1-cp37-cp37m-manylinux1_x86_64.whl --find-links=../input/fastremap\n",
    "!pip install --no-index ../input/global-wheels/edt-2.0.2-cp37-cp37m-manylinux2010_x86_64.whl --find-links=../input/edtpackage\n",
    "!pip install --no-index ../input/global-wheels/pytorch_ranger-0.1.1-py3-none-any.whl --find-links=../input/pytorchranger\n",
    "!pip install --no-index ../input/global-wheels/torch_optimizer-0.1.0-py3-none-any.whl --find-links=../input/torchoptimzier\n",
    "!pip install --no-index ../input/global-wheels/cellpose-0.7.2-py3-none-any.whl --find-links=../input/cellposelibrary"
   ]
  },
  {
   "cell_type": "code",
   "execution_count": 2,
   "id": "c0a733e4",
   "metadata": {
    "execution": {
     "iopub.execute_input": "2021-12-11T08:48:17.515762Z",
     "iopub.status.busy": "2021-12-11T08:48:17.514920Z",
     "iopub.status.idle": "2021-12-11T08:48:17.517151Z",
     "shell.execute_reply": "2021-12-11T08:48:17.516625Z",
     "shell.execute_reply.started": "2021-12-11T08:12:00.237986Z"
    },
    "papermill": {
     "duration": 0.020946,
     "end_time": "2021-12-11T08:48:17.517259",
     "exception": false,
     "start_time": "2021-12-11T08:48:17.496313",
     "status": "completed"
    },
    "tags": []
   },
   "outputs": [],
   "source": [
    "# !rm -rf ./cell"
   ]
  },
  {
   "cell_type": "code",
   "execution_count": 3,
   "id": "2b620ac2",
   "metadata": {
    "execution": {
     "iopub.execute_input": "2021-12-11T08:48:17.550761Z",
     "iopub.status.busy": "2021-12-11T08:48:17.550197Z",
     "iopub.status.idle": "2021-12-11T08:48:25.654661Z",
     "shell.execute_reply": "2021-12-11T08:48:25.655124Z",
     "shell.execute_reply.started": "2021-12-11T08:12:00.244021Z"
    },
    "papermill": {
     "duration": 8.123253,
     "end_time": "2021-12-11T08:48:25.655276",
     "exception": false,
     "start_time": "2021-12-11T08:48:17.532023",
     "status": "completed"
    },
    "tags": []
   },
   "outputs": [
    {
     "data": {
      "text/plain": [
       "'./cell'"
      ]
     },
     "execution_count": 3,
     "metadata": {},
     "output_type": "execute_result"
    }
   ],
   "source": [
    "import shutil\n",
    "import os\n",
    "cell_dir_path = './cell'\n",
    "if os.path.exists(cell_dir_path):\n",
    "    shutil.rmtree(cell_dir_path)\n",
    "shutil.copytree(\"../input/somu-data-prep-for-cellpose-2-tif-w-1-chan-masks/cell_dataset\", \"./cell\")"
   ]
  },
  {
   "cell_type": "code",
   "execution_count": 4,
   "id": "a9ce3fb3",
   "metadata": {
    "execution": {
     "iopub.execute_input": "2021-12-11T08:48:25.690861Z",
     "iopub.status.busy": "2021-12-11T08:48:25.690374Z",
     "iopub.status.idle": "2021-12-11T09:04:36.168200Z",
     "shell.execute_reply": "2021-12-11T09:04:36.167213Z",
     "shell.execute_reply.started": "2021-12-11T08:12:11.438488Z"
    },
    "papermill": {
     "duration": 970.498156,
     "end_time": "2021-12-11T09:04:36.168934",
     "exception": false,
     "start_time": "2021-12-11T08:48:25.670778",
     "status": "completed"
    },
    "tags": []
   },
   "outputs": [
    {
     "name": "stdout",
     "output_type": "stream",
     "text": [
      "creating new log file\r\n",
      "Not all flows are present. Run flow generation again.\r\n",
      "Not all flows are present. Run flow generation again.\r\n",
      "100%|█████████████████████████████████████████| 484/484 [02:47<00:00,  2.89it/s]\r\n",
      "100%|█████████████████████████████████████████| 122/122 [05:11<00:00,  2.55s/it]\r\n",
      "\u001b[0m"
     ]
    }
   ],
   "source": [
    "!python -m cellpose \\\n",
    "--train \\\n",
    "--use_gpu \\\n",
    "--dir \"./cell/train\" \\\n",
    "--test_dir \"./cell/test\" \\\n",
    "--n_epochs 30 \\\n",
    "--learning_rate 0.02 \\\n",
    "--pretrained_model cyto2torch_3"
   ]
  },
  {
   "cell_type": "code",
   "execution_count": 5,
   "id": "ebe98b0c",
   "metadata": {
    "execution": {
     "iopub.execute_input": "2021-12-11T09:04:36.516942Z",
     "iopub.status.busy": "2021-12-11T09:04:36.516428Z",
     "iopub.status.idle": "2021-12-11T09:04:46.319282Z",
     "shell.execute_reply": "2021-12-11T09:04:46.320107Z",
     "shell.execute_reply.started": "2021-12-11T05:10:55.487718Z"
    },
    "papermill": {
     "duration": 9.981261,
     "end_time": "2021-12-11T09:04:46.320278",
     "exception": false,
     "start_time": "2021-12-11T09:04:36.339017",
     "status": "completed"
    },
    "tags": []
   },
   "outputs": [],
   "source": [
    "import cellpose"
   ]
  },
  {
   "cell_type": "code",
   "execution_count": 6,
   "id": "fd277dd4",
   "metadata": {
    "execution": {
     "iopub.execute_input": "2021-12-11T09:04:46.780953Z",
     "iopub.status.busy": "2021-12-11T09:04:46.779322Z",
     "iopub.status.idle": "2021-12-11T09:04:46.784187Z",
     "shell.execute_reply": "2021-12-11T09:04:46.783756Z"
    },
    "papermill": {
     "duration": 0.175463,
     "end_time": "2021-12-11T09:04:46.784306",
     "exception": false,
     "start_time": "2021-12-11T09:04:46.608843",
     "status": "completed"
    },
    "tags": []
   },
   "outputs": [
    {
     "data": {
      "text/plain": [
       "'/kaggle/working/cell/train/models/cellpose_residual_on_style_on_concatenation_off_train_2021_12_11_08_57_20.907396'"
      ]
     },
     "execution_count": 6,
     "metadata": {},
     "output_type": "execute_result"
    }
   ],
   "source": [
    "model_file = \"/kaggle/working/cell/train/models/\" + os.listdir(\"/kaggle/working/cell/train/models/\")[0]\n",
    "model_file"
   ]
  },
  {
   "cell_type": "code",
   "execution_count": 7,
   "id": "9cc35ce9",
   "metadata": {
    "execution": {
     "iopub.execute_input": "2021-12-11T09:04:47.123509Z",
     "iopub.status.busy": "2021-12-11T09:04:47.122902Z",
     "iopub.status.idle": "2021-12-11T09:04:47.873706Z",
     "shell.execute_reply": "2021-12-11T09:04:47.873012Z",
     "shell.execute_reply.started": "2021-12-11T06:56:52.571557Z"
    },
    "papermill": {
     "duration": 0.922758,
     "end_time": "2021-12-11T09:04:47.873842",
     "exception": false,
     "start_time": "2021-12-11T09:04:46.951084",
     "status": "completed"
    },
    "tags": []
   },
   "outputs": [],
   "source": [
    "! cp $model_file ./"
   ]
  },
  {
   "cell_type": "code",
   "execution_count": 8,
   "id": "23c797a2",
   "metadata": {
    "execution": {
     "iopub.execute_input": "2021-12-11T09:04:48.219312Z",
     "iopub.status.busy": "2021-12-11T09:04:48.218777Z",
     "iopub.status.idle": "2021-12-11T09:04:48.460183Z",
     "shell.execute_reply": "2021-12-11T09:04:48.459545Z"
    },
    "papermill": {
     "duration": 0.418724,
     "end_time": "2021-12-11T09:04:48.460453",
     "exception": true,
     "start_time": "2021-12-11T09:04:48.041729",
     "status": "failed"
    },
    "tags": []
   },
   "outputs": [
    {
     "ename": "NameError",
     "evalue": "name 'cv2' is not defined",
     "output_type": "error",
     "traceback": [
      "\u001b[0;31m---------------------------------------------------------------------------\u001b[0m",
      "\u001b[0;31mNameError\u001b[0m                                 Traceback (most recent call last)",
      "\u001b[0;32m/tmp/ipykernel_26/3692696349.py\u001b[0m in \u001b[0;36m<module>\u001b[0;34m\u001b[0m\n\u001b[1;32m     12\u001b[0m \u001b[0mtest_imgs\u001b[0m \u001b[0;34m=\u001b[0m \u001b[0;34m[\u001b[0m\u001b[0;34m]\u001b[0m\u001b[0;34m\u001b[0m\u001b[0;34m\u001b[0m\u001b[0m\n\u001b[1;32m     13\u001b[0m \u001b[0;32mfor\u001b[0m \u001b[0mi\u001b[0m \u001b[0;32min\u001b[0m \u001b[0mtest_img_dirs\u001b[0m\u001b[0;34m:\u001b[0m\u001b[0;34m\u001b[0m\u001b[0;34m\u001b[0m\u001b[0m\n\u001b[0;32m---> 14\u001b[0;31m     \u001b[0mimg\u001b[0m \u001b[0;34m=\u001b[0m \u001b[0mcv2\u001b[0m\u001b[0;34m.\u001b[0m\u001b[0mimread\u001b[0m\u001b[0;34m(\u001b[0m\u001b[0mi\u001b[0m\u001b[0;34m,\u001b[0m\u001b[0mcv2\u001b[0m\u001b[0;34m.\u001b[0m\u001b[0mIMREAD_COLOR\u001b[0m\u001b[0;34m)\u001b[0m\u001b[0;34m\u001b[0m\u001b[0;34m\u001b[0m\u001b[0m\n\u001b[0m\u001b[1;32m     15\u001b[0m     \u001b[0mtest_imgs\u001b[0m\u001b[0;34m.\u001b[0m\u001b[0mappend\u001b[0m\u001b[0;34m(\u001b[0m\u001b[0mimg\u001b[0m\u001b[0;34m)\u001b[0m\u001b[0;34m\u001b[0m\u001b[0;34m\u001b[0m\u001b[0m\n\u001b[1;32m     16\u001b[0m \u001b[0;34m\u001b[0m\u001b[0m\n",
      "\u001b[0;31mNameError\u001b[0m: name 'cv2' is not defined"
     ]
    }
   ],
   "source": [
    "def rle_encode(img):\n",
    "    pixels = img.flatten()\n",
    "    pixels = np.concatenate([[0], pixels, [0]])\n",
    "    runs = np.where(pixels[1:] != pixels[:-1])[0] + 1\n",
    "    runs[1::2] -= runs[::2]\n",
    "    return ' '.join(str(x) for x in runs)\n",
    "\n",
    "test_dir = \"../input/sartorius-cell-instance-segmentation/test/\"\n",
    "test_img_dirs = [test_dir + i for i in os.listdir(test_dir)]\n",
    "\n",
    "\n",
    "test_imgs = []\n",
    "for i in test_img_dirs:\n",
    "    img = cv2.imread(i,cv2.IMREAD_COLOR)\n",
    "    test_imgs.append(img)\n",
    "\n",
    "    \n",
    "model = models.CellposeModel(gpu=True, pretrained_model=model_file, torch=True, diam_mean=30.0, net_avg=True, device=None, residual_on=True, style_on=True, concatenation=False)\n",
    "masks_all = []\n",
    "styles_all = []\n",
    "flows_all = []\n",
    "\n",
    "\n",
    "for img in test_imgs:\n",
    "    chan = [0,0] # for black and white imgs\n",
    "    #img = io.imread(filename)\n",
    "    masks, flows, styles = model.eval(img, diameter=60, channels=chan)\n",
    "\n",
    "    masks_all.append(masks)\n",
    "    flows_all.append(flows)\n",
    "    styles_all.append(styles)\n",
    "\n",
    "# DISPLAY RESULTS\n",
    "\n",
    "    fig = plt.figure(figsize=(12,5))\n",
    "    plot.show_segmentation(fig, img, masks, flows[0], channels=chan)\n",
    "    plt.tight_layout()\n",
    "    plt.show()\n",
    "\n",
    "\n",
    "#model = models.Cellpose(gpu=False, model_type='cyto')\n",
    "#model = models.Cellpose(gpu=True, model_type='cyto')"
   ]
  },
  {
   "cell_type": "code",
   "execution_count": null,
   "id": "2c5c3f70",
   "metadata": {
    "papermill": {
     "duration": null,
     "end_time": null,
     "exception": null,
     "start_time": null,
     "status": "pending"
    },
    "tags": []
   },
   "outputs": [],
   "source": []
  },
  {
   "cell_type": "code",
   "execution_count": null,
   "id": "c1ffba6c",
   "metadata": {
    "papermill": {
     "duration": null,
     "end_time": null,
     "exception": null,
     "start_time": null,
     "status": "pending"
    },
    "tags": []
   },
   "outputs": [],
   "source": []
  },
  {
   "cell_type": "code",
   "execution_count": null,
   "id": "7f456329",
   "metadata": {
    "papermill": {
     "duration": null,
     "end_time": null,
     "exception": null,
     "start_time": null,
     "status": "pending"
    },
    "tags": []
   },
   "outputs": [],
   "source": []
  }
 ],
 "metadata": {
  "kernelspec": {
   "display_name": "Python 3",
   "language": "python",
   "name": "python3"
  },
  "language_info": {
   "codemirror_mode": {
    "name": "ipython",
    "version": 3
   },
   "file_extension": ".py",
   "mimetype": "text/x-python",
   "name": "python",
   "nbconvert_exporter": "python",
   "pygments_lexer": "ipython3",
   "version": "3.7.12"
  },
  "papermill": {
   "default_parameters": {},
   "duration": 1058.176475,
   "end_time": "2021-12-11T09:04:49.640109",
   "environment_variables": {},
   "exception": true,
   "input_path": "__notebook__.ipynb",
   "output_path": "__notebook__.ipynb",
   "parameters": {},
   "start_time": "2021-12-11T08:47:11.463634",
   "version": "2.3.3"
  }
 },
 "nbformat": 4,
 "nbformat_minor": 5
}
