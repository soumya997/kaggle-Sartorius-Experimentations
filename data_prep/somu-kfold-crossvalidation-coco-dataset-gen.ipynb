{
 "cells": [
  {
   "cell_type": "markdown",
   "id": "865d4a02",
   "metadata": {
    "papermill": {
     "duration": 0.01148,
     "end_time": "2021-12-11T06:27:06.912677",
     "exception": false,
     "start_time": "2021-12-11T06:27:06.901197",
     "status": "completed"
    },
    "tags": []
   },
   "source": [
    "# K-fold CrossValidation COCO Dataset Generator"
   ]
  },
  {
   "cell_type": "markdown",
   "id": "3265ffd9",
   "metadata": {
    "papermill": {
     "duration": 0.009655,
     "end_time": "2021-12-11T06:27:06.932969",
     "exception": false,
     "start_time": "2021-12-11T06:27:06.923314",
     "status": "completed"
    },
    "tags": []
   },
   "source": [
    "### Hi kagglers, This is `K-fold CrossValidation COCO Dataset Generator` notebook.\n",
    "* [Sartorius Segmentation - Detectron2 [training]](https://www.kaggle.com/ammarnassanalhajali/sartorius-segmentation-detectron2-training) \n",
    "* [Sartorius Segmentation - Detectron2 [Inference]](https://www.kaggle.com/ammarnassanalhajali/sartorius-segmentation-detectron2-inference) \n",
    "\n",
    "### Please if this kernel is useful, <font color='red'>please upvote !!</font>"
   ]
  },
  {
   "cell_type": "markdown",
   "id": "b1a3a671",
   "metadata": {
    "papermill": {
     "duration": 0.011641,
     "end_time": "2021-12-11T06:27:06.954434",
     "exception": false,
     "start_time": "2021-12-11T06:27:06.942793",
     "status": "completed"
    },
    "tags": []
   },
   "source": [
    "## Other notebooks in this competition \n",
    "- [Sartorius Segmentation - Keras U-Net[Training]](https://www.kaggle.com/ammarnassanalhajali/sartorius-segmentation-keras-u-net-training)\n",
    "- [Sartorius Segmentation - Keras U-Net[Inference]](https://www.kaggle.com/ammarnassanalhajali/sartorius-segmentation-keras-u-net-inference/edit)"
   ]
  },
  {
   "cell_type": "markdown",
   "id": "dcd796a2",
   "metadata": {
    "papermill": {
     "duration": 0.009416,
     "end_time": "2021-12-11T06:27:06.973676",
     "exception": false,
     "start_time": "2021-12-11T06:27:06.964260",
     "status": "completed"
    },
    "tags": []
   },
   "source": [
    "# importing libraries\n"
   ]
  },
  {
   "cell_type": "code",
   "execution_count": 1,
   "id": "b1ad5cb0",
   "metadata": {
    "execution": {
     "iopub.execute_input": "2021-12-11T06:27:06.997168Z",
     "iopub.status.busy": "2021-12-11T06:27:06.996098Z",
     "iopub.status.idle": "2021-12-11T06:27:07.956411Z",
     "shell.execute_reply": "2021-12-11T06:27:07.955686Z",
     "shell.execute_reply.started": "2021-12-11T05:51:05.288046Z"
    },
    "papermill": {
     "duration": 0.973018,
     "end_time": "2021-12-11T06:27:07.956576",
     "exception": false,
     "start_time": "2021-12-11T06:27:06.983558",
     "status": "completed"
    },
    "tags": []
   },
   "outputs": [],
   "source": [
    "import pandas as pd\n",
    "import numpy as np\n",
    "from tqdm import tqdm\n",
    "from tqdm.notebook import tqdm\n",
    "from datetime import datetime\n",
    "import json,itertools\n",
    "from typing import Optional\n",
    "from sklearn.model_selection import StratifiedKFold\n"
   ]
  },
  {
   "cell_type": "markdown",
   "id": "37986cc9",
   "metadata": {
    "papermill": {
     "duration": 0.009728,
     "end_time": "2021-12-11T06:27:07.976350",
     "exception": false,
     "start_time": "2021-12-11T06:27:07.966622",
     "status": "completed"
    },
    "tags": []
   },
   "source": [
    "# Loading Dataset"
   ]
  },
  {
   "cell_type": "code",
   "execution_count": 2,
   "id": "a112faeb",
   "metadata": {
    "execution": {
     "iopub.execute_input": "2021-12-11T06:27:08.001866Z",
     "iopub.status.busy": "2021-12-11T06:27:08.001028Z",
     "iopub.status.idle": "2021-12-11T06:27:08.641088Z",
     "shell.execute_reply": "2021-12-11T06:27:08.640618Z",
     "shell.execute_reply.started": "2021-12-11T05:51:06.407931Z"
    },
    "papermill": {
     "duration": 0.654915,
     "end_time": "2021-12-11T06:27:08.641229",
     "exception": false,
     "start_time": "2021-12-11T06:27:07.986314",
     "status": "completed"
    },
    "tags": []
   },
   "outputs": [
    {
     "name": "stdout",
     "output_type": "stream",
     "text": [
      "(73585, 9)\n"
     ]
    },
    {
     "data": {
      "text/html": [
       "<div>\n",
       "<style scoped>\n",
       "    .dataframe tbody tr th:only-of-type {\n",
       "        vertical-align: middle;\n",
       "    }\n",
       "\n",
       "    .dataframe tbody tr th {\n",
       "        vertical-align: top;\n",
       "    }\n",
       "\n",
       "    .dataframe thead th {\n",
       "        text-align: right;\n",
       "    }\n",
       "</style>\n",
       "<table border=\"1\" class=\"dataframe\">\n",
       "  <thead>\n",
       "    <tr style=\"text-align: right;\">\n",
       "      <th></th>\n",
       "      <th>id</th>\n",
       "      <th>annotation</th>\n",
       "      <th>width</th>\n",
       "      <th>height</th>\n",
       "      <th>cell_type</th>\n",
       "      <th>plate_time</th>\n",
       "      <th>sample_date</th>\n",
       "      <th>sample_id</th>\n",
       "      <th>elapsed_timedelta</th>\n",
       "    </tr>\n",
       "  </thead>\n",
       "  <tbody>\n",
       "    <tr>\n",
       "      <th>0</th>\n",
       "      <td>0030fd0e6378</td>\n",
       "      <td>118145 6 118849 7 119553 8 120257 8 120961 9 1...</td>\n",
       "      <td>704</td>\n",
       "      <td>520</td>\n",
       "      <td>shsy5y</td>\n",
       "      <td>11h30m00s</td>\n",
       "      <td>2019-06-16</td>\n",
       "      <td>shsy5y[diff]_E10-4_Vessel-714_Ph_3</td>\n",
       "      <td>0 days 11:30:00</td>\n",
       "    </tr>\n",
       "    <tr>\n",
       "      <th>1</th>\n",
       "      <td>0030fd0e6378</td>\n",
       "      <td>189036 1 189739 3 190441 6 191144 7 191848 8 1...</td>\n",
       "      <td>704</td>\n",
       "      <td>520</td>\n",
       "      <td>shsy5y</td>\n",
       "      <td>11h30m00s</td>\n",
       "      <td>2019-06-16</td>\n",
       "      <td>shsy5y[diff]_E10-4_Vessel-714_Ph_3</td>\n",
       "      <td>0 days 11:30:00</td>\n",
       "    </tr>\n",
       "    <tr>\n",
       "      <th>2</th>\n",
       "      <td>0030fd0e6378</td>\n",
       "      <td>173567 3 174270 5 174974 5 175678 6 176382 7 1...</td>\n",
       "      <td>704</td>\n",
       "      <td>520</td>\n",
       "      <td>shsy5y</td>\n",
       "      <td>11h30m00s</td>\n",
       "      <td>2019-06-16</td>\n",
       "      <td>shsy5y[diff]_E10-4_Vessel-714_Ph_3</td>\n",
       "      <td>0 days 11:30:00</td>\n",
       "    </tr>\n",
       "    <tr>\n",
       "      <th>3</th>\n",
       "      <td>0030fd0e6378</td>\n",
       "      <td>196723 4 197427 6 198130 7 198834 8 199538 8 2...</td>\n",
       "      <td>704</td>\n",
       "      <td>520</td>\n",
       "      <td>shsy5y</td>\n",
       "      <td>11h30m00s</td>\n",
       "      <td>2019-06-16</td>\n",
       "      <td>shsy5y[diff]_E10-4_Vessel-714_Ph_3</td>\n",
       "      <td>0 days 11:30:00</td>\n",
       "    </tr>\n",
       "  </tbody>\n",
       "</table>\n",
       "</div>"
      ],
      "text/plain": [
       "             id                                         annotation  width  \\\n",
       "0  0030fd0e6378  118145 6 118849 7 119553 8 120257 8 120961 9 1...    704   \n",
       "1  0030fd0e6378  189036 1 189739 3 190441 6 191144 7 191848 8 1...    704   \n",
       "2  0030fd0e6378  173567 3 174270 5 174974 5 175678 6 176382 7 1...    704   \n",
       "3  0030fd0e6378  196723 4 197427 6 198130 7 198834 8 199538 8 2...    704   \n",
       "\n",
       "   height cell_type plate_time sample_date  \\\n",
       "0     520    shsy5y  11h30m00s  2019-06-16   \n",
       "1     520    shsy5y  11h30m00s  2019-06-16   \n",
       "2     520    shsy5y  11h30m00s  2019-06-16   \n",
       "3     520    shsy5y  11h30m00s  2019-06-16   \n",
       "\n",
       "                            sample_id elapsed_timedelta  \n",
       "0  shsy5y[diff]_E10-4_Vessel-714_Ph_3   0 days 11:30:00  \n",
       "1  shsy5y[diff]_E10-4_Vessel-714_Ph_3   0 days 11:30:00  \n",
       "2  shsy5y[diff]_E10-4_Vessel-714_Ph_3   0 days 11:30:00  \n",
       "3  shsy5y[diff]_E10-4_Vessel-714_Ph_3   0 days 11:30:00  "
      ]
     },
     "execution_count": 2,
     "metadata": {},
     "output_type": "execute_result"
    }
   ],
   "source": [
    "train_df = pd.read_csv('../input/sartorius-cell-instance-segmentation/train.csv')\n",
    "print(train_df.shape)\n",
    "train_df.head(4)"
   ]
  },
  {
   "cell_type": "code",
   "execution_count": 3,
   "id": "ec76d5f3",
   "metadata": {
    "execution": {
     "iopub.execute_input": "2021-12-11T06:27:08.672564Z",
     "iopub.status.busy": "2021-12-11T06:27:08.671963Z",
     "iopub.status.idle": "2021-12-11T06:27:08.673517Z",
     "shell.execute_reply": "2021-12-11T06:27:08.674069Z",
     "shell.execute_reply.started": "2021-12-11T05:51:06.999924Z"
    },
    "papermill": {
     "duration": 0.022078,
     "end_time": "2021-12-11T06:27:08.674230",
     "exception": false,
     "start_time": "2021-12-11T06:27:08.652152",
     "status": "completed"
    },
    "tags": []
   },
   "outputs": [],
   "source": [
    "\n",
    "def rle_decode(mask_rle, shape):\n",
    "    '''\n",
    "    mask_rle: run-length as string formated (start length)\n",
    "    shape: (height,width) of array to return \n",
    "    Returns numpy array, 1 - mask, 0 - background\n",
    "\n",
    "    '''\n",
    "    s = mask_rle.split()\n",
    "    starts, lengths = [np.asarray(x, dtype=int) for x in (s[0:][::2], s[1:][::2])]\n",
    "    starts -= 1\n",
    "    ends = starts + lengths\n",
    "    img = np.zeros(shape[0]*shape[1], dtype=np.uint8)\n",
    "    for lo, hi in zip(starts, ends):\n",
    "        img[lo:hi] = 1\n",
    "    return img.reshape(shape)  # Needed to align to RLE direction\n",
    "\n",
    "# From https://newbedev.com/encode-numpy-array-using-uncompressed-rle-for-coco-dataset\n",
    "def binary_mask_to_rle(binary_mask):\n",
    "    rle = {'counts': [], 'size': list(binary_mask.shape)}\n",
    "    counts = rle.get('counts')\n",
    "    for i, (value, elements) in enumerate(itertools.groupby(binary_mask.ravel(order='F'))):\n",
    "        if i == 0 and value == 1:\n",
    "            counts.append(0)\n",
    "        counts.append(len(list(elements)))\n",
    "    return rle"
   ]
  },
  {
   "cell_type": "code",
   "execution_count": 4,
   "id": "e3f4bdf9",
   "metadata": {
    "execution": {
     "iopub.execute_input": "2021-12-11T06:27:08.704906Z",
     "iopub.status.busy": "2021-12-11T06:27:08.698474Z",
     "iopub.status.idle": "2021-12-11T06:27:08.707576Z",
     "shell.execute_reply": "2021-12-11T06:27:08.707129Z",
     "shell.execute_reply.started": "2021-12-11T05:51:07.016033Z"
    },
    "papermill": {
     "duration": 0.022417,
     "end_time": "2021-12-11T06:27:08.707711",
     "exception": false,
     "start_time": "2021-12-11T06:27:08.685294",
     "status": "completed"
    },
    "tags": []
   },
   "outputs": [],
   "source": [
    "def coco_structure(train_df):\n",
    "    cat_ids = {name:id+1 for id, name in enumerate(train_df.cell_type.unique())}    \n",
    "    cats =[{'name':name, 'id':id} for name,id in cat_ids.items()]\n",
    "    images = [{'id':id, 'width':row.width, 'height':row.height, 'file_name':f'train/{id}.png'} for id,row in train_df.groupby('id').agg('first').iterrows()]\n",
    "    annotations=[]\n",
    "    for idx, row in tqdm(train_df.iterrows()):\n",
    "        mk = rle_decode(row.annotation, (row.height, row.width))\n",
    "        ys, xs = np.where(mk)\n",
    "        x1, x2 = min(xs), max(xs)\n",
    "        y1, y2 = min(ys), max(ys)\n",
    "        enc =binary_mask_to_rle(mk)\n",
    "        seg = {\n",
    "            'segmentation':enc, \n",
    "            'bbox': [int(x1), int(y1), int(x2-x1+1), int(y2-y1+1)],\n",
    "            'area': int(np.sum(mk)),\n",
    "            'image_id':row.id, \n",
    "            'category_id':cat_ids[row.cell_type], \n",
    "            'iscrowd':0, \n",
    "            'id':idx\n",
    "        }\n",
    "        annotations.append(seg)\n",
    "    return {'categories':cats, 'images':images,'annotations':annotations}"
   ]
  },
  {
   "cell_type": "code",
   "execution_count": 5,
   "id": "7005807e",
   "metadata": {
    "execution": {
     "iopub.execute_input": "2021-12-11T06:27:08.733563Z",
     "iopub.status.busy": "2021-12-11T06:27:08.732963Z",
     "iopub.status.idle": "2021-12-11T06:27:09.125581Z",
     "shell.execute_reply": "2021-12-11T06:27:09.125044Z",
     "shell.execute_reply.started": "2021-12-11T05:51:07.031339Z"
    },
    "papermill": {
     "duration": 0.407313,
     "end_time": "2021-12-11T06:27:09.125723",
     "exception": false,
     "start_time": "2021-12-11T06:27:08.718410",
     "status": "completed"
    },
    "tags": []
   },
   "outputs": [],
   "source": [
    "train_df = pd.read_csv('../input/sartorius-cell-instance-segmentation/train.csv')\n",
    "train_meta = train_df.groupby('id').first().reset_index()"
   ]
  },
  {
   "cell_type": "code",
   "execution_count": 6,
   "id": "ce05ad42",
   "metadata": {
    "execution": {
     "iopub.execute_input": "2021-12-11T06:27:09.157723Z",
     "iopub.status.busy": "2021-12-11T06:27:09.156793Z",
     "iopub.status.idle": "2021-12-11T06:27:09.170918Z",
     "shell.execute_reply": "2021-12-11T06:27:09.170432Z",
     "shell.execute_reply.started": "2021-12-11T05:51:07.477714Z"
    },
    "papermill": {
     "duration": 0.034624,
     "end_time": "2021-12-11T06:27:09.171086",
     "exception": false,
     "start_time": "2021-12-11T06:27:09.136462",
     "status": "completed"
    },
    "tags": []
   },
   "outputs": [
    {
     "data": {
      "text/plain": [
       "fold\n",
       "1    122\n",
       "2    121\n",
       "3    121\n",
       "4    121\n",
       "5    121\n",
       "dtype: int64"
      ]
     },
     "execution_count": 6,
     "metadata": {},
     "output_type": "execute_result"
    }
   ],
   "source": [
    "n_splits=5\n",
    "skf = StratifiedKFold(n_splits=n_splits, shuffle=True, random_state=42)\n",
    "for fold, (_, val_idx) in enumerate(skf.split(X=train_meta, y=train_meta['cell_type']), 1):\n",
    "    train_meta.loc[val_idx, 'fold'] = fold\n",
    "    \n",
    "train_meta['fold'] = train_meta['fold'].astype(np.uint8)\n",
    "train_meta.groupby('fold').size()"
   ]
  },
  {
   "cell_type": "code",
   "execution_count": 7,
   "id": "c61833dd",
   "metadata": {
    "execution": {
     "iopub.execute_input": "2021-12-11T06:27:09.196189Z",
     "iopub.status.busy": "2021-12-11T06:27:09.195326Z",
     "iopub.status.idle": "2021-12-11T07:31:41.304583Z",
     "shell.execute_reply": "2021-12-11T07:31:41.304993Z",
     "shell.execute_reply.started": "2021-12-11T05:51:07.506170Z"
    },
    "papermill": {
     "duration": 3872.123224,
     "end_time": "2021-12-11T07:31:41.305305",
     "exception": false,
     "start_time": "2021-12-11T06:27:09.182081",
     "status": "completed"
    },
    "tags": []
   },
   "outputs": [
    {
     "data": {
      "application/vnd.jupyter.widget-view+json": {
       "model_id": "1da75cc878ec41e9bbb58b9ca16bce08",
       "version_major": 2,
       "version_minor": 0
      },
      "text/plain": [
       "0it [00:00, ?it/s]"
      ]
     },
     "metadata": {},
     "output_type": "display_data"
    },
    {
     "data": {
      "application/vnd.jupyter.widget-view+json": {
       "model_id": "6e729bce38da488da96d009197da8099",
       "version_major": 2,
       "version_minor": 0
      },
      "text/plain": [
       "0it [00:00, ?it/s]"
      ]
     },
     "metadata": {},
     "output_type": "display_data"
    }
   ],
   "source": [
    "fold_selected=1 # 1..5\n",
    "\n",
    "train_ids = train_meta[train_meta[\"fold\"]!=fold_selected].id\n",
    "test_ids = train_meta[train_meta[\"fold\"]==fold_selected].id\n",
    "\n",
    "df_train = train_df[train_df.id.isin(train_ids)]\n",
    "df_valid = train_df[train_df.id.isin(test_ids)]\n",
    "\n",
    "train_json = coco_structure(df_train)\n",
    "valid_json = coco_structure(df_valid)"
   ]
  },
  {
   "cell_type": "code",
   "execution_count": 8,
   "id": "60a0e6cf",
   "metadata": {
    "execution": {
     "iopub.execute_input": "2021-12-11T07:31:41.335250Z",
     "iopub.status.busy": "2021-12-11T07:31:41.334685Z",
     "iopub.status.idle": "2021-12-11T07:31:41.341814Z",
     "shell.execute_reply": "2021-12-11T07:31:41.341285Z",
     "shell.execute_reply.started": "2021-12-11T06:26:19.280295Z"
    },
    "papermill": {
     "duration": 0.024695,
     "end_time": "2021-12-11T07:31:41.341943",
     "exception": false,
     "start_time": "2021-12-11T07:31:41.317248",
     "status": "completed"
    },
    "tags": []
   },
   "outputs": [
    {
     "data": {
      "text/plain": [
       "cell_type\n",
       "astro      2249\n",
       "cort       2000\n",
       "shsy5y    10317\n",
       "dtype: int64"
      ]
     },
     "execution_count": 8,
     "metadata": {},
     "output_type": "execute_result"
    }
   ],
   "source": [
    "df_valid.groupby('cell_type').size()"
   ]
  },
  {
   "cell_type": "code",
   "execution_count": 9,
   "id": "df5620b0",
   "metadata": {
    "execution": {
     "iopub.execute_input": "2021-12-11T07:31:41.375827Z",
     "iopub.status.busy": "2021-12-11T07:31:41.375266Z",
     "iopub.status.idle": "2021-12-11T07:31:41.380556Z",
     "shell.execute_reply": "2021-12-11T07:31:41.380984Z",
     "shell.execute_reply.started": "2021-12-11T06:26:19.282167Z"
    },
    "papermill": {
     "duration": 0.027256,
     "end_time": "2021-12-11T07:31:41.381157",
     "exception": false,
     "start_time": "2021-12-11T07:31:41.353901",
     "status": "completed"
    },
    "tags": []
   },
   "outputs": [
    {
     "data": {
      "text/plain": [
       "cell_type\n",
       "astro      8273\n",
       "cort       8777\n",
       "shsy5y    41969\n",
       "dtype: int64"
      ]
     },
     "execution_count": 9,
     "metadata": {},
     "output_type": "execute_result"
    }
   ],
   "source": [
    "df_train.groupby('cell_type').size()"
   ]
  },
  {
   "cell_type": "code",
   "execution_count": 10,
   "id": "47978f96",
   "metadata": {
    "execution": {
     "iopub.execute_input": "2021-12-11T07:31:41.412392Z",
     "iopub.status.busy": "2021-12-11T07:31:41.411002Z",
     "iopub.status.idle": "2021-12-11T07:31:46.553726Z",
     "shell.execute_reply": "2021-12-11T07:31:46.554458Z",
     "shell.execute_reply.started": "2021-12-11T06:26:19.283963Z"
    },
    "papermill": {
     "duration": 5.161266,
     "end_time": "2021-12-11T07:31:46.554714",
     "exception": false,
     "start_time": "2021-12-11T07:31:41.393448",
     "status": "completed"
    },
    "tags": []
   },
   "outputs": [],
   "source": [
    "with open(f'coco_cell_train_fold{fold_selected}.json', 'w', encoding='utf-8') as f:\n",
    "    json.dump(train_json, f, ensure_ascii=True, indent=4)\n",
    "\n",
    "with open(f'coco_cell_valid_fold{fold_selected}.json', 'w', encoding='utf-8') as f:\n",
    "    json.dump(valid_json, f, ensure_ascii=True, indent=4)"
   ]
  },
  {
   "cell_type": "markdown",
   "id": "8db97c9b",
   "metadata": {
    "papermill": {
     "duration": 0.014214,
     "end_time": "2021-12-11T07:31:46.589412",
     "exception": false,
     "start_time": "2021-12-11T07:31:46.575198",
     "status": "completed"
    },
    "tags": []
   },
   "source": [
    "# Refrences\n",
    "* https://www.kaggle.com/coldfir3/efficient-coco-dataset-generator?scriptVersionId=79100851\n",
    "* https://www.kaggle.com/slawekbiel/positive-score-with-detectron-1-3-input-data\n",
    "* https://www.kaggle.com/c/sartorius-cell-instance-segmentation/discussion/285546"
   ]
  },
  {
   "attachments": {
    "c2c63055-26f5-4e32-a3c0-c0949c8f0214.jpg": {
     "image/jpeg": "[encoded data removed]"
    }
   },
   "cell_type": "markdown",
   "id": "27d8289f",
   "metadata": {
    "papermill": {
     "duration": 0.012843,
     "end_time": "2021-12-11T07:31:46.619150",
     "exception": false,
     "start_time": "2021-12-11T07:31:46.606307",
     "status": "completed"
    },
    "tags": []
   },
   "source": [
    "![download.jpg](attachment:c2c63055-26f5-4e32-a3c0-c0949c8f0214.jpg)"
   ]
  }
 ],
 "metadata": {
  "kernelspec": {
   "display_name": "Python 3",
   "language": "python",
   "name": "python3"
  },
  "language_info": {
   "codemirror_mode": {
    "name": "ipython",
    "version": 3
   },
   "file_extension": ".py",
   "mimetype": "text/x-python",
   "name": "python",
   "nbconvert_exporter": "python",
   "pygments_lexer": "ipython3",
   "version": "3.7.10"
  },
  "papermill": {
   "default_parameters": {},
   "duration": 3889.269633,
   "end_time": "2021-12-11T07:31:47.854359",
   "environment_variables": {},
   "exception": null,
   "input_path": "__notebook__.ipynb",
   "output_path": "__notebook__.ipynb",
   "parameters": {},
   "start_time": "2021-12-11T06:26:58.584726",
   "version": "2.3.3"
  },
  "widgets": {
   "application/vnd.jupyter.widget-state+json": {
    "state": {
     "0acbb8c8e41a487b8d630c5fbeb5002c": {
      "model_module": "@jupyter-widgets/base",
      "model_module_version": "1.2.0",
      "model_name": "LayoutModel",
      "state": {
       "_model_module": "@jupyter-widgets/base",
       "_model_module_version": "1.2.0",
       "_model_name": "LayoutModel",
       "_view_count": null,
       "_view_module": "@jupyter-widgets/base",
       "_view_module_version": "1.2.0",
       "_view_name": "LayoutView",
       "align_content": null,
       "align_items": null,
       "align_self": null,
       "border": null,
       "bottom": null,
       "display": null,
       "flex": null,
       "flex_flow": null,
       "grid_area": null,
       "grid_auto_columns": null,
       "grid_auto_flow": null,
       "grid_auto_rows": null,
       "grid_column": null,
       "grid_gap": null,
       "grid_row": null,
       "grid_template_areas": null,
       "grid_template_columns": null,
       "grid_template_rows": null,
       "height": null,
       "justify_content": null,
       "justify_items": null,
       "left": null,
       "margin": null,
       "max_height": null,
       "max_width": null,
       "min_height": null,
       "min_width": null,
       "object_fit": null,
       "object_position": null,
       "order": null,
       "overflow": null,
       "overflow_x": null,
       "overflow_y": null,
       "padding": null,
       "right": null,
       "top": null,
       "visibility": null,
       "width": null
      }
     },
     "11ce0aa093724495b1ade1497ee26e88": {
      "model_module": "@jupyter-widgets/controls",
      "model_module_version": "1.5.0",
      "model_name": "HTMLModel",
      "state": {
       "_dom_classes": [],
       "_model_module": "@jupyter-widgets/controls",
       "_model_module_version": "1.5.0",
       "_model_name": "HTMLModel",
       "_view_count": null,
       "_view_module": "@jupyter-widgets/controls",
       "_view_module_version": "1.5.0",
       "_view_name": "HTMLView",
       "description": "",
       "description_tooltip": null,
       "layout": "IPY_MODEL_0acbb8c8e41a487b8d630c5fbeb5002c",
       "placeholder": "​",
       "style": "IPY_MODEL_dc9c02dd8d0a48a88aa326d14e8dff69",
       "value": " 59019/? [51:41&lt;00:00, 19.13it/s]"
      }
     },
     "18641aafa67a4446b8eee0a50d8b428f": {
      "model_module": "@jupyter-widgets/controls",
      "model_module_version": "1.5.0",
      "model_name": "HTMLModel",
      "state": {
       "_dom_classes": [],
       "_model_module": "@jupyter-widgets/controls",
       "_model_module_version": "1.5.0",
       "_model_name": "HTMLModel",
       "_view_count": null,
       "_view_module": "@jupyter-widgets/controls",
       "_view_module_version": "1.5.0",
       "_view_name": "HTMLView",
       "description": "",
       "description_tooltip": null,
       "layout": "IPY_MODEL_5bd07df45d5d4092a548383811b237fc",
       "placeholder": "​",
       "style": "IPY_MODEL_70db4380347244289d82db04e98ff818",
       "value": ""
      }
     },
     "1ab4536919e547948450342c0e8aaab3": {
      "model_module": "@jupyter-widgets/controls",
      "model_module_version": "1.5.0",
      "model_name": "FloatProgressModel",
      "state": {
       "_dom_classes": [],
       "_model_module": "@jupyter-widgets/controls",
       "_model_module_version": "1.5.0",
       "_model_name": "FloatProgressModel",
       "_view_count": null,
       "_view_module": "@jupyter-widgets/controls",
       "_view_module_version": "1.5.0",
       "_view_name": "ProgressView",
       "bar_style": "success",
       "description": "",
       "description_tooltip": null,
       "layout": "IPY_MODEL_e21abc2e7ea442d9b2e0708a32cb4087",
       "max": 1.0,
       "min": 0.0,
       "orientation": "horizontal",
       "style": "IPY_MODEL_2280051b4f08479f8872b4fcb538dd3f",
       "value": 1.0
      }
     },
     "1b03e94427324129b8b7b435dff83538": {
      "model_module": "@jupyter-widgets/controls",
      "model_module_version": "1.5.0",
      "model_name": "DescriptionStyleModel",
      "state": {
       "_model_module": "@jupyter-widgets/controls",
       "_model_module_version": "1.5.0",
       "_model_name": "DescriptionStyleModel",
       "_view_count": null,
       "_view_module": "@jupyter-widgets/base",
       "_view_module_version": "1.2.0",
       "_view_name": "StyleView",
       "description_width": ""
      }
     },
     "1da75cc878ec41e9bbb58b9ca16bce08": {
      "model_module": "@jupyter-widgets/controls",
      "model_module_version": "1.5.0",
      "model_name": "HBoxModel",
      "state": {
       "_dom_classes": [],
       "_model_module": "@jupyter-widgets/controls",
       "_model_module_version": "1.5.0",
       "_model_name": "HBoxModel",
       "_view_count": null,
       "_view_module": "@jupyter-widgets/controls",
       "_view_module_version": "1.5.0",
       "_view_name": "HBoxView",
       "box_style": "",
       "children": [
        "IPY_MODEL_2783013658e842d7a83184183cd0753d",
        "IPY_MODEL_4a79d19be82045518e301aceafafc671",
        "IPY_MODEL_11ce0aa093724495b1ade1497ee26e88"
       ],
       "layout": "IPY_MODEL_b9634162ea0a447abe6a6c7d480ee0ce"
      }
     },
     "2280051b4f08479f8872b4fcb538dd3f": {
      "model_module": "@jupyter-widgets/controls",
      "model_module_version": "1.5.0",
      "model_name": "ProgressStyleModel",
      "state": {
       "_model_module": "@jupyter-widgets/controls",
       "_model_module_version": "1.5.0",
       "_model_name": "ProgressStyleModel",
       "_view_count": null,
       "_view_module": "@jupyter-widgets/base",
       "_view_module_version": "1.2.0",
       "_view_name": "StyleView",
       "bar_color": null,
       "description_width": ""
      }
     },
     "2783013658e842d7a83184183cd0753d": {
      "model_module": "@jupyter-widgets/controls",
      "model_module_version": "1.5.0",
      "model_name": "HTMLModel",
      "state": {
       "_dom_classes": [],
       "_model_module": "@jupyter-widgets/controls",
       "_model_module_version": "1.5.0",
       "_model_name": "HTMLModel",
       "_view_count": null,
       "_view_module": "@jupyter-widgets/controls",
       "_view_module_version": "1.5.0",
       "_view_name": "HTMLView",
       "description": "",
       "description_tooltip": null,
       "layout": "IPY_MODEL_2d6bb16db4474816aacaa2cc097b1953",
       "placeholder": "​",
       "style": "IPY_MODEL_d1e326928e57481d88197a5397770786",
       "value": ""
      }
     },
     "2941891f931643fc991ab4f5aaaf2156": {
      "model_module": "@jupyter-widgets/base",
      "model_module_version": "1.2.0",
      "model_name": "LayoutModel",
      "state": {
       "_model_module": "@jupyter-widgets/base",
       "_model_module_version": "1.2.0",
       "_model_name": "LayoutModel",
       "_view_count": null,
       "_view_module": "@jupyter-widgets/base",
       "_view_module_version": "1.2.0",
       "_view_name": "LayoutView",
       "align_content": null,
       "align_items": null,
       "align_self": null,
       "border": null,
       "bottom": null,
       "display": null,
       "flex": null,
       "flex_flow": null,
       "grid_area": null,
       "grid_auto_columns": null,
       "grid_auto_flow": null,
       "grid_auto_rows": null,
       "grid_column": null,
       "grid_gap": null,
       "grid_row": null,
       "grid_template_areas": null,
       "grid_template_columns": null,
       "grid_template_rows": null,
       "height": null,
       "justify_content": null,
       "justify_items": null,
       "left": null,
       "margin": null,
       "max_height": null,
       "max_width": null,
       "min_height": null,
       "min_width": null,
       "object_fit": null,
       "object_position": null,
       "order": null,
       "overflow": null,
       "overflow_x": null,
       "overflow_y": null,
       "padding": null,
       "right": null,
       "top": null,
       "visibility": null,
       "width": "20px"
      }
     },
     "2ac16092abe04940ba0eb3e40773ccfe": {
      "model_module": "@jupyter-widgets/controls",
      "model_module_version": "1.5.0",
      "model_name": "ProgressStyleModel",
      "state": {
       "_model_module": "@jupyter-widgets/controls",
       "_model_module_version": "1.5.0",
       "_model_name": "ProgressStyleModel",
       "_view_count": null,
       "_view_module": "@jupyter-widgets/base",
       "_view_module_version": "1.2.0",
       "_view_name": "StyleView",
       "bar_color": null,
       "description_width": ""
      }
     },
     "2d6bb16db4474816aacaa2cc097b1953": {
      "model_module": "@jupyter-widgets/base",
      "model_module_version": "1.2.0",
      "model_name": "LayoutModel",
      "state": {
       "_model_module": "@jupyter-widgets/base",
       "_model_module_version": "1.2.0",
       "_model_name": "LayoutModel",
       "_view_count": null,
       "_view_module": "@jupyter-widgets/base",
       "_view_module_version": "1.2.0",
       "_view_name": "LayoutView",
       "align_content": null,
       "align_items": null,
       "align_self": null,
       "border": null,
       "bottom": null,
       "display": null,
       "flex": null,
       "flex_flow": null,
       "grid_area": null,
       "grid_auto_columns": null,
       "grid_auto_flow": null,
       "grid_auto_rows": null,
       "grid_column": null,
       "grid_gap": null,
       "grid_row": null,
       "grid_template_areas": null,
       "grid_template_columns": null,
       "grid_template_rows": null,
       "height": null,
       "justify_content": null,
       "justify_items": null,
       "left": null,
       "margin": null,
       "max_height": null,
       "max_width": null,
       "min_height": null,
       "min_width": null,
       "object_fit": null,
       "object_position": null,
       "order": null,
       "overflow": null,
       "overflow_x": null,
       "overflow_y": null,
       "padding": null,
       "right": null,
       "top": null,
       "visibility": null,
       "width": null
      }
     },
     "4a79d19be82045518e301aceafafc671": {
      "model_module": "@jupyter-widgets/controls",
      "model_module_version": "1.5.0",
      "model_name": "FloatProgressModel",
      "state": {
       "_dom_classes": [],
       "_model_module": "@jupyter-widgets/controls",
       "_model_module_version": "1.5.0",
       "_model_name": "FloatProgressModel",
       "_view_count": null,
       "_view_module": "@jupyter-widgets/controls",
       "_view_module_version": "1.5.0",
       "_view_name": "ProgressView",
       "bar_style": "success",
       "description": "",
       "description_tooltip": null,
       "layout": "IPY_MODEL_2941891f931643fc991ab4f5aaaf2156",
       "max": 1.0,
       "min": 0.0,
       "orientation": "horizontal",
       "style": "IPY_MODEL_2ac16092abe04940ba0eb3e40773ccfe",
       "value": 1.0
      }
     },
     "5bd07df45d5d4092a548383811b237fc": {
      "model_module": "@jupyter-widgets/base",
      "model_module_version": "1.2.0",
      "model_name": "LayoutModel",
      "state": {
       "_model_module": "@jupyter-widgets/base",
       "_model_module_version": "1.2.0",
       "_model_name": "LayoutModel",
       "_view_count": null,
       "_view_module": "@jupyter-widgets/base",
       "_view_module_version": "1.2.0",
       "_view_name": "LayoutView",
       "align_content": null,
       "align_items": null,
       "align_self": null,
       "border": null,
       "bottom": null,
       "display": null,
       "flex": null,
       "flex_flow": null,
       "grid_area": null,
       "grid_auto_columns": null,
       "grid_auto_flow": null,
       "grid_auto_rows": null,
       "grid_column": null,
       "grid_gap": null,
       "grid_row": null,
       "grid_template_areas": null,
       "grid_template_columns": null,
       "grid_template_rows": null,
       "height": null,
       "justify_content": null,
       "justify_items": null,
       "left": null,
       "margin": null,
       "max_height": null,
       "max_width": null,
       "min_height": null,
       "min_width": null,
       "object_fit": null,
       "object_position": null,
       "order": null,
       "overflow": null,
       "overflow_x": null,
       "overflow_y": null,
       "padding": null,
       "right": null,
       "top": null,
       "visibility": null,
       "width": null
      }
     },
     "6e729bce38da488da96d009197da8099": {
      "model_module": "@jupyter-widgets/controls",
      "model_module_version": "1.5.0",
      "model_name": "HBoxModel",
      "state": {
       "_dom_classes": [],
       "_model_module": "@jupyter-widgets/controls",
       "_model_module_version": "1.5.0",
       "_model_name": "HBoxModel",
       "_view_count": null,
       "_view_module": "@jupyter-widgets/controls",
       "_view_module_version": "1.5.0",
       "_view_name": "HBoxView",
       "box_style": "",
       "children": [
        "IPY_MODEL_18641aafa67a4446b8eee0a50d8b428f",
        "IPY_MODEL_1ab4536919e547948450342c0e8aaab3",
        "IPY_MODEL_f458ddf9f64a4fa7bdff3e38328522b0"
       ],
       "layout": "IPY_MODEL_d858285f46de43ecb30df8e797621da6"
      }
     },
     "70db4380347244289d82db04e98ff818": {
      "model_module": "@jupyter-widgets/controls",
      "model_module_version": "1.5.0",
      "model_name": "DescriptionStyleModel",
      "state": {
       "_model_module": "@jupyter-widgets/controls",
       "_model_module_version": "1.5.0",
       "_model_name": "DescriptionStyleModel",
       "_view_count": null,
       "_view_module": "@jupyter-widgets/base",
       "_view_module_version": "1.2.0",
       "_view_name": "StyleView",
       "description_width": ""
      }
     },
     "b9634162ea0a447abe6a6c7d480ee0ce": {
      "model_module": "@jupyter-widgets/base",
      "model_module_version": "1.2.0",
      "model_name": "LayoutModel",
      "state": {
       "_model_module": "@jupyter-widgets/base",
       "_model_module_version": "1.2.0",
       "_model_name": "LayoutModel",
       "_view_count": null,
       "_view_module": "@jupyter-widgets/base",
       "_view_module_version": "1.2.0",
       "_view_name": "LayoutView",
       "align_content": null,
       "align_items": null,
       "align_self": null,
       "border": null,
       "bottom": null,
       "display": null,
       "flex": null,
       "flex_flow": null,
       "grid_area": null,
       "grid_auto_columns": null,
       "grid_auto_flow": null,
       "grid_auto_rows": null,
       "grid_column": null,
       "grid_gap": null,
       "grid_row": null,
       "grid_template_areas": null,
       "grid_template_columns": null,
       "grid_template_rows": null,
       "height": null,
       "justify_content": null,
       "justify_items": null,
       "left": null,
       "margin": null,
       "max_height": null,
       "max_width": null,
       "min_height": null,
       "min_width": null,
       "object_fit": null,
       "object_position": null,
       "order": null,
       "overflow": null,
       "overflow_x": null,
       "overflow_y": null,
       "padding": null,
       "right": null,
       "top": null,
       "visibility": null,
       "width": null
      }
     },
     "d1e326928e57481d88197a5397770786": {
      "model_module": "@jupyter-widgets/controls",
      "model_module_version": "1.5.0",
      "model_name": "DescriptionStyleModel",
      "state": {
       "_model_module": "@jupyter-widgets/controls",
       "_model_module_version": "1.5.0",
       "_model_name": "DescriptionStyleModel",
       "_view_count": null,
       "_view_module": "@jupyter-widgets/base",
       "_view_module_version": "1.2.0",
       "_view_name": "StyleView",
       "description_width": ""
      }
     },
     "d858285f46de43ecb30df8e797621da6": {
      "model_module": "@jupyter-widgets/base",
      "model_module_version": "1.2.0",
      "model_name": "LayoutModel",
      "state": {
       "_model_module": "@jupyter-widgets/base",
       "_model_module_version": "1.2.0",
       "_model_name": "LayoutModel",
       "_view_count": null,
       "_view_module": "@jupyter-widgets/base",
       "_view_module_version": "1.2.0",
       "_view_name": "LayoutView",
       "align_content": null,
       "align_items": null,
       "align_self": null,
       "border": null,
       "bottom": null,
       "display": null,
       "flex": null,
       "flex_flow": null,
       "grid_area": null,
       "grid_auto_columns": null,
       "grid_auto_flow": null,
       "grid_auto_rows": null,
       "grid_column": null,
       "grid_gap": null,
       "grid_row": null,
       "grid_template_areas": null,
       "grid_template_columns": null,
       "grid_template_rows": null,
       "height": null,
       "justify_content": null,
       "justify_items": null,
       "left": null,
       "margin": null,
       "max_height": null,
       "max_width": null,
       "min_height": null,
       "min_width": null,
       "object_fit": null,
       "object_position": null,
       "order": null,
       "overflow": null,
       "overflow_x": null,
       "overflow_y": null,
       "padding": null,
       "right": null,
       "top": null,
       "visibility": null,
       "width": null
      }
     },
     "dc9c02dd8d0a48a88aa326d14e8dff69": {
      "model_module": "@jupyter-widgets/controls",
      "model_module_version": "1.5.0",
      "model_name": "DescriptionStyleModel",
      "state": {
       "_model_module": "@jupyter-widgets/controls",
       "_model_module_version": "1.5.0",
       "_model_name": "DescriptionStyleModel",
       "_view_count": null,
       "_view_module": "@jupyter-widgets/base",
       "_view_module_version": "1.2.0",
       "_view_name": "StyleView",
       "description_width": ""
      }
     },
     "e19a4c585cdb456583b662a073f314d4": {
      "model_module": "@jupyter-widgets/base",
      "model_module_version": "1.2.0",
      "model_name": "LayoutModel",
      "state": {
       "_model_module": "@jupyter-widgets/base",
       "_model_module_version": "1.2.0",
       "_model_name": "LayoutModel",
       "_view_count": null,
       "_view_module": "@jupyter-widgets/base",
       "_view_module_version": "1.2.0",
       "_view_name": "LayoutView",
       "align_content": null,
       "align_items": null,
       "align_self": null,
       "border": null,
       "bottom": null,
       "display": null,
       "flex": null,
       "flex_flow": null,
       "grid_area": null,
       "grid_auto_columns": null,
       "grid_auto_flow": null,
       "grid_auto_rows": null,
       "grid_column": null,
       "grid_gap": null,
       "grid_row": null,
       "grid_template_areas": null,
       "grid_template_columns": null,
       "grid_template_rows": null,
       "height": null,
       "justify_content": null,
       "justify_items": null,
       "left": null,
       "margin": null,
       "max_height": null,
       "max_width": null,
       "min_height": null,
       "min_width": null,
       "object_fit": null,
       "object_position": null,
       "order": null,
       "overflow": null,
       "overflow_x": null,
       "overflow_y": null,
       "padding": null,
       "right": null,
       "top": null,
       "visibility": null,
       "width": null
      }
     },
     "e21abc2e7ea442d9b2e0708a32cb4087": {
      "model_module": "@jupyter-widgets/base",
      "model_module_version": "1.2.0",
      "model_name": "LayoutModel",
      "state": {
       "_model_module": "@jupyter-widgets/base",
       "_model_module_version": "1.2.0",
       "_model_name": "LayoutModel",
       "_view_count": null,
       "_view_module": "@jupyter-widgets/base",
       "_view_module_version": "1.2.0",
       "_view_name": "LayoutView",
       "align_content": null,
       "align_items": null,
       "align_self": null,
       "border": null,
       "bottom": null,
       "display": null,
       "flex": null,
       "flex_flow": null,
       "grid_area": null,
       "grid_auto_columns": null,
       "grid_auto_flow": null,
       "grid_auto_rows": null,
       "grid_column": null,
       "grid_gap": null,
       "grid_row": null,
       "grid_template_areas": null,
       "grid_template_columns": null,
       "grid_template_rows": null,
       "height": null,
       "justify_content": null,
       "justify_items": null,
       "left": null,
       "margin": null,
       "max_height": null,
       "max_width": null,
       "min_height": null,
       "min_width": null,
       "object_fit": null,
       "object_position": null,
       "order": null,
       "overflow": null,
       "overflow_x": null,
       "overflow_y": null,
       "padding": null,
       "right": null,
       "top": null,
       "visibility": null,
       "width": "20px"
      }
     },
     "f458ddf9f64a4fa7bdff3e38328522b0": {
      "model_module": "@jupyter-widgets/controls",
      "model_module_version": "1.5.0",
      "model_name": "HTMLModel",
      "state": {
       "_dom_classes": [],
       "_model_module": "@jupyter-widgets/controls",
       "_model_module_version": "1.5.0",
       "_model_name": "HTMLModel",
       "_view_count": null,
       "_view_module": "@jupyter-widgets/controls",
       "_view_module_version": "1.5.0",
       "_view_name": "HTMLView",
       "description": "",
       "description_tooltip": null,
       "layout": "IPY_MODEL_e19a4c585cdb456583b662a073f314d4",
       "placeholder": "​",
       "style": "IPY_MODEL_1b03e94427324129b8b7b435dff83538",
       "value": " 14566/? [12:50&lt;00:00, 19.21it/s]"
      }
     }
    },
    "version_major": 2,
    "version_minor": 0
   }
  }
 },
 "nbformat": 4,
 "nbformat_minor": 5
}
